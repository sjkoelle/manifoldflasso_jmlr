{
 "cells": [
  {
   "cell_type": "code",
   "execution_count": 3,
   "metadata": {},
   "outputs": [
    {
     "name": "stdout",
     "output_type": "stream",
     "text": [
      "The autoreload extension is already loaded. To reload it, use:\n",
      "  %reload_ext autoreload\n"
     ]
    },
    {
     "name": "stderr",
     "output_type": "stream",
     "text": [
      "/Users/samsonkoelle/anaconda3/envs/manifold_env_april/lib/python3.5/site-packages/megaman/embedding/spectral_embedding.py:202: UserWarning: Graph is not fully connected: spectral embedding may not work as expected.\n",
      "  warnings.warn(\"Graph is not fully connected: \"\n"
     ]
    }
   ],
   "source": [
    "%load_ext autoreload\n",
    "%autoreload 2\n",
    "import matplotlib\n",
    "import matplotlib.pyplot as plt\n",
    "matplotlib.use('Agg')\n",
    "import os\n",
    "import datetime\n",
    "import numpy as np\n",
    "import dill as pickle\n",
    "import random\n",
    "import sys\n",
    "import seaborn as sns\n",
    "import math\n",
    "from matplotlib import rcParams\n",
    "rcParams['figure.figsize'] = 25, 10\n",
    "from collections import OrderedDict\n",
    "from matplotlib.lines import Line2D\n",
    "from pylab import rcParams\n",
    "from collections import Counter\n",
    "from itertools import combinations\n",
    "from sklearn.decomposition import TruncatedSVD\n",
    "from shutil import copyfile\n",
    "import scipy\n",
    "\n",
    "np.random.seed(0)\n",
    "random.seed(0)\n",
    "now = datetime.datetime.now().strftime(\"%B_%d_%Y_%H_%M_%S\")\n",
    "workingdirectory = os.popen('git rev-parse --show-toplevel').read()[:-1]\n",
    "sys.path.append(workingdirectory)\n",
    "os.chdir(workingdirectory)\n",
    "\n",
    "from codes.experimentclasses.AtomicRegression2 import AtomicRegression\n",
    "from codes.otherfunctions.get_dictionaries import get_atoms_4\n",
    "from codes.flasso.Replicate import Replicate\n",
    "from codes.geometer.RiemannianManifold import RiemannianManifold\n",
    "from codes.geometer.TangentBundle import TangentBundle\n",
    "from codes.geometer.ShapeSpace import ShapeSpace\n",
    "from codes.flasso.GradientGroupLasso import batch_stream, get_sr_lambda_sam_parallel\n",
    "from codes.otherfunctions.get_grads import get_grads3\n",
    "from codes.experimentclasses.RigidEthanolPCA3 import get_rigid_ethanol_data\n",
    "\n",
    "n = 10000 #number of data points to simulate\n",
    "nsel = 100 #number of points to analyze with lasso\n",
    "n_neighbors = 1000 #number of neighbors in megaman\n",
    "m = 3 #number of embedding dimensions (diffusion maps)\n",
    "diffusion_time = 0.05 #embedding radius\n",
    "dim = 2 #manifold dimension\n",
    "dimnoise = 2 #manifold dimension (not in mflasso paper)\n",
    "cores = 3 \n",
    "\n",
    "natoms = 9\n",
    "\n",
    "savename = 'malonaldehyde_021521'\n",
    "savefolder = 'malonaldehyde'\n",
    "loadfolder = 'malonaldehyde'\n",
    "loadname = 'malonaldehyde_021521'\n",
    "data_wd = '/Users/samsonkoelle/Downloads/manigrad-100818/mani-samk-gradients/'\n",
    "\n",
    "#folder = workingdirectory + '/Figures/malonaldehyde/' + now + 'n' + str(n) + 'nsel' + str(nsel) + 'nreps' + str(nreps)\n",
    "#os.mkdir(folder)\n",
    "experiment = AtomicRegression(natoms)\n",
    "experiment.m = m\n",
    "experiment.dim = dim\n",
    "experiment.dnoise = dim\n",
    "nreps = 1\n",
    "experiment.nreps = nreps\n",
    "experiment.nsel = nsel\n",
    "ii = np.asarray([0, 0, 0, 1, 1, 1, 2, 2])\n",
    "jj = np.asarray([4, 5, 1, 6, 7, 2, 3, 8])\n",
    "experiment.atoms3, experiment.da = experiment.get_atoms_3()\n",
    "experiment.atoms4,experiment.p = get_atoms_4(natoms,ii,jj)\n",
    "\n",
    "data_wd = '/Users/samsonkoelle/Downloads/manigrad-100818/mani-samk-gradients/'\n",
    "data_xyz_loaded = scipy.io.loadmat(data_wd + '/untracked_data/chemistry_data/malonaldehyde.mat')\n",
    "angle_indices = np.load(data_wd + '/untracked_data/chemistry_data/malonaldehydeindices022119.npy')\n",
    "experiment.positions = data_xyz_loaded['R'][angle_indices]\n",
    "filename_angles = data_wd + '/untracked_data/chemistry_data/malonaldehydeangles022119.npy'\n",
    "data = np.arccos(np.reshape(np.load(filename_angles), (50000, experiment.da)))\n",
    "\n",
    "experiment.M = RiemannianManifold(data, dim)#experiment.load_data(workingdirectory = data_wd)\n",
    "experiment.svd = TruncatedSVD(n_components=50)\n",
    "experiment.Mpca = RiemannianManifold(experiment.svd.fit_transform(experiment.M.data), dim)\n",
    "experiment.Mpca.geom = experiment.Mpca.compute_geom(diffusion_time, n_neighbors)\n",
    "experiment.N = experiment.Mpca.get_embedding3(experiment.Mpca.geom, m, diffusion_time, dim)\n",
    "\n"
   ]
  },
  {
   "cell_type": "code",
   "execution_count": 4,
   "metadata": {},
   "outputs": [
    {
     "data": {
      "text/plain": [
       "<codes.geometer.RiemannianManifold.RiemannianManifold at 0x13061c630>"
      ]
     },
     "execution_count": 4,
     "metadata": {},
     "output_type": "execute_result"
    }
   ],
   "source": [
    "experiment.N"
   ]
  },
  {
   "cell_type": "code",
   "execution_count": 5,
   "metadata": {},
   "outputs": [
    {
     "name": "stdout",
     "output_type": "stream",
     "text": [
      "pre-gradient acquisition 2021-02-19 13:40:24.379090\n",
      "initializing lambda search\n",
      "converged 290.8481820612882\n",
      "0 145.4240910306441 probe\n",
      "1 218.13613654596614 probe\n",
      "converged 218.13613654596614\n",
      "we did it [7 9]\n"
     ]
    }
   ],
   "source": [
    "\n",
    "print('pre-gradient acquisition',datetime.datetime.now())\n",
    "replicates = {}\n",
    "for i in range(nreps):\n",
    "    replicates[i] = Replicate(nsel = nsel, n = experiment.M.data.shape[0])\n",
    "    replicates[i].df_M,replicates[i].dg_M,replicates[i].dg_w ,replicates[i].dg_w_pca ,replicates[i].dgw_norm, replicates[i].tangent_bases  = get_grads3(experiment, experiment.Mpca, experiment.M, experiment.N, replicates[i].selected_points,experiment.svd)\n",
    "\n",
    "gl_itermax = 500\n",
    "r = 0 \n",
    "max_search = 30\n",
    "reg_l2 = 0.\n",
    "tol = 1e-14\n",
    "learning_rate = 100\n",
    "results= {}\n",
    "for r in range(nreps):\n",
    "    ul = np.linalg.norm(np.einsum('n m d, n p d -> n p m ' ,replicates[r].df_M , replicates[r].dg_M), axis = tuple([0,2])).max()\n",
    "    lambdas_start = [0.,ul]\n",
    "    #to fix...\n",
    "    replicates[r].dg_M = np.swapaxes(replicates[r].dg_M,1,2)\n",
    "    replicates[r].df_M = np.swapaxes(replicates[r].df_M,1,2)\n",
    "    replicates[r].results = get_sr_lambda_sam_parallel(replicates[r], gl_itermax, lambdas_start,reg_l2, max_search, dim, tol,learning_rate)\n",
    "    "
   ]
  },
  {
   "cell_type": "code",
   "execution_count": 8,
   "metadata": {},
   "outputs": [
    {
     "data": {
      "text/plain": [
       "array([25019, 41544,  6706, 27564, 26068, 13504, 36105, 27942, 11049,\n",
       "       23717,  2292, 47873, 20138, 42278, 46154, 12297, 48287, 45166,\n",
       "       40886, 17256, 25582, 28876, 41968,  1578,  8242, 28597,  2232,\n",
       "       18238,  8823, 10766, 31293, 46858,  7988, 16539, 13557,  3979,\n",
       "       47118, 44390, 26033,  4447, 23260,  3573, 30099, 21740,  7717,\n",
       "       37319, 28075, 22725,  1187, 34619,  8676, 12839,  6779, 27603,\n",
       "       31362, 32106, 20716, 48386, 22942, 32936, 12642,  5820, 25561,\n",
       "       31936, 28991, 22617, 11182, 31271,  6114,    49, 28499, 15575,\n",
       "       39088, 17703, 35808, 42126, 24343,  2665,  7704,  9760,  7860,\n",
       "       43634, 39084, 19025, 45113, 43693, 25208,  8890, 47184, 12130,\n",
       "       19773, 25578, 30502, 31603, 45642,  7807, 13612, 10259, 21745,\n",
       "       37625])"
      ]
     },
     "execution_count": 8,
     "metadata": {},
     "output_type": "execute_result"
    }
   ],
   "source": [
    "rrrr.selected_points"
   ]
  },
  {
   "cell_type": "code",
   "execution_count": 7,
   "metadata": {},
   "outputs": [],
   "source": [
    "rrrr =replicates[r]"
   ]
  },
  {
   "cell_type": "code",
   "execution_count": 9,
   "metadata": {
    "collapsed": true
   },
   "outputs": [],
   "source": [
    "from codes.flasso.GradientGroupLasso import batch_stream, get_sr_lambda_sam_parallel\n"
   ]
  },
  {
   "cell_type": "code",
   "execution_count": 19,
   "metadata": {},
   "outputs": [
    {
     "data": {
      "text/plain": [
       "<matplotlib.axes._subplots.AxesSubplot at 0x14ce9b208>"
      ]
     },
     "execution_count": 19,
     "metadata": {},
     "output_type": "execute_result"
    },
    {
     "data": {
      "image/png": "[encoded data removed]",
      "text/plain": [
       "<Figure size 432x288 with 2 Axes>"
      ]
     },
     "metadata": {
      "needs_background": "light"
     },
     "output_type": "display_data"
    }
   ],
   "source": [
    "%matplotlib inline\n",
    "sns.heatmap(np.linalg.norm(rrrr.dg_M, axis = 1))"
   ]
  },
  {
   "cell_type": "code",
   "execution_count": 20,
   "metadata": {},
   "outputs": [
    {
     "data": {
      "text/plain": [
       "<matplotlib.axes._subplots.AxesSubplot at 0x14cb7fbe0>"
      ]
     },
     "execution_count": 20,
     "metadata": {},
     "output_type": "execute_result"
    },
    {
     "data": {
      "image/png": "[encoded data removed]",
      "text/plain": [
       "<Figure size 432x288 with 2 Axes>"
      ]
     },
     "metadata": {
      "needs_background": "light"
     },
     "output_type": "display_data"
    }
   ],
   "source": [
    "%matplotlib inline\n",
    "sns.heatmap(np.linalg.norm(rrrr.dg_w, axis = 2))"
   ]
  },
  {
   "cell_type": "code",
   "execution_count": 22,
   "metadata": {},
   "outputs": [
    {
     "data": {
      "text/plain": [
       "<matplotlib.axes._subplots.AxesSubplot at 0x14ca7d3c8>"
      ]
     },
     "execution_count": 22,
     "metadata": {},
     "output_type": "execute_result"
    },
    {
     "data": {
      "image/png": "[encoded data removed]",
      "text/plain": [
       "<Figure size 432x288 with 2 Axes>"
      ]
     },
     "metadata": {
      "needs_background": "light"
     },
     "output_type": "display_data"
    }
   ],
   "source": [
    "%matplotlib inline\n",
    "sns.heatmap(np.linalg.norm(rrrr.dgw_norm, axis = 2))"
   ]
  },
  {
   "cell_type": "code",
   "execution_count": 18,
   "metadata": {},
   "outputs": [
    {
     "data": {
      "text/plain": [
       "array([45281,  3245, 44008,  6948, 41446, 42675, 27562, 25547, 15610,\n",
       "       49556, 20655,  6099, 43020, 41637, 42856, 43366,  4836, 25486,\n",
       "       30753, 13483, 36255, 19829, 32120, 18161, 19086, 43688, 37607,\n",
       "       44685,  5579, 31581,  4760,  9306, 24116, 11890, 34943, 44259,\n",
       "       37765,  7851, 41902, 20887,  6310,  2322, 24285, 33772, 28059,\n",
       "       19918, 47433,  6439, 43952,  3666, 32766, 24374, 35865, 29959,\n",
       "         367, 14349, 25777, 39403,  4431, 30861,  1642, 26516,  5608,\n",
       "        3462, 29053, 43484, 37660, 19860, 45846, 45383,  6020, 19636,\n",
       "       13781, 41710, 13346, 30775,  1234, 30828, 18900, 49430, 27456,\n",
       "        2152, 40979, 17271, 26030, 29011, 36110, 15125, 14036, 34888,\n",
       "        7857, 11633, 47087, 22087, 41735, 25581, 10688, 27270, 49219,\n",
       "       29829])"
      ]
     },
     "execution_count": 18,
     "metadata": {},
     "output_type": "execute_result"
    }
   ],
   "source": [
    "replicates[0].selected_points"
   ]
  },
  {
   "cell_type": "code",
   "execution_count": 32,
   "metadata": {
    "collapsed": true
   },
   "outputs": [],
   "source": [
    "Mpca = experiment.Mpca\n",
    "Mangles = experiment.M\n",
    "N = experiment.N\n",
    "svd = experiment.svd\n",
    "selected_points = rrrr.selected_points"
   ]
  },
  {
   "cell_type": "code",
   "execution_count": 34,
   "metadata": {},
   "outputs": [],
   "source": [
    "#def get_grads3(experiment, Mpca, Mangles, N, selected_points,svd):\n",
    "\n",
    "dimnoise = experiment.dnoise\n",
    "dim = experiment.dim\n",
    "cores = experiment.cores\n",
    "\n",
    "tangent_bases = Mpca.get_wlpca_tangent_sel(Mpca, selected_points, dimnoise)\n",
    "subM = RiemannianManifold(Mpca.data[selected_points], dim)\n",
    "subM.tb = TangentBundle(subM, tangent_bases)\n",
    "N.tangent_bundle = TangentBundle(N, np.swapaxes(N.geom.rmetric.Hvv[:,:dim,:],1,2))\n",
    "\n",
    "df_M = experiment.get_dF_js_idM(Mpca, N, subM.tb, N.tangent_bundle, selected_points, dimnoise)\n",
    "#n = len(selected_points)\n",
    "df_M2 = experiment.normalize(df_M)\n",
    "dg_x = experiment.get_dx_g_full(Mangles.data[selected_points])\n",
    "W = ShapeSpace(experiment.positions, Mangles.data)\n",
    "dw = W.get_dw(cores, experiment.atoms3, experiment.natoms, selected_points)\n",
    "dg_w = experiment.project(np.swapaxes(dw, 1, 2),\n",
    "                          experiment.project(dw, dg_x))\n",
    "dg_w_pca = np.asarray([svd.transform(dg_w[j]) for j in range(len(selected_points))])\n",
    "dgw_norm = experiment.normalize(dg_w_pca)\n",
    "dg_M = np.einsum('n b d, n p b -> n p d', subM.tb.tangent_bases, dgw_norm) #experiment.project(subM.tb.tangent_bases, dgw_norm)\n",
    "#    return (df_M2, dg_M, dg_w, dg_w_pca, dgw_norm,tangent_bases)\n"
   ]
  },
  {
   "cell_type": "code",
   "execution_count": 35,
   "metadata": {},
   "outputs": [
    {
     "data": {
      "text/plain": [
       "array([[ 4.28281995e-02, -4.04854231e-06],\n",
       "       [-9.81102555e-02,  1.80306962e-01],\n",
       "       [ 2.59050064e-01, -2.39234638e-01],\n",
       "       [ 3.27610732e-02, -3.18740897e-01],\n",
       "       [-7.78300415e-02, -7.17420717e-02],\n",
       "       [ 1.83713774e-01, -5.16487537e-02],\n",
       "       [ 6.81749531e-02, -1.92175484e-01],\n",
       "       [ 2.49790000e-01,  4.87287508e-01],\n",
       "       [-1.43809766e-01,  1.50104303e-01],\n",
       "       [-4.25278282e-01, -3.39322835e-01],\n",
       "       [ 7.69163324e-02, -1.24373202e-01],\n",
       "       [-1.26286740e-01,  3.25249338e-02],\n",
       "       [-1.92462237e-01, -1.51969311e-01],\n",
       "       [ 1.77754664e-01,  2.02448925e-01],\n",
       "       [-3.03805633e-01, -5.03320709e-02],\n",
       "       [ 1.33779134e-01, -6.66271070e-02],\n",
       "       [-2.68761536e-01, -3.67463653e-02],\n",
       "       [-2.09027820e-01, -8.68405263e-02],\n",
       "       [-3.13915940e-01,  2.76088270e-01],\n",
       "       [ 4.11892338e-02, -2.65848139e-02],\n",
       "       [ 4.03023939e-02,  9.55521722e-03],\n",
       "       [-4.33985445e-02,  2.02647909e-02],\n",
       "       [-6.90385897e-03, -4.55661814e-03],\n",
       "       [ 1.57514117e-02, -2.77243074e-02],\n",
       "       [-2.73434452e-01,  1.94115292e-01],\n",
       "       [ 3.16165909e-02,  3.28748983e-02],\n",
       "       [ 6.66366330e-02,  2.33825731e-02],\n",
       "       [ 9.96947174e-02, -5.24845563e-02],\n",
       "       [ 1.08149192e-01, -1.53795999e-01],\n",
       "       [ 5.98807144e-02, -4.51728656e-02],\n",
       "       [-9.11169698e-02,  2.63936158e-01],\n",
       "       [ 4.58997766e-02,  7.91696196e-02],\n",
       "       [-9.13790565e-03,  5.68836448e-03],\n",
       "       [ 7.92196895e-02, -1.96825388e-01],\n",
       "       [ 5.33935023e-02, -5.85043759e-02],\n",
       "       [ 2.05213625e-01, -3.98289945e-02],\n",
       "       [ 2.58616347e-02, -1.76304479e-02],\n",
       "       [ 7.85750847e-02, -9.08654072e-02],\n",
       "       [ 2.91611180e-02, -2.39393677e-02],\n",
       "       [ 6.71138497e-02, -8.99017731e-02],\n",
       "       [ 2.60256060e-03, -2.46250309e-03],\n",
       "       [-3.06050039e-02, -1.38169330e-02],\n",
       "       [ 7.98805379e-02,  7.26645382e-02],\n",
       "       [-5.70699907e-03,  2.95924952e-03],\n",
       "       [ 2.91796567e-02, -1.31354190e-02],\n",
       "       [ 1.25163391e-03, -9.91726682e-04],\n",
       "       [ 5.32973430e-02, -5.44361752e-02],\n",
       "       [ 2.53804648e-02, -2.00713118e-02],\n",
       "       [-3.34871951e-03,  1.07853400e-03],\n",
       "       [ 1.53923512e-02, -1.95548501e-02]])"
      ]
     },
     "execution_count": 35,
     "metadata": {},
     "output_type": "execute_result"
    }
   ],
   "source": [
    "tangent_bases[0]"
   ]
  },
  {
   "cell_type": "code",
   "execution_count": 36,
   "metadata": {
    "collapsed": true
   },
   "outputs": [],
   "source": [
    "other_tangent_basis = np.asarray([[-4.02821519e-02,  4.13895916e-02],\n",
    "       [ 3.78548574e-01,  8.82886425e-01],\n",
    "       [-7.75829676e-01,  3.90819776e-01],\n",
    "       [-4.14589450e-01,  1.04732906e-01],\n",
    "       [-1.46887045e-01, -1.71973659e-01],\n",
    "       [-2.03626983e-01,  5.92881855e-02],\n",
    "       [ 2.52654714e-02, -9.32563684e-02],\n",
    "       [-1.72866556e-02, -9.52241039e-03],\n",
    "       [ 1.32242049e-02, -2.64328795e-03],\n",
    "       [ 7.25185956e-02,  3.24960436e-02],\n",
    "       [-3.89139709e-02,  8.93156025e-03],\n",
    "       [-2.39469535e-02,  5.01895884e-02],\n",
    "       [-4.01725706e-02,  1.09441471e-02],\n",
    "       [-3.13460180e-02,  5.54509290e-04],\n",
    "       [ 9.72200868e-03, -1.41905207e-02],\n",
    "       [-2.45247319e-03,  4.59303035e-03],\n",
    "       [ 2.06620900e-02,  4.06700031e-03],\n",
    "       [-1.52192117e-02, -6.49234335e-02],\n",
    "       [-2.28018190e-02, -3.32895039e-02],\n",
    "       [ 5.01300620e-03,  1.03652235e-03],\n",
    "       [-2.14859217e-02, -1.56394212e-02],\n",
    "       [-1.84794136e-02,  3.70745583e-04],\n",
    "       [-4.08529250e-02, -4.75194363e-02],\n",
    "       [ 3.78803458e-03,  9.13932107e-04],\n",
    "       [-1.46407277e-02,  4.90701115e-03],\n",
    "       [ 4.09808529e-03,  1.22342095e-03],\n",
    "       [-2.19913268e-03,  7.39690248e-03],\n",
    "       [-1.37582858e-02,  7.83686540e-03],\n",
    "       [ 1.40892160e-02,  4.23273355e-03],\n",
    "       [ 1.02308546e-03, -4.83756055e-04],\n",
    "       [ 4.27388400e-03,  1.09156668e-02],\n",
    "       [-1.44521928e-02, -4.40962792e-03],\n",
    "       [-1.53281795e-02,  1.59290482e-02],\n",
    "       [-2.20179582e-03, -4.31671559e-03],\n",
    "       [-2.48182874e-02,  1.63367976e-02],\n",
    "       [-4.65379365e-03, -1.20516475e-02],\n",
    "       [-2.44865610e-02,  1.10779349e-02],\n",
    "       [-2.06849995e-02,  8.73265069e-03],\n",
    "       [ 8.58444654e-03, -6.02149257e-03],\n",
    "       [ 2.04570771e-02, -2.85828919e-03],\n",
    "       [-5.71329889e-03,  4.49255083e-03],\n",
    "       [ 2.53428086e-03,  3.18190483e-03],\n",
    "       [-4.23753525e-03,  4.03863865e-03],\n",
    "       [-9.49792602e-04,  4.91266676e-03],\n",
    "       [-2.59544612e-03,  3.34537698e-03],\n",
    "       [ 3.13987268e-03, -3.85739122e-03],\n",
    "       [ 3.12653968e-03,  4.51043413e-03],\n",
    "       [-7.72841706e-03, -2.56656288e-03],\n",
    "       [-6.27153411e-04, -3.51976601e-03],\n",
    "       [ 1.82083972e-03,  7.80005425e-04]])"
   ]
  },
  {
   "cell_type": "code",
   "execution_count": 39,
   "metadata": {},
   "outputs": [
    {
     "data": {
      "text/plain": [
       "0.4836082935174259"
      ]
     },
     "execution_count": 39,
     "metadata": {},
     "output_type": "execute_result"
    }
   ],
   "source": [
    "np.linalg.norm(tangent_bases[0].transpose() @ other_tangent_basis)"
   ]
  },
  {
   "cell_type": "code",
   "execution_count": 40,
   "metadata": {
    "collapsed": true
   },
   "outputs": [],
   "source": [
    "experiment.Mpca.geom = experiment.Mpca.compute_geom(diffusion_time, n_neighbors)"
   ]
  },
  {
   "cell_type": "code",
   "execution_count": 41,
   "metadata": {
    "collapsed": true
   },
   "outputs": [],
   "source": [
    "Mpca = experiment.Mpca"
   ]
  },
  {
   "cell_type": "code",
   "execution_count": 42,
   "metadata": {
    "collapsed": true
   },
   "outputs": [],
   "source": [
    "tangent_bases = Mpca.get_wlpca_tangent_sel(Mpca, selected_points, dimnoise)\n"
   ]
  },
  {
   "cell_type": "code",
   "execution_count": 45,
   "metadata": {},
   "outputs": [
    {
     "data": {
      "text/plain": [
       "array([ 1.88724844e+01,  3.96195110e-01,  3.44604464e+00, -3.20829868e-01,\n",
       "        1.86139632e+00,  1.09427256e+00,  5.06673929e-02,  9.18869811e-01,\n",
       "        7.73484325e-02,  2.36609710e-01, -3.82986340e-02, -3.52901002e-01,\n",
       "        7.27634199e-03, -1.73433913e-01,  3.35033280e-01,  1.58946825e-01,\n",
       "        9.57685928e-02, -6.11910308e-02,  2.72765464e-01, -1.09109526e-02,\n",
       "        8.71898892e-02,  6.26273216e-02, -3.82549426e-02, -1.48970760e-01,\n",
       "        1.24909501e-01,  6.40692951e-02,  1.58247364e-01,  5.09977989e-02,\n",
       "       -1.68863854e-01,  2.31563861e-02, -3.05774189e-02, -5.55891867e-02,\n",
       "        2.48500832e-02,  3.99884605e-02, -6.33474414e-02,  1.42921985e-01,\n",
       "        8.67651910e-03,  4.31744354e-03, -1.71251798e-03, -3.31504780e-02,\n",
       "       -9.14372934e-02, -1.21406283e-02,  3.67627657e-02, -7.52184376e-02,\n",
       "        4.71794375e-02,  1.27085754e-02, -5.23952984e-02,  4.67238114e-04,\n",
       "       -2.81637697e-02,  2.49550645e-02])"
      ]
     },
     "execution_count": 45,
     "metadata": {},
     "output_type": "execute_result"
    }
   ],
   "source": [
    "experiment.Mpca.data[0]"
   ]
  },
  {
   "cell_type": "code",
   "execution_count": 43,
   "metadata": {},
   "outputs": [
    {
     "data": {
      "text/plain": [
       "array([[ 4.28281995e-02, -4.04854231e-06],\n",
       "       [-9.81102555e-02,  1.80306962e-01],\n",
       "       [ 2.59050064e-01, -2.39234638e-01],\n",
       "       [ 3.27610732e-02, -3.18740897e-01],\n",
       "       [-7.78300415e-02, -7.17420717e-02],\n",
       "       [ 1.83713774e-01, -5.16487537e-02],\n",
       "       [ 6.81749531e-02, -1.92175484e-01],\n",
       "       [ 2.49790000e-01,  4.87287508e-01],\n",
       "       [-1.43809766e-01,  1.50104303e-01],\n",
       "       [-4.25278282e-01, -3.39322835e-01],\n",
       "       [ 7.69163324e-02, -1.24373202e-01],\n",
       "       [-1.26286740e-01,  3.25249338e-02],\n",
       "       [-1.92462237e-01, -1.51969311e-01],\n",
       "       [ 1.77754664e-01,  2.02448925e-01],\n",
       "       [-3.03805633e-01, -5.03320709e-02],\n",
       "       [ 1.33779134e-01, -6.66271070e-02],\n",
       "       [-2.68761536e-01, -3.67463653e-02],\n",
       "       [-2.09027820e-01, -8.68405263e-02],\n",
       "       [-3.13915940e-01,  2.76088270e-01],\n",
       "       [ 4.11892338e-02, -2.65848139e-02],\n",
       "       [ 4.03023939e-02,  9.55521722e-03],\n",
       "       [-4.33985445e-02,  2.02647909e-02],\n",
       "       [-6.90385897e-03, -4.55661814e-03],\n",
       "       [ 1.57514117e-02, -2.77243074e-02],\n",
       "       [-2.73434452e-01,  1.94115292e-01],\n",
       "       [ 3.16165909e-02,  3.28748983e-02],\n",
       "       [ 6.66366330e-02,  2.33825731e-02],\n",
       "       [ 9.96947174e-02, -5.24845563e-02],\n",
       "       [ 1.08149192e-01, -1.53795999e-01],\n",
       "       [ 5.98807144e-02, -4.51728656e-02],\n",
       "       [-9.11169698e-02,  2.63936158e-01],\n",
       "       [ 4.58997766e-02,  7.91696196e-02],\n",
       "       [-9.13790565e-03,  5.68836448e-03],\n",
       "       [ 7.92196895e-02, -1.96825388e-01],\n",
       "       [ 5.33935023e-02, -5.85043759e-02],\n",
       "       [ 2.05213625e-01, -3.98289945e-02],\n",
       "       [ 2.58616347e-02, -1.76304479e-02],\n",
       "       [ 7.85750847e-02, -9.08654072e-02],\n",
       "       [ 2.91611180e-02, -2.39393677e-02],\n",
       "       [ 6.71138497e-02, -8.99017731e-02],\n",
       "       [ 2.60256060e-03, -2.46250309e-03],\n",
       "       [-3.06050039e-02, -1.38169330e-02],\n",
       "       [ 7.98805379e-02,  7.26645382e-02],\n",
       "       [-5.70699907e-03,  2.95924952e-03],\n",
       "       [ 2.91796567e-02, -1.31354190e-02],\n",
       "       [ 1.25163391e-03, -9.91726682e-04],\n",
       "       [ 5.32973430e-02, -5.44361752e-02],\n",
       "       [ 2.53804648e-02, -2.00713118e-02],\n",
       "       [-3.34871951e-03,  1.07853400e-03],\n",
       "       [ 1.53923512e-02, -1.95548501e-02]])"
      ]
     },
     "execution_count": 43,
     "metadata": {},
     "output_type": "execute_result"
    }
   ],
   "source": [
    "tangent_bases[0]"
   ]
  },
  {
   "cell_type": "code",
   "execution_count": 46,
   "metadata": {
    "collapsed": true
   },
   "outputs": [],
   "source": [
    "Mpca2 = RiemannianManifold(experiment.svd.fit_transform(experiment.M.data), dim)"
   ]
  },
  {
   "cell_type": "code",
   "execution_count": 47,
   "metadata": {},
   "outputs": [
    {
     "data": {
      "text/plain": [
       "array([ 1.88724844e+01,  3.96195110e-01,  3.44604464e+00, -3.20829868e-01,\n",
       "        1.86139632e+00,  1.09427256e+00,  5.06673929e-02,  9.18869811e-01,\n",
       "        7.73484325e-02,  2.36609710e-01, -3.82986340e-02, -3.52901002e-01,\n",
       "        7.27634199e-03, -1.73433913e-01,  3.35033280e-01,  1.58946824e-01,\n",
       "        9.57685930e-02, -6.11910322e-02,  2.72765456e-01, -1.09109536e-02,\n",
       "        8.71898990e-02,  6.26273107e-02, -3.82549697e-02, -1.48970812e-01,\n",
       "        1.24909293e-01,  6.40692601e-02,  1.58247343e-01,  5.09978416e-02,\n",
       "       -1.68863675e-01,  2.31560641e-02, -3.05780036e-02, -5.55895407e-02,\n",
       "        2.48491026e-02,  3.99885381e-02, -6.33518985e-02,  1.42918213e-01,\n",
       "        8.67415665e-03,  4.31394910e-03, -1.72039425e-03, -3.31588419e-02,\n",
       "       -9.14780249e-02, -1.21156840e-02,  3.65728782e-02, -7.53521952e-02,\n",
       "       -4.70878883e-02,  1.28502104e-02, -5.24794938e-02,  3.30888080e-04,\n",
       "       -2.54116017e-02,  2.31594372e-02])"
      ]
     },
     "execution_count": 47,
     "metadata": {},
     "output_type": "execute_result"
    }
   ],
   "source": [
    "Mpca2.data[0]"
   ]
  },
  {
   "cell_type": "code",
   "execution_count": 48,
   "metadata": {},
   "outputs": [
    {
     "data": {
      "text/plain": [
       "array([0.56882053, 1.97595479, 0.59681733, 0.42973475, 2.42858969,\n",
       "       0.28326821, 2.12672185, 0.42586717, 0.58900363, 1.97069056,\n",
       "       0.47832097, 0.69258113, 0.45859683, 2.01154886, 0.67144696,\n",
       "       0.56582416, 1.67111444, 0.90465405, 1.00483599, 1.51930324,\n",
       "       0.61745342, 0.17804923, 2.58627435, 0.37726907, 2.54558706,\n",
       "       0.1833845 , 0.41262109, 1.52405291, 0.42252328, 1.19501647,\n",
       "       0.98033163, 0.97097517, 1.19028585, 0.92441064, 0.8581203 ,\n",
       "       1.35906172, 0.45809224, 1.45572906, 1.22777135, 2.37864719,\n",
       "       0.17670601, 0.58623945, 1.701664  , 0.28556046, 1.15436819,\n",
       "       0.810215  , 0.66678383, 1.66459383, 0.87974063, 0.56634343,\n",
       "       1.6955086 , 0.63402614, 0.82149124, 1.68607528, 2.17699995,\n",
       "       0.47415763, 0.49043508, 1.66813297, 1.02189897, 0.45156071,\n",
       "       2.13233662, 0.64712787, 0.36212816, 2.82548992, 0.22132425,\n",
       "       0.09477848, 2.42410537, 0.48445381, 0.23303347, 1.74122655,\n",
       "       0.92723902, 0.47312709, 1.08150238, 1.62975131, 0.43033897,\n",
       "       0.78120018, 1.0136178 , 1.34677468, 1.43654855, 0.94981193,\n",
       "       0.75523218, 1.19073887, 1.1984557 , 0.75239808, 0.48896853,\n",
       "       2.0429452 , 0.60967892, 2.31412238, 0.51411818, 0.3133521 ,\n",
       "       1.60121085, 0.96335339, 0.57702842, 2.1230473 , 0.42692694,\n",
       "       0.59161841, 1.8811858 , 0.50785308, 0.75255378, 0.49856949,\n",
       "       2.00352948, 0.63949368, 2.6350567 , 0.25655541, 0.24998055,\n",
       "       2.09003382, 0.5162631 , 0.53529574, 1.65170881, 0.42959185,\n",
       "       1.060292  , 1.87880519, 0.36561556, 0.89717191, 0.98591251,\n",
       "       1.05717398, 1.09850616, 0.90196348, 1.05980442, 1.17982475,\n",
       "       1.58568955, 0.43290004, 1.12300306, 1.74136273, 0.3878735 ,\n",
       "       1.01235643, 1.91474693, 0.59666775, 0.63017797, 2.48417334,\n",
       "       0.21348234, 0.44393697, 1.51217721, 0.45184254, 1.17757291,\n",
       "       1.10737585, 1.02567883, 1.00853797, 1.7061467 , 0.69912263,\n",
       "       0.73632332, 2.60740074, 0.36095226, 0.17323965, 1.75637065,\n",
       "       0.98490344, 0.40031856, 2.41404821, 0.54772296, 0.17982149,\n",
       "       3.00484702, 0.09449077, 0.04225487, 1.63225724, 1.03042694,\n",
       "       0.47890847, 2.0151361 , 0.72521148, 0.40124507, 2.23051812,\n",
       "       0.44977368, 0.46130086, 0.59893039, 0.86792637, 1.67473589,\n",
       "       0.83335743, 0.69253992, 1.6156953 , 0.88612548, 0.62133744,\n",
       "       1.63412972, 1.6098441 , 0.31954235, 1.2122062 , 1.37261285,\n",
       "       0.77383356, 0.99514624, 1.02462955, 0.82099228, 1.29597083,\n",
       "       1.04780832, 0.45135396, 1.64243038, 0.76404576, 1.0755501 ,\n",
       "       1.30199679, 2.42039826, 0.24364168, 0.47755271, 1.86004836,\n",
       "       0.44226815, 0.83927615, 0.45883998, 1.04729583, 1.63545684,\n",
       "       0.53419643, 0.53658317, 2.07081306, 0.612856  , 0.62908543,\n",
       "       1.89965122, 0.98269025, 0.49538032, 1.66352208, 0.93595288,\n",
       "       0.73158631, 1.47405346, 0.65574298, 0.79067429, 1.69517538,\n",
       "       0.54425689, 0.49360574, 2.10373002, 0.60227466, 1.37409815,\n",
       "       1.16521985, 1.48019696, 0.72254779, 0.9388479 , 1.10162794,\n",
       "       0.80940437, 1.23056034, 1.49171178, 0.96806909, 0.68181178,\n",
       "       1.02087137, 1.33189926, 0.78882202, 0.57366697, 2.08802886,\n",
       "       0.47989683, 0.61254691, 1.33785368, 1.19119206, 1.00732279,\n",
       "       1.38350608, 0.75076379, 0.7807477 , 1.54667617, 0.81416879,\n",
       "       0.52406619, 0.83766599, 1.77986047, 1.22518176, 0.75151365,\n",
       "       1.16489725, 1.1827368 , 0.96308161, 0.99577425, 0.95128291,\n",
       "       1.6701074 , 0.52020234])"
      ]
     },
     "execution_count": 48,
     "metadata": {},
     "output_type": "execute_result"
    }
   ],
   "source": [
    "experiment.M.data[0]"
   ]
  },
  {
   "cell_type": "code",
   "execution_count": 49,
   "metadata": {
    "collapsed": true
   },
   "outputs": [],
   "source": [
    "#data = np.reshape(np.load(filename), (50000, 252))\n",
    "svd = TruncatedSVD(n_components=50)\n",
    "svd.fit(experiment.M.data)\n",
    "data_pca = svd.transform(experiment.M.data)"
   ]
  },
  {
   "cell_type": "code",
   "execution_count": 51,
   "metadata": {},
   "outputs": [
    {
     "data": {
      "text/plain": [
       "array([ 1.88724844e+01,  3.96195110e-01,  3.44604464e+00, -3.20829868e-01,\n",
       "        1.86139632e+00,  1.09427256e+00,  5.06673929e-02,  9.18869811e-01,\n",
       "        7.73484325e-02,  2.36609710e-01, -3.82986340e-02, -3.52901002e-01,\n",
       "        7.27634199e-03, -1.73433913e-01,  3.35033280e-01,  1.58946825e-01,\n",
       "        9.57685926e-02, -6.11910309e-02,  2.72765464e-01, -1.09109522e-02,\n",
       "        8.71899067e-02,  6.26273129e-02, -3.82549523e-02, -1.48970792e-01,\n",
       "        1.24909470e-01,  6.40692528e-02,  1.58247391e-01,  5.09978079e-02,\n",
       "       -1.68863753e-01,  2.31563047e-02, -3.05772300e-02, -5.55893736e-02,\n",
       "        2.48505598e-02,  3.99876915e-02, -6.33484400e-02,  1.42923111e-01,\n",
       "        8.68151702e-03,  4.31586598e-03, -1.70199926e-03, -3.31378635e-02,\n",
       "       -9.14214222e-02, -1.21815668e-02,  3.69141175e-02, -7.50238232e-02,\n",
       "       -4.71477939e-02,  1.24274665e-02, -5.29426563e-02,  3.06728187e-03,\n",
       "       -2.90395799e-02,  2.43363686e-02])"
      ]
     },
     "execution_count": 51,
     "metadata": {},
     "output_type": "execute_result"
    }
   ],
   "source": [
    "data_pca[0]"
   ]
  },
  {
   "cell_type": "code",
   "execution_count": 52,
   "metadata": {
    "collapsed": true
   },
   "outputs": [],
   "source": [
    "experiment.Mpca5 = RiemannianManifold(np.load(data_wd + '/untracked_data/chemistry_data/malonaldehydeangles022119_pca50.npy'), dim)\n"
   ]
  },
  {
   "cell_type": "code",
   "execution_count": 53,
   "metadata": {},
   "outputs": [
    {
     "data": {
      "text/plain": [
       "array([ 1.01046914e+01,  3.02064716e-01,  2.80805587e+00, -3.69127599e-01,\n",
       "       -1.56339331e+00,  8.41758988e-01, -2.01962385e-02,  7.71692324e-01,\n",
       "        1.31027834e-01, -1.52598040e-01, -2.93409434e-02, -3.12598477e-01,\n",
       "        2.20568108e-01,  4.49880878e-02,  1.94513625e-01,  1.06278199e-01,\n",
       "        9.28505027e-02, -7.48483432e-02, -4.29369295e-02, -1.34334162e-01,\n",
       "        1.49498739e-01, -1.23009305e-01, -2.94397869e-02, -3.41906721e-02,\n",
       "       -1.56521599e-01, -9.60181908e-02, -1.17618943e-02, -5.91347360e-02,\n",
       "        6.54311027e-04,  5.98091711e-02,  5.05899151e-02,  1.50857250e-03,\n",
       "       -8.82445299e-03,  1.34068199e-01,  2.16350463e-02,  2.12072182e-02,\n",
       "        4.19965799e-02, -1.98914721e-02,  4.49605551e-02,  4.50938268e-02,\n",
       "       -1.22192435e-02,  3.58518559e-02, -5.84932614e-02, -4.43600897e-02,\n",
       "        2.25832529e-02,  1.79891611e-02,  7.98400946e-02, -6.16305416e-03,\n",
       "        9.59607628e-03, -8.05388087e-03])"
      ]
     },
     "execution_count": 53,
     "metadata": {},
     "output_type": "execute_result"
    }
   ],
   "source": [
    "experiment.Mpca5.data[0]"
   ]
  },
  {
   "cell_type": "code",
   "execution_count": 54,
   "metadata": {
    "collapsed": true
   },
   "outputs": [],
   "source": [
    "#filename = 'malonaldehydeangles022119.npy'\n",
    "data7 = np.reshape(np.load(filename_angles), (50000, 252))\n",
    "svd = TruncatedSVD(n_components=50)\n",
    "#svd.fit(data)"
   ]
  },
  {
   "cell_type": "code",
   "execution_count": null,
   "metadata": {
    "collapsed": true
   },
   "outputs": [],
   "source": [
    "np.cos(experiment.M.data)"
   ]
  },
  {
   "cell_type": "code",
   "execution_count": 59,
   "metadata": {},
   "outputs": [
    {
     "data": {
      "text/plain": [
       "array([ 0.84253687, -0.3941644 ,  0.8271285 ,  0.90907629, -0.75640102,\n",
       "        0.96014712, -0.52772968,  0.91068084,  0.83149461, -0.38932093,\n",
       "        0.88776902,  0.76960047,  0.89667455, -0.4266202 ,  0.7829223 ,\n",
       "        0.84414704, -0.10014993,  0.6179576 ,  0.53622666,  0.05147033,\n",
       "        0.81535547,  0.98419107, -0.84973267,  0.92967413, -0.82758444,\n",
       "        0.98323213,  0.91607288,  0.0467264 ,  0.91205714,  0.36699808,\n",
       "        0.5567471 ,  0.56449486,  0.37139448,  0.60230517,  0.65386083,\n",
       "        0.21015609,  0.89689781,  0.11481351,  0.33633737, -0.72280368,\n",
       "        0.98442807,  0.83302702, -0.13049445,  0.95950392,  0.40449643,\n",
       "        0.6893427 ,  0.78581481, -0.09366002,  0.63735103,  0.84386854,\n",
       "       -0.12438924,  0.80564898,  0.68113014, -0.11502379, -0.56975165,\n",
       "        0.88967766,  0.88212802, -0.09718301,  0.52174688,  0.89976715,\n",
       "       -0.53249059,  0.79781869,  0.93514501, -0.95045415,  0.9756076 ,\n",
       "        0.99551188, -0.7534602 ,  0.88492946,  0.97297035, -0.16960636,\n",
       "        0.60004496,  0.89014772,  0.4700028 , -0.05892084,  0.90882439,\n",
       "        0.71006897,  0.52879358,  0.22215257,  0.13384489,  0.58183606,\n",
       "        0.72811242,  0.37097383,  0.36379667,  0.73005214,  0.88281782,\n",
       "       -0.45480111,  0.81983191, -0.67674036,  0.87072671,  0.95130563,\n",
       "       -0.03040983,  0.5707697 ,  0.83808745, -0.52460492,  0.91024253,\n",
       "        0.83003917, -0.30542952,  0.87379058,  0.72994573,  0.87826749,\n",
       "       -0.41935358,  0.80239803, -0.87443033,  0.96726978,  0.96891723,\n",
       "       -0.49621827,  0.86966991,  0.86011781, -0.08082422,  0.90913582,\n",
       "        0.48861734, -0.3031618 ,  0.93390386,  0.6238228 ,  0.55210251,\n",
       "        0.49133542,  0.45492694,  0.62007072,  0.48904269,  0.38108685,\n",
       "       -0.01489267,  0.90775299,  0.43297743, -0.16974056,  0.92571544,\n",
       "        0.52986375, -0.33720893,  0.82721256,  0.80792264, -0.79157186,\n",
       "        0.97729906,  0.90306775,  0.05858556,  0.89964414,  0.3831678 ,\n",
       "        0.44701043,  0.51851856,  0.53309824, -0.13493749,  0.76540711,\n",
       "        0.7409427 , -0.86068035,  0.93556094,  0.9850315 , -0.18451103,\n",
       "        0.55294357,  0.9209369 , -0.74680969,  0.85371249,  0.98387564,\n",
       "       -0.99066488,  0.99553907,  0.9991074 , -0.06142223,  0.51445278,\n",
       "        0.88749844, -0.42986186,  0.74835916,  0.92057543, -0.61289704,\n",
       "        0.90054552,  0.89547423,  0.82593909,  0.64641009, -0.10375252,\n",
       "        0.67239441,  0.76962678, -0.04488389,  0.63241807,  0.81310063,\n",
       "       -0.06329107, -0.03903785,  0.94937928,  0.35095438,  0.19688869,\n",
       "        0.71523672,  0.54438023,  0.51941548,  0.68149537,  0.27137899,\n",
       "        0.49947097,  0.89985735, -0.0715728 ,  0.72204287,  0.47524831,\n",
       "        0.26557427, -0.75101763,  0.9704659 ,  0.88812237, -0.28523541,\n",
       "        0.90378324,  0.66800166,  0.89656688,  0.49991489, -0.06461547,\n",
       "        0.86067805,  0.85946039, -0.47944022,  0.81800857,  0.80856598,\n",
       "       -0.3229595 ,  0.55478629,  0.87978798, -0.09259293,  0.59305147,\n",
       "        0.7441156 ,  0.09659203,  0.79259511,  0.70336617, -0.12405861,\n",
       "        0.8555123 ,  0.88063017, -0.50806237,  0.82404911,  0.19543225,\n",
       "        0.39454854,  0.09047547,  0.75012332,  0.59071802,  0.45214469,\n",
       "        0.68992972,  0.33370956,  0.07900213,  0.56689126,  0.77643221,\n",
       "        0.52262325,  0.23663116,  0.70468161,  0.83991651, -0.49447658,\n",
       "        0.88704256,  0.81818632,  0.23084169,  0.37055293,  0.53412596,\n",
       "        0.18619721,  0.73116803,  0.7103875 ,  0.02411782,  0.68647305,\n",
       "        0.8657916 ,  0.66919901, -0.20754451,  0.33877497,  0.73065627,\n",
       "        0.39484494,  0.37839294,  0.57099284,  0.54385332,  0.58063907,\n",
       "       -0.09914791,  0.86771862])"
      ]
     },
     "execution_count": 59,
     "metadata": {},
     "output_type": "execute_result"
    }
   ],
   "source": [
    "data7[0]"
   ]
  },
  {
   "cell_type": "code",
   "execution_count": 57,
   "metadata": {},
   "outputs": [
    {
     "data": {
      "text/plain": [
       "array([0.56882053, 1.97595479, 0.59681733, 0.42973475, 2.42858969,\n",
       "       0.28326821, 2.12672185, 0.42586717, 0.58900363, 1.97069056,\n",
       "       0.47832097, 0.69258113, 0.45859683, 2.01154886, 0.67144696,\n",
       "       0.56582416, 1.67111444, 0.90465405, 1.00483599, 1.51930324,\n",
       "       0.61745342, 0.17804923, 2.58627435, 0.37726907, 2.54558706,\n",
       "       0.1833845 , 0.41262109, 1.52405291, 0.42252328, 1.19501647,\n",
       "       0.98033163, 0.97097517, 1.19028585, 0.92441064, 0.8581203 ,\n",
       "       1.35906172, 0.45809224, 1.45572906, 1.22777135, 2.37864719,\n",
       "       0.17670601, 0.58623945, 1.701664  , 0.28556046, 1.15436819,\n",
       "       0.810215  , 0.66678383, 1.66459383, 0.87974063, 0.56634343,\n",
       "       1.6955086 , 0.63402614, 0.82149124, 1.68607528, 2.17699995,\n",
       "       0.47415763, 0.49043508, 1.66813297, 1.02189897, 0.45156071,\n",
       "       2.13233662, 0.64712787, 0.36212816, 2.82548992, 0.22132425,\n",
       "       0.09477848, 2.42410537, 0.48445381, 0.23303347, 1.74122655,\n",
       "       0.92723902, 0.47312709, 1.08150238, 1.62975131, 0.43033897,\n",
       "       0.78120018, 1.0136178 , 1.34677468, 1.43654855, 0.94981193,\n",
       "       0.75523218, 1.19073887, 1.1984557 , 0.75239808, 0.48896853,\n",
       "       2.0429452 , 0.60967892, 2.31412238, 0.51411818, 0.3133521 ,\n",
       "       1.60121085, 0.96335339, 0.57702842, 2.1230473 , 0.42692694,\n",
       "       0.59161841, 1.8811858 , 0.50785308, 0.75255378, 0.49856949,\n",
       "       2.00352948, 0.63949368, 2.6350567 , 0.25655541, 0.24998055,\n",
       "       2.09003382, 0.5162631 , 0.53529574, 1.65170881, 0.42959185,\n",
       "       1.060292  , 1.87880519, 0.36561556, 0.89717191, 0.98591251,\n",
       "       1.05717398, 1.09850616, 0.90196348, 1.05980442, 1.17982475,\n",
       "       1.58568955, 0.43290004, 1.12300306, 1.74136273, 0.3878735 ,\n",
       "       1.01235643, 1.91474693, 0.59666775, 0.63017797, 2.48417334,\n",
       "       0.21348234, 0.44393697, 1.51217721, 0.45184254, 1.17757291,\n",
       "       1.10737585, 1.02567883, 1.00853797, 1.7061467 , 0.69912263,\n",
       "       0.73632332, 2.60740074, 0.36095226, 0.17323965, 1.75637065,\n",
       "       0.98490344, 0.40031856, 2.41404821, 0.54772296, 0.17982149,\n",
       "       3.00484702, 0.09449077, 0.04225487, 1.63225724, 1.03042694,\n",
       "       0.47890847, 2.0151361 , 0.72521148, 0.40124507, 2.23051812,\n",
       "       0.44977368, 0.46130086, 0.59893039, 0.86792637, 1.67473589,\n",
       "       0.83335743, 0.69253992, 1.6156953 , 0.88612548, 0.62133744,\n",
       "       1.63412972, 1.6098441 , 0.31954235, 1.2122062 , 1.37261285,\n",
       "       0.77383356, 0.99514624, 1.02462955, 0.82099228, 1.29597083,\n",
       "       1.04780832, 0.45135396, 1.64243038, 0.76404576, 1.0755501 ,\n",
       "       1.30199679, 2.42039826, 0.24364168, 0.47755271, 1.86004836,\n",
       "       0.44226815, 0.83927615, 0.45883998, 1.04729583, 1.63545684,\n",
       "       0.53419643, 0.53658317, 2.07081306, 0.612856  , 0.62908543,\n",
       "       1.89965122, 0.98269025, 0.49538032, 1.66352208, 0.93595288,\n",
       "       0.73158631, 1.47405346, 0.65574298, 0.79067429, 1.69517538,\n",
       "       0.54425689, 0.49360574, 2.10373002, 0.60227466, 1.37409815,\n",
       "       1.16521985, 1.48019696, 0.72254779, 0.9388479 , 1.10162794,\n",
       "       0.80940437, 1.23056034, 1.49171178, 0.96806909, 0.68181178,\n",
       "       1.02087137, 1.33189926, 0.78882202, 0.57366697, 2.08802886,\n",
       "       0.47989683, 0.61254691, 1.33785368, 1.19119206, 1.00732279,\n",
       "       1.38350608, 0.75076379, 0.7807477 , 1.54667617, 0.81416879,\n",
       "       0.52406619, 0.83766599, 1.77986047, 1.22518176, 0.75151365,\n",
       "       1.16489725, 1.1827368 , 0.96308161, 0.99577425, 0.95128291,\n",
       "       1.6701074 , 0.52020234])"
      ]
     },
     "execution_count": 57,
     "metadata": {},
     "output_type": "execute_result"
    }
   ],
   "source": [
    "experiment.M.data[0]"
   ]
  },
  {
   "cell_type": "code",
   "execution_count": null,
   "metadata": {
    "collapsed": true
   },
   "outputs": [],
   "source": []
  }
 ],
 "metadata": {
  "kernelspec": {
   "display_name": "manifold_env_april2",
   "language": "python",
   "name": "manifold_env_april2"
  },
  "language_info": {
   "codemirror_mode": {
    "name": "ipython",
    "version": 3
   },
   "file_extension": ".py",
   "mimetype": "text/x-python",
   "name": "python",
   "nbconvert_exporter": "python",
   "pygments_lexer": "ipython3",
   "version": "3.5.5"
  }
 },
 "nbformat": 4,
 "nbformat_minor": 2
}
