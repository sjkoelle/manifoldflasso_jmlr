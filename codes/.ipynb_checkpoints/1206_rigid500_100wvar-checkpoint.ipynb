{
 "cells": [
  {
   "cell_type": "code",
   "execution_count": 11,
   "metadata": {
    "collapsed": true
   },
   "outputs": [],
   "source": [
    "import pickle\n",
    "\n",
    "import matplotlib\n",
    "matplotlib.use('Agg')\n",
    "import os\n",
    "import datetime\n",
    "import numpy as np\n",
    "import dill as pickle\n",
    "import random\n",
    "import sys\n",
    "np.random.seed(0)\n",
    "random.seed(0)\n",
    "now = datetime.datetime.now().strftime(\"%B_%d_%Y_%H_%M_%S\")\n",
    "workingdirectory = os.popen('git rev-parse --show-toplevel').read()[:-1]\n",
    "sys.path.append(workingdirectory)\n",
    "os.chdir(workingdirectory)\n",
    "#print(os.getcwd())\n",
    "from codes.experimentclasses.RigidEthanolPCA2 import RigidEthanolPCA2\n",
    "from codes.otherfunctions.multirun import get_coeffs_reps_tangent\n",
    "from codes.otherfunctions.multirun import get_grads_reps_pca2_tangent\n",
    "from codes.otherfunctions.multiplot import plot_reg_path_ax_lambdasearch_tangent\n",
    "from codes.otherfunctions.get_dictionaries import get_atoms_4\n",
    "from codes.flasso.Replicate import Replicate\n",
    "from codes.otherfunctions.get_grads_tangent import get_grads_tangent\n",
    "from codes.otherfunctions.multirun import get_support_recovery_lambda\n",
    "from codes.otherfunctions.multirun import get_lower_interesting_lambda\n",
    "import matplotlib.pyplot as plt\n",
    "from codes.otherfunctions.multirun import get_coeffs_and_lambdas\n",
    "from codes.geometer.RiemannianManifold import RiemannianManifold\n",
    "from collections import Counter\n",
    "from einops import rearrange"
   ]
  },
  {
   "cell_type": "code",
   "execution_count": 12,
   "metadata": {
    "collapsed": true
   },
   "outputs": [],
   "source": [
    "nreps= 25\n",
    "dim = 2\n",
    "#from codes.otherfunctions.multirun import get_support\n",
    "from codes.otherfunctions.multiplot import plot_support_2d\n",
    "\n",
    "with open('/Users/samsonkoelle/Downloads/rigidethanol_120220_samgl_n500_pall_nrep1results.pkl' ,\n",
    "         'rb') as loader:\n",
    "     results = pickle.load(loader)\n"
   ]
  },
  {
   "cell_type": "code",
   "execution_count": 13,
   "metadata": {
    "collapsed": true
   },
   "outputs": [],
   "source": [
    "class Replicate():\n",
    "    \n",
    "    def __init__(self):\n",
    "        2+2"
   ]
  },
  {
   "cell_type": "code",
   "execution_count": 14,
   "metadata": {},
   "outputs": [
    {
     "name": "stdout",
     "output_type": "stream",
     "text": [
      "0\n"
     ]
    }
   ],
   "source": [
    "nreps = 5\n",
    "#results  = results_rigidethanol\n",
    "replicates = {}\n",
    "for r in range(1):\n",
    "    print(r)\n",
    "    replicates[r] = Replicate()\n",
    "    cs = rearrange(np.asarray(list(results[r][1].values())), 'l n p m -> l m n p')\n",
    "    xaxis = np.asarray(list(results[r][1].keys()))\n",
    "    cs_reorder = cs[xaxis.argsort()]\n",
    "    xaxis_reorder = xaxis[xaxis.argsort()]\n",
    "    replicates[r].cs_order = cs_reorder\n",
    "    replicates[r].xaxis_reorder = xaxis_reorder"
   ]
  },
  {
   "cell_type": "code",
   "execution_count": 15,
   "metadata": {},
   "outputs": [
    {
     "name": "stdout",
     "output_type": "stream",
     "text": [
      "0\n"
     ]
    }
   ],
   "source": [
    "def get_support(coeffs, dim):\n",
    "    selected_functions = np.asarray(np.where(np.sum(np.sum(coeffs ** 2, axis=1), axis=1) > 0))\n",
    "\n",
    "    if len(np.where(np.asarray(list(Counter(selected_functions[0]).values())) == dim)[0]) > 0:\n",
    "        selection_lambda = np.min(np.where(np.asarray(list(Counter(selected_functions[0]).values())) == dim)[0])\n",
    "\n",
    "        selected_functions_at_selection_lambda = selected_functions[1][np.where(selected_functions[0] == selection_lambda)[0]]\n",
    "    \n",
    "        return(selected_functions_at_selection_lambda)\n",
    "    else:\n",
    "        return(np.asarray([]))\n",
    "\n",
    "def get_toplot(supports,p,d):\n",
    "    to_plot = np.zeros(np.repeat(p,d))\n",
    "    support_indices = np.asarray(list(supports.values()))\n",
    "    \n",
    "    for i in range(len(support_indices)):\n",
    "        if type(support_indices[i]) == np.ndarray:\n",
    "            if len(support_indices[i]) > 0:\n",
    "                #print(tuple(support_indices[i]), to_plot[tuple(support_indices[i])])#, print(to_plot[-1])\n",
    "                to_plot[tuple(support_indices[i])] += 1\n",
    "\n",
    "    return(to_plot)\n",
    "nreps = 1\n",
    "supports_rigidethanol = {}\n",
    "for i in range(nreps):\n",
    "    print(i)\n",
    "    supports_rigidethanol[i] = get_support(replicates[i].cs_order, dim = 2)\n",
    "\n",
    "toplot_rigidethanol = get_toplot(supports_rigidethanol, 756,2)"
   ]
  },
  {
   "cell_type": "code",
   "execution_count": 16,
   "metadata": {},
   "outputs": [
    {
     "data": {
      "text/plain": [
       "array([[187, 740]])"
      ]
     },
     "execution_count": 16,
     "metadata": {},
     "output_type": "execute_result"
    }
   ],
   "source": [
    "np.asarray(list(supports_rigidethanol.values()))"
   ]
  },
  {
   "cell_type": "code",
   "execution_count": null,
   "metadata": {
    "collapsed": true
   },
   "outputs": [],
   "source": []
  },
  {
   "cell_type": "code",
   "execution_count": null,
   "metadata": {
    "collapsed": true
   },
   "outputs": [],
   "source": []
  },
  {
   "cell_type": "code",
   "execution_count": null,
   "metadata": {
    "collapsed": true
   },
   "outputs": [],
   "source": []
  },
  {
   "cell_type": "code",
   "execution_count": null,
   "metadata": {
    "collapsed": true
   },
   "outputs": [],
   "source": []
  },
  {
   "cell_type": "code",
   "execution_count": 9,
   "metadata": {
    "collapsed": true
   },
   "outputs": [],
   "source": [
    "nreps= 25\n",
    "dim = 2\n",
    "#from codes.otherfunctions.multirun import get_support\n",
    "from codes.otherfunctions.multiplot import plot_support_2d\n",
    "\n",
    "with open('/Users/samsonkoelle/Downloads/rigidethanol_120220_samgl_n100_pall_nrep1_varp00001results.pkl' ,\n",
    "         'rb') as loader:\n",
    "     results = pickle.load(loader)\n"
   ]
  },
  {
   "cell_type": "code",
   "execution_count": 10,
   "metadata": {},
   "outputs": [
    {
     "name": "stdout",
     "output_type": "stream",
     "text": [
      "0\n"
     ]
    }
   ],
   "source": [
    "nreps = 1\n",
    "#results  = results_rigidethanol\n",
    "replicates = {}\n",
    "for r in range(1):\n",
    "    print(r)\n",
    "    replicates[r] = Replicate()\n",
    "    cs = rearrange(np.asarray(list(results[r][1].values())), 'l n p m -> l m n p')\n",
    "    xaxis = np.asarray(list(results[r][1].keys()))\n",
    "    cs_reorder = cs[xaxis.argsort()]\n",
    "    xaxis_reorder = xaxis[xaxis.argsort()]\n",
    "    replicates[r].cs_order = cs_reorder\n",
    "    replicates[r].xaxis_reorder = xaxis_reorder"
   ]
  },
  {
   "cell_type": "code",
   "execution_count": 12,
   "metadata": {},
   "outputs": [
    {
     "name": "stdout",
     "output_type": "stream",
     "text": [
      "0\n"
     ]
    }
   ],
   "source": [
    "def get_support(coeffs, dim):\n",
    "    selected_functions = np.asarray(np.where(np.sum(np.sum(coeffs ** 2, axis=1), axis=1) > 0))\n",
    "\n",
    "    if len(np.where(np.asarray(list(Counter(selected_functions[0]).values())) == dim)[0]) > 0:\n",
    "        selection_lambda = np.min(np.where(np.asarray(list(Counter(selected_functions[0]).values())) == dim)[0])\n",
    "\n",
    "        selected_functions_at_selection_lambda = selected_functions[1][np.where(selected_functions[0] == selection_lambda)[0]]\n",
    "    \n",
    "        return(selected_functions_at_selection_lambda)\n",
    "    else:\n",
    "        return(np.asarray([]))\n",
    "\n",
    "def get_toplot(supports,p,d):\n",
    "    to_plot = np.zeros(np.repeat(p,d))\n",
    "    support_indices = np.asarray(list(supports.values()))\n",
    "    \n",
    "    for i in range(len(support_indices)):\n",
    "        if type(support_indices[i]) == np.ndarray:\n",
    "            if len(support_indices[i]) > 0:\n",
    "                #print(tuple(support_indices[i]), to_plot[tuple(support_indices[i])])#, print(to_plot[-1])\n",
    "                to_plot[tuple(support_indices[i])] += 1\n",
    "\n",
    "    return(to_plot)\n",
    "nreps = 1\n",
    "supports_rigidethanol = {}\n",
    "for i in range(nreps):\n",
    "    print(i)\n",
    "    supports_rigidethanol[i] = get_support(replicates[i].cs_order, dim = 2)\n",
    "\n",
    "toplot_rigidethanol = get_toplot(supports_rigidethanol, 756,2)"
   ]
  },
  {
   "cell_type": "code",
   "execution_count": 13,
   "metadata": {},
   "outputs": [
    {
     "data": {
      "text/plain": [
       "array([[187, 740]])"
      ]
     },
     "execution_count": 13,
     "metadata": {},
     "output_type": "execute_result"
    }
   ],
   "source": [
    "np.asarray(list(supports_rigidethanol.values()))"
   ]
  },
  {
   "cell_type": "code",
   "execution_count": null,
   "metadata": {
    "collapsed": true
   },
   "outputs": [],
   "source": []
  }
 ],
 "metadata": {
  "kernelspec": {
   "display_name": "manifold_env_april2",
   "language": "python",
   "name": "manifold_env_april2"
  },
  "language_info": {
   "codemirror_mode": {
    "name": "ipython",
    "version": 3
   },
   "file_extension": ".py",
   "mimetype": "text/x-python",
   "name": "python",
   "nbconvert_exporter": "python",
   "pygments_lexer": "ipython3",
   "version": "3.5.5"
  }
 },
 "nbformat": 4,
 "nbformat_minor": 2
}
