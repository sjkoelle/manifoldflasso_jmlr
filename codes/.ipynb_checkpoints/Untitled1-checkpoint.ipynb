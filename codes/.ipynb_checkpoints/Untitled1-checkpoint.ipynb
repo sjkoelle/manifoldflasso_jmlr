{
 "cells": [
  {
   "cell_type": "code",
   "execution_count": 1,
   "metadata": {},
   "outputs": [
    {
     "name": "stdout",
     "output_type": "stream",
     "text": [
      "/Users/samsonkoelle/manifoldflasso_jmlr\n"
     ]
    }
   ],
   "source": [
    "import pickle\n",
    "\n",
    "import matplotlib\n",
    "matplotlib.use('Agg')\n",
    "import os\n",
    "import datetime\n",
    "import numpy as np\n",
    "import dill as pickle\n",
    "import random\n",
    "import sys\n",
    "np.random.seed(0)\n",
    "random.seed(0)\n",
    "now = datetime.datetime.now().strftime(\"%B_%d_%Y_%H_%M_%S\")\n",
    "workingdirectory = os.popen('git rev-parse --show-toplevel').read()[:-1]\n",
    "sys.path.append(workingdirectory)\n",
    "os.chdir(workingdirectory)\n",
    "#print(os.getcwd())\n",
    "from codes.experimentclasses.RigidEthanolPCA import RigidEthanolPCA\n",
    "from codes.otherfunctions.multirun import get_coeffs_reps_tangent\n",
    "from codes.otherfunctions.multirun import get_grads_reps_pca2_tangent\n",
    "from codes.otherfunctions.multiplot import plot_reg_path_ax_lambdasearch_tangent\n",
    "from codes.otherfunctions.get_dictionaries import get_atoms_4\n",
    "from codes.flasso.Replicate import Replicate\n",
    "from codes.otherfunctions.get_grads_tangent import get_grads_tangent\n",
    "from codes.otherfunctions.multirun import get_support_recovery_lambda\n",
    "from codes.otherfunctions.multirun import get_lower_interesting_lambda\n",
    "import matplotlib.pyplot as plt\n",
    "from codes.otherfunctions.multirun import get_coeffs_and_lambdas\n",
    "from codes.geometer.RiemannianManifold import RiemannianManifold\n"
   ]
  },
  {
   "cell_type": "code",
   "execution_count": 2,
   "metadata": {
    "collapsed": true
   },
   "outputs": [],
   "source": [
    "with open('/Users/samsonkoelle/manifoldflasso_jmlr/Figures/ethanol/May_29_2020_12_06_42/replicatesethanol_052820.pkl' ,\n",
    "         'rb') as loader:\n",
    "     replicates = pickle.load(loader)"
   ]
  },
  {
   "cell_type": "code",
   "execution_count": 3,
   "metadata": {},
   "outputs": [
    {
     "data": {
      "text/plain": [
       "array([[[[-1.25066316,  1.40601087,  1.0099082 , ...,  3.87981129,\n",
       "          -3.16007257, -3.93397665],\n",
       "         [ 0.77529615,  0.58374649, -0.98697579, ..., -1.38022888,\n",
       "           1.15038276, -1.46563399],\n",
       "         [ 1.7575413 ,  1.58030176, -1.40213406, ...,  1.38505042,\n",
       "          -1.39903653,  1.44461226],\n",
       "         ...,\n",
       "         [ 2.67711496,  2.79365897, -2.47819424, ...,  2.58591819,\n",
       "           2.91482401, -3.13637543],\n",
       "         [ 1.87872851,  0.14377905, -0.46166503, ...,  4.73174906,\n",
       "          -2.1392715 , -0.84031653],\n",
       "         [-1.48270941, -0.97952729,  1.18113375, ...,  2.68254495,\n",
       "          -2.27671409,  2.49997592]],\n",
       "\n",
       "        [[ 5.9795742 , -8.38810635, -8.18472195, ..., -1.71185529,\n",
       "          -0.7977376 , -0.19282776],\n",
       "         [ 2.80047154,  3.03648686, -1.59906614, ...,  3.39552331,\n",
       "          -3.11416793,  3.96408939],\n",
       "         [ 0.71659184,  0.32774386, -0.36702591, ..., -2.84001184,\n",
       "           2.53399444, -2.71554017],\n",
       "         ...,\n",
       "         [ 0.83828717,  1.28032494, -0.86689973, ..., -3.07775784,\n",
       "          -2.79390645,  2.40488482],\n",
       "         [-2.11113477,  0.83737367, -1.11138952, ..., -6.13346529,\n",
       "           4.5321188 ,  4.09394693],\n",
       "         [-1.96547186, -1.47162068,  1.7109195 , ..., -2.23173547,\n",
       "           2.81745768, -1.98257816]]],\n",
       "\n",
       "\n",
       "       [[[-1.28291667,  1.38454175,  0.99535143, ...,  3.92168546,\n",
       "          -3.17362356, -3.89914417],\n",
       "         [ 0.8608889 ,  0.63244116, -0.98015553, ..., -1.41913617,\n",
       "           1.1837585 , -1.48021698],\n",
       "         [ 1.86008465,  1.57530785, -1.36378169, ...,  1.3885057 ,\n",
       "          -1.42353559,  1.44206583],\n",
       "         ...,\n",
       "         [ 2.79066157,  2.7798152 , -2.39684272, ...,  2.57901287,\n",
       "           2.9243083 , -3.13443732],\n",
       "         [ 1.91577101,  0.19215022, -0.52265221, ...,  4.92039967,\n",
       "          -2.13542628, -0.7080881 ],\n",
       "         [-1.53429306, -0.96813709,  1.13463807, ...,  2.70814061,\n",
       "          -2.26092958,  2.49683166]],\n",
       "\n",
       "        [[ 6.26488495, -8.34796047, -7.94212866, ..., -1.80913019,\n",
       "          -0.88785511, -0.24034138],\n",
       "         [ 2.85262513,  2.89557457, -1.50994277, ...,  3.47206378,\n",
       "          -3.17386341,  4.00560141],\n",
       "         [ 0.73958242,  0.3365345 , -0.36141956, ..., -2.86805844,\n",
       "           2.55486822, -2.67972398],\n",
       "         ...,\n",
       "         [ 0.91257936,  1.29304552, -0.874219  , ..., -3.12855721,\n",
       "          -2.82571507,  2.35553765],\n",
       "         [-2.10914636,  0.75235969, -0.95959163, ..., -6.28945112,\n",
       "           4.58698082,  4.0530076 ],\n",
       "         [-2.08878803, -1.47686946,  1.67980063, ..., -2.24645805,\n",
       "           2.87888122, -1.94000983]]],\n",
       "\n",
       "\n",
       "       [[[-1.35267472,  1.34773767,  0.96149999, ...,  3.99382734,\n",
       "          -3.20583081, -3.827142  ],\n",
       "         [ 1.01758301,  0.71475101, -0.96756679, ..., -1.49009013,\n",
       "           1.24066198, -1.50184298],\n",
       "         [ 2.0570786 ,  1.57330954, -1.30210531, ...,  1.40654302,\n",
       "          -1.46355176,  1.42318857],\n",
       "         ...,\n",
       "         [ 3.01788259,  2.76266384, -2.25175047, ...,  2.53609538,\n",
       "           2.97714233, -3.11510444],\n",
       "         [ 1.99309921,  0.27169225, -0.61488897, ...,  5.24604082,\n",
       "          -2.12801361, -0.46232164],\n",
       "         [-1.65046072, -0.94694722,  1.05766034, ...,  2.74594522,\n",
       "          -2.26547575,  2.45753288]],\n",
       "\n",
       "        [[ 6.81353521, -8.25007629, -7.49220514, ..., -1.98575902,\n",
       "          -1.05568326, -0.32487914],\n",
       "         [ 2.94057012,  2.67748499, -1.36785519, ...,  3.58722353,\n",
       "          -3.31514335,  4.04051447],\n",
       "         [ 0.78944504,  0.3509489 , -0.34876773, ..., -2.89250064,\n",
       "           2.59611917, -2.63533401],\n",
       "         ...,\n",
       "         [ 1.05214357,  1.3077209 , -0.87056249, ..., -3.20333123,\n",
       "          -2.87514925,  2.28908253],\n",
       "         [-2.11927152,  0.61630893, -0.71789205, ..., -6.54279947,\n",
       "           4.71070862,  3.94224334],\n",
       "         [-2.32491064, -1.49099231,  1.61640918, ..., -2.24784231,\n",
       "           2.9990716 , -1.87813687]]],\n",
       "\n",
       "\n",
       "       ...,\n",
       "\n",
       "\n",
       "       [[[-0.82242286,  0.        ,  0.        , ...,  6.47583628,\n",
       "          -2.4303    ,  0.        ],\n",
       "         [ 2.83367658,  0.        ,  0.        , ..., -2.99130988,\n",
       "           1.01879251,  0.        ],\n",
       "         [ 4.48808289,  0.        ,  0.        , ...,  2.21668768,\n",
       "          -1.05199945,  0.        ],\n",
       "         ...,\n",
       "         [ 5.01597357,  0.        ,  0.        , ...,  3.37590551,\n",
       "           1.82989204,  0.        ],\n",
       "         [ 0.35858676,  0.        ,  0.        , ...,  0.21181841,\n",
       "           0.80409902,  0.        ],\n",
       "         [-2.98520494,  0.        ,  0.        , ...,  4.83711243,\n",
       "          -1.60909998,  0.        ]],\n",
       "\n",
       "        [[ 5.44034052,  0.        ,  0.        , ..., -0.0115193 ,\n",
       "          -1.18891299,  0.        ],\n",
       "         [ 4.74073887,  0.        ,  0.        , ...,  5.70103931,\n",
       "          -2.25635576,  0.        ],\n",
       "         [ 1.69156873,  0.        ,  0.        , ..., -5.13149595,\n",
       "           1.92159843,  0.        ],\n",
       "         ...,\n",
       "         [ 2.0708468 ,  0.        ,  0.        , ..., -5.22735548,\n",
       "          -1.93448901,  0.        ],\n",
       "         [-1.61368763,  0.        ,  0.        , ..., -6.39743185,\n",
       "           2.33788657,  0.        ],\n",
       "         [-4.07805872,  0.        ,  0.        , ..., -3.17446232,\n",
       "           2.00746822,  0.        ]]],\n",
       "\n",
       "\n",
       "       [[[-0.40134844,  0.        ,  0.        , ...,  5.61935425,\n",
       "          -0.73531282,  0.        ],\n",
       "         [ 2.78936505,  0.        ,  0.        , ..., -3.08676815,\n",
       "           0.35521647,  0.        ],\n",
       "         [ 3.83189344,  0.        ,  0.        , ...,  1.84936213,\n",
       "          -0.30381927,  0.        ],\n",
       "         ...,\n",
       "         [ 3.28510046,  0.        ,  0.        , ...,  2.47420788,\n",
       "           0.45174864,  0.        ],\n",
       "         [-0.06994884,  0.        ,  0.        , ..., -1.03926468,\n",
       "           0.31064865,  0.        ],\n",
       "         [-2.30232859,  0.        ,  0.        , ...,  4.64121389,\n",
       "          -0.54207885,  0.        ]],\n",
       "\n",
       "        [[ 2.38122535,  0.        ,  0.        , ...,  0.40739375,\n",
       "          -0.24886584,  0.        ],\n",
       "         [ 3.33530068,  0.        ,  0.        , ...,  4.19855738,\n",
       "          -0.56492543,  0.        ],\n",
       "         [ 1.58746064,  0.        ,  0.        , ..., -5.00206518,\n",
       "           0.63369781,  0.        ],\n",
       "         ...,\n",
       "         [ 1.63937426,  0.        ,  0.        , ..., -4.98813772,\n",
       "          -0.6314854 ,  0.        ],\n",
       "         [-1.13840616,  0.        ,  0.        , ..., -5.1220932 ,\n",
       "           0.68270314,  0.        ],\n",
       "         [-2.81159353,  0.        ,  0.        , ..., -2.79100108,\n",
       "           0.57066256,  0.        ]]],\n",
       "\n",
       "\n",
       "       [[[-0.14972872,  0.        ,  0.        , ...,  3.96949649,\n",
       "           0.        ,  0.        ],\n",
       "         [ 1.42394066,  0.        ,  0.        , ..., -2.34686995,\n",
       "           0.        ,  0.        ],\n",
       "         [ 1.8126663 ,  0.        ,  0.        , ...,  1.27188504,\n",
       "           0.        ,  0.        ],\n",
       "         ...,\n",
       "         [ 1.33488178,  0.        ,  0.        , ...,  1.54251802,\n",
       "           0.        ,  0.        ],\n",
       "         [-0.11293364,  0.        ,  0.        , ..., -1.1798681 ,\n",
       "           0.        ,  0.        ],\n",
       "         [-1.05712438,  0.        ,  0.        , ...,  3.57279968,\n",
       "           0.        ,  0.        ]],\n",
       "\n",
       "        [[ 0.78467804,  0.        ,  0.        , ...,  0.36178449,\n",
       "           0.        ,  0.        ],\n",
       "         [ 1.4378556 ,  0.        ,  0.        , ...,  2.65974879,\n",
       "           0.        ,  0.        ],\n",
       "         [ 0.82859641,  0.        ,  0.        , ..., -3.94256711,\n",
       "           0.        ,  0.        ],\n",
       "         ...,\n",
       "         [ 0.76873606,  0.        ,  0.        , ..., -3.7226429 ,\n",
       "           0.        ,  0.        ],\n",
       "         [-0.51354861,  0.        ,  0.        , ..., -3.53514671,\n",
       "           0.        ,  0.        ],\n",
       "         [-1.1311599 ,  0.        ,  0.        , ..., -1.96282053,\n",
       "           0.        ,  0.        ]]]])"
      ]
     },
     "execution_count": 3,
     "metadata": {},
     "output_type": "execute_result"
    }
   ],
   "source": [
    "replicates[0].coeffs"
   ]
  },
  {
   "cell_type": "code",
   "execution_count": 5,
   "metadata": {
    "collapsed": true
   },
   "outputs": [],
   "source": [
    "\n",
    "#set parameters\n",
    "n = 50000 #number of data points to simulate\n",
    "nsel = 50 #number of points to analyze with lasso\n",
    "itermax = 1000 #maximum iterations per lasso run\n",
    "tol = 1e-10 #convergence criteria for lasso\n",
    "#lambdas = np.asarray([5,10,15,20,25,50,75,100], dtype = np.float16)#lambda values for lasso\n",
    "#lambdas = np.asarray([0,2.95339658e-06, 5.90679317e-06, 8.86018975e-06, 1.18135863e-05,\n",
    "#       1.47669829e-05, 2.95339658e-05, 4.43009487e-05, 5.90679317e-05])\n",
    "#lambdas = np.asarray([0,.001,.01,.1,1,10], dtype = np.float16)\n",
    "lambdas = np.asarray(np.hstack([np.asarray([0]),np.logspace(-3,-1,11)]), dtype = np.float16)\n",
    "#lambdas = np.asarray([0,1,2,3,4,5,6,7,8,9,10], dtype = np.float16)\n",
    "n_neighbors = 100\n",
    "n_components = 3 #number of embedding dimensions (diffusion maps)\n",
    "diffusion_time = .50 #diffusion time controls gaussian kernel radius per gradients paper\n",
    "dim = 2 #manifold dimension\n",
    "dimnoise = 2 #noise dimension\n",
    "cores = 16 #number of cores for parallel processing\n",
    "ii = np.asarray([0,0,0,0,1,1,1,2]) # atom adjacencies for dihedral angle computation\n",
    "jj = np.asarray([1,2,3,4,5,6,7,8])\n",
    "#run experiment\n",
    "#atoms4 = np.asarray([[9,0,1,2],[0,1,2,3],[1,2,3,4],[2,3,4,5],[3,4,5,6],[4,5,6,1],[5,6,1,0]],dtype = int)\n",
    "atoms4 = np.asarray([[6,1,0,4],[4,0,2,8],[7,6,5,1],[3,0,2,4]],dtype = int)\n",
    "#folder = workingdirectory + '/Figures/ethanol/' + now\n",
    "#os.mkdir(folder)\n",
    "new_MN = False\n",
    "new_grad = True\n",
    "savename = 'ethanol_052820'\n",
    "savefolder = 'ethanol'\n",
    "loadfolder = 'ethanol'\n",
    "loadname = 'ethanol_052820'\n",
    "nreps = 25\n",
    "atoms4,p = get_atoms_4(9,ii,jj)"
   ]
  },
  {
   "cell_type": "code",
   "execution_count": 7,
   "metadata": {
    "collapsed": true
   },
   "outputs": [],
   "source": [
    "from codes.otherfunctions.multirun import get_support\n",
    "from codes.otherfunctions.multiplot import plot_support_2d"
   ]
  },
  {
   "cell_type": "code",
   "execution_count": 32,
   "metadata": {},
   "outputs": [
    {
     "name": "stdout",
     "output_type": "stream",
     "text": [
      "0\n",
      "1\n",
      "2\n",
      "3\n",
      "4\n",
      "5\n",
      "6\n",
      "7\n",
      "8\n",
      "9\n",
      "10\n",
      "11\n",
      "12\n",
      "13\n",
      "14\n",
      "15\n",
      "16\n",
      "17\n",
      "18\n",
      "19\n",
      "20\n",
      "21\n",
      "22\n",
      "23\n",
      "24\n"
     ]
    },
    {
     "ename": "TypeError",
     "evalue": "'Figure' object is not iterable",
     "output_type": "error",
     "traceback": [
      "\u001b[0;31m---------------------------------------------------------------------------\u001b[0m",
      "\u001b[0;31mTypeError\u001b[0m                                 Traceback (most recent call last)",
      "\u001b[0;32m<ipython-input-32-76f46beb411b>\u001b[0m in \u001b[0;36m<module>\u001b[0;34m()\u001b[0m\n\u001b[1;32m      3\u001b[0m     \u001b[0mprint\u001b[0m\u001b[0;34m(\u001b[0m\u001b[0mi\u001b[0m\u001b[0;34m)\u001b[0m\u001b[0;34m\u001b[0m\u001b[0m\n\u001b[1;32m      4\u001b[0m     \u001b[0msupports\u001b[0m\u001b[0;34m[\u001b[0m\u001b[0mi\u001b[0m\u001b[0;34m]\u001b[0m \u001b[0;34m=\u001b[0m \u001b[0mget_support\u001b[0m\u001b[0;34m(\u001b[0m\u001b[0mreplicates\u001b[0m\u001b[0;34m[\u001b[0m\u001b[0mi\u001b[0m\u001b[0;34m]\u001b[0m\u001b[0;34m.\u001b[0m\u001b[0mcoeffs\u001b[0m\u001b[0;34m,\u001b[0m \u001b[0mdim\u001b[0m\u001b[0;34m)\u001b[0m\u001b[0;34m\u001b[0m\u001b[0m\n\u001b[0;32m----> 5\u001b[0;31m \u001b[0mfig\u001b[0m\u001b[0;34m,\u001b[0m \u001b[0max\u001b[0m \u001b[0;34m=\u001b[0m \u001b[0mplt\u001b[0m\u001b[0;34m.\u001b[0m\u001b[0mfigure\u001b[0m\u001b[0;34m(\u001b[0m\u001b[0mfigsize\u001b[0m\u001b[0;34m=\u001b[0m\u001b[0;34m(\u001b[0m\u001b[0;36m15\u001b[0m \u001b[0;34m,\u001b[0m \u001b[0;36m15\u001b[0m \u001b[0;34m)\u001b[0m\u001b[0;34m)\u001b[0m\u001b[0;34m\u001b[0m\u001b[0m\n\u001b[0m\u001b[1;32m      6\u001b[0m \u001b[0mplot_support_2d\u001b[0m\u001b[0;34m(\u001b[0m\u001b[0msupports\u001b[0m\u001b[0;34m,\u001b[0m \u001b[0mexperiment\u001b[0m\u001b[0;34m.\u001b[0m\u001b[0mp\u001b[0m\u001b[0;34m)\u001b[0m\u001b[0;34m\u001b[0m\u001b[0m\n\u001b[1;32m      7\u001b[0m \u001b[0mfig\u001b[0m\u001b[0;34m.\u001b[0m\u001b[0msavefig\u001b[0m\u001b[0;34m(\u001b[0m\u001b[0mfolder\u001b[0m \u001b[0;34m+\u001b[0m \u001b[0;34m'/flasso_support'\u001b[0m\u001b[0;34m)\u001b[0m\u001b[0;34m\u001b[0m\u001b[0m\n",
      "\u001b[0;31mTypeError\u001b[0m: 'Figure' object is not iterable"
     ]
    }
   ],
   "source": [
    "supports = {}\n",
    "for i in range(nreps):\n",
    "    print(i)\n",
    "    supports[i] = get_support(replicates[i].coeffs, dim)\n",
    "#fig, ax = plt.figure(figsize=(15 , 15 ))\n",
    "#plot_support_2d(supports, experiment.p)\n",
    "#fig.savefig(folder + '/flasso_support')"
   ]
  },
  {
   "cell_type": "code",
   "execution_count": 20,
   "metadata": {},
   "outputs": [],
   "source": [
    "coeffs = replicates[i].coeffs\n"
   ]
  },
  {
   "cell_type": "code",
   "execution_count": 21,
   "metadata": {
    "collapsed": true
   },
   "outputs": [],
   "source": [
    "selected_functions = np.asarray(np.where(np.sum(np.sum(coeffs ** 2, axis=1), axis=1) > 0))"
   ]
  },
  {
   "cell_type": "code",
   "execution_count": 22,
   "metadata": {},
   "outputs": [
    {
     "data": {
      "text/plain": [
       "array([[ 0,  0,  0,  0,  0,  0,  0,  0,  0,  0,  0,  0,  1,  1,  1,  1,\n",
       "         1,  1,  1,  1,  1,  1,  1,  1,  2,  2,  2,  2,  2,  2,  2,  2,\n",
       "         2,  2,  2,  2,  3,  3,  3,  3,  3,  3,  3,  3,  3,  3,  3,  3,\n",
       "         4,  4,  4,  4,  4,  4,  4,  4,  4,  4,  4,  4,  5,  5,  5,  5,\n",
       "         5,  5,  5,  5,  5,  5,  5,  5,  6,  6,  6,  6,  6,  6,  6,  6,\n",
       "         6,  7,  7,  7,  7,  7,  7,  7,  7,  7,  8,  8,  8,  8,  8,  8,\n",
       "         8,  8,  8,  9,  9,  9,  9,  9,  9,  9,  9,  9, 10, 10, 10, 10,\n",
       "        10, 10, 10, 10, 10, 11, 11, 11, 11, 11, 11, 11, 11, 11, 12, 12,\n",
       "        12, 12, 12, 12, 12, 12, 13, 13, 13, 13, 13, 13, 13, 14, 14, 14,\n",
       "        14, 14, 14, 14, 15, 15, 15, 15, 15, 15, 15, 16, 16, 16, 16, 16,\n",
       "        16, 16, 17, 17, 17, 17, 17, 17, 17, 18, 18, 18, 18, 18, 18, 18,\n",
       "        19, 19, 19, 19, 19, 19, 19, 20, 20, 20, 20, 20, 20, 21, 21, 21,\n",
       "        21, 21, 22, 22, 22, 22, 22, 23, 23, 23, 23, 23, 24, 24, 24, 24,\n",
       "        25, 25, 25, 25, 26, 26, 26, 26, 27, 27, 27, 27],\n",
       "       [ 0,  1,  2,  3,  4,  5,  6,  7,  8,  9, 10, 11,  0,  1,  2,  3,\n",
       "         4,  5,  6,  7,  8,  9, 10, 11,  0,  1,  2,  3,  4,  5,  6,  7,\n",
       "         8,  9, 10, 11,  0,  1,  2,  3,  4,  5,  6,  7,  8,  9, 10, 11,\n",
       "         0,  1,  2,  3,  4,  5,  6,  7,  8,  9, 10, 11,  0,  1,  2,  3,\n",
       "         4,  5,  6,  7,  8,  9, 10, 11,  0,  1,  3,  4,  6,  7,  9, 10,\n",
       "        11,  0,  1,  3,  4,  6,  7,  9, 10, 11,  0,  1,  3,  4,  6,  7,\n",
       "         9, 10, 11,  0,  1,  3,  4,  6,  7,  9, 10, 11,  0,  1,  3,  4,\n",
       "         6,  7,  9, 10, 11,  0,  1,  3,  4,  6,  7,  9, 10, 11,  0,  3,\n",
       "         4,  6,  7,  9, 10, 11,  0,  3,  5,  6,  7,  9, 11,  0,  3,  5,\n",
       "         6,  7,  9, 11,  0,  3,  5,  6,  7,  9, 11,  0,  3,  5,  6,  7,\n",
       "         9, 11,  0,  3,  5,  6,  7,  9, 11,  0,  3,  5,  6,  7,  9, 11,\n",
       "         0,  3,  5,  6,  7,  9, 11,  0,  3,  6,  7,  9, 11,  0,  3,  7,\n",
       "         9, 11,  0,  3,  7,  9, 11,  0,  3,  7,  9, 11,  0,  3,  7,  9,\n",
       "         0,  3,  7,  9,  0,  3,  7,  9,  0,  3,  7,  9]])"
      ]
     },
     "execution_count": 22,
     "metadata": {},
     "output_type": "execute_result"
    }
   ],
   "source": [
    "selected_functions"
   ]
  },
  {
   "cell_type": "code",
   "execution_count": 23,
   "metadata": {
    "collapsed": true
   },
   "outputs": [],
   "source": [
    "from collections import Counter"
   ]
  },
  {
   "cell_type": "code",
   "execution_count": 30,
   "metadata": {},
   "outputs": [
    {
     "data": {
      "text/plain": [
       "array([], dtype=int64)"
      ]
     },
     "execution_count": 30,
     "metadata": {},
     "output_type": "execute_result"
    }
   ],
   "source": []
  },
  {
   "cell_type": "code",
   "execution_count": 24,
   "metadata": {},
   "outputs": [
    {
     "ename": "ValueError",
     "evalue": "zero-size array to reduction operation minimum which has no identity",
     "output_type": "error",
     "traceback": [
      "\u001b[0;31m---------------------------------------------------------------------------\u001b[0m",
      "\u001b[0;31mValueError\u001b[0m                                Traceback (most recent call last)",
      "\u001b[0;32m<ipython-input-24-bcccdc56f8ae>\u001b[0m in \u001b[0;36m<module>\u001b[0;34m()\u001b[0m\n\u001b[0;32m----> 1\u001b[0;31m \u001b[0mselection_lambda\u001b[0m \u001b[0;34m=\u001b[0m \u001b[0mnp\u001b[0m\u001b[0;34m.\u001b[0m\u001b[0mmin\u001b[0m\u001b[0;34m(\u001b[0m\u001b[0mnp\u001b[0m\u001b[0;34m.\u001b[0m\u001b[0mwhere\u001b[0m\u001b[0;34m(\u001b[0m\u001b[0mnp\u001b[0m\u001b[0;34m.\u001b[0m\u001b[0masarray\u001b[0m\u001b[0;34m(\u001b[0m\u001b[0mlist\u001b[0m\u001b[0;34m(\u001b[0m\u001b[0mCounter\u001b[0m\u001b[0;34m(\u001b[0m\u001b[0mselected_functions\u001b[0m\u001b[0;34m[\u001b[0m\u001b[0;36m0\u001b[0m\u001b[0;34m]\u001b[0m\u001b[0;34m)\u001b[0m\u001b[0;34m.\u001b[0m\u001b[0mvalues\u001b[0m\u001b[0;34m(\u001b[0m\u001b[0;34m)\u001b[0m\u001b[0;34m)\u001b[0m\u001b[0;34m)\u001b[0m \u001b[0;34m==\u001b[0m \u001b[0mdim\u001b[0m\u001b[0;34m)\u001b[0m\u001b[0;34m[\u001b[0m\u001b[0;36m0\u001b[0m\u001b[0;34m]\u001b[0m\u001b[0;34m)\u001b[0m\u001b[0;34m\u001b[0m\u001b[0m\n\u001b[0m",
      "\u001b[0;32m~/anaconda3/envs/manifold_env_april/lib/python3.5/site-packages/numpy/core/fromnumeric.py\u001b[0m in \u001b[0;36mamin\u001b[0;34m(a, axis, out, keepdims, initial)\u001b[0m\n\u001b[1;32m   2440\u001b[0m     \"\"\"\n\u001b[1;32m   2441\u001b[0m     return _wrapreduction(a, np.minimum, 'min', axis, None, out, keepdims=keepdims,\n\u001b[0;32m-> 2442\u001b[0;31m                           initial=initial)\n\u001b[0m\u001b[1;32m   2443\u001b[0m \u001b[0;34m\u001b[0m\u001b[0m\n\u001b[1;32m   2444\u001b[0m \u001b[0;34m\u001b[0m\u001b[0m\n",
      "\u001b[0;32m~/anaconda3/envs/manifold_env_april/lib/python3.5/site-packages/numpy/core/fromnumeric.py\u001b[0m in \u001b[0;36m_wrapreduction\u001b[0;34m(obj, ufunc, method, axis, dtype, out, **kwargs)\u001b[0m\n\u001b[1;32m     81\u001b[0m                 \u001b[0;32mreturn\u001b[0m \u001b[0mreduction\u001b[0m\u001b[0;34m(\u001b[0m\u001b[0maxis\u001b[0m\u001b[0;34m=\u001b[0m\u001b[0maxis\u001b[0m\u001b[0;34m,\u001b[0m \u001b[0mout\u001b[0m\u001b[0;34m=\u001b[0m\u001b[0mout\u001b[0m\u001b[0;34m,\u001b[0m \u001b[0;34m**\u001b[0m\u001b[0mpasskwargs\u001b[0m\u001b[0;34m)\u001b[0m\u001b[0;34m\u001b[0m\u001b[0m\n\u001b[1;32m     82\u001b[0m \u001b[0;34m\u001b[0m\u001b[0m\n\u001b[0;32m---> 83\u001b[0;31m     \u001b[0;32mreturn\u001b[0m \u001b[0mufunc\u001b[0m\u001b[0;34m.\u001b[0m\u001b[0mreduce\u001b[0m\u001b[0;34m(\u001b[0m\u001b[0mobj\u001b[0m\u001b[0;34m,\u001b[0m \u001b[0maxis\u001b[0m\u001b[0;34m,\u001b[0m \u001b[0mdtype\u001b[0m\u001b[0;34m,\u001b[0m \u001b[0mout\u001b[0m\u001b[0;34m,\u001b[0m \u001b[0;34m**\u001b[0m\u001b[0mpasskwargs\u001b[0m\u001b[0;34m)\u001b[0m\u001b[0;34m\u001b[0m\u001b[0m\n\u001b[0m\u001b[1;32m     84\u001b[0m \u001b[0;34m\u001b[0m\u001b[0m\n\u001b[1;32m     85\u001b[0m \u001b[0;34m\u001b[0m\u001b[0m\n",
      "\u001b[0;31mValueError\u001b[0m: zero-size array to reduction operation minimum which has no identity"
     ]
    }
   ],
   "source": [
    "sls = np.where(np.asarray(list(Counter(selected_functions[0]).values())) == dim)[0]\n",
    "if len(sls) > 0:\n",
    "    selection_lambda = np.min(sls)"
   ]
  },
  {
   "cell_type": "code",
   "execution_count": 16,
   "metadata": {},
   "outputs": [
    {
     "data": {
      "text/plain": [
       "14"
      ]
     },
     "execution_count": 16,
     "metadata": {},
     "output_type": "execute_result"
    }
   ],
   "source": [
    "selection_lambda"
   ]
  },
  {
   "cell_type": "code",
   "execution_count": 17,
   "metadata": {
    "collapsed": true
   },
   "outputs": [],
   "source": [
    "    selected_functions_at_selection_lambda = selected_functions[1][\n",
    "        np.where(selected_functions[0] == selection_lambda)[0]]"
   ]
  },
  {
   "cell_type": "code",
   "execution_count": 18,
   "metadata": {},
   "outputs": [
    {
     "data": {
      "text/plain": [
       "array([0, 9])"
      ]
     },
     "execution_count": 18,
     "metadata": {},
     "output_type": "execute_result"
    }
   ],
   "source": [
    "selected_functions_at_selection_lambda"
   ]
  },
  {
   "cell_type": "code",
   "execution_count": 31,
   "metadata": {
    "collapsed": true
   },
   "outputs": [],
   "source": [
    "\n",
    "def get_support(coeffs, dim):\n",
    "    selected_functions = np.asarray(np.where(np.sum(np.sum(coeffs ** 2, axis=1), axis=1) > 0))\n",
    "\n",
    "    sls = np.where(np.asarray(list(Counter(selected_functions[0]).values())) == dim)[0]\n",
    "    if len(sls) > 0:\n",
    "        selection_lambda = np.min(sls)\n",
    "        selected_functions_at_selection_lambda = selected_functions[1][\n",
    "            np.where(selected_functions[0] == selection_lambda)[0]]\n",
    "\n",
    "        return (selected_functions_at_selection_lambda)\n",
    "    else:\n",
    "        return(np.nan)\n"
   ]
  },
  {
   "cell_type": "code",
   "execution_count": null,
   "metadata": {
    "collapsed": true
   },
   "outputs": [],
   "source": []
  }
 ],
 "metadata": {
  "kernelspec": {
   "display_name": "manifold_env_april2",
   "language": "python",
   "name": "manifold_env_april2"
  },
  "language_info": {
   "codemirror_mode": {
    "name": "ipython",
    "version": 3
   },
   "file_extension": ".py",
   "mimetype": "text/x-python",
   "name": "python",
   "nbconvert_exporter": "python",
   "pygments_lexer": "ipython3",
   "version": "3.5.5"
  }
 },
 "nbformat": 4,
 "nbformat_minor": 2
}
