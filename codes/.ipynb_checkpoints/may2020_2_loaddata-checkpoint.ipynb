{
 "cells": [
  {
   "cell_type": "code",
   "execution_count": 163,
   "metadata": {},
   "outputs": [
    {
     "name": "stderr",
     "output_type": "stream",
     "text": [
      "/Users/samsonkoelle/anaconda3/envs/manifold_env_april/lib/python3.5/site-packages/ipykernel_launcher.py:4: UserWarning: matplotlib.pyplot as already been imported, this call will have no effect.\n",
      "  after removing the cwd from sys.path.\n"
     ]
    }
   ],
   "source": [
    "import pickle\n",
    "\n",
    "import matplotlib\n",
    "matplotlib.use('Agg')\n",
    "import os\n",
    "import datetime\n",
    "import numpy as np\n",
    "import dill as pickle\n",
    "import random\n",
    "import sys\n",
    "np.random.seed(0)\n",
    "random.seed(0)\n",
    "now = datetime.datetime.now().strftime(\"%B_%d_%Y_%H_%M_%S\")\n",
    "workingdirectory = os.popen('git rev-parse --show-toplevel').read()[:-1]\n",
    "sys.path.append(workingdirectory)\n",
    "os.chdir(workingdirectory)\n",
    "#print(os.getcwd())\n",
    "from codes.experimentclasses.RigidEthanolPCA import RigidEthanolPCA\n",
    "from codes.otherfunctions.multirun import get_coeffs_reps_tangent\n",
    "from codes.otherfunctions.multirun import get_grads_reps_pca2_tangent\n",
    "from codes.otherfunctions.multiplot import plot_reg_path_ax_lambdasearch_tangent\n",
    "from codes.otherfunctions.get_dictionaries import get_atoms_4\n",
    "from codes.flasso.Replicate import Replicate\n",
    "from codes.otherfunctions.get_grads_tangent import get_grads_tangent\n",
    "from codes.otherfunctions.multirun import get_support_recovery_lambda\n",
    "from codes.otherfunctions.multirun import get_lower_interesting_lambda\n",
    "import matplotlib.pyplot as plt\n",
    "from codes.otherfunctions.multirun import get_coeffs_and_lambdas\n",
    "from codes.geometer.RiemannianManifold import RiemannianManifold\n",
    "from collections import Counter"
   ]
  },
  {
   "cell_type": "code",
   "execution_count": null,
   "metadata": {
    "collapsed": true
   },
   "outputs": [],
   "source": []
  },
  {
   "cell_type": "code",
   "execution_count": 164,
   "metadata": {
    "collapsed": true
   },
   "outputs": [],
   "source": [
    "\n",
    "def get_support(coeffs, dim):\n",
    "    selected_functions = np.asarray(np.where(np.sum(np.sum(coeffs ** 2, axis=1), axis=1) > 0))\n",
    "\n",
    "    sls = np.where(np.asarray(list(Counter(selected_functions[0]).values())) == dim)[0]\n",
    "    if len(sls) > 0:\n",
    "        selection_lambda = np.min(sls)\n",
    "        selected_functions_at_selection_lambda = selected_functions[1][\n",
    "            np.where(selected_functions[0] == selection_lambda)[0]]\n",
    "\n",
    "        return (selected_functions_at_selection_lambda)\n",
    "    else:\n",
    "        return(np.nan)\n"
   ]
  },
  {
   "cell_type": "code",
   "execution_count": 165,
   "metadata": {},
   "outputs": [
    {
     "name": "stdout",
     "output_type": "stream",
     "text": [
      "0\n",
      "1\n",
      "2\n",
      "3\n",
      "4\n",
      "5\n",
      "6\n",
      "7\n",
      "8\n",
      "9\n",
      "10\n",
      "11\n",
      "12\n",
      "13\n",
      "14\n",
      "15\n",
      "16\n",
      "17\n",
      "18\n",
      "19\n",
      "20\n",
      "21\n",
      "22\n",
      "23\n",
      "24\n"
     ]
    }
   ],
   "source": [
    "nreps= 25\n",
    "dim = 2\n",
    "#from codes.otherfunctions.multirun import get_support\n",
    "from codes.otherfunctions.multiplot import plot_support_2d\n",
    "\n",
    "with open('/Users/samsonkoelle/manifoldflasso_jmlr/Figures/ethanol/dim2May_31_2020_14_16_39/replicatesethanol_052820.pkl' ,\n",
    "         'rb') as loader:\n",
    "     replicates = pickle.load(loader)\n",
    "supports = {}\n",
    "for i in range(nreps):\n",
    "    print(i)\n",
    "    supports[i] = get_support(replicates[i].coeffs, dim)\n",
    "#fig, ax = plt.figure(figsize=(15 , 15 ))\n",
    "#plot_support_2d(supports, experiment.p)\n",
    "#fig.savefig(folder + '/flasso_support')"
   ]
  },
  {
   "cell_type": "code",
   "execution_count": 166,
   "metadata": {},
   "outputs": [
    {
     "data": {
      "text/plain": [
       "{0: array([0, 9]),\n",
       " 1: array([ 9, 11]),\n",
       " 2: array([0, 9]),\n",
       " 3: array([ 9, 10]),\n",
       " 4: array([ 9, 10]),\n",
       " 5: array([0, 9]),\n",
       " 6: array([ 9, 10]),\n",
       " 7: array([8, 9]),\n",
       " 8: array([ 9, 10]),\n",
       " 9: array([ 9, 11]),\n",
       " 10: array([0, 9]),\n",
       " 11: array([ 9, 11]),\n",
       " 12: array([8, 9]),\n",
       " 13: array([7, 9]),\n",
       " 14: nan,\n",
       " 15: array([ 9, 11]),\n",
       " 16: nan,\n",
       " 17: array([10, 11]),\n",
       " 18: array([7, 9]),\n",
       " 19: nan,\n",
       " 20: nan,\n",
       " 21: array([10, 11]),\n",
       " 22: array([0, 9]),\n",
       " 23: array([ 9, 11]),\n",
       " 24: array([ 9, 11])}"
      ]
     },
     "execution_count": 166,
     "metadata": {},
     "output_type": "execute_result"
    }
   ],
   "source": [
    "supports"
   ]
  },
  {
   "cell_type": "code",
   "execution_count": 167,
   "metadata": {
    "collapsed": true
   },
   "outputs": [],
   "source": [
    "import seaborn as sns\n",
    "def plot_support_2d(supports, p):\n",
    "    to_plot = np.zeros((p, p))\n",
    "    support_indices = np.asarray(list(supports.values()))\n",
    "    \n",
    "    for i in range(len(support_indices)):\n",
    "        if type(support_indices[i]) == np.ndarray:\n",
    "            to_plot[support_indices[i][0], support_indices[i][1]] += 1\n",
    "            to_plot[support_indices[i][1], support_indices[i][0]] += 1\n",
    "    fig, ax = plt.subplots()\n",
    "    sns.heatmap(to_plot, ax=ax)\n",
    "    ax.set_xlabel('Dictionary function 1')\n",
    "    ax.set_ylabel('Dictionary function 2')\n",
    "    ax.set_title('Frequency of support selection', fontsize  = 16)\n",
    "    #plt.colorbar(ax)\n",
    "    #clb.ax.set_title(ax, 'Selection frequency')\n",
    "    #plt.colorbar('hi')"
   ]
  },
  {
   "cell_type": "code",
   "execution_count": 168,
   "metadata": {},
   "outputs": [
    {
     "data": {
      "image/png": "[encoded data removed]",
      "text/plain": [
       "<Figure size 432x288 with 2 Axes>"
      ]
     },
     "metadata": {
      "needs_background": "light"
     },
     "output_type": "display_data"
    }
   ],
   "source": [
    "plot_support_2d(supports, p)"
   ]
  },
  {
   "cell_type": "code",
   "execution_count": 169,
   "metadata": {},
   "outputs": [
    {
     "name": "stderr",
     "output_type": "stream",
     "text": [
      "/Users/samsonkoelle/anaconda3/envs/manifold_env_april/lib/python3.5/site-packages/matplotlib/figure.py:98: MatplotlibDeprecationWarning: \n",
      "Adding an axes using the same arguments as a previous axes currently reuses the earlier instance.  In a future version, a new instance will always be created and returned.  Meanwhile, this warning can be suppressed, and the future behavior ensured, by passing a unique label to each axes instance.\n",
      "  \"Adding an axes using the same arguments as a previous axes \"\n",
      "/Users/samsonkoelle/anaconda3/envs/manifold_env_april/lib/python3.5/site-packages/matplotlib/figure.py:98: MatplotlibDeprecationWarning: \n",
      "Adding an axes using the same arguments as a previous axes currently reuses the earlier instance.  In a future version, a new instance will always be created and returned.  Meanwhile, this warning can be suppressed, and the future behavior ensured, by passing a unique label to each axes instance.\n",
      "  \"Adding an axes using the same arguments as a previous axes \"\n",
      "/Users/samsonkoelle/anaconda3/envs/manifold_env_april/lib/python3.5/site-packages/matplotlib/figure.py:98: MatplotlibDeprecationWarning: \n",
      "Adding an axes using the same arguments as a previous axes currently reuses the earlier instance.  In a future version, a new instance will always be created and returned.  Meanwhile, this warning can be suppressed, and the future behavior ensured, by passing a unique label to each axes instance.\n",
      "  \"Adding an axes using the same arguments as a previous axes \"\n",
      "/Users/samsonkoelle/anaconda3/envs/manifold_env_april/lib/python3.5/site-packages/matplotlib/figure.py:98: MatplotlibDeprecationWarning: \n",
      "Adding an axes using the same arguments as a previous axes currently reuses the earlier instance.  In a future version, a new instance will always be created and returned.  Meanwhile, this warning can be suppressed, and the future behavior ensured, by passing a unique label to each axes instance.\n",
      "  \"Adding an axes using the same arguments as a previous axes \"\n",
      "/Users/samsonkoelle/anaconda3/envs/manifold_env_april/lib/python3.5/site-packages/matplotlib/figure.py:98: MatplotlibDeprecationWarning: \n",
      "Adding an axes using the same arguments as a previous axes currently reuses the earlier instance.  In a future version, a new instance will always be created and returned.  Meanwhile, this warning can be suppressed, and the future behavior ensured, by passing a unique label to each axes instance.\n",
      "  \"Adding an axes using the same arguments as a previous axes \"\n",
      "/Users/samsonkoelle/anaconda3/envs/manifold_env_april/lib/python3.5/site-packages/matplotlib/figure.py:98: MatplotlibDeprecationWarning: \n",
      "Adding an axes using the same arguments as a previous axes currently reuses the earlier instance.  In a future version, a new instance will always be created and returned.  Meanwhile, this warning can be suppressed, and the future behavior ensured, by passing a unique label to each axes instance.\n",
      "  \"Adding an axes using the same arguments as a previous axes \"\n",
      "/Users/samsonkoelle/anaconda3/envs/manifold_env_april/lib/python3.5/site-packages/matplotlib/figure.py:98: MatplotlibDeprecationWarning: \n",
      "Adding an axes using the same arguments as a previous axes currently reuses the earlier instance.  In a future version, a new instance will always be created and returned.  Meanwhile, this warning can be suppressed, and the future behavior ensured, by passing a unique label to each axes instance.\n",
      "  \"Adding an axes using the same arguments as a previous axes \"\n",
      "/Users/samsonkoelle/anaconda3/envs/manifold_env_april/lib/python3.5/site-packages/matplotlib/figure.py:98: MatplotlibDeprecationWarning: \n",
      "Adding an axes using the same arguments as a previous axes currently reuses the earlier instance.  In a future version, a new instance will always be created and returned.  Meanwhile, this warning can be suppressed, and the future behavior ensured, by passing a unique label to each axes instance.\n",
      "  \"Adding an axes using the same arguments as a previous axes \"\n",
      "/Users/samsonkoelle/anaconda3/envs/manifold_env_april/lib/python3.5/site-packages/matplotlib/figure.py:98: MatplotlibDeprecationWarning: \n",
      "Adding an axes using the same arguments as a previous axes currently reuses the earlier instance.  In a future version, a new instance will always be created and returned.  Meanwhile, this warning can be suppressed, and the future behavior ensured, by passing a unique label to each axes instance.\n",
      "  \"Adding an axes using the same arguments as a previous axes \"\n",
      "/Users/samsonkoelle/anaconda3/envs/manifold_env_april/lib/python3.5/site-packages/matplotlib/figure.py:98: MatplotlibDeprecationWarning: \n",
      "Adding an axes using the same arguments as a previous axes currently reuses the earlier instance.  In a future version, a new instance will always be created and returned.  Meanwhile, this warning can be suppressed, and the future behavior ensured, by passing a unique label to each axes instance.\n",
      "  \"Adding an axes using the same arguments as a previous axes \"\n",
      "/Users/samsonkoelle/anaconda3/envs/manifold_env_april/lib/python3.5/site-packages/matplotlib/figure.py:98: MatplotlibDeprecationWarning: \n",
      "Adding an axes using the same arguments as a previous axes currently reuses the earlier instance.  In a future version, a new instance will always be created and returned.  Meanwhile, this warning can be suppressed, and the future behavior ensured, by passing a unique label to each axes instance.\n",
      "  \"Adding an axes using the same arguments as a previous axes \"\n",
      "/Users/samsonkoelle/anaconda3/envs/manifold_env_april/lib/python3.5/site-packages/matplotlib/figure.py:98: MatplotlibDeprecationWarning: \n",
      "Adding an axes using the same arguments as a previous axes currently reuses the earlier instance.  In a future version, a new instance will always be created and returned.  Meanwhile, this warning can be suppressed, and the future behavior ensured, by passing a unique label to each axes instance.\n",
      "  \"Adding an axes using the same arguments as a previous axes \"\n",
      "/Users/samsonkoelle/anaconda3/envs/manifold_env_april/lib/python3.5/site-packages/matplotlib/figure.py:98: MatplotlibDeprecationWarning: \n",
      "Adding an axes using the same arguments as a previous axes currently reuses the earlier instance.  In a future version, a new instance will always be created and returned.  Meanwhile, this warning can be suppressed, and the future behavior ensured, by passing a unique label to each axes instance.\n",
      "  \"Adding an axes using the same arguments as a previous axes \"\n",
      "/Users/samsonkoelle/anaconda3/envs/manifold_env_april/lib/python3.5/site-packages/matplotlib/figure.py:98: MatplotlibDeprecationWarning: \n",
      "Adding an axes using the same arguments as a previous axes currently reuses the earlier instance.  In a future version, a new instance will always be created and returned.  Meanwhile, this warning can be suppressed, and the future behavior ensured, by passing a unique label to each axes instance.\n",
      "  \"Adding an axes using the same arguments as a previous axes \"\n",
      "/Users/samsonkoelle/anaconda3/envs/manifold_env_april/lib/python3.5/site-packages/matplotlib/figure.py:98: MatplotlibDeprecationWarning: \n",
      "Adding an axes using the same arguments as a previous axes currently reuses the earlier instance.  In a future version, a new instance will always be created and returned.  Meanwhile, this warning can be suppressed, and the future behavior ensured, by passing a unique label to each axes instance.\n",
      "  \"Adding an axes using the same arguments as a previous axes \"\n",
      "/Users/samsonkoelle/anaconda3/envs/manifold_env_april/lib/python3.5/site-packages/matplotlib/figure.py:98: MatplotlibDeprecationWarning: \n",
      "Adding an axes using the same arguments as a previous axes currently reuses the earlier instance.  In a future version, a new instance will always be created and returned.  Meanwhile, this warning can be suppressed, and the future behavior ensured, by passing a unique label to each axes instance.\n",
      "  \"Adding an axes using the same arguments as a previous axes \"\n",
      "/Users/samsonkoelle/anaconda3/envs/manifold_env_april/lib/python3.5/site-packages/matplotlib/figure.py:98: MatplotlibDeprecationWarning: \n",
      "Adding an axes using the same arguments as a previous axes currently reuses the earlier instance.  In a future version, a new instance will always be created and returned.  Meanwhile, this warning can be suppressed, and the future behavior ensured, by passing a unique label to each axes instance.\n",
      "  \"Adding an axes using the same arguments as a previous axes \"\n"
     ]
    },
    {
     "name": "stderr",
     "output_type": "stream",
     "text": [
      "/Users/samsonkoelle/anaconda3/envs/manifold_env_april/lib/python3.5/site-packages/matplotlib/figure.py:98: MatplotlibDeprecationWarning: \n",
      "Adding an axes using the same arguments as a previous axes currently reuses the earlier instance.  In a future version, a new instance will always be created and returned.  Meanwhile, this warning can be suppressed, and the future behavior ensured, by passing a unique label to each axes instance.\n",
      "  \"Adding an axes using the same arguments as a previous axes \"\n",
      "/Users/samsonkoelle/anaconda3/envs/manifold_env_april/lib/python3.5/site-packages/matplotlib/figure.py:98: MatplotlibDeprecationWarning: \n",
      "Adding an axes using the same arguments as a previous axes currently reuses the earlier instance.  In a future version, a new instance will always be created and returned.  Meanwhile, this warning can be suppressed, and the future behavior ensured, by passing a unique label to each axes instance.\n",
      "  \"Adding an axes using the same arguments as a previous axes \"\n",
      "/Users/samsonkoelle/anaconda3/envs/manifold_env_april/lib/python3.5/site-packages/matplotlib/figure.py:98: MatplotlibDeprecationWarning: \n",
      "Adding an axes using the same arguments as a previous axes currently reuses the earlier instance.  In a future version, a new instance will always be created and returned.  Meanwhile, this warning can be suppressed, and the future behavior ensured, by passing a unique label to each axes instance.\n",
      "  \"Adding an axes using the same arguments as a previous axes \"\n",
      "/Users/samsonkoelle/anaconda3/envs/manifold_env_april/lib/python3.5/site-packages/matplotlib/figure.py:98: MatplotlibDeprecationWarning: \n",
      "Adding an axes using the same arguments as a previous axes currently reuses the earlier instance.  In a future version, a new instance will always be created and returned.  Meanwhile, this warning can be suppressed, and the future behavior ensured, by passing a unique label to each axes instance.\n",
      "  \"Adding an axes using the same arguments as a previous axes \"\n",
      "/Users/samsonkoelle/anaconda3/envs/manifold_env_april/lib/python3.5/site-packages/matplotlib/figure.py:98: MatplotlibDeprecationWarning: \n",
      "Adding an axes using the same arguments as a previous axes currently reuses the earlier instance.  In a future version, a new instance will always be created and returned.  Meanwhile, this warning can be suppressed, and the future behavior ensured, by passing a unique label to each axes instance.\n",
      "  \"Adding an axes using the same arguments as a previous axes \"\n",
      "/Users/samsonkoelle/anaconda3/envs/manifold_env_april/lib/python3.5/site-packages/matplotlib/figure.py:98: MatplotlibDeprecationWarning: \n",
      "Adding an axes using the same arguments as a previous axes currently reuses the earlier instance.  In a future version, a new instance will always be created and returned.  Meanwhile, this warning can be suppressed, and the future behavior ensured, by passing a unique label to each axes instance.\n",
      "  \"Adding an axes using the same arguments as a previous axes \"\n",
      "/Users/samsonkoelle/anaconda3/envs/manifold_env_april/lib/python3.5/site-packages/matplotlib/figure.py:98: MatplotlibDeprecationWarning: \n",
      "Adding an axes using the same arguments as a previous axes currently reuses the earlier instance.  In a future version, a new instance will always be created and returned.  Meanwhile, this warning can be suppressed, and the future behavior ensured, by passing a unique label to each axes instance.\n",
      "  \"Adding an axes using the same arguments as a previous axes \"\n",
      "IOPub data rate exceeded.\n",
      "The notebook server will temporarily stop sending output\n",
      "to the client in order to avoid crashing it.\n",
      "To change this limit, set the config variable\n",
      "`--NotebookApp.iopub_data_rate_limit`.\n"
     ]
    }
   ],
   "source": [
    "%matplotlib inline\n",
    "m = 3\n",
    "nsel = 100\n",
    "fig, axes_all = plt.subplots(nreps, 1,figsize=(75, 150))\n",
    "for i in range(nreps):\n",
    "    #i = 15\n",
    "    plot_reg_path_ax_lambdasearch_tangent(axes_all[i], replicates[i].coeffs, replicates[i].lambdas_plot * np.sqrt(m * nsel), fig)\n",
    "    #i = 11\n",
    "    #plot_reg_path_ax_lambdasearch_tangent(axes_all[1], replicates[i].coeffs, replicates[i].lambdas_plot * np.sqrt(m * nsel), fig)\n",
    "\n",
    "\n",
    "fig.savefig('/Users/samsonkoelle/ethanolbetaspaths')\n",
    "#    replicates[i].coeffs, replicates[i].lambdas_plot = get_coeffs_and_lambdas(replicates[i].coeff_dict, replicates[i].lower_lambda, replicates[i].higher_lambda)\n",
    "#    plot_reg_path_ax_lambdasearch_tangent(axes_all[i], replicates[i].coeffs, replicates[i].lambdas_plot * np.sqrt(m * nsel), fig)\n",
    "#fig.savefig(folder + '/beta_paths')"
   ]
  },
  {
   "cell_type": "code",
   "execution_count": 145,
   "metadata": {},
   "outputs": [
    {
     "name": "stderr",
     "output_type": "stream",
     "text": [
      "/Users/samsonkoelle/anaconda3/envs/manifold_env_april/lib/python3.5/site-packages/ipykernel_launcher.py:19: FutureWarning: `rcond` parameter will change to the default of machine precision times ``max(M, N)`` where M and N are the input matrix dimensions.\n",
      "To use the future default and silence this warning we advise to pass `rcond=None`, to keep using the old, explicitly pass `rcond=-1`.\n",
      "/Users/samsonkoelle/anaconda3/envs/manifold_env_april/lib/python3.5/site-packages/ipykernel_launcher.py:16: RuntimeWarning: divide by zero encountered in log\n",
      "  app.launch_new_instance()\n"
     ]
    },
    {
     "data": {
      "image/png": "[encoded data removed]",
      "text/plain": [
       "<Figure size 27000x1080 with 25 Axes>"
      ]
     },
     "metadata": {
      "needs_background": "light"
     },
     "output_type": "display_data"
    },
    {
     "data": {
      "image/png": "[encoded data removed]",
      "text/plain": [
       "<Figure size 27000x1080 with 25 Axes>"
      ]
     },
     "metadata": {
      "needs_background": "light"
     },
     "output_type": "display_data"
    }
   ],
   "source": [
    "\n",
    "fig, axes_all = plt.subplots(nreps,figsize=(15*nreps,15))\n",
    "fig.suptitle('Cosines for each replicate')\n",
    "for i in range(nreps):\n",
    "    full = np.concatenate([replicates[i].dg_M, np.swapaxes(replicates[i].df_M,1,2)],1)\n",
    "    asdf = get_cosines(full)\n",
    "    axes_all[i].imshow(asdf)\n",
    "fig.savefig('/Users/samsonkoelle/cosinesssss')\n",
    "\n",
    "ols_norm, supports_brute = get_olsnorm_and_supportsbrute(experiment,replicates)\n",
    "\n",
    "\n",
    "fig, axes_all = plt.subplots(nreps,figsize=(15*nreps,15))\n",
    "fig.suptitle('GL norm for different OLS solutions')\n",
    "for r in range(nreps):\n",
    "    axes_all[r].imshow(np.log(ols_norm[r]))\n",
    "    highlight_cell(supports_brute[r][1],supports_brute[r][0],color=\"limegreen\", linewidth=3,ax=axes_all[r])\n",
    "    highlight_cell(supports_brute[r][0],supports_brute[r][1],color=\"limegreen\", linewidth=3,ax=axes_all[r])\n",
    "fig.savefig('/Users/samsonkoelle/olsnormssssss')\n",
    "\n",
    "# fig, ax = plt.figure(figsize=(15 , 15 ))\n",
    "# plot_support_2d(supports_brute, experiment.p)\n",
    "# fig.savefig('/Users/samsonkoelle/ols_supportsssssssss')\n"
   ]
  },
  {
   "cell_type": "code",
   "execution_count": 146,
   "metadata": {},
   "outputs": [
    {
     "data": {
      "image/png": "[encoded data removed]",
      "text/plain": [
       "<Figure size 432x288 with 2 Axes>"
      ]
     },
     "metadata": {
      "needs_background": "light"
     },
     "output_type": "display_data"
    }
   ],
   "source": [
    "#fig, ax = plt.figure(figsize=(15 , 15 ))\n",
    "plot_support_2d(supports_brute, experiment.p)\n",
    "#fig.savefig('/Users/samsonkoelle/ols_supportsssssssss')\n"
   ]
  },
  {
   "cell_type": "code",
   "execution_count": null,
   "metadata": {
    "collapsed": true
   },
   "outputs": [],
   "source": []
  },
  {
   "cell_type": "code",
   "execution_count": null,
   "metadata": {
    "collapsed": true
   },
   "outputs": [],
   "source": []
  },
  {
   "cell_type": "code",
   "execution_count": null,
   "metadata": {
    "collapsed": true
   },
   "outputs": [],
   "source": []
  },
  {
   "cell_type": "code",
   "execution_count": 178,
   "metadata": {},
   "outputs": [
    {
     "name": "stdout",
     "output_type": "stream",
     "text": [
      "0\n",
      "1\n",
      "2\n",
      "3\n",
      "4\n",
      "5\n",
      "6\n",
      "7\n",
      "8\n",
      "9\n",
      "10\n",
      "11\n",
      "12\n",
      "13\n",
      "14\n",
      "15\n",
      "16\n",
      "17\n",
      "18\n",
      "19\n",
      "20\n",
      "21\n",
      "22\n",
      "23\n",
      "24\n"
     ]
    }
   ],
   "source": [
    "with open('/Users/samsonkoelle/manifoldflasso_jmlr/Figures/rigidethanol/dim2May_31_2020_14_16_42n10000nsel100nreps25/replicatesrigidethanol_032520.pkl' ,\n",
    "         'rb') as loader:\n",
    "     replicates = pickle.load(loader)\n",
    "supports = {}\n",
    "for i in range(nreps):\n",
    "    print(i)\n",
    "    supports[i] = get_support(replicates[i].coeffs, dim)\n",
    "#fig, ax = plt.figure(figsize=(15 , 15 ))"
   ]
  },
  {
   "cell_type": "code",
   "execution_count": 179,
   "metadata": {},
   "outputs": [
    {
     "data": {
      "text/plain": [
       "array([[[[-7.70195425e-02, -1.23959240e-02,  1.85640492e-02, ...,\n",
       "          -6.31902981e+00,  6.35005522e+00, -6.15308714e+00],\n",
       "         [ 1.75375617e+00, -1.60243309e+00, -1.61257613e+00, ...,\n",
       "           1.19241154e+00,  1.20859313e+00, -1.16748071e+00],\n",
       "         [-1.79010737e+00,  1.64757442e+00, -1.65506709e+00, ...,\n",
       "          -3.38915169e-01,  3.43757898e-01, -3.36514533e-01],\n",
       "         ...,\n",
       "         [ 2.93027908e-01, -2.58217514e-01,  2.58242995e-01, ...,\n",
       "          -5.82515001e+00, -5.89127398e+00,  5.70535803e+00],\n",
       "         [-1.85400844e+00, -1.70453465e+00,  1.71353412e+00, ...,\n",
       "          -3.89088452e-01, -3.97244126e-01,  3.77334565e-01],\n",
       "         [ 1.64650571e+00, -1.49023986e+00,  1.49476278e+00, ...,\n",
       "          -1.67127955e+00, -1.69498408e+00,  1.64004791e+00]],\n",
       "\n",
       "        [[ 1.43978250e+00, -1.31098509e+00,  1.31464899e+00, ...,\n",
       "           9.63287279e-02, -8.40232372e-02,  7.39055574e-02],\n",
       "         [-3.61036807e-01,  3.42587292e-01,  3.42681199e-01, ...,\n",
       "           4.12385225e+00,  4.13016653e+00, -4.04809475e+00],\n",
       "         [-1.63460568e-01,  7.05755427e-02, -6.88326433e-02, ...,\n",
       "           2.67004466e+00, -2.65380669e+00,  2.61936760e+00],\n",
       "         ...,\n",
       "         [ 1.85863650e+00, -1.68954015e+00,  1.69751072e+00, ...,\n",
       "           6.30527794e-01,  6.30750299e-01, -6.18057609e-01],\n",
       "         [-1.33334458e-01, -2.19423790e-02,  2.04953179e-02, ...,\n",
       "           2.93945336e+00,  2.95908308e+00, -2.84251165e+00],\n",
       "         [ 7.49868333e-01, -6.81824565e-01,  6.85690403e-01, ...,\n",
       "           4.34620047e+00,  4.35562944e+00, -4.26216269e+00]]],\n",
       "\n",
       "\n",
       "       [[[-6.14099205e-02,  9.74988006e-03, -6.34711003e-03, ...,\n",
       "          -6.29368114e+00,  6.44971371e+00, -6.07921028e+00],\n",
       "         [ 1.85250020e+00, -1.64598048e+00, -1.65821469e+00, ...,\n",
       "           1.19702196e+00,  1.21744204e+00, -1.15241289e+00],\n",
       "         [-1.89536428e+00,  1.68957078e+00, -1.70266008e+00, ...,\n",
       "          -3.44664574e-01,  3.54189813e-01, -3.36600840e-01],\n",
       "         ...,\n",
       "         [ 3.12254101e-01, -2.70736575e-01,  2.72129893e-01, ...,\n",
       "          -5.82605219e+00, -5.97539091e+00,  5.61896706e+00],\n",
       "         [-1.95686829e+00, -1.74864352e+00,  1.76305544e+00, ...,\n",
       "          -3.94825667e-01, -4.07767683e-01,  3.77256304e-01],\n",
       "         [ 1.73520684e+00, -1.52942932e+00,  1.54152095e+00, ...,\n",
       "          -1.67332304e+00, -1.71477306e+00,  1.61750412e+00]],\n",
       "\n",
       "        [[ 1.53654349e+00, -1.35730004e+00,  1.36616921e+00, ...,\n",
       "           9.82565731e-02, -8.20040479e-02,  6.71790242e-02],\n",
       "         [-3.84928972e-01,  3.48884553e-01,  3.51201355e-01, ...,\n",
       "           4.11771965e+00,  4.19875622e+00, -3.98570871e+00],\n",
       "         [-1.42190948e-01,  8.33285749e-02, -8.27936754e-02, ...,\n",
       "           2.66414714e+00, -2.69415450e+00,  2.58847260e+00],\n",
       "         ...,\n",
       "         [ 1.96347690e+00, -1.73407030e+00,  1.74739516e+00, ...,\n",
       "           6.28255367e-01,  6.40180051e-01, -6.10955417e-01],\n",
       "         [-1.09221399e-01, -4.27815169e-02,  4.21447046e-02, ...,\n",
       "           2.94058275e+00,  3.00146627e+00, -2.80420542e+00],\n",
       "         [ 7.92873383e-01, -7.01875985e-01,  7.07580090e-01, ...,\n",
       "           4.33273363e+00,  4.42920923e+00, -4.20180559e+00]]],\n",
       "\n",
       "\n",
       "       [[[-5.58527671e-02,  2.57116649e-02, -2.44839489e-02, ...,\n",
       "          -6.30951738e+00,  6.61233330e+00, -5.89814329e+00],\n",
       "         [ 2.06606984e+00, -1.66486251e+00, -1.68515480e+00, ...,\n",
       "           1.19473040e+00,  1.25248015e+00, -1.11646819e+00],\n",
       "         [-2.11505103e+00,  1.70591676e+00, -1.72698712e+00, ...,\n",
       "          -3.55193943e-01,  3.75014961e-01, -3.36955488e-01],\n",
       "         ...,\n",
       "         [ 3.48204315e-01, -2.77221322e-01,  2.80428350e-01, ...,\n",
       "          -5.84470654e+00, -6.11739492e+00,  5.45527077e+00],\n",
       "         [-2.18812609e+00, -1.76539493e+00,  1.78810024e+00, ...,\n",
       "          -4.06042278e-01, -4.31582361e-01,  3.76296759e-01],\n",
       "         [ 1.93550909e+00, -1.54551375e+00,  1.56570959e+00, ...,\n",
       "          -1.68002868e+00, -1.75914192e+00,  1.56513214e+00]],\n",
       "\n",
       "        [[ 1.73328841e+00, -1.39032805e+00,  1.40584266e+00, ...,\n",
       "           1.00868762e-01, -7.82541484e-02,  5.44370748e-02],\n",
       "         [-4.32021350e-01,  3.51103663e-01,  3.55447471e-01, ...,\n",
       "           4.13894272e+00,  4.29901648e+00, -3.86411047e+00],\n",
       "         [-1.38689071e-01,  9.26624164e-02, -9.32770371e-02, ...,\n",
       "           2.67000604e+00, -2.77200603e+00,  2.50566483e+00],\n",
       "         ...,\n",
       "         [ 2.19124079e+00, -1.75273323e+00,  1.77469957e+00, ...,\n",
       "           6.30034804e-01,  6.57855690e-01, -5.91934204e-01],\n",
       "         [-1.01072125e-01, -5.77686653e-02,  5.80089167e-02, ...,\n",
       "           2.93951297e+00,  3.07851839e+00, -2.72979784e+00],\n",
       "         [ 8.86998653e-01, -7.09533989e-01,  7.18687773e-01, ...,\n",
       "           4.36040211e+00,  4.53729534e+00, -4.06529188e+00]]],\n",
       "\n",
       "\n",
       "       ...,\n",
       "\n",
       "\n",
       "       [[[-2.15791836e-01,  0.00000000e+00,  0.00000000e+00, ...,\n",
       "          -1.14611645e+01,  2.43803358e+00,  0.00000000e+00],\n",
       "         [ 1.08453436e+01,  0.00000000e+00,  0.00000000e+00, ...,\n",
       "           2.39334369e+00,  5.09907067e-01,  0.00000000e+00],\n",
       "         [-1.10932188e+01,  0.00000000e+00,  0.00000000e+00, ...,\n",
       "          -1.05035353e+00,  2.24802539e-01,  0.00000000e+00],\n",
       "         ...,\n",
       "         [ 1.68874121e+00,  0.00000000e+00,  0.00000000e+00, ...,\n",
       "          -1.09719133e+01, -2.33062005e+00,  0.00000000e+00],\n",
       "         [-1.13499174e+01,  0.00000000e+00,  0.00000000e+00, ...,\n",
       "          -1.09233677e+00, -2.35585287e-01,  0.00000000e+00],\n",
       "         [ 1.02322483e+01,  0.00000000e+00,  0.00000000e+00, ...,\n",
       "          -3.53689885e+00, -7.55586624e-01,  0.00000000e+00]],\n",
       "\n",
       "        [[ 1.33826437e+01,  0.00000000e+00,  0.00000000e+00, ...,\n",
       "          -3.35347764e-02,  2.31023543e-02,  0.00000000e+00],\n",
       "         [-2.39422345e+00,  0.00000000e+00,  0.00000000e+00, ...,\n",
       "           8.74325657e+00,  1.86190474e+00,  0.00000000e+00],\n",
       "         [-7.40428269e-01,  0.00000000e+00,  0.00000000e+00, ...,\n",
       "           6.13955593e+00, -1.30246413e+00,  0.00000000e+00],\n",
       "         ...,\n",
       "         [ 1.14641514e+01,  0.00000000e+00,  0.00000000e+00, ...,\n",
       "           1.28096890e+00,  2.70375639e-01,  0.00000000e+00],\n",
       "         [-5.71409583e-01,  0.00000000e+00,  0.00000000e+00, ...,\n",
       "           6.66337967e+00,  1.42108595e+00,  0.00000000e+00],\n",
       "         [ 4.57406855e+00,  0.00000000e+00,  0.00000000e+00, ...,\n",
       "           8.92361259e+00,  1.90093994e+00,  0.00000000e+00]]],\n",
       "\n",
       "\n",
       "       [[[-9.08647403e-02,  0.00000000e+00,  0.00000000e+00, ...,\n",
       "          -9.45923233e+00,  0.00000000e+00,  0.00000000e+00],\n",
       "         [ 8.67314053e+00,  0.00000000e+00,  0.00000000e+00, ...,\n",
       "           2.21535921e+00,  0.00000000e+00,  0.00000000e+00],\n",
       "         [-8.87954044e+00,  0.00000000e+00,  0.00000000e+00, ...,\n",
       "          -9.98179317e-01,  0.00000000e+00,  0.00000000e+00],\n",
       "         ...,\n",
       "         [ 1.22015631e+00,  0.00000000e+00,  0.00000000e+00, ...,\n",
       "          -9.35494041e+00,  0.00000000e+00,  0.00000000e+00],\n",
       "         [-8.97868443e+00,  0.00000000e+00,  0.00000000e+00, ...,\n",
       "          -9.88574386e-01,  0.00000000e+00,  0.00000000e+00],\n",
       "         [ 8.21445942e+00,  0.00000000e+00,  0.00000000e+00, ...,\n",
       "          -3.41338754e+00,  0.00000000e+00,  0.00000000e+00]],\n",
       "\n",
       "        [[ 9.47190857e+00,  0.00000000e+00,  0.00000000e+00, ...,\n",
       "          -8.64118636e-02,  0.00000000e+00,  0.00000000e+00],\n",
       "         [-2.03083110e+00,  0.00000000e+00,  0.00000000e+00, ...,\n",
       "           8.48898983e+00,  0.00000000e+00,  0.00000000e+00],\n",
       "         [-7.00800955e-01,  0.00000000e+00,  0.00000000e+00, ...,\n",
       "           6.71444750e+00,  0.00000000e+00,  0.00000000e+00],\n",
       "         ...,\n",
       "         [ 9.00901413e+00,  0.00000000e+00,  0.00000000e+00, ...,\n",
       "           1.17833364e+00,  0.00000000e+00,  0.00000000e+00],\n",
       "         [-5.93748808e-01,  0.00000000e+00,  0.00000000e+00, ...,\n",
       "           7.16295242e+00,  0.00000000e+00,  0.00000000e+00],\n",
       "         [ 3.55183220e+00,  0.00000000e+00,  0.00000000e+00, ...,\n",
       "           8.34597015e+00,  0.00000000e+00,  0.00000000e+00]]],\n",
       "\n",
       "\n",
       "       [[[-2.98059173e-03,  0.00000000e+00,  0.00000000e+00, ...,\n",
       "          -2.88671684e+00,  0.00000000e+00,  0.00000000e+00],\n",
       "         [ 4.20271015e+00,  0.00000000e+00,  0.00000000e+00, ...,\n",
       "           8.23577404e-01,  0.00000000e+00,  0.00000000e+00],\n",
       "         [-4.30696440e+00,  0.00000000e+00,  0.00000000e+00, ...,\n",
       "          -4.06811893e-01,  0.00000000e+00,  0.00000000e+00],\n",
       "         ...,\n",
       "         [ 4.89739418e-01,  0.00000000e+00,  0.00000000e+00, ...,\n",
       "          -2.99895144e+00,  0.00000000e+00,  0.00000000e+00],\n",
       "         [-4.25754166e+00,  0.00000000e+00,  0.00000000e+00, ...,\n",
       "          -3.41861367e-01,  0.00000000e+00,  0.00000000e+00],\n",
       "         [ 4.01362467e+00,  0.00000000e+00,  0.00000000e+00, ...,\n",
       "          -1.38170624e+00,  0.00000000e+00,  0.00000000e+00]],\n",
       "\n",
       "        [[ 3.70989132e+00,  0.00000000e+00,  0.00000000e+00, ...,\n",
       "          -4.88531664e-02,  0.00000000e+00,  0.00000000e+00],\n",
       "         [-1.11213648e+00,  0.00000000e+00,  0.00000000e+00, ...,\n",
       "           3.50604343e+00,  0.00000000e+00,  0.00000000e+00],\n",
       "         [-5.41144609e-01,  0.00000000e+00,  0.00000000e+00, ...,\n",
       "           3.97366548e+00,  0.00000000e+00,  0.00000000e+00],\n",
       "         ...,\n",
       "         [ 4.21512604e+00,  0.00000000e+00,  0.00000000e+00, ...,\n",
       "           4.31715816e-01,  0.00000000e+00,  0.00000000e+00],\n",
       "         [-5.17781556e-01,  0.00000000e+00,  0.00000000e+00, ...,\n",
       "           3.96052647e+00,  0.00000000e+00,  0.00000000e+00],\n",
       "         [ 1.61598456e+00,  0.00000000e+00,  0.00000000e+00, ...,\n",
       "           3.17887521e+00,  0.00000000e+00,  0.00000000e+00]]]])"
      ]
     },
     "execution_count": 179,
     "metadata": {},
     "output_type": "execute_result"
    }
   ],
   "source": [
    "replicates[i].coeffs"
   ]
  },
  {
   "cell_type": "code",
   "execution_count": 174,
   "metadata": {},
   "outputs": [
    {
     "data": {
      "image/png": "[encoded data removed]",
      "text/plain": [
       "<Figure size 432x288 with 2 Axes>"
      ]
     },
     "metadata": {
      "needs_background": "light"
     },
     "output_type": "display_data"
    }
   ],
   "source": [
    "plot_support_2d(supports, p)"
   ]
  },
  {
   "cell_type": "code",
   "execution_count": 175,
   "metadata": {},
   "outputs": [
    {
     "data": {
      "text/plain": [
       "{0: array([6, 9]),\n",
       " 1: array([3, 9]),\n",
       " 2: array([3, 9]),\n",
       " 3: array([0, 9]),\n",
       " 4: array([3, 6]),\n",
       " 5: array([3, 9]),\n",
       " 6: array([3, 6]),\n",
       " 7: array([0, 9]),\n",
       " 8: array([0, 9]),\n",
       " 9: array([0, 9]),\n",
       " 10: array([0, 9]),\n",
       " 11: array([0, 9]),\n",
       " 12: array([6, 9]),\n",
       " 13: array([0, 9]),\n",
       " 14: array([6, 9]),\n",
       " 15: array([6, 9]),\n",
       " 16: array([0, 9]),\n",
       " 17: array([6, 9]),\n",
       " 18: array([0, 9]),\n",
       " 19: array([0, 9]),\n",
       " 20: nan,\n",
       " 21: array([6, 9]),\n",
       " 22: array([6, 9]),\n",
       " 23: array([6, 9]),\n",
       " 24: array([0, 9])}"
      ]
     },
     "execution_count": 175,
     "metadata": {},
     "output_type": "execute_result"
    }
   ],
   "source": [
    "supports"
   ]
  },
  {
   "cell_type": "code",
   "execution_count": 156,
   "metadata": {
    "collapsed": true
   },
   "outputs": [],
   "source": [
    "\n",
    "\n",
    "def get_penalty(coeffs):\n",
    "    pen = np.sum(np.linalg.norm(coeffs, axis=1))\n",
    "    return (pen)\n",
    "\n",
    "\n",
    "def cosine_similarity(a, b):\n",
    "    output = np.dot(a, b) / (np.linalg.norm(a) * np.linalg.norm(b))\n",
    "    return (output)\n",
    "\n",
    "\n",
    "# def get_cosines(self, dg):\n",
    "def get_cosines(dg):\n",
    "    n = dg.shape[0]\n",
    "    p = dg.shape[1]\n",
    "    d = dg.shape[2]\n",
    "\n",
    "    coses = np.zeros((n, p, p))\n",
    "    for i in range(n):\n",
    "        for j in range(p):\n",
    "            for k in range(p):\n",
    "                coses[i, j, k] = cosine_similarity(dg[i, j, :], dg[i, k,\n",
    "                                                                :])  # sklearn.metrics.pairwise.cosine_similarity(X = np.reshape(dg[:,i,:], (1,d*n)),Y = np.reshape(dg[:,j,:], (1,d*n)))[0][0]\n",
    "    # cos_summary = np.abs(coses).sum(axis = 0) / n\n",
    "    cos_summary = np.sum(coses ** 2, axis=0) / n\n",
    "    return (cos_summary)\n"
   ]
  },
  {
   "cell_type": "code",
   "execution_count": 157,
   "metadata": {},
   "outputs": [
    {
     "name": "stderr",
     "output_type": "stream",
     "text": [
      "/Users/samsonkoelle/anaconda3/envs/manifold_env_april/lib/python3.5/site-packages/ipykernel_launcher.py:14: UserWarning: matplotlib.pyplot as already been imported, this call will have no effect.\n",
      "  \n"
     ]
    }
   ],
   "source": [
    "\n",
    "\n",
    "#rootdirectory = '/Users/samsonkoelle/Downloads/manigrad-100818/mani-samk-gradients'\n",
    "#f = open(rootdirectory + '/code/source/packagecontrol.py')\n",
    "#source = f.read()\n",
    "#exec(source)\n",
    "#f = open(rootdirectory + '/code/source/sourcecontrol.py')\n",
    "#source = f.read()\n",
    "#exec(source)\n",
    "#f = open(rootdirectory + '/code/source/RigidEthanol.py')\n",
    "#source = f.read()\n",
    "#exec(source)\n",
    "import matplotlib\n",
    "matplotlib.use('Agg')\n",
    "import os\n",
    "import datetime\n",
    "import numpy as np\n",
    "import dill as pickle\n",
    "import random\n",
    "import sys\n",
    "np.random.seed(0)\n",
    "random.seed(0)\n",
    "now = datetime.datetime.now().strftime(\"%B_%d_%Y_%H_%M_%S\")\n",
    "workingdirectory = os.popen('git rev-parse --show-toplevel').read()[:-1]\n",
    "sys.path.append(workingdirectory)\n",
    "os.chdir(workingdirectory)\n",
    "#print(os.getcwd())\n",
    "from codes.experimentclasses.RigidEthanolPCA import RigidEthanolPCA\n",
    "from codes.otherfunctions.multirun import get_coeffs_reps_tangent\n",
    "from codes.otherfunctions.multirun import get_grads_reps_pca2_tangent\n",
    "from codes.otherfunctions.multiplot import plot_reg_path_ax_lambdasearch_tangent\n",
    "from codes.otherfunctions.get_dictionaries import get_atoms_4\n",
    "from codes.flasso.Replicate import Replicate\n",
    "from codes.otherfunctions.get_grads_tangent import get_grads_tangent\n",
    "from codes.otherfunctions.multirun import get_support_recovery_lambda\n",
    "from codes.otherfunctions.multirun import get_lower_interesting_lambda\n",
    "import matplotlib.pyplot as plt\n",
    "from codes.otherfunctions.multirun import get_coeffs_and_lambdas\n",
    "from codes.geometer.RiemannianManifold import RiemannianManifold\n",
    "from collections import Counter\n",
    "\n",
    "#set parameters\n",
    "n = 10000 #number of data points to simulate\n",
    "nsel = 100 #number of points to analyze with lasso\n",
    "itermax = 1000 #maximum iterations per lasso run\n",
    "tol = 1e-10 #convergence criteria for lasso\n",
    "#lambdas = np.asarray([0,.01,.1,1,10,100], dtype = np.float16)#lambda values for lasso\n",
    "#lambdas = np.asarray(np.hstack([np.asarray([0]),np.logspace(-3,1,11)]), dtype = np.float16)\n",
    "#lambdas = np.asarray(np.hstack([np.asarray([0]),np.logspace(-3,0,7), np.logspace(0,2,5),np.logspace(2,3,2)]), dtype = np.float16)\n",
    "lambdas = np.asarray(np.hstack([np.asarray([0]),np.logspace(-2,1,15)]), dtype = np.float16)\n",
    "n_neighbors = 1000 #number of neighbors in megaman\n",
    "n_components = 3 #number of embedding dimensions (diffusion maps)\n",
    "#diffusion_time = 1. #diffusion time controls gaussian kernel radius per gradients paper\n",
    "#diffusion_time =.05 #(yuchia suggestion)\n",
    "diffusion_time =.25 #(yuchia suggestion)\n",
    "dim = 2 #manifold dimension\n",
    "dimnoise = 2\n",
    "cores = 3 #number of cores for parallel processing\n",
    "cor = 0.0 #correlation for noise\n",
    "var = 0.00001 #variance scaler for noise\n",
    "ii = np.asarray([0,0,0,0,1,1,1,2]) # atom adjacencies for dihedral angle computation\n",
    "jj = np.asarray([1,2,3,4,5,6,7,8])\n",
    "\n",
    "#run experiment\n",
    "atoms4 = np.asarray([[6,1,0,4],[4,0,2,8],[7,6,5,1],[3,0,2,4]],dtype = int)\n",
    "\n",
    "m = 3\n",
    "new_MN = True\n",
    "new_grad = True\n",
    "savename = 'rigidethanol_032520'\n",
    "savefolder = 'rigidethanol'\n",
    "loadfolder = 'rigidethanol'\n",
    "loadname = 'rigidethanol_032520'\n",
    "nreps = 25\n",
    "atoms4,p = get_atoms_4(9,ii,jj)\n",
    "folder = workingdirectory + '/Figures/rigidethanol/' + now + 'n' + str(n) + 'nsel' + str(nsel) + 'nreps' + str(nreps)\n",
    "os.mkdir(folder)\n",
    "\n",
    "if new_MN == True:\n",
    "    experiment = RigidEthanolPCA(dim, cor,var,ii,jj, cores, False, atoms4)"
   ]
  },
  {
   "cell_type": "code",
   "execution_count": 158,
   "metadata": {
    "collapsed": true
   },
   "outputs": [],
   "source": [
    "\n",
    "def highlight_cell(x,y, ax=None, **kwargs):\n",
    "    rect = plt.Rectangle((x-.5, y-.5), 1,1, fill=False, **kwargs)\n",
    "    ax = ax or plt.gca()\n",
    "    ax.add_patch(rect)\n",
    "    return rect"
   ]
  },
  {
   "cell_type": "code",
   "execution_count": 159,
   "metadata": {
    "collapsed": true
   },
   "outputs": [],
   "source": [
    "experiment.dnoise = 2\n",
    "experiment.nreps = 25\n",
    "experiment.nsel = 100\n",
    "from itertools import combinations\n",
    "experiment.q = 2"
   ]
  },
  {
   "cell_type": "code",
   "execution_count": 160,
   "metadata": {},
   "outputs": [
    {
     "name": "stderr",
     "output_type": "stream",
     "text": [
      "/Users/samsonkoelle/anaconda3/envs/manifold_env_april/lib/python3.5/site-packages/ipykernel_launcher.py:19: FutureWarning: `rcond` parameter will change to the default of machine precision times ``max(M, N)`` where M and N are the input matrix dimensions.\n",
      "To use the future default and silence this warning we advise to pass `rcond=None`, to keep using the old, explicitly pass `rcond=-1`.\n",
      "/Users/samsonkoelle/anaconda3/envs/manifold_env_april/lib/python3.5/site-packages/ipykernel_launcher.py:16: RuntimeWarning: divide by zero encountered in log\n",
      "  app.launch_new_instance()\n"
     ]
    },
    {
     "ename": "TypeError",
     "evalue": "'Figure' object is not iterable",
     "output_type": "error",
     "traceback": [
      "\u001b[0;31m---------------------------------------------------------------------------\u001b[0m",
      "\u001b[0;31mTypeError\u001b[0m                                 Traceback (most recent call last)",
      "\u001b[0;32m<ipython-input-160-1294745c44ab>\u001b[0m in \u001b[0;36m<module>\u001b[0;34m()\u001b[0m\n\u001b[1;32m     19\u001b[0m \u001b[0mfig\u001b[0m\u001b[0;34m.\u001b[0m\u001b[0msavefig\u001b[0m\u001b[0;34m(\u001b[0m\u001b[0;34m'/Users/samsonkoelle/olsnormssssss'\u001b[0m\u001b[0;34m)\u001b[0m\u001b[0;34m\u001b[0m\u001b[0m\n\u001b[1;32m     20\u001b[0m \u001b[0;34m\u001b[0m\u001b[0m\n\u001b[0;32m---> 21\u001b[0;31m \u001b[0mfig\u001b[0m\u001b[0;34m,\u001b[0m \u001b[0max\u001b[0m \u001b[0;34m=\u001b[0m \u001b[0mplt\u001b[0m\u001b[0;34m.\u001b[0m\u001b[0mfigure\u001b[0m\u001b[0;34m(\u001b[0m\u001b[0mfigsize\u001b[0m\u001b[0;34m=\u001b[0m\u001b[0;34m(\u001b[0m\u001b[0;36m15\u001b[0m \u001b[0;34m,\u001b[0m \u001b[0;36m15\u001b[0m \u001b[0;34m)\u001b[0m\u001b[0;34m)\u001b[0m\u001b[0;34m\u001b[0m\u001b[0m\n\u001b[0m\u001b[1;32m     22\u001b[0m \u001b[0mplot_support_2d\u001b[0m\u001b[0;34m(\u001b[0m\u001b[0msupports_brute\u001b[0m\u001b[0;34m,\u001b[0m \u001b[0mexperiment\u001b[0m\u001b[0;34m.\u001b[0m\u001b[0mp\u001b[0m\u001b[0;34m)\u001b[0m\u001b[0;34m\u001b[0m\u001b[0m\n\u001b[1;32m     23\u001b[0m \u001b[0mfig\u001b[0m\u001b[0;34m.\u001b[0m\u001b[0msavefig\u001b[0m\u001b[0;34m(\u001b[0m\u001b[0;34m'/Users/samsonkoelle/ols_supportsssssssss'\u001b[0m\u001b[0;34m)\u001b[0m\u001b[0;34m\u001b[0m\u001b[0m\n",
      "\u001b[0;31mTypeError\u001b[0m: 'Figure' object is not iterable"
     ]
    },
    {
     "data": {
      "image/png": "[encoded data removed]",
      "text/plain": [
       "<Figure size 27000x1080 with 25 Axes>"
      ]
     },
     "metadata": {
      "needs_background": "light"
     },
     "output_type": "display_data"
    },
    {
     "data": {
      "image/png": "[encoded data removed]",
      "text/plain": [
       "<Figure size 27000x1080 with 25 Axes>"
      ]
     },
     "metadata": {
      "needs_background": "light"
     },
     "output_type": "display_data"
    },
    {
     "data": {
      "text/plain": [
       "<Figure size 1080x1080 with 0 Axes>"
      ]
     },
     "metadata": {},
     "output_type": "display_data"
    }
   ],
   "source": [
    "\n",
    "fig, axes_all = plt.subplots(nreps,figsize=(15*nreps,15))\n",
    "fig.suptitle('Cosines for each replicate')\n",
    "for i in range(nreps):\n",
    "    full = np.concatenate([replicates[i].dg_M, np.swapaxes(replicates[i].df_M,1,2)],1)\n",
    "    asdf = get_cosines(full)\n",
    "    axes_all[i].imshow(asdf)\n",
    "fig.savefig('/Users/samsonkoelle/cosinesssss')\n",
    "\n",
    "ols_norm, supports_brute = get_olsnorm_and_supportsbrute(experiment,replicates)\n",
    "\n",
    "\n",
    "fig, axes_all = plt.subplots(nreps,figsize=(15*nreps,15))\n",
    "fig.suptitle('GL norm for different OLS solutions')\n",
    "for r in range(nreps):\n",
    "    axes_all[r].imshow(np.log(ols_norm[r]))\n",
    "    highlight_cell(supports_brute[r][1],supports_brute[r][0],color=\"limegreen\", linewidth=3,ax=axes_all[r])\n",
    "    highlight_cell(supports_brute[r][0],supports_brute[r][1],color=\"limegreen\", linewidth=3,ax=axes_all[r])\n",
    "fig.savefig('/Users/samsonkoelle/olsnormssssss')\n",
    "\n",
    "fig, ax = plt.figure(figsize=(15 , 15 ))\n",
    "plot_support_2d(supports_brute, experiment.p)\n",
    "fig.savefig('/Users/samsonkoelle/ols_supportsssssssss')\n"
   ]
  },
  {
   "cell_type": "code",
   "execution_count": null,
   "metadata": {
    "collapsed": true
   },
   "outputs": [],
   "source": [
    "\n",
    "def get_olsnorm_and_supportsbrute(experiment, replicates):\n",
    "    dim = experiment.dim\n",
    "    dnoise = experiment.dnoise\n",
    "    nreps = experiment.nreps\n",
    "    nsel = experiment.nsel\n",
    "    p = experiment.p\n",
    "\n",
    "    parameterizations_possible = np.asarray(list(combinations(range(experiment.p), dnoise)))\n",
    "    nparameterizations_possible = parameterizations_possible.shape[0]\n",
    "    supports_brute = {}\n",
    "    penalties = np.zeros((nreps, nparameterizations_possible))\n",
    "    ols_norm = np.zeros((nreps, p, p))\n",
    "    for r in range(nreps):\n",
    "        brute_coeffs = np.zeros((nsel, nparameterizations_possible, experiment.dim, experiment.q))\n",
    "        orthogonality = np.zeros((nsel, nparameterizations_possible))\n",
    "        for i in range(nsel):\n",
    "            for j in range(nparameterizations_possible):\n",
    "                brute_coeffs[i, j] = np.linalg.lstsq(replicates[r].dg_M[i, parameterizations_possible[j], :], replicates[r].df_M[i])[0]\n",
    "                # orthogonality[i,j] = get_penalty(brute_coeffs[i,j])\n",
    "        for j in range(nparameterizations_possible):\n",
    "            penalties[r, j] = experiment.compute_penalty2(np.expand_dims(brute_coeffs[:, j], 0))\n",
    "        for j in range(nparameterizations_possible):\n",
    "            ols_norm[r, parameterizations_possible[j][0], parameterizations_possible[j][1]] = penalties[r, j]\n",
    "            ols_norm[r, parameterizations_possible[j][1], parameterizations_possible[j][0]] = penalties[r, j]\n",
    "        supports_brute[r] = parameterizations_possible[penalties[r, :].argmin()]\n",
    "    return (ols_norm, supports_brute)\n"
   ]
  },
  {
   "cell_type": "code",
   "execution_count": 161,
   "metadata": {},
   "outputs": [
    {
     "data": {
      "image/png": "[encoded data removed]",
      "text/plain": [
       "<Figure size 432x288 with 2 Axes>"
      ]
     },
     "metadata": {
      "needs_background": "light"
     },
     "output_type": "display_data"
    }
   ],
   "source": [
    "#fig, ax = plt.figure(figsize=(15 , 15 ))\n",
    "plot_support_2d(supports_brute, experiment.p)\n",
    "#fig.savefig('/Users/samsonkoelle/ols_supportsssssssss')\n"
   ]
  },
  {
   "cell_type": "code",
   "execution_count": 176,
   "metadata": {},
   "outputs": [
    {
     "name": "stdout",
     "output_type": "stream",
     "text": [
      "0\n",
      "1\n",
      "2\n",
      "3\n",
      "4\n",
      "5\n",
      "6\n",
      "7\n",
      "8\n",
      "9\n",
      "10\n",
      "11\n",
      "12\n",
      "13\n",
      "14\n",
      "15\n",
      "16\n",
      "17\n",
      "18\n",
      "19\n",
      "20\n",
      "21\n",
      "22\n",
      "23\n",
      "24\n"
     ]
    }
   ],
   "source": [
    "with open('/Users/samsonkoelle/manifoldflasso_jmlr/Figures/rigidethanol/dim2p0001May_31_2020_20_07_36n10000nsel100nreps25/replicatesrigidethanol_032520_2_p0001.pkl' ,\n",
    "         'rb') as loader:\n",
    "     replicates = pickle.load(loader)\n",
    "supports = {}\n",
    "for i in range(nreps):\n",
    "    print(i)\n",
    "    supports[i] = get_support(replicates[i].coeffs, dim)\n",
    "#fig, ax = plt.figure(figsize=(15 , 15 ))"
   ]
  },
  {
   "cell_type": "code",
   "execution_count": 171,
   "metadata": {},
   "outputs": [
    {
     "data": {
      "image/png": "[encoded data removed]",
      "text/plain": [
       "<Figure size 432x288 with 2 Axes>"
      ]
     },
     "metadata": {
      "needs_background": "light"
     },
     "output_type": "display_data"
    }
   ],
   "source": [
    "plot_support_2d(supports, p)"
   ]
  },
  {
   "cell_type": "code",
   "execution_count": 172,
   "metadata": {},
   "outputs": [
    {
     "data": {
      "text/plain": [
       "{0: array([6, 9]),\n",
       " 1: array([3, 9]),\n",
       " 2: array([3, 9]),\n",
       " 3: array([0, 9]),\n",
       " 4: array([3, 6]),\n",
       " 5: array([3, 9]),\n",
       " 6: array([3, 6]),\n",
       " 7: array([0, 9]),\n",
       " 8: array([0, 9]),\n",
       " 9: array([0, 9]),\n",
       " 10: array([0, 9]),\n",
       " 11: array([0, 9]),\n",
       " 12: array([6, 9]),\n",
       " 13: array([0, 9]),\n",
       " 14: array([6, 9]),\n",
       " 15: array([6, 9]),\n",
       " 16: array([0, 9]),\n",
       " 17: array([6, 9]),\n",
       " 18: array([0, 9]),\n",
       " 19: array([0, 9]),\n",
       " 20: nan,\n",
       " 21: array([6, 9]),\n",
       " 22: array([6, 9]),\n",
       " 23: array([6, 9]),\n",
       " 24: array([0, 9])}"
      ]
     },
     "execution_count": 172,
     "metadata": {},
     "output_type": "execute_result"
    }
   ],
   "source": [
    "supports"
   ]
  },
  {
   "cell_type": "code",
   "execution_count": 177,
   "metadata": {},
   "outputs": [
    {
     "data": {
      "text/plain": [
       "array([[[[-7.70195425e-02, -1.23959240e-02,  1.85640492e-02, ...,\n",
       "          -6.31902981e+00,  6.35005522e+00, -6.15308714e+00],\n",
       "         [ 1.75375617e+00, -1.60243309e+00, -1.61257613e+00, ...,\n",
       "           1.19241154e+00,  1.20859313e+00, -1.16748071e+00],\n",
       "         [-1.79010737e+00,  1.64757442e+00, -1.65506709e+00, ...,\n",
       "          -3.38915169e-01,  3.43757898e-01, -3.36514533e-01],\n",
       "         ...,\n",
       "         [ 2.93027908e-01, -2.58217514e-01,  2.58242995e-01, ...,\n",
       "          -5.82515001e+00, -5.89127398e+00,  5.70535803e+00],\n",
       "         [-1.85400844e+00, -1.70453465e+00,  1.71353412e+00, ...,\n",
       "          -3.89088452e-01, -3.97244126e-01,  3.77334565e-01],\n",
       "         [ 1.64650571e+00, -1.49023986e+00,  1.49476278e+00, ...,\n",
       "          -1.67127955e+00, -1.69498408e+00,  1.64004791e+00]],\n",
       "\n",
       "        [[ 1.43978250e+00, -1.31098509e+00,  1.31464899e+00, ...,\n",
       "           9.63287279e-02, -8.40232372e-02,  7.39055574e-02],\n",
       "         [-3.61036807e-01,  3.42587292e-01,  3.42681199e-01, ...,\n",
       "           4.12385225e+00,  4.13016653e+00, -4.04809475e+00],\n",
       "         [-1.63460568e-01,  7.05755427e-02, -6.88326433e-02, ...,\n",
       "           2.67004466e+00, -2.65380669e+00,  2.61936760e+00],\n",
       "         ...,\n",
       "         [ 1.85863650e+00, -1.68954015e+00,  1.69751072e+00, ...,\n",
       "           6.30527794e-01,  6.30750299e-01, -6.18057609e-01],\n",
       "         [-1.33334458e-01, -2.19423790e-02,  2.04953179e-02, ...,\n",
       "           2.93945336e+00,  2.95908308e+00, -2.84251165e+00],\n",
       "         [ 7.49868333e-01, -6.81824565e-01,  6.85690403e-01, ...,\n",
       "           4.34620047e+00,  4.35562944e+00, -4.26216269e+00]]],\n",
       "\n",
       "\n",
       "       [[[-6.14099205e-02,  9.74988006e-03, -6.34711003e-03, ...,\n",
       "          -6.29368114e+00,  6.44971371e+00, -6.07921028e+00],\n",
       "         [ 1.85250020e+00, -1.64598048e+00, -1.65821469e+00, ...,\n",
       "           1.19702196e+00,  1.21744204e+00, -1.15241289e+00],\n",
       "         [-1.89536428e+00,  1.68957078e+00, -1.70266008e+00, ...,\n",
       "          -3.44664574e-01,  3.54189813e-01, -3.36600840e-01],\n",
       "         ...,\n",
       "         [ 3.12254101e-01, -2.70736575e-01,  2.72129893e-01, ...,\n",
       "          -5.82605219e+00, -5.97539091e+00,  5.61896706e+00],\n",
       "         [-1.95686829e+00, -1.74864352e+00,  1.76305544e+00, ...,\n",
       "          -3.94825667e-01, -4.07767683e-01,  3.77256304e-01],\n",
       "         [ 1.73520684e+00, -1.52942932e+00,  1.54152095e+00, ...,\n",
       "          -1.67332304e+00, -1.71477306e+00,  1.61750412e+00]],\n",
       "\n",
       "        [[ 1.53654349e+00, -1.35730004e+00,  1.36616921e+00, ...,\n",
       "           9.82565731e-02, -8.20040479e-02,  6.71790242e-02],\n",
       "         [-3.84928972e-01,  3.48884553e-01,  3.51201355e-01, ...,\n",
       "           4.11771965e+00,  4.19875622e+00, -3.98570871e+00],\n",
       "         [-1.42190948e-01,  8.33285749e-02, -8.27936754e-02, ...,\n",
       "           2.66414714e+00, -2.69415450e+00,  2.58847260e+00],\n",
       "         ...,\n",
       "         [ 1.96347690e+00, -1.73407030e+00,  1.74739516e+00, ...,\n",
       "           6.28255367e-01,  6.40180051e-01, -6.10955417e-01],\n",
       "         [-1.09221399e-01, -4.27815169e-02,  4.21447046e-02, ...,\n",
       "           2.94058275e+00,  3.00146627e+00, -2.80420542e+00],\n",
       "         [ 7.92873383e-01, -7.01875985e-01,  7.07580090e-01, ...,\n",
       "           4.33273363e+00,  4.42920923e+00, -4.20180559e+00]]],\n",
       "\n",
       "\n",
       "       [[[-5.58527671e-02,  2.57116649e-02, -2.44839489e-02, ...,\n",
       "          -6.30951738e+00,  6.61233330e+00, -5.89814329e+00],\n",
       "         [ 2.06606984e+00, -1.66486251e+00, -1.68515480e+00, ...,\n",
       "           1.19473040e+00,  1.25248015e+00, -1.11646819e+00],\n",
       "         [-2.11505103e+00,  1.70591676e+00, -1.72698712e+00, ...,\n",
       "          -3.55193943e-01,  3.75014961e-01, -3.36955488e-01],\n",
       "         ...,\n",
       "         [ 3.48204315e-01, -2.77221322e-01,  2.80428350e-01, ...,\n",
       "          -5.84470654e+00, -6.11739492e+00,  5.45527077e+00],\n",
       "         [-2.18812609e+00, -1.76539493e+00,  1.78810024e+00, ...,\n",
       "          -4.06042278e-01, -4.31582361e-01,  3.76296759e-01],\n",
       "         [ 1.93550909e+00, -1.54551375e+00,  1.56570959e+00, ...,\n",
       "          -1.68002868e+00, -1.75914192e+00,  1.56513214e+00]],\n",
       "\n",
       "        [[ 1.73328841e+00, -1.39032805e+00,  1.40584266e+00, ...,\n",
       "           1.00868762e-01, -7.82541484e-02,  5.44370748e-02],\n",
       "         [-4.32021350e-01,  3.51103663e-01,  3.55447471e-01, ...,\n",
       "           4.13894272e+00,  4.29901648e+00, -3.86411047e+00],\n",
       "         [-1.38689071e-01,  9.26624164e-02, -9.32770371e-02, ...,\n",
       "           2.67000604e+00, -2.77200603e+00,  2.50566483e+00],\n",
       "         ...,\n",
       "         [ 2.19124079e+00, -1.75273323e+00,  1.77469957e+00, ...,\n",
       "           6.30034804e-01,  6.57855690e-01, -5.91934204e-01],\n",
       "         [-1.01072125e-01, -5.77686653e-02,  5.80089167e-02, ...,\n",
       "           2.93951297e+00,  3.07851839e+00, -2.72979784e+00],\n",
       "         [ 8.86998653e-01, -7.09533989e-01,  7.18687773e-01, ...,\n",
       "           4.36040211e+00,  4.53729534e+00, -4.06529188e+00]]],\n",
       "\n",
       "\n",
       "       ...,\n",
       "\n",
       "\n",
       "       [[[-2.15791836e-01,  0.00000000e+00,  0.00000000e+00, ...,\n",
       "          -1.14611645e+01,  2.43803358e+00,  0.00000000e+00],\n",
       "         [ 1.08453436e+01,  0.00000000e+00,  0.00000000e+00, ...,\n",
       "           2.39334369e+00,  5.09907067e-01,  0.00000000e+00],\n",
       "         [-1.10932188e+01,  0.00000000e+00,  0.00000000e+00, ...,\n",
       "          -1.05035353e+00,  2.24802539e-01,  0.00000000e+00],\n",
       "         ...,\n",
       "         [ 1.68874121e+00,  0.00000000e+00,  0.00000000e+00, ...,\n",
       "          -1.09719133e+01, -2.33062005e+00,  0.00000000e+00],\n",
       "         [-1.13499174e+01,  0.00000000e+00,  0.00000000e+00, ...,\n",
       "          -1.09233677e+00, -2.35585287e-01,  0.00000000e+00],\n",
       "         [ 1.02322483e+01,  0.00000000e+00,  0.00000000e+00, ...,\n",
       "          -3.53689885e+00, -7.55586624e-01,  0.00000000e+00]],\n",
       "\n",
       "        [[ 1.33826437e+01,  0.00000000e+00,  0.00000000e+00, ...,\n",
       "          -3.35347764e-02,  2.31023543e-02,  0.00000000e+00],\n",
       "         [-2.39422345e+00,  0.00000000e+00,  0.00000000e+00, ...,\n",
       "           8.74325657e+00,  1.86190474e+00,  0.00000000e+00],\n",
       "         [-7.40428269e-01,  0.00000000e+00,  0.00000000e+00, ...,\n",
       "           6.13955593e+00, -1.30246413e+00,  0.00000000e+00],\n",
       "         ...,\n",
       "         [ 1.14641514e+01,  0.00000000e+00,  0.00000000e+00, ...,\n",
       "           1.28096890e+00,  2.70375639e-01,  0.00000000e+00],\n",
       "         [-5.71409583e-01,  0.00000000e+00,  0.00000000e+00, ...,\n",
       "           6.66337967e+00,  1.42108595e+00,  0.00000000e+00],\n",
       "         [ 4.57406855e+00,  0.00000000e+00,  0.00000000e+00, ...,\n",
       "           8.92361259e+00,  1.90093994e+00,  0.00000000e+00]]],\n",
       "\n",
       "\n",
       "       [[[-9.08647403e-02,  0.00000000e+00,  0.00000000e+00, ...,\n",
       "          -9.45923233e+00,  0.00000000e+00,  0.00000000e+00],\n",
       "         [ 8.67314053e+00,  0.00000000e+00,  0.00000000e+00, ...,\n",
       "           2.21535921e+00,  0.00000000e+00,  0.00000000e+00],\n",
       "         [-8.87954044e+00,  0.00000000e+00,  0.00000000e+00, ...,\n",
       "          -9.98179317e-01,  0.00000000e+00,  0.00000000e+00],\n",
       "         ...,\n",
       "         [ 1.22015631e+00,  0.00000000e+00,  0.00000000e+00, ...,\n",
       "          -9.35494041e+00,  0.00000000e+00,  0.00000000e+00],\n",
       "         [-8.97868443e+00,  0.00000000e+00,  0.00000000e+00, ...,\n",
       "          -9.88574386e-01,  0.00000000e+00,  0.00000000e+00],\n",
       "         [ 8.21445942e+00,  0.00000000e+00,  0.00000000e+00, ...,\n",
       "          -3.41338754e+00,  0.00000000e+00,  0.00000000e+00]],\n",
       "\n",
       "        [[ 9.47190857e+00,  0.00000000e+00,  0.00000000e+00, ...,\n",
       "          -8.64118636e-02,  0.00000000e+00,  0.00000000e+00],\n",
       "         [-2.03083110e+00,  0.00000000e+00,  0.00000000e+00, ...,\n",
       "           8.48898983e+00,  0.00000000e+00,  0.00000000e+00],\n",
       "         [-7.00800955e-01,  0.00000000e+00,  0.00000000e+00, ...,\n",
       "           6.71444750e+00,  0.00000000e+00,  0.00000000e+00],\n",
       "         ...,\n",
       "         [ 9.00901413e+00,  0.00000000e+00,  0.00000000e+00, ...,\n",
       "           1.17833364e+00,  0.00000000e+00,  0.00000000e+00],\n",
       "         [-5.93748808e-01,  0.00000000e+00,  0.00000000e+00, ...,\n",
       "           7.16295242e+00,  0.00000000e+00,  0.00000000e+00],\n",
       "         [ 3.55183220e+00,  0.00000000e+00,  0.00000000e+00, ...,\n",
       "           8.34597015e+00,  0.00000000e+00,  0.00000000e+00]]],\n",
       "\n",
       "\n",
       "       [[[-2.98059173e-03,  0.00000000e+00,  0.00000000e+00, ...,\n",
       "          -2.88671684e+00,  0.00000000e+00,  0.00000000e+00],\n",
       "         [ 4.20271015e+00,  0.00000000e+00,  0.00000000e+00, ...,\n",
       "           8.23577404e-01,  0.00000000e+00,  0.00000000e+00],\n",
       "         [-4.30696440e+00,  0.00000000e+00,  0.00000000e+00, ...,\n",
       "          -4.06811893e-01,  0.00000000e+00,  0.00000000e+00],\n",
       "         ...,\n",
       "         [ 4.89739418e-01,  0.00000000e+00,  0.00000000e+00, ...,\n",
       "          -2.99895144e+00,  0.00000000e+00,  0.00000000e+00],\n",
       "         [-4.25754166e+00,  0.00000000e+00,  0.00000000e+00, ...,\n",
       "          -3.41861367e-01,  0.00000000e+00,  0.00000000e+00],\n",
       "         [ 4.01362467e+00,  0.00000000e+00,  0.00000000e+00, ...,\n",
       "          -1.38170624e+00,  0.00000000e+00,  0.00000000e+00]],\n",
       "\n",
       "        [[ 3.70989132e+00,  0.00000000e+00,  0.00000000e+00, ...,\n",
       "          -4.88531664e-02,  0.00000000e+00,  0.00000000e+00],\n",
       "         [-1.11213648e+00,  0.00000000e+00,  0.00000000e+00, ...,\n",
       "           3.50604343e+00,  0.00000000e+00,  0.00000000e+00],\n",
       "         [-5.41144609e-01,  0.00000000e+00,  0.00000000e+00, ...,\n",
       "           3.97366548e+00,  0.00000000e+00,  0.00000000e+00],\n",
       "         ...,\n",
       "         [ 4.21512604e+00,  0.00000000e+00,  0.00000000e+00, ...,\n",
       "           4.31715816e-01,  0.00000000e+00,  0.00000000e+00],\n",
       "         [-5.17781556e-01,  0.00000000e+00,  0.00000000e+00, ...,\n",
       "           3.96052647e+00,  0.00000000e+00,  0.00000000e+00],\n",
       "         [ 1.61598456e+00,  0.00000000e+00,  0.00000000e+00, ...,\n",
       "           3.17887521e+00,  0.00000000e+00,  0.00000000e+00]]]])"
      ]
     },
     "execution_count": 177,
     "metadata": {},
     "output_type": "execute_result"
    }
   ],
   "source": [
    "replicates[i].coeffs"
   ]
  },
  {
   "cell_type": "code",
   "execution_count": null,
   "metadata": {
    "collapsed": true
   },
   "outputs": [],
   "source": []
  }
 ],
 "metadata": {
  "kernelspec": {
   "display_name": "manifold_env_april2",
   "language": "python",
   "name": "manifold_env_april2"
  },
  "language_info": {
   "codemirror_mode": {
    "name": "ipython",
    "version": 3
   },
   "file_extension": ".py",
   "mimetype": "text/x-python",
   "name": "python",
   "nbconvert_exporter": "python",
   "pygments_lexer": "ipython3",
   "version": "3.5.5"
  }
 },
 "nbformat": 4,
 "nbformat_minor": 2
}
