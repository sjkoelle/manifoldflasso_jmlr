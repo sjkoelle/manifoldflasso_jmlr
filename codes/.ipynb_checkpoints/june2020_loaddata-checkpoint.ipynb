{
 "cells": [
  {
   "cell_type": "code",
   "execution_count": 1,
   "metadata": {},
   "outputs": [
    {
     "name": "stdout",
     "output_type": "stream",
     "text": [
      "/Users/samsonkoelle/manifoldflasso_jmlr\n"
     ]
    }
   ],
   "source": [
    "import pickle\n",
    "\n",
    "import matplotlib\n",
    "matplotlib.use('Agg')\n",
    "import os\n",
    "import datetime\n",
    "import numpy as np\n",
    "import dill as pickle\n",
    "import random\n",
    "import sys\n",
    "np.random.seed(0)\n",
    "random.seed(0)\n",
    "now = datetime.datetime.now().strftime(\"%B_%d_%Y_%H_%M_%S\")\n",
    "workingdirectory = os.popen('git rev-parse --show-toplevel').read()[:-1]\n",
    "sys.path.append(workingdirectory)\n",
    "os.chdir(workingdirectory)\n",
    "#print(os.getcwd())\n",
    "from codes.experimentclasses.RigidEthanolPCA import RigidEthanolPCA\n",
    "from codes.otherfunctions.multirun import get_coeffs_reps_tangent\n",
    "from codes.otherfunctions.multirun import get_grads_reps_pca2_tangent\n",
    "from codes.otherfunctions.multiplot import plot_reg_path_ax_lambdasearch_tangent\n",
    "from codes.otherfunctions.get_dictionaries import get_atoms_4\n",
    "from codes.flasso.Replicate import Replicate\n",
    "from codes.otherfunctions.get_grads_tangent import get_grads_tangent\n",
    "from codes.otherfunctions.multirun import get_support_recovery_lambda\n",
    "from codes.otherfunctions.multirun import get_lower_interesting_lambda\n",
    "import matplotlib.pyplot as plt\n",
    "from codes.otherfunctions.multirun import get_coeffs_and_lambdas\n",
    "from codes.geometer.RiemannianManifold import RiemannianManifold\n",
    "from collections import Counter"
   ]
  },
  {
   "cell_type": "code",
   "execution_count": 2,
   "metadata": {
    "collapsed": true
   },
   "outputs": [],
   "source": [
    "nreps= 25\n",
    "dim = 2\n",
    "#from codes.otherfunctions.multirun import get_support\n",
    "from codes.otherfunctions.multiplot import plot_support_2d\n",
    "\n",
    "with open('/Users/samsonkoelle/manifoldflasso_jmlr/untracked_data/embeddings/rigidethanol_032520replicates_fix.pkl' ,\n",
    "         'rb') as loader:\n",
    "     replicates = pickle.load(loader)\n",
    "# supports = {}\n",
    "# for i in range(nreps):\n",
    "#     print(i)\n",
    "#     supports[i] = get_support(replicates[i].coeffs, dim)\n",
    "#fig, ax = plt.figure(figsize=(15 , 15 ))\n",
    "#plot_support_2d(supports, experiment.p)\n",
    "#fig.savefig(folder + '/flasso_support')"
   ]
  },
  {
   "cell_type": "code",
   "execution_count": 6,
   "metadata": {},
   "outputs": [
    {
     "name": "stdout",
     "output_type": "stream",
     "text": [
      "0\n",
      "1\n",
      "2\n",
      "3\n",
      "4\n",
      "5\n",
      "6\n",
      "7\n",
      "8\n",
      "9\n",
      "10\n",
      "11\n",
      "12\n",
      "13\n",
      "14\n",
      "15\n",
      "16\n",
      "17\n",
      "18\n",
      "19\n",
      "20\n",
      "21\n",
      "22\n",
      "23\n",
      "24\n"
     ]
    }
   ],
   "source": [
    "nreps= 25\n",
    "dim = 2\n",
    "from codes.otherfunctions.multirun import get_support\n",
    "from codes.otherfunctions.multiplot import plot_support_2d\n",
    "\n",
    "supports = {}\n",
    "for i in range(nreps):\n",
    "    print(i)\n",
    "    supports[i] = get_support(replicates[i].coeffs, dim)\n",
    "#fig, ax = plt.figure(figsize=(15 , 15 ))\n",
    "#plot_support_2d(supports, experiment.p)"
   ]
  },
  {
   "cell_type": "code",
   "execution_count": 11,
   "metadata": {
    "collapsed": true
   },
   "outputs": [],
   "source": [
    "import seaborn as sns\n",
    "def plot_support_2d(supports, p):\n",
    "    to_plot = np.zeros((p, p))\n",
    "    support_indices = np.asarray(list(supports.values()))\n",
    "    \n",
    "    for i in range(len(support_indices)):\n",
    "        if type(support_indices[i]) == np.ndarray:\n",
    "            to_plot[support_indices[i][0], support_indices[i][1]] += 1\n",
    "            to_plot[support_indices[i][1], support_indices[i][0]] += 1\n",
    "    fig, ax = plt.subplots()\n",
    "    sns.heatmap(to_plot, ax=ax)\n",
    "    ax.set_xlabel('Dictionary function 1')\n",
    "    ax.set_ylabel('Dictionary function 2')\n",
    "    ax.set_title('Frequency of support selection', fontsize  = 16)\n",
    "    #plt.colorbar(ax)\n",
    "    #clb.ax.set_title(ax, 'Selection frequency')\n",
    "    #plt.colorbar('hi')"
   ]
  },
  {
   "cell_type": "code",
   "execution_count": 14,
   "metadata": {},
   "outputs": [
    {
     "data": {
      "image/png": "[encoded data removed]",
      "text/plain": [
       "<Figure size 432x288 with 2 Axes>"
      ]
     },
     "metadata": {
      "needs_background": "light"
     },
     "output_type": "display_data"
    }
   ],
   "source": [
    "%matplotlib inline\n",
    "p = 12\n",
    "plot_support_2d(supports, p)"
   ]
  },
  {
   "cell_type": "code",
   "execution_count": null,
   "metadata": {
    "collapsed": true
   },
   "outputs": [],
   "source": []
  }
 ],
 "metadata": {
  "kernelspec": {
   "display_name": "manifold_env_april2",
   "language": "python",
   "name": "manifold_env_april2"
  },
  "language_info": {
   "codemirror_mode": {
    "name": "ipython",
    "version": 3
   },
   "file_extension": ".py",
   "mimetype": "text/x-python",
   "name": "python",
   "nbconvert_exporter": "python",
   "pygments_lexer": "ipython3",
   "version": "3.5.5"
  }
 },
 "nbformat": 4,
 "nbformat_minor": 2
}
