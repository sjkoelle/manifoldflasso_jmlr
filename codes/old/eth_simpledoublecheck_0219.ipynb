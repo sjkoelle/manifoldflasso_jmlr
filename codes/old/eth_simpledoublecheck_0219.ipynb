{
 "cells": [
  {
   "cell_type": "code",
   "execution_count": 1,
   "metadata": {},
   "outputs": [
    {
     "name": "stdout",
     "output_type": "stream",
     "text": [
      "/Users/samsonkoelle/manifoldflasso_jmlr\n"
     ]
    }
   ],
   "source": [
    "%load_ext autoreload\n",
    "%autoreload 2\n",
    "#%reload_ext autoreload\n",
    "import matplotlib\n",
    "import matplotlib.pyplot as plt\n",
    "matplotlib.use('Agg')\n",
    "import os\n",
    "import datetime\n",
    "import numpy as np\n",
    "import dill as pickle\n",
    "import random\n",
    "import sys\n",
    "import seaborn as sns\n",
    "import math\n",
    "from matplotlib import rcParams\n",
    "rcParams['figure.figsize'] = 25, 10\n",
    "from collections import OrderedDict\n",
    "from matplotlib.lines import Line2D\n",
    "from pylab import rcParams\n",
    "from collections import Counter\n",
    "from itertools import combinations\n",
    "from sklearn.decomposition import TruncatedSVD\n",
    "from shutil import copyfile\n",
    "import scipy\n",
    "\n",
    "\n",
    "np.random.seed(0)\n",
    "random.seed(0)\n",
    "now = datetime.datetime.now().strftime(\"%B_%d_%Y_%H_%M_%S\")\n",
    "workingdirectory = os.popen('git rev-parse --show-toplevel').read()[:-1]\n",
    "sys.path.append(workingdirectory)\n",
    "os.chdir(workingdirectory)\n",
    "\n",
    "from codes.experimentclasses.AtomicRegression2 import AtomicRegression\n",
    "from codes.otherfunctions.get_dictionaries import get_all_atoms_4\n",
    "from codes.flasso.Replicate import Replicate\n",
    "from codes.geometer.RiemannianManifold import RiemannianManifold\n",
    "from codes.geometer.TangentBundle import TangentBundle\n",
    "from codes.geometer.ShapeSpace import ShapeSpace"
   ]
  },
  {
   "cell_type": "code",
   "execution_count": 2,
   "metadata": {
    "collapsed": true
   },
   "outputs": [],
   "source": [
    "n = 50000 #number of data points to simulate\n",
    "nsel = 100 #number of points to analyze with lasso\n",
    "n_neighbors = 1000 #number of neighbors in megaman\n",
    "m = 3 #number of embedding dimensions (diffusion maps)\n",
    "diffusion_time = 1. #embedding radius\n",
    "dim = 2 #manifold dimension\n",
    "dimnoise = 2 #manifold dimension (not in mflasso paper)\n",
    "cores = 3 "
   ]
  },
  {
   "cell_type": "code",
   "execution_count": 3,
   "metadata": {
    "collapsed": true
   },
   "outputs": [],
   "source": [
    "nreps = 5\n",
    "#new_MN = True\n",
    "#new_grad = True\n",
    "savename = 'ethanol_021521'\n",
    "savefolder = 'ethanol'\n",
    "loadfolder = 'ethanol'\n",
    "loadname = 'ethanol_021521'\n",
    "data_wd = '/Users/samsonkoelle/Downloads/manigrad-100818/mani-samk-gradients/'\n",
    "\n",
    "folder = workingdirectory + '/Figures/ethanol/' + now + 'n' + str(n) + 'nsel' + str(nsel) + 'nreps' + str(nreps)\n",
    "os.mkdir(folder)"
   ]
  },
  {
   "cell_type": "code",
   "execution_count": 4,
   "metadata": {
    "collapsed": true
   },
   "outputs": [],
   "source": [
    "natoms = 9\n",
    "experiment = AtomicRegression(natoms)\n",
    "experiment.m = m\n",
    "experiment.dim = dim\n",
    "experiment.atoms3, experiment.da = experiment.get_atoms_3()\n",
    "\n",
    "data_wd = '/Users/samsonkoelle/Downloads/manigrad-100818/mani-samk-gradients/'\n",
    "data_xyz_loaded = scipy.io.loadmat(data_wd + '/untracked_data/chemistry_data/ethanol.mat')\n",
    "angle_indices = np.load(data_wd + '/untracked_data/chemistry_data/ethanolindices022119.npy')\n",
    "experiment.positions =  data_xyz_loaded['R'][angle_indices]\n",
    "filename_angles = data_wd + '/untracked_data/chemistry_data/ethanolangles022119.npy'\n",
    "data = np.arccos(np.reshape(np.load(filename_angles), (50000, experiment.da)))"
   ]
  },
  {
   "cell_type": "code",
   "execution_count": 5,
   "metadata": {
    "collapsed": true
   },
   "outputs": [],
   "source": [
    "experiment.M = RiemannianManifold(data, dim)#experiment.load_data(workingdirectory = data_wd)\n",
    "experiment.svd = TruncatedSVD(n_components=50)\n",
    "experiment.Mpca = RiemannianManifold(experiment.svd.fit_transform(experiment.M.data), dim)\n",
    "experiment.Mpca.geom = experiment.Mpca.compute_geom(diffusion_time, n_neighbors)\n",
    "experiment.N = experiment.Mpca.get_embedding3(experiment.Mpca.geom, m, diffusion_time, dim)"
   ]
  },
  {
   "cell_type": "code",
   "execution_count": 6,
   "metadata": {
    "collapsed": true
   },
   "outputs": [],
   "source": [
    "experiment.atoms4,experiment.p = get_all_atoms_4(natoms)\n",
    "trueandsel = [74,176,423,324]\n",
    "experiment.atoms4  = experiment.atoms4[trueandsel]\n",
    "experiment.p  = 4\n",
    "experiment.dnoise = dim\n",
    "experiment.nreps = nreps\n",
    "experiment.nsel = nsel"
   ]
  },
  {
   "cell_type": "code",
   "execution_count": 8,
   "metadata": {
    "collapsed": true
   },
   "outputs": [],
   "source": [
    "\n",
    "sp = np.asarray([16215, 49362, 19182, 18592, 49137, 22288, 33303, 24487,  9851,\n",
    "       18010, 14923,   473,  6696, 43574, 22256,  7345, 30498, 37444,\n",
    "       23306, 18568, 20719, 16613,  5449, 31904, 27301, 21321, 14799,\n",
    "       17370, 16440, 13743, 30374, 23904,  7957, 12666, 23161,  3581,\n",
    "       20040, 37326, 25515, 31674, 37251, 34756, 19735,  7506,  6464,\n",
    "        7428,  6885, 10172, 44424,  9368, 25457, 48791, 28860, 29399,\n",
    "        6052, 27010, 13498, 42576, 38368, 40955, 11658, 24212, 19112,\n",
    "        3600, 43800, 12911, 18539, 45952, 46354, 22614,  9057,  8499,\n",
    "       41901, 15552, 18995,  8862, 46522, 11032,  6227, 36776, 36392,\n",
    "       39113, 31308,  7973,  4861, 12368, 24716, 23979, 24628, 36028,\n",
    "       38922, 27212, 40210,  8180, 32033, 11462, 27260,  7752,  9394,\n",
    "       20369])\n",
    "#selected_points = sp"
   ]
  },
  {
   "cell_type": "code",
   "execution_count": 11,
   "metadata": {
    "collapsed": true
   },
   "outputs": [],
   "source": [
    "def get_grads3(experiment, Mpca, Mangles, N, selected_points,svd):\n",
    "    dimnoise = experiment.dnoise\n",
    "    dim = experiment.dim\n",
    "    cores = experiment.cores\n",
    "\n",
    "    tangent_bases = Mpca.get_wlpca_tangent_sel(Mpca, selected_points, dimnoise)\n",
    "    subM = RiemannianManifold(Mpca.data[selected_points], dim)\n",
    "    subM.tb = TangentBundle(subM, tangent_bases)\n",
    "    N.tangent_bundle = TangentBundle(N, np.swapaxes(N.geom.rmetric.Hvv[:,:dim,:],1,2))\n",
    "\n",
    "    df_M = experiment.get_dF_js_idM(Mpca, N, subM.tb, N.tangent_bundle, selected_points, dimnoise)\n",
    "    \n",
    "    #n = len(selected_points)\n",
    "    df_M2 = experiment.normalize(df_M)\n",
    "    dg_x = experiment.get_dx_g_full(Mangles.data[selected_points])\n",
    "\n",
    "    W = ShapeSpace(experiment.positions, Mangles.data)\n",
    "    dw = W.get_dw(cores, experiment.atoms3, experiment.natoms, selected_points)\n",
    "    dg_w = experiment.project(np.swapaxes(dw, 1, 2),\n",
    "                              experiment.project(dw, dg_x))\n",
    "\n",
    "    dg_w_pca = np.asarray([svd.transform(dg_w[j]) for j in range(len(selected_points))])\n",
    "\n",
    "    dgw_norm = experiment.normalize(dg_w_pca)\n",
    "    dg_M = np.einsum('n b d, n p b -> n p d', subM.tb.tangent_bases, dgw_norm) #experiment.project(subM.tb.tangent_bases, dgw_norm)\n",
    "    return (df_M2, dg_M, dg_w, dg_w_pca, dgw_norm,tangent_bases)"
   ]
  },
  {
   "cell_type": "code",
   "execution_count": 12,
   "metadata": {},
   "outputs": [
    {
     "name": "stdout",
     "output_type": "stream",
     "text": [
      "pre-gradient acquisition 2021-02-19 09:27:51.372432\n"
     ]
    }
   ],
   "source": [
    "print('pre-gradient acquisition',datetime.datetime.now())\n",
    "replicates = {}\n",
    "nreps = 1\n",
    "for i in range(nreps):\n",
    "    replicates[i] = Replicate(nsel = nsel, n = experiment.M.data.shape[0], selected_points = sp)\n",
    "    replicates[i].df_M,replicates[i].dg_M,replicates[i].dg_w ,replicates[i].dg_w_pca ,replicates[i].dgw_norm, replicates[i].tangent_bases  = get_grads3(experiment, experiment.Mpca, experiment.M, experiment.N, replicates[i].selected_points,experiment.svd)\n"
   ]
  },
  {
   "cell_type": "code",
   "execution_count": null,
   "metadata": {
    "collapsed": true
   },
   "outputs": [],
   "source": []
  }
 ],
 "metadata": {
  "kernelspec": {
   "display_name": "manifold_env_april2",
   "language": "python",
   "name": "manifold_env_april2"
  },
  "language_info": {
   "codemirror_mode": {
    "name": "ipython",
    "version": 3
   },
   "file_extension": ".py",
   "mimetype": "text/x-python",
   "name": "python",
   "nbconvert_exporter": "python",
   "pygments_lexer": "ipython3",
   "version": "3.5.5"
  }
 },
 "nbformat": 4,
 "nbformat_minor": 2
}
