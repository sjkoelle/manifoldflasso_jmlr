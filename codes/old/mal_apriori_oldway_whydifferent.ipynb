{
 "cells": [
  {
   "cell_type": "code",
   "execution_count": 2,
   "metadata": {},
   "outputs": [],
   "source": [
    "\n",
    "import matplotlib\n",
    "matplotlib.use('Agg')\n",
    "import os\n",
    "import datetime\n",
    "import numpy as np\n",
    "import dill as pickle\n",
    "import random\n",
    "import sys\n",
    "import seaborn as sns\n",
    "import matplotlib\n",
    "matplotlib.use('Agg')\n",
    "import matplotlib.pyplot as plt\n",
    "from matplotlib import rcParams\n",
    "from collections import OrderedDict\n",
    "import math\n",
    "from matplotlib.lines import Line2D\n",
    "from pylab import rcParams\n",
    "from collections import Counter\n",
    "from itertools import combinations\n",
    "#from datetime import datetime\n",
    "\n",
    "from shutil import copyfile\n",
    "rcParams['figure.figsize'] = 25, 10\n",
    "\n",
    "np.random.seed(0)\n",
    "random.seed(0)\n",
    "now = datetime.datetime.now().strftime(\"%B_%d_%Y_%H_%M_%S\")\n",
    "workingdirectory = os.popen('git rev-parse --show-toplevel').read()[:-1]\n",
    "sys.path.append(workingdirectory)\n",
    "os.chdir(workingdirectory)\n",
    "from codes.experimentclasses.MalonaldehydeAngles import MalonaldehydeAngles\n",
    "from codes.otherfunctions.multirun import get_coeffs_reps\n",
    "from codes.otherfunctions.multiplot import plot_betas, plot_betas2reorder\n",
    "from codes.geometer.RiemannianManifold import RiemannianManifold\n",
    "from codes.otherfunctions.get_dictionaries import get_atoms_4\n",
    "from codes.otherfunctions.get_grads import get_grads\n",
    "from codes.otherfunctions.multirun import get_support_recovery_lambda\n",
    "from codes.otherfunctions.multirun import get_lower_interesting_lambda\n",
    "from codes.otherfunctions.multirun import get_coeffs_and_lambdas\n",
    "from codes.otherfunctions.multirun import get_support\n",
    "from codes.otherfunctions.multiplot import plot_support_2d\n",
    "from codes.otherfunctions.multiplot import plot_reg_path_ax_lambdasearch\n",
    "from codes.otherfunctions.multiplot import plot_gs_v_dgnorm\n",
    "from codes.otherfunctions.multirun import get_cosines\n",
    "from codes.otherfunctions.multiplot import plot_dot_distributions\n",
    "from codes.geometer.ShapeSpace import ShapeSpace\n",
    "from codes.geometer.TangentBundle import TangentBundle\n",
    "from codes.flasso.Replicate import Replicate\n",
    "from codes.otherfunctions.multirun import get_olsnorm_and_supportsbrute\n",
    "from codes.otherfunctions.multiplot import highlight_cell\n",
    "\n",
    "\n",
    "from codes.geometer.RiemannianManifold import RiemannianManifold\n",
    "from codes.geometer.ShapeSpace import ShapeSpace\n",
    "from codes.geometer.TangentBundle import TangentBundle\n",
    "\n",
    "\n",
    "def get_grads(experiment, Mpca, Mangles, N, selected_points):\n",
    "    dimnoise = experiment.dimnoise\n",
    "    dim = experiment.dim\n",
    "    cores = experiment.cores\n",
    "\n",
    "    tangent_bases = Mpca.get_wlpca_tangent_sel(Mpca, selected_points, dimnoise)\n",
    "    subM = RiemannianManifold(Mpca.data[selected_points], dim)\n",
    "    subM.tb = TangentBundle(subM, tangent_bases)\n",
    "    N.tangent_bundle = TangentBundle(N, np.swapaxes(N.geom.rmetric.Hvv[:,:dim,:],1,2))\n",
    "\n",
    "    df_M = experiment.get_dF_js_idM(Mpca, N, subM.tb, N.tangent_bundle, selected_points, dimnoise)\n",
    "    df_M2 = df_M / np.sum(np.linalg.norm(df_M, axis=1) ** 2, axis=0)**(0.5)\n",
    "    dg_x = experiment.get_dx_g_full(Mangles.data[selected_points])\n",
    "\n",
    "    W = ShapeSpace(experiment.positions, Mangles.data)\n",
    "    dw = W.get_dw(cores, experiment.atoms3, experiment.natoms, selected_points)\n",
    "    dg_w = experiment.project(np.swapaxes(dw, 1, 2),\n",
    "                              experiment.project(dw, dg_x))\n",
    "\n",
    "    dg_w_pca = np.asarray([np.matmul(experiment.projector, dg_w[j].transpose()).transpose() for j in range(len(selected_points))])\n",
    "    dgw_norm = experiment.normalize(dg_w_pca)\n",
    "    dg_M = experiment.project(subM.tb.tangent_bases, dgw_norm)\n",
    "    return (df_M, dg_M, dg_w, dg_w_pca, dgw_norm)\n",
    "\n",
    "\n",
    "#set parameters\n",
    "n = 50000 #number of data points to simulate\n",
    "nsel = 100 #number of points to analyze with lasso\n",
    "itermax = 1000 #maximum iterations per lasso run\n",
    "tol = 1e-10 #convergence criteria for lasso\n",
    "#lambdas = np.asarray([0,.01,.1,1,10,100], dtype = np.float16)#lambda values for lasso\n",
    "lambdas = np.asarray(np.hstack([np.asarray([0]),np.logspace(-3,1,11)]), dtype = np.float16)\n",
    "n_neighbors = 1000 #number of neighbors in megaman\n",
    "m = 3 #number of embedding dimensions (diffusion maps)\n",
    "#diffusion_time = 1. #diffusion time controls gaussian kernel radius per gradients paper\n",
    "diffusion_time = 1. #(yuchia suggestion)\n",
    "dim = 2 #manifold dimension\n",
    "dimnoise = 2\n",
    "natoms = 9\n",
    "cores = 3 #number of cores for parallel processing\n",
    "cor = 0.0 #correlation for noise\n",
    "var = 0.00001 #variance scaler for noise\n",
    "ii = np.asarray([0, 0, 0, 1, 1, 1, 2, 2])\n",
    "jj = np.asarray([4, 5, 1, 6, 7, 2, 3, 8])\n",
    "#run experiment\n",
    "#these are just for loading... probably not necessary\n",
    "atoms4 = np.asarray([[4,0,1,2],[0,1,2,3],[3,2,1,8],[4,0,1,5]],dtype = int)\n",
    "nreps = 25\n",
    "lambda_max = 1\n",
    "max_search = 30\n",
    "\n",
    "data_wd = '/Users/samsonkoelle/Downloads/manigrad-100818/mani-samk-gradients/'\n",
    "\n",
    "\n",
    "folder = workingdirectory + '/Figures/malonaldehyde/' + now + 'n' + str(n) + 'nsel' + str(nsel) + 'nreps' + str(nreps)\n",
    "os.mkdir(folder)\n",
    "\n",
    "\n",
    "new_MN = True\n",
    "new_grad = True\n",
    "savename = 'malonaldehyde_010521_p12rep5n500_oldnorm'\n",
    "savefolder = 'malonaldehyde'\n",
    "loadfolder = 'malonaldehyde'\n",
    "loadname = 'malonaldehyde_010521_p12rep5n500_oldnorm'\n",
    "\n",
    "experiment = MalonaldehydeAngles(dim, ii, jj,cores,atoms4)\n",
    "projector  = np.load(data_wd + '/untracked_data/chemistry_data/malonaldehydeangles022119_pca50_components.npy')\n",
    "experiment.M = experiment.load_data(workingdirectory = data_wd)  # if noise == False then noise parameters are overriden\n",
    "experiment.Mpca = RiemannianManifold(np.load(data_wd + '/untracked_data/chemistry_data/malonaldehydeangles022119_pca50.npy'), dim)\n",
    "projector  = np.load(data_wd + '/untracked_data/chemistry_data/malonaldehydeangles022119_pca50_components.npy')\n",
    "#experiment.M = experiment.load_data()  # if noise == False then noise parameters are overriden\n",
    "#experiment.Mpca = RiemannianManifold(np.load(workingdirectory + '/untracked_data/chemistry_data/malonaldehydeangles022119_pca50.npy'), dim)\n",
    "#     with open(workingdirectory + '/untracked_data/embeddings/' + savefolder + '/' + savename + '.pkl' ,\n",
    "#              'wb') as output:\n",
    "#          pickle.dump(experiment, output, pickle.HIGHEST_PROTOCOL)"
   ]
  },
  {
   "cell_type": "code",
   "execution_count": 3,
   "metadata": {
    "collapsed": true
   },
   "outputs": [],
   "source": [
    "experiment.q = m\n",
    "experiment.m = m\n",
    "experiment.dimnoise = dimnoise\n",
    "experiment.projector = projector\n",
    "experiment.Mpca.geom = experiment.Mpca.compute_geom(diffusion_time, n_neighbors)\n",
    "experiment.N = experiment.Mpca.get_embedding3(experiment.Mpca.geom, m, diffusion_time, dim)"
   ]
  },
  {
   "cell_type": "code",
   "execution_count": 4,
   "metadata": {
    "collapsed": true
   },
   "outputs": [],
   "source": [
    "selected_points = np.asarray([25019, 41544,  6706, 27564, 26068, 13504, 36105, 27942, 11049,\n",
    "       23717,  2292, 47873, 20138, 42278, 46154, 12297, 48287, 45166,\n",
    "       40886, 17256, 25582, 28876, 41968,  1578,  8242, 28597,  2232,\n",
    "       18238,  8823, 10766, 31293, 46858,  7988, 16539, 13557,  3979,\n",
    "       47118, 44390, 26033,  4447, 23260,  3573, 30099, 21740,  7717,\n",
    "       37319, 28075, 22725,  1187, 34619,  8676, 12839,  6779, 27603,\n",
    "       31362, 32106, 20716, 48386, 22942, 32936, 12642,  5820, 25561,\n",
    "       31936, 28991, 22617, 11182, 31271,  6114,    49, 28499, 15575,\n",
    "       39088, 17703, 35808, 42126, 24343,  2665,  7704,  9760,  7860,\n",
    "       43634, 39084, 19025, 45113, 43693, 25208,  8890, 47184, 12130,\n",
    "       19773, 25578, 30502, 31603, 45642,  7807, 13612, 10259, 21745,\n",
    "       37625])"
   ]
  },
  {
   "cell_type": "code",
   "execution_count": 6,
   "metadata": {},
   "outputs": [
    {
     "name": "stdout",
     "output_type": "stream",
     "text": [
      "pre-gradient acquisition\n",
      "2021-02-19 13:43:06.746358\n"
     ]
    }
   ],
   "source": [
    "nreps = 1\n",
    "atoms4,p = get_atoms_4(natoms,ii,jj)\n",
    "experiment.p = p\n",
    "experiment.atoms4 = atoms4\n",
    "#experiment.itermax = itermax\n",
    "experiment.tol = tol\n",
    "experiment.dnoise = dim\n",
    "experiment.nreps = nreps\n",
    "experiment.nsel = nsel\n",
    "experiment.folder = folder\n",
    "\n",
    "replicates = {}\n",
    "selected_points_save = np.zeros((nreps,nsel))\n",
    "\n",
    "print('pre-gradient acquisition')\n",
    "print(datetime.datetime.now())\n",
    "for i in range(nreps):\n",
    "    #selected_points = np.random.choice(list(range(n)),nsel,replace = False)\n",
    "    selected_points_save[i] = selected_points\n",
    "    replicates[i] = Replicate(nsel = 100, selected_points = selected_points)\n",
    "    replicates[i].nsel = nsel\n",
    "    replicates[i].selected_points = selected_points\n",
    "    replicates[i].df_M,replicates[i].dg_M,replicates[i].dg_w ,replicates[i].dg_w_pca ,replicates[i].dgw_norm  = get_grads(experiment, experiment.Mpca, experiment.M, experiment.N, selected_points)\n",
    "    replicates[i].dg_M = np.swapaxes(replicates[i].dg_M, 1,2)\n"
   ]
  },
  {
   "cell_type": "code",
   "execution_count": 8,
   "metadata": {},
   "outputs": [
    {
     "data": {
      "text/plain": [
       "(100, 2, 3)"
      ]
     },
     "execution_count": 8,
     "metadata": {},
     "output_type": "execute_result"
    }
   ],
   "source": [
    "replicates[0].df_M.shape"
   ]
  },
  {
   "cell_type": "code",
   "execution_count": 11,
   "metadata": {
    "collapsed": true
   },
   "outputs": [],
   "source": [
    "from codes.flasso.GradientGroupLasso import batch_stream, get_sr_lambda_sam_parallel\n"
   ]
  },
  {
   "cell_type": "code",
   "execution_count": 12,
   "metadata": {},
   "outputs": [
    {
     "name": "stdout",
     "output_type": "stream",
     "text": [
      "initializing lambda search\n",
      "converged 1.7239482028693363\n",
      "0 0.8619741014346681 probe\n",
      "1 1.2929611521520021 probe\n",
      "converged 1.2929611521520021\n",
      "we did it [ 3 10]\n"
     ]
    }
   ],
   "source": [
    "\n",
    "gl_itermax = 500\n",
    "r = 0 \n",
    "max_search = 30\n",
    "reg_l2 = 0.\n",
    "tol = 1e-14\n",
    "learning_rate = 100\n",
    "results= {}\n",
    "for r in range(nreps):\n",
    "    ul = np.linalg.norm(np.einsum('n d m, n d p -> n p m ' ,replicates[r].df_M , replicates[r].dg_M), axis = tuple([0,2])).max()\n",
    "    lambdas_start = [0.,ul]\n",
    "    #to fix...\n",
    "    #replicates[r].dg_M = np.swapaxes(replicates[r].dg_M,1,2)\n",
    "    #replicates[r].df_M = np.swapaxes(replicates[r].df_M,1,2)\n",
    "    replicates[r].results = get_sr_lambda_sam_parallel(replicates[r], gl_itermax, lambdas_start,reg_l2, max_search, dim, tol,learning_rate)\n",
    "    "
   ]
  },
  {
   "cell_type": "code",
   "execution_count": 17,
   "metadata": {},
   "outputs": [
    {
     "data": {
      "text/plain": [
       "<matplotlib.axes._subplots.AxesSubplot at 0x129f775f8>"
      ]
     },
     "execution_count": 17,
     "metadata": {},
     "output_type": "execute_result"
    },
    {
     "data": {
      "image/png": "[encoded data removed]",
      "text/plain": [
       "<Figure size 432x288 with 2 Axes>"
      ]
     },
     "metadata": {
      "needs_background": "light"
     },
     "output_type": "display_data"
    }
   ],
   "source": [
    "%matplotlib inline\n",
    "sns.heatmap(np.linalg.norm(replicates[0].dg_M, axis = 1))"
   ]
  },
  {
   "cell_type": "code",
   "execution_count": 18,
   "metadata": {},
   "outputs": [
    {
     "data": {
      "text/plain": [
       "<matplotlib.axes._subplots.AxesSubplot at 0x129fd3a90>"
      ]
     },
     "execution_count": 18,
     "metadata": {},
     "output_type": "execute_result"
    },
    {
     "data": {
      "image/png": "[encoded data removed]",
      "text/plain": [
       "<Figure size 432x288 with 2 Axes>"
      ]
     },
     "metadata": {
      "needs_background": "light"
     },
     "output_type": "display_data"
    }
   ],
   "source": [
    "%matplotlib inline\n",
    "sns.heatmap(np.linalg.norm(replicates[0].dg_w, axis = 2))"
   ]
  },
  {
   "cell_type": "code",
   "execution_count": 20,
   "metadata": {},
   "outputs": [
    {
     "data": {
      "text/plain": [
       "<matplotlib.axes._subplots.AxesSubplot at 0x12a631400>"
      ]
     },
     "execution_count": 20,
     "metadata": {},
     "output_type": "execute_result"
    },
    {
     "data": {
      "image/png": "[encoded data removed]",
      "text/plain": [
       "<Figure size 432x288 with 2 Axes>"
      ]
     },
     "metadata": {
      "needs_background": "light"
     },
     "output_type": "display_data"
    }
   ],
   "source": [
    "%matplotlib inline\n",
    "sns.heatmap(np.linalg.norm(replicates[0].dgw_norm, axis = 2))"
   ]
  },
  {
   "cell_type": "code",
   "execution_count": null,
   "metadata": {
    "collapsed": true
   },
   "outputs": [],
   "source": []
  },
  {
   "cell_type": "code",
   "execution_count": 19,
   "metadata": {},
   "outputs": [
    {
     "data": {
      "text/plain": [
       "array([25019, 41544,  6706, 27564, 26068, 13504, 36105, 27942, 11049,\n",
       "       23717,  2292, 47873, 20138, 42278, 46154, 12297, 48287, 45166,\n",
       "       40886, 17256, 25582, 28876, 41968,  1578,  8242, 28597,  2232,\n",
       "       18238,  8823, 10766, 31293, 46858,  7988, 16539, 13557,  3979,\n",
       "       47118, 44390, 26033,  4447, 23260,  3573, 30099, 21740,  7717,\n",
       "       37319, 28075, 22725,  1187, 34619,  8676, 12839,  6779, 27603,\n",
       "       31362, 32106, 20716, 48386, 22942, 32936, 12642,  5820, 25561,\n",
       "       31936, 28991, 22617, 11182, 31271,  6114,    49, 28499, 15575,\n",
       "       39088, 17703, 35808, 42126, 24343,  2665,  7704,  9760,  7860,\n",
       "       43634, 39084, 19025, 45113, 43693, 25208,  8890, 47184, 12130,\n",
       "       19773, 25578, 30502, 31603, 45642,  7807, 13612, 10259, 21745,\n",
       "       37625])"
      ]
     },
     "execution_count": 19,
     "metadata": {},
     "output_type": "execute_result"
    }
   ],
   "source": [
    "replicates[0].selected_points"
   ]
  },
  {
   "cell_type": "code",
   "execution_count": null,
   "metadata": {
    "collapsed": true
   },
   "outputs": [],
   "source": [
    "#get_grads(experiment, experiment.Mpca, experiment.M, experiment.N, selected_points)"
   ]
  },
  {
   "cell_type": "code",
   "execution_count": 23,
   "metadata": {
    "collapsed": true
   },
   "outputs": [],
   "source": [
    "#get_grads(experiment, Mpca, Mangles, N, selected_points):\n",
    "Mpca = experiment.Mpca\n",
    "Mangles = experiment.M\n",
    "N = experiment.N"
   ]
  },
  {
   "cell_type": "code",
   "execution_count": 24,
   "metadata": {},
   "outputs": [],
   "source": [
    "    dimnoise = experiment.dimnoise\n",
    "    dim = experiment.dim\n",
    "    cores = experiment.cores\n",
    "\n",
    "    tangent_bases = Mpca.get_wlpca_tangent_sel(Mpca, selected_points, dimnoise)\n",
    "    subM = RiemannianManifold(Mpca.data[selected_points], dim)\n",
    "    subM.tb = TangentBundle(subM, tangent_bases)\n",
    "    N.tangent_bundle = TangentBundle(N, np.swapaxes(N.geom.rmetric.Hvv[:,:dim,:],1,2))\n",
    "\n",
    "    df_M = experiment.get_dF_js_idM(Mpca, N, subM.tb, N.tangent_bundle, selected_points, dimnoise)\n",
    "    df_M2 = df_M / np.sum(np.linalg.norm(df_M, axis=1) ** 2, axis=0)**(0.5)\n",
    "    dg_x = experiment.get_dx_g_full(Mangles.data[selected_points])\n",
    "\n",
    "    W = ShapeSpace(experiment.positions, Mangles.data)\n",
    "    dw = W.get_dw(cores, experiment.atoms3, experiment.natoms, selected_points)\n",
    "    dg_w = experiment.project(np.swapaxes(dw, 1, 2),\n",
    "                              experiment.project(dw, dg_x))\n",
    "\n",
    "    dg_w_pca = np.asarray([np.matmul(experiment.projector, dg_w[j].transpose()).transpose() for j in range(len(selected_points))])\n",
    "    dgw_norm = experiment.normalize(dg_w_pca)\n",
    "    dg_M = experiment.project(subM.tb.tangent_bases, dgw_norm)\n"
   ]
  },
  {
   "cell_type": "code",
   "execution_count": 26,
   "metadata": {},
   "outputs": [
    {
     "data": {
      "text/plain": [
       "array([[-4.02821519e-02,  4.13895916e-02],\n",
       "       [ 3.78548574e-01,  8.82886425e-01],\n",
       "       [-7.75829676e-01,  3.90819776e-01],\n",
       "       [-4.14589450e-01,  1.04732906e-01],\n",
       "       [-1.46887045e-01, -1.71973659e-01],\n",
       "       [-2.03626983e-01,  5.92881855e-02],\n",
       "       [ 2.52654714e-02, -9.32563684e-02],\n",
       "       [-1.72866556e-02, -9.52241039e-03],\n",
       "       [ 1.32242049e-02, -2.64328795e-03],\n",
       "       [ 7.25185956e-02,  3.24960436e-02],\n",
       "       [-3.89139709e-02,  8.93156025e-03],\n",
       "       [-2.39469535e-02,  5.01895884e-02],\n",
       "       [-4.01725706e-02,  1.09441471e-02],\n",
       "       [-3.13460180e-02,  5.54509290e-04],\n",
       "       [ 9.72200868e-03, -1.41905207e-02],\n",
       "       [-2.45247319e-03,  4.59303035e-03],\n",
       "       [ 2.06620900e-02,  4.06700031e-03],\n",
       "       [-1.52192117e-02, -6.49234335e-02],\n",
       "       [-2.28018190e-02, -3.32895039e-02],\n",
       "       [ 5.01300620e-03,  1.03652235e-03],\n",
       "       [-2.14859217e-02, -1.56394212e-02],\n",
       "       [-1.84794136e-02,  3.70745583e-04],\n",
       "       [-4.08529250e-02, -4.75194363e-02],\n",
       "       [ 3.78803458e-03,  9.13932107e-04],\n",
       "       [-1.46407277e-02,  4.90701115e-03],\n",
       "       [ 4.09808529e-03,  1.22342095e-03],\n",
       "       [-2.19913268e-03,  7.39690248e-03],\n",
       "       [-1.37582858e-02,  7.83686540e-03],\n",
       "       [ 1.40892160e-02,  4.23273355e-03],\n",
       "       [ 1.02308546e-03, -4.83756055e-04],\n",
       "       [ 4.27388400e-03,  1.09156668e-02],\n",
       "       [-1.44521928e-02, -4.40962792e-03],\n",
       "       [-1.53281795e-02,  1.59290482e-02],\n",
       "       [-2.20179582e-03, -4.31671559e-03],\n",
       "       [-2.48182874e-02,  1.63367976e-02],\n",
       "       [-4.65379365e-03, -1.20516475e-02],\n",
       "       [-2.44865610e-02,  1.10779349e-02],\n",
       "       [-2.06849995e-02,  8.73265069e-03],\n",
       "       [ 8.58444654e-03, -6.02149257e-03],\n",
       "       [ 2.04570771e-02, -2.85828919e-03],\n",
       "       [-5.71329889e-03,  4.49255083e-03],\n",
       "       [ 2.53428086e-03,  3.18190483e-03],\n",
       "       [-4.23753525e-03,  4.03863865e-03],\n",
       "       [-9.49792602e-04,  4.91266676e-03],\n",
       "       [-2.59544612e-03,  3.34537698e-03],\n",
       "       [ 3.13987268e-03, -3.85739122e-03],\n",
       "       [ 3.12653968e-03,  4.51043413e-03],\n",
       "       [-7.72841706e-03, -2.56656288e-03],\n",
       "       [-6.27153411e-04, -3.51976601e-03],\n",
       "       [ 1.82083972e-03,  7.80005425e-04]])"
      ]
     },
     "execution_count": 26,
     "metadata": {},
     "output_type": "execute_result"
    }
   ],
   "source": [
    "tangent_bases[0]"
   ]
  },
  {
   "cell_type": "code",
   "execution_count": 28,
   "metadata": {},
   "outputs": [
    {
     "data": {
      "text/plain": [
       "array([ 1.01046914e+01,  3.02064716e-01,  2.80805587e+00, -3.69127599e-01,\n",
       "       -1.56339331e+00,  8.41758988e-01, -2.01962385e-02,  7.71692324e-01,\n",
       "        1.31027834e-01, -1.52598040e-01, -2.93409434e-02, -3.12598477e-01,\n",
       "        2.20568108e-01,  4.49880878e-02,  1.94513625e-01,  1.06278199e-01,\n",
       "        9.28505027e-02, -7.48483432e-02, -4.29369295e-02, -1.34334162e-01,\n",
       "        1.49498739e-01, -1.23009305e-01, -2.94397869e-02, -3.41906721e-02,\n",
       "       -1.56521599e-01, -9.60181908e-02, -1.17618943e-02, -5.91347360e-02,\n",
       "        6.54311027e-04,  5.98091711e-02,  5.05899151e-02,  1.50857250e-03,\n",
       "       -8.82445299e-03,  1.34068199e-01,  2.16350463e-02,  2.12072182e-02,\n",
       "        4.19965799e-02, -1.98914721e-02,  4.49605551e-02,  4.50938268e-02,\n",
       "       -1.22192435e-02,  3.58518559e-02, -5.84932614e-02, -4.43600897e-02,\n",
       "        2.25832529e-02,  1.79891611e-02,  7.98400946e-02, -6.16305416e-03,\n",
       "        9.59607628e-03, -8.05388087e-03])"
      ]
     },
     "execution_count": 28,
     "metadata": {},
     "output_type": "execute_result"
    }
   ],
   "source": [
    "experiment.Mpca.data[0]"
   ]
  },
  {
   "cell_type": "code",
   "execution_count": 29,
   "metadata": {},
   "outputs": [
    {
     "data": {
      "text/plain": [
       "array([0.56882053, 1.97595479, 0.59681733, 0.42973475, 2.42858969,\n",
       "       0.28326821, 2.12672185, 0.42586717, 0.58900363, 1.97069056,\n",
       "       0.47832097, 0.69258113, 0.45859683, 2.01154886, 0.67144696,\n",
       "       0.56582416, 1.67111444, 0.90465405, 1.00483599, 1.51930324,\n",
       "       0.61745342, 0.17804923, 2.58627435, 0.37726907, 2.54558706,\n",
       "       0.1833845 , 0.41262109, 1.52405291, 0.42252328, 1.19501647,\n",
       "       0.98033163, 0.97097517, 1.19028585, 0.92441064, 0.8581203 ,\n",
       "       1.35906172, 0.45809224, 1.45572906, 1.22777135, 2.37864719,\n",
       "       0.17670601, 0.58623945, 1.701664  , 0.28556046, 1.15436819,\n",
       "       0.810215  , 0.66678383, 1.66459383, 0.87974063, 0.56634343,\n",
       "       1.6955086 , 0.63402614, 0.82149124, 1.68607528, 2.17699995,\n",
       "       0.47415763, 0.49043508, 1.66813297, 1.02189897, 0.45156071,\n",
       "       2.13233662, 0.64712787, 0.36212816, 2.82548992, 0.22132425,\n",
       "       0.09477848, 2.42410537, 0.48445381, 0.23303347, 1.74122655,\n",
       "       0.92723902, 0.47312709, 1.08150238, 1.62975131, 0.43033897,\n",
       "       0.78120018, 1.0136178 , 1.34677468, 1.43654855, 0.94981193,\n",
       "       0.75523218, 1.19073887, 1.1984557 , 0.75239808, 0.48896853,\n",
       "       2.0429452 , 0.60967892, 2.31412238, 0.51411818, 0.3133521 ,\n",
       "       1.60121085, 0.96335339, 0.57702842, 2.1230473 , 0.42692694,\n",
       "       0.59161841, 1.8811858 , 0.50785308, 0.75255378, 0.49856949,\n",
       "       2.00352948, 0.63949368, 2.6350567 , 0.25655541, 0.24998055,\n",
       "       2.09003382, 0.5162631 , 0.53529574, 1.65170881, 0.42959185,\n",
       "       1.060292  , 1.87880519, 0.36561556, 0.89717191, 0.98591251,\n",
       "       1.05717398, 1.09850616, 0.90196348, 1.05980442, 1.17982475,\n",
       "       1.58568955, 0.43290004, 1.12300306, 1.74136273, 0.3878735 ,\n",
       "       1.01235643, 1.91474693, 0.59666775, 0.63017797, 2.48417334,\n",
       "       0.21348234, 0.44393697, 1.51217721, 0.45184254, 1.17757291,\n",
       "       1.10737585, 1.02567883, 1.00853797, 1.7061467 , 0.69912263,\n",
       "       0.73632332, 2.60740074, 0.36095226, 0.17323965, 1.75637065,\n",
       "       0.98490344, 0.40031856, 2.41404821, 0.54772296, 0.17982149,\n",
       "       3.00484702, 0.09449077, 0.04225487, 1.63225724, 1.03042694,\n",
       "       0.47890847, 2.0151361 , 0.72521148, 0.40124507, 2.23051812,\n",
       "       0.44977368, 0.46130086, 0.59893039, 0.86792637, 1.67473589,\n",
       "       0.83335743, 0.69253992, 1.6156953 , 0.88612548, 0.62133744,\n",
       "       1.63412972, 1.6098441 , 0.31954235, 1.2122062 , 1.37261285,\n",
       "       0.77383356, 0.99514624, 1.02462955, 0.82099228, 1.29597083,\n",
       "       1.04780832, 0.45135396, 1.64243038, 0.76404576, 1.0755501 ,\n",
       "       1.30199679, 2.42039826, 0.24364168, 0.47755271, 1.86004836,\n",
       "       0.44226815, 0.83927615, 0.45883998, 1.04729583, 1.63545684,\n",
       "       0.53419643, 0.53658317, 2.07081306, 0.612856  , 0.62908543,\n",
       "       1.89965122, 0.98269025, 0.49538032, 1.66352208, 0.93595288,\n",
       "       0.73158631, 1.47405346, 0.65574298, 0.79067429, 1.69517538,\n",
       "       0.54425689, 0.49360574, 2.10373002, 0.60227466, 1.37409815,\n",
       "       1.16521985, 1.48019696, 0.72254779, 0.9388479 , 1.10162794,\n",
       "       0.80940437, 1.23056034, 1.49171178, 0.96806909, 0.68181178,\n",
       "       1.02087137, 1.33189926, 0.78882202, 0.57366697, 2.08802886,\n",
       "       0.47989683, 0.61254691, 1.33785368, 1.19119206, 1.00732279,\n",
       "       1.38350608, 0.75076379, 0.7807477 , 1.54667617, 0.81416879,\n",
       "       0.52406619, 0.83766599, 1.77986047, 1.22518176, 0.75151365,\n",
       "       1.16489725, 1.1827368 , 0.96308161, 0.99577425, 0.95128291,\n",
       "       1.6701074 , 0.52020234])"
      ]
     },
     "execution_count": 29,
     "metadata": {},
     "output_type": "execute_result"
    }
   ],
   "source": [
    "experiment.M.data[0]"
   ]
  },
  {
   "cell_type": "code",
   "execution_count": null,
   "metadata": {
    "collapsed": true
   },
   "outputs": [],
   "source": []
  }
 ],
 "metadata": {
  "kernelspec": {
   "display_name": "manifold_env_april2",
   "language": "python",
   "name": "manifold_env_april2"
  },
  "language_info": {
   "codemirror_mode": {
    "name": "ipython",
    "version": 3
   },
   "file_extension": ".py",
   "mimetype": "text/x-python",
   "name": "python",
   "nbconvert_exporter": "python",
   "pygments_lexer": "ipython3",
   "version": "3.5.5"
  }
 },
 "nbformat": 4,
 "nbformat_minor": 2
}
