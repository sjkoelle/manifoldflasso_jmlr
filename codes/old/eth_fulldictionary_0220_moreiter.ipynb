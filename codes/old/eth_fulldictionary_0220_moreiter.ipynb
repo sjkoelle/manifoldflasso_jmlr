{
 "cells": [
  {
   "cell_type": "code",
   "execution_count": 1,
   "metadata": {
    "collapsed": true
   },
   "outputs": [],
   "source": [
    "import matplotlib\n",
    "matplotlib.use('Agg')\n",
    "import matplotlib.pyplot as plt\n",
    "from matplotlib import rcParams\n",
    "from matplotlib.lines import Line2D\n",
    "from pylab import rcParams\n",
    "rcParams['figure.figsize'] = 25, 10\n",
    "import numpy as np \n",
    "import dill as pickle\n",
    "import os\n",
    "import random\n",
    "import datetime \n",
    "import sys \n",
    "import seaborn as sns\n",
    "from einops import rearrange\n",
    "import matplotlib as mpl\n",
    "from matplotlib.patches import Rectangle\n",
    "mpl.rcParams['text.usetex'] = True\n",
    "mpl.rcParams['text.latex.preamble'] = [r'\\usepackage{amsmath}'] #for \\text command\n",
    "\n",
    "np.random.seed(0)\n",
    "random.seed(0)\n",
    "now = datetime.datetime.now().strftime(\"%B_%d_%Y_%H_%M_%S\")\n",
    "workingdirectory = os.popen('git rev-parse --show-toplevel').read()[:-1]\n",
    "sys.path.append(workingdirectory)\n",
    "os.chdir(workingdirectory)\n",
    "\n",
    "from codes.flasso.Replicate import Replicate\n",
    "from codes.experimentclasses.AtomicRegression2 import AtomicRegression\n",
    "from codes.otherfunctions.get_cosines import get_cosines\n",
    "from codes.plotting.supportrecovery import plot_watch3,plot_reg_path_ax_lambdasearch_customcolors_norm\n",
    "from itertools import combinations\n",
    "\n",
    "def get_names(subset):\n",
    "    \n",
    "    names = np.zeros(len(subset), dtype = object)\n",
    "    for s in range(len(subset)):\n",
    "        names[s] = r\"$g_{{{}}}$\".format(subset[s])\n",
    "    return(names)\n",
    "\n",
    "def get_color_subset(color_superset, superset, subset):\n",
    "    \n",
    "    colors_subset = np.zeros((len(subset),4 ))\n",
    "    print(subset.shape,colors_subset.shape)\n",
    "    for s in range(len(subset)):\n",
    "        colors_subset[s] = color_superset[np.where(superset == subset[s])[0]] \n",
    "    return(colors_subset)"
   ]
  },
  {
   "cell_type": "code",
   "execution_count": 2,
   "metadata": {
    "collapsed": true
   },
   "outputs": [],
   "source": []
  },
  {
   "cell_type": "code",
   "execution_count": 4,
   "metadata": {
    "collapsed": true
   },
   "outputs": [],
   "source": [
    "from codes.flasso.GradientGroupLasso import get_sr_lambda_sam_parallel\n"
   ]
  },
  {
   "cell_type": "code",
   "execution_count": 7,
   "metadata": {},
   "outputs": [
    {
     "name": "stdout",
     "output_type": "stream",
     "text": [
      "initializing lambda search\n",
      "converged 1088.3520817054798\n",
      "0 544.1760408527399 probe\n",
      "1 816.2640612791099 probe\n",
      "converged 816.2640612791099\n",
      "2 952.3080714922949 probe\n",
      "converged 952.3080714922949\n",
      "we did it [196 745]\n"
     ]
    }
   ],
   "source": [
    "\n",
    "gl_itermax = 5000\n",
    "max_search = 30\n",
    "reg_l2 = 0.\n",
    "tol = 1e-14\n",
    "learning_rate = 100\n",
    "dim = 2\n",
    "for r in range(1):\n",
    "    ul = np.linalg.norm(np.einsum('n d m, n d p -> n p m ', replicates[r].df_M, replicates[r].dg_M),\n",
    "                        axis=tuple([0, 2])).max()\n",
    "    lambdas_start = [0., ul]\n",
    "    replicates[r].results2 = get_sr_lambda_sam_parallel(replicates[r], gl_itermax, lambdas_start, reg_l2, max_search,\n",
    "                                                       dim, tol, learning_rate)\n"
   ]
  },
  {
   "cell_type": "code",
   "execution_count": null,
   "metadata": {
    "collapsed": true
   },
   "outputs": [],
   "source": [
    "downsample_indices  = np.asarray([])"
   ]
  },
  {
   "cell_type": "code",
   "execution_count": 110,
   "metadata": {},
   "outputs": [
    {
     "ename": "NameError",
     "evalue": "name 'atoms4' is not defined",
     "output_type": "error",
     "traceback": [
      "\u001b[0;31m---------------------------------------------------------------------------\u001b[0m",
      "\u001b[0;31mNameError\u001b[0m                                 Traceback (most recent call last)",
      "\u001b[0;32m<ipython-input-110-d9f0d8f56420>\u001b[0m in \u001b[0;36m<module>\u001b[0;34m()\u001b[0m\n\u001b[0;32m----> 1\u001b[0;31m \u001b[0matoms4\u001b[0m\u001b[0;34m\u001b[0m\u001b[0m\n\u001b[0m",
      "\u001b[0;31mNameError\u001b[0m: name 'atoms4' is not defined"
     ]
    }
   ],
   "source": [
    "atoms4"
   ]
  },
  {
   "cell_type": "code",
   "execution_count": 155,
   "metadata": {
    "collapsed": true
   },
   "outputs": [],
   "source": [
    "def get_indices_matching_modulo(search_atoms4 , target_atoms4):\n",
    "    \n",
    "    nsearch = search_atoms4.shape[0]\n",
    "    output = np.zeros(search_atoms4.shape[0])\n",
    "    for n in range(nsearch):\n",
    "         probes = np.asarray([search_atoms4[n,[0, 1, 2, 3]],\n",
    "                              search_atoms4[n,[0,2,1,3]],\n",
    "                             search_atoms4[n,[3,1,2,0]],\n",
    "                              search_atoms4[n,[3,2,1,0]]])\n",
    "        \n",
    "         output[n] = np.concatenate([np.where((target_atoms4 == probes[p]).all(axis=1))[0] for p in range(4)])\n",
    "    return(np.asarray(output, dtype = int))"
   ]
  },
  {
   "cell_type": "code",
   "execution_count": 156,
   "metadata": {},
   "outputs": [
    {
     "data": {
      "text/plain": [
       "array([ 14,  44,  68,  20,  50,  74,  26,  56,  80,  31, 152, 176])"
      ]
     },
     "execution_count": 156,
     "metadata": {},
     "output_type": "execute_result"
    }
   ],
   "source": [
    "get_indices_matching_modulo(search_atoms4 , target_atoms4)"
   ]
  },
  {
   "cell_type": "code",
   "execution_count": 113,
   "metadata": {},
   "outputs": [],
   "source": [
    "ii = np.asarray([0, 0, 0, 0, 1, 1, 1, 2])  # atom adjacencies for dihedral angle computation\n",
    "jj = np.asarray([1, 2, 3, 4, 5, 6, 7, 8])"
   ]
  },
  {
   "cell_type": "code",
   "execution_count": 117,
   "metadata": {
    "collapsed": true
   },
   "outputs": [],
   "source": [
    "from codes.otherfunctions.get_dictionaries import get_atoms_4, get_all_atoms_4"
   ]
  },
  {
   "cell_type": "code",
   "execution_count": 116,
   "metadata": {},
   "outputs": [],
   "source": [
    "atoms4_diagram, p = get_atoms_4(9, ii, jj)"
   ]
  },
  {
   "cell_type": "code",
   "execution_count": 119,
   "metadata": {},
   "outputs": [],
   "source": [
    "atoms4_full, p = get_all_atoms_4(9)"
   ]
  },
  {
   "cell_type": "code",
   "execution_count": 121,
   "metadata": {
    "collapsed": true
   },
   "outputs": [],
   "source": [
    "search_atoms4 = atoms4_diagram\n",
    "target_atoms4 = atoms4_full"
   ]
  },
  {
   "cell_type": "code",
   "execution_count": 158,
   "metadata": {},
   "outputs": [],
   "source": [
    "diagram_ind = get_indices_matching_modulo(search_atoms4 , target_atoms4)"
   ]
  },
  {
   "cell_type": "code",
   "execution_count": 159,
   "metadata": {
    "collapsed": true
   },
   "outputs": [],
   "source": [
    "p = 756"
   ]
  },
  {
   "cell_type": "code",
   "execution_count": 165,
   "metadata": {},
   "outputs": [],
   "source": [
    "possibilities = np.asarray(np.setdiff1d(np.asarray(list(range(p))), diagram_ind))"
   ]
  },
  {
   "cell_type": "code",
   "execution_count": 166,
   "metadata": {
    "collapsed": true
   },
   "outputs": [],
   "source": [
    "import random"
   ]
  },
  {
   "cell_type": "code",
   "execution_count": 178,
   "metadata": {},
   "outputs": [
    {
     "data": {
      "text/plain": [
       "array([ 14,  44,  68,  20,  50,  74,  26,  56,  80,  31, 152, 176, 734, 628, 161, 329, 111])"
      ]
     },
     "execution_count": 178,
     "metadata": {},
     "output_type": "execute_result"
    }
   ],
   "source": [
    "keepind[:50]"
   ]
  },
  {
   "cell_type": "code",
   "execution_count": 182,
   "metadata": {
    "collapsed": true
   },
   "outputs": [],
   "source": [
    "#let us gaze into the malonaldehyde:\n",
    "with open('/Users/samsonkoelle/manifoldflasso_jmlr/untracked_data/embeddings/ethanol/ethanol_0219_fullreplicates_small_abscos.pkl' ,\n",
    "         'rb') as loader:\n",
    "     replicates = pickle.load(loader)\n"
   ]
  },
  {
   "cell_type": "code",
   "execution_count": 183,
   "metadata": {},
   "outputs": [
    {
     "name": "stdout",
     "output_type": "stream",
     "text": [
      "initializing lambda search\n",
      "converged 756.9995925019307\n",
      "0 378.49979625096535 probe\n",
      "converged 378.49979625096535\n",
      "we did it [0 9]\n",
      "initializing lambda search\n",
      "converged 787.3482569623073\n",
      "0 393.6741284811537 probe\n",
      "converged 393.6741284811537\n",
      "we did it [0 9]\n",
      "initializing lambda search\n",
      "converged 750.2825399738872\n",
      "0 375.1412699869436 probe\n",
      "converged 375.1412699869436\n",
      "we did it [0 9]\n",
      "initializing lambda search\n",
      "converged 801.1151694898494\n",
      "0 400.5575847449247 probe\n",
      "converged 400.5575847449247\n",
      "we did it [0 9]\n",
      "initializing lambda search\n",
      "converged 747.2745413000712\n",
      "0 373.6372706500356 probe\n",
      "converged 373.6372706500356\n",
      "we did it [ 0 11]\n"
     ]
    }
   ],
   "source": [
    "\n",
    "gl_itermax = 500\n",
    "max_search = 30\n",
    "reg_l2 = 0.\n",
    "tol = 1e-14\n",
    "learning_rate = 100\n",
    "dim = 2\n",
    "for r in range(5):\n",
    "    rs = random.sample(list(possibilities), 5)\n",
    "    keepind = diagram_ind#np.concatenate([diagram_ind, rs])\n",
    "    replicates[r].dg_M = replicates[r].dg_M[:,:,keepind]\n",
    "    ul = np.linalg.norm(np.einsum('n d m, n d p -> n p m ', replicates[r].df_M, replicates[r].dg_M),\n",
    "                        axis=tuple([0, 2])).max()\n",
    "    lambdas_start = [0., ul]\n",
    "    replicates[r].results2 = get_sr_lambda_sam_parallel(replicates[r], gl_itermax, lambdas_start, reg_l2, max_search,\n",
    "                                                       dim, tol, learning_rate)\n"
   ]
  },
  {
   "cell_type": "code",
   "execution_count": null,
   "metadata": {
    "collapsed": true
   },
   "outputs": [],
   "source": []
  },
  {
   "cell_type": "code",
   "execution_count": null,
   "metadata": {
    "collapsed": true
   },
   "outputs": [],
   "source": []
  },
  {
   "cell_type": "code",
   "execution_count": 10,
   "metadata": {},
   "outputs": [
    {
     "name": "stdout",
     "output_type": "stream",
     "text": [
      "Collecting sympy\n",
      "  Downloading sympy-1.6.2-py3-none-any.whl (5.8 MB)\n",
      "\u001b[K     |████████████████████████████████| 5.8 MB 1.3 MB/s eta 0:00:01\n",
      "\u001b[?25hCollecting mpmath>=0.19\n",
      "  Downloading mpmath-1.2.1-py3-none-any.whl (532 kB)\n",
      "\u001b[K     |████████████████████████████████| 532 kB 17.1 MB/s eta 0:00:01\n",
      "\u001b[?25hInstalling collected packages: mpmath, sympy\n",
      "Successfully installed mpmath-1.2.1 sympy-1.6.2\n"
     ]
    }
   ],
   "source": [
    "import sys\n",
    "!{sys.executable} -m pip install sympy"
   ]
  },
  {
   "cell_type": "code",
   "execution_count": 13,
   "metadata": {},
   "outputs": [
    {
     "name": "stdout",
     "output_type": "stream",
     "text": [
      "Collecting pycartan==0.1.5\n",
      "  Using cached pycartan-0.1.5.tar.gz (16 kB)\n",
      "Requirement already satisfied: sympy>=0.7.6 in /Users/samsonkoelle/anaconda3/envs/manifold_env_april/lib/python3.5/site-packages (from pycartan==0.1.5) (1.6.2)\n",
      "Requirement already satisfied: numpy>=1.10.4 in /Users/samsonkoelle/anaconda3/envs/manifold_env_april/lib/python3.5/site-packages (from pycartan==0.1.5) (1.15.2)\n",
      "Requirement already satisfied: symbtools>=0.1.13 in /Users/samsonkoelle/anaconda3/envs/manifold_env_april/lib/python3.5/site-packages (from pycartan==0.1.5) (0.3.1)\n",
      "Requirement already satisfied: ipython>=3.1.0 in /Users/samsonkoelle/anaconda3/envs/manifold_env_april/lib/python3.5/site-packages (from pycartan==0.1.5) (6.5.0)\n",
      "Requirement already satisfied: ipydex>=0.1.2 in /Users/samsonkoelle/anaconda3/envs/manifold_env_april/lib/python3.5/site-packages (from pycartan==0.1.5) (0.11.3)\n",
      "Requirement already satisfied: mpmath>=0.19 in /Users/samsonkoelle/anaconda3/envs/manifold_env_april/lib/python3.5/site-packages (from sympy>=0.7.6->pycartan==0.1.5) (1.2.1)\n",
      "Requirement already satisfied: scipy>=1.0 in /Users/samsonkoelle/anaconda3/envs/manifold_env_april/lib/python3.5/site-packages (from symbtools>=0.1.13->pycartan==0.1.5) (1.1.0)\n",
      "Requirement already satisfied: appnope; sys_platform == \"darwin\" in /Users/samsonkoelle/anaconda3/envs/manifold_env_april/lib/python3.5/site-packages (from ipython>=3.1.0->pycartan==0.1.5) (0.1.0)\n",
      "Requirement already satisfied: traitlets>=4.2 in /Users/samsonkoelle/anaconda3/envs/manifold_env_april/lib/python3.5/site-packages (from ipython>=3.1.0->pycartan==0.1.5) (4.3.2)\n",
      "Requirement already satisfied: pygments in /Users/samsonkoelle/anaconda3/envs/manifold_env_april/lib/python3.5/site-packages (from ipython>=3.1.0->pycartan==0.1.5) (2.6.1)\n",
      "Requirement already satisfied: decorator in /Users/samsonkoelle/anaconda3/envs/manifold_env_april/lib/python3.5/site-packages (from ipython>=3.1.0->pycartan==0.1.5) (4.4.2)\n",
      "Requirement already satisfied: prompt-toolkit<2.0.0,>=1.0.15 in /Users/samsonkoelle/anaconda3/envs/manifold_env_april/lib/python3.5/site-packages (from ipython>=3.1.0->pycartan==0.1.5) (1.0.15)\n",
      "Requirement already satisfied: pexpect; sys_platform != \"win32\" in /Users/samsonkoelle/anaconda3/envs/manifold_env_april/lib/python3.5/site-packages (from ipython>=3.1.0->pycartan==0.1.5) (4.6.0)\n",
      "Requirement already satisfied: simplegeneric>0.8 in /Users/samsonkoelle/anaconda3/envs/manifold_env_april/lib/python3.5/site-packages (from ipython>=3.1.0->pycartan==0.1.5) (0.8.1)\n",
      "Requirement already satisfied: setuptools>=18.5 in /Users/samsonkoelle/anaconda3/envs/manifold_env_april/lib/python3.5/site-packages (from ipython>=3.1.0->pycartan==0.1.5) (40.4.3)\n",
      "Requirement already satisfied: jedi>=0.10 in /Users/samsonkoelle/anaconda3/envs/manifold_env_april/lib/python3.5/site-packages (from ipython>=3.1.0->pycartan==0.1.5) (0.12.1)\n",
      "Requirement already satisfied: backcall in /Users/samsonkoelle/anaconda3/envs/manifold_env_april/lib/python3.5/site-packages (from ipython>=3.1.0->pycartan==0.1.5) (0.1.0)\n",
      "Requirement already satisfied: pickleshare in /Users/samsonkoelle/anaconda3/envs/manifold_env_april/lib/python3.5/site-packages (from ipython>=3.1.0->pycartan==0.1.5) (0.7.4)\n",
      "Requirement already satisfied: ipython_genutils in /Users/samsonkoelle/anaconda3/envs/manifold_env_april/lib/python3.5/site-packages (from traitlets>=4.2->ipython>=3.1.0->pycartan==0.1.5) (0.2.0)\n",
      "Requirement already satisfied: six in /Users/samsonkoelle/anaconda3/envs/manifold_env_april/lib/python3.5/site-packages (from traitlets>=4.2->ipython>=3.1.0->pycartan==0.1.5) (1.14.0)\n",
      "Requirement already satisfied: wcwidth in /Users/samsonkoelle/anaconda3/envs/manifold_env_april/lib/python3.5/site-packages (from prompt-toolkit<2.0.0,>=1.0.15->ipython>=3.1.0->pycartan==0.1.5) (0.1.9)\n",
      "Requirement already satisfied: ptyprocess>=0.5 in /Users/samsonkoelle/anaconda3/envs/manifold_env_april/lib/python3.5/site-packages (from pexpect; sys_platform != \"win32\"->ipython>=3.1.0->pycartan==0.1.5) (0.6.0)\n",
      "Requirement already satisfied: parso>=0.3.0 in /Users/samsonkoelle/anaconda3/envs/manifold_env_april/lib/python3.5/site-packages (from jedi>=0.10->ipython>=3.1.0->pycartan==0.1.5) (0.6.2)\n",
      "Building wheels for collected packages: pycartan\n",
      "  Building wheel for pycartan (setup.py) ... \u001b[?25ldone\n",
      "\u001b[?25h  Created wheel for pycartan: filename=pycartan-0.1.5-py3-none-any.whl size=16652 sha256=39e99bc4d4ffc29f9855056474d3558c657bed1ac2c8b9abe599faf213c5fcde\n",
      "  Stored in directory: /Users/samsonkoelle/Library/Caches/pip/wheels/68/58/49/f28b699f4ac19f616e14802fccd53207b02f4d99eaa8c28cf5\n",
      "Successfully built pycartan\n",
      "Installing collected packages: pycartan\n",
      "Successfully installed pycartan-0.1.5\n"
     ]
    }
   ],
   "source": [
    "import sys\n",
    "!{sys.executable} -m pip install pycartan==0.1.5"
   ]
  },
  {
   "cell_type": "code",
   "execution_count": 12,
   "metadata": {},
   "outputs": [
    {
     "name": "stdout",
     "output_type": "stream",
     "text": [
      "Collecting symbtools\n",
      "  Downloading symbtools-0.3.1.tar.gz (115 kB)\n",
      "\u001b[K     |████████████████████████████████| 115 kB 4.1 MB/s eta 0:00:01\n",
      "\u001b[?25hRequirement already satisfied: sympy>=1.3 in /Users/samsonkoelle/anaconda3/envs/manifold_env_april/lib/python3.5/site-packages (from symbtools) (1.6.2)\n",
      "Requirement already satisfied: numpy>=1.10.4 in /Users/samsonkoelle/anaconda3/envs/manifold_env_april/lib/python3.5/site-packages (from symbtools) (1.15.2)\n",
      "Requirement already satisfied: scipy>=1.0 in /Users/samsonkoelle/anaconda3/envs/manifold_env_april/lib/python3.5/site-packages (from symbtools) (1.1.0)\n",
      "Collecting ipydex>=0.8.2\n",
      "  Downloading ipydex-0.11.3.tar.gz (28 kB)\n",
      "Requirement already satisfied: mpmath>=0.19 in /Users/samsonkoelle/anaconda3/envs/manifold_env_april/lib/python3.5/site-packages (from sympy>=1.3->symbtools) (1.2.1)\n",
      "Requirement already satisfied: ipython>=5.0.0 in /Users/samsonkoelle/anaconda3/envs/manifold_env_april/lib/python3.5/site-packages (from ipydex>=0.8.2->symbtools) (6.5.0)\n",
      "Requirement already satisfied: pexpect in /Users/samsonkoelle/anaconda3/envs/manifold_env_april/lib/python3.5/site-packages (from ipydex>=0.8.2->symbtools) (4.6.0)\n",
      "Requirement already satisfied: pygments in /Users/samsonkoelle/anaconda3/envs/manifold_env_april/lib/python3.5/site-packages (from ipython>=5.0.0->ipydex>=0.8.2->symbtools) (2.6.1)\n",
      "Requirement already satisfied: pickleshare in /Users/samsonkoelle/anaconda3/envs/manifold_env_april/lib/python3.5/site-packages (from ipython>=5.0.0->ipydex>=0.8.2->symbtools) (0.7.4)\n",
      "Requirement already satisfied: simplegeneric>0.8 in /Users/samsonkoelle/anaconda3/envs/manifold_env_april/lib/python3.5/site-packages (from ipython>=5.0.0->ipydex>=0.8.2->symbtools) (0.8.1)\n",
      "Requirement already satisfied: jedi>=0.10 in /Users/samsonkoelle/anaconda3/envs/manifold_env_april/lib/python3.5/site-packages (from ipython>=5.0.0->ipydex>=0.8.2->symbtools) (0.12.1)\n",
      "Requirement already satisfied: backcall in /Users/samsonkoelle/anaconda3/envs/manifold_env_april/lib/python3.5/site-packages (from ipython>=5.0.0->ipydex>=0.8.2->symbtools) (0.1.0)\n",
      "Requirement already satisfied: appnope; sys_platform == \"darwin\" in /Users/samsonkoelle/anaconda3/envs/manifold_env_april/lib/python3.5/site-packages (from ipython>=5.0.0->ipydex>=0.8.2->symbtools) (0.1.0)\n",
      "Requirement already satisfied: prompt-toolkit<2.0.0,>=1.0.15 in /Users/samsonkoelle/anaconda3/envs/manifold_env_april/lib/python3.5/site-packages (from ipython>=5.0.0->ipydex>=0.8.2->symbtools) (1.0.15)\n",
      "Requirement already satisfied: traitlets>=4.2 in /Users/samsonkoelle/anaconda3/envs/manifold_env_april/lib/python3.5/site-packages (from ipython>=5.0.0->ipydex>=0.8.2->symbtools) (4.3.2)\n",
      "Requirement already satisfied: setuptools>=18.5 in /Users/samsonkoelle/anaconda3/envs/manifold_env_april/lib/python3.5/site-packages (from ipython>=5.0.0->ipydex>=0.8.2->symbtools) (40.4.3)\n",
      "Requirement already satisfied: decorator in /Users/samsonkoelle/anaconda3/envs/manifold_env_april/lib/python3.5/site-packages (from ipython>=5.0.0->ipydex>=0.8.2->symbtools) (4.4.2)\n",
      "Requirement already satisfied: ptyprocess>=0.5 in /Users/samsonkoelle/anaconda3/envs/manifold_env_april/lib/python3.5/site-packages (from pexpect->ipydex>=0.8.2->symbtools) (0.6.0)\n",
      "Requirement already satisfied: parso>=0.3.0 in /Users/samsonkoelle/anaconda3/envs/manifold_env_april/lib/python3.5/site-packages (from jedi>=0.10->ipython>=5.0.0->ipydex>=0.8.2->symbtools) (0.6.2)\n",
      "Requirement already satisfied: six>=1.9.0 in /Users/samsonkoelle/anaconda3/envs/manifold_env_april/lib/python3.5/site-packages (from prompt-toolkit<2.0.0,>=1.0.15->ipython>=5.0.0->ipydex>=0.8.2->symbtools) (1.14.0)\n",
      "Requirement already satisfied: wcwidth in /Users/samsonkoelle/anaconda3/envs/manifold_env_april/lib/python3.5/site-packages (from prompt-toolkit<2.0.0,>=1.0.15->ipython>=5.0.0->ipydex>=0.8.2->symbtools) (0.1.9)\n",
      "Requirement already satisfied: ipython_genutils in /Users/samsonkoelle/anaconda3/envs/manifold_env_april/lib/python3.5/site-packages (from traitlets>=4.2->ipython>=5.0.0->ipydex>=0.8.2->symbtools) (0.2.0)\n",
      "Building wheels for collected packages: symbtools, ipydex\n",
      "  Building wheel for symbtools (setup.py) ... \u001b[?25ldone\n",
      "\u001b[?25h  Created wheel for symbtools: filename=symbtools-0.3.1-py2.py3-none-any.whl size=129670 sha256=9d538be76ffff2bc6e6e260eba2e4fc204ec9827ca86a306b5fdb51372ed8602\n",
      "  Stored in directory: /Users/samsonkoelle/Library/Caches/pip/wheels/54/93/42/3d0e57dbced34850f0b6b7d145fd485bcaf6c26fba978783a6\n",
      "  Building wheel for ipydex (setup.py) ... \u001b[?25ldone\n",
      "\u001b[?25h  Created wheel for ipydex: filename=ipydex-0.11.3-py3-none-any.whl size=29357 sha256=fb2389acc79fc420154c9a58ec27fddf98788dbefff25756d63b9a3c74bd1f97\n",
      "  Stored in directory: /Users/samsonkoelle/Library/Caches/pip/wheels/01/de/b0/5177778a5dfa50666b2bb410157f8af68ff8d0061e0b6c9d9f\n",
      "Successfully built symbtools ipydex\n",
      "Installing collected packages: ipydex, symbtools\n",
      "Successfully installed ipydex-0.11.3 symbtools-0.3.1\n"
     ]
    }
   ],
   "source": [
    "import sys\n",
    "!{sys.executable} -m pip install symbtools"
   ]
  },
  {
   "cell_type": "code",
   "execution_count": 15,
   "metadata": {
    "collapsed": true
   },
   "outputs": [],
   "source": [
    "import pycartan"
   ]
  },
  {
   "cell_type": "code",
   "execution_count": 16,
   "metadata": {},
   "outputs": [
    {
     "name": "stdout",
     "output_type": "stream",
     "text": [
      "Help on package pycartan:\n",
      "\n",
      "NAME\n",
      "    pycartan - # -*- coding: utf-8 -*-\n",
      "\n",
      "PACKAGE CONTENTS\n",
      "    core\n",
      "    release\n",
      "\n",
      "FUNCTIONS\n",
      "    reduce(...)\n",
      "        reduce(function, sequence[, initial]) -> value\n",
      "        \n",
      "        Apply a function of two arguments cumulatively to the items of a sequence,\n",
      "        from left to right, so as to reduce the sequence to a single value.\n",
      "        For example, reduce(lambda x, y: x+y, [1, 2, 3, 4, 5]) calculates\n",
      "        ((((1+2)+3)+4)+5).  If initial is present, it is placed before the items\n",
      "        of the sequence in the calculation, and serves as a default when the\n",
      "        sequence is empty.\n",
      "\n",
      "DATA\n",
      "    string_types = (<class 'str'>,)\n",
      "\n",
      "VERSION\n",
      "    0.1.5\n",
      "\n",
      "FILE\n",
      "    /Users/samsonkoelle/anaconda3/envs/manifold_env_april/lib/python3.5/site-packages/pycartan/__init__.py\n",
      "\n",
      "\n"
     ]
    }
   ],
   "source": [
    "help(pycartan)"
   ]
  },
  {
   "cell_type": "code",
   "execution_count": 19,
   "metadata": {},
   "outputs": [],
   "source": [
    "import pycartan as pc"
   ]
  },
  {
   "cell_type": "code",
   "execution_count": 97,
   "metadata": {},
   "outputs": [
    {
     "ename": "ValueError",
     "evalue": "not enough values to unpack (expected 3, got 2)",
     "output_type": "error",
     "traceback": [
      "\u001b[0;31m---------------------------------------------------------------------------\u001b[0m",
      "\u001b[0;31mValueError\u001b[0m                                Traceback (most recent call last)",
      "\u001b[0;32m<ipython-input-97-1063eb8bf35f>\u001b[0m in \u001b[0;36m<module>\u001b[0;34m()\u001b[0m\n\u001b[0;32m----> 1\u001b[0;31m \u001b[0;34m(\u001b[0m\u001b[0mx1\u001b[0m\u001b[0;34m,\u001b[0m \u001b[0mx2\u001b[0m\u001b[0;34m,\u001b[0m \u001b[0mx3\u001b[0m\u001b[0;34m)\u001b[0m\u001b[0;34m,\u001b[0m \u001b[0;34m(\u001b[0m\u001b[0mdx1\u001b[0m\u001b[0;34m,\u001b[0m \u001b[0mdx2\u001b[0m\u001b[0;34m,\u001b[0m \u001b[0mdx3\u001b[0m\u001b[0;34m)\u001b[0m \u001b[0;34m=\u001b[0m \u001b[0mpc\u001b[0m\u001b[0;34m.\u001b[0m\u001b[0msetup_objects\u001b[0m\u001b[0;34m(\u001b[0m\u001b[0;36m2\u001b[0m\u001b[0;34m)\u001b[0m\u001b[0;34m\u001b[0m\u001b[0m\n\u001b[0m",
      "\u001b[0;31mValueError\u001b[0m: not enough values to unpack (expected 3, got 2)"
     ]
    }
   ],
   "source": [
    "(x1, x2, x3), (dx1, dx2, dx3) = pc.setup_objects(2)"
   ]
  },
  {
   "cell_type": "code",
   "execution_count": 99,
   "metadata": {},
   "outputs": [
    {
     "data": {
      "text/plain": [
       "pycartan.core.DifferentialForm"
      ]
     },
     "execution_count": 99,
     "metadata": {},
     "output_type": "execute_result"
    }
   ],
   "source": [
    "type(dx3)"
   ]
  },
  {
   "cell_type": "code",
   "execution_count": 94,
   "metadata": {},
   "outputs": [],
   "source": [
    "hs = dx1.hodge_star()"
   ]
  },
  {
   "cell_type": "code",
   "execution_count": 95,
   "metadata": {},
   "outputs": [
    {
     "data": {
      "text/latex": [
       "$\\displaystyle \\left[\\begin{matrix}0\\\\0\\\\1\\end{matrix}\\right]$"
      ],
      "text/plain": [
       "Matrix([\n",
       "[0],\n",
       "[0],\n",
       "[1]])"
      ]
     },
     "execution_count": 95,
     "metadata": {},
     "output_type": "execute_result"
    }
   ],
   "source": [
    "hs.coeff"
   ]
  },
  {
   "cell_type": "code",
   "execution_count": 82,
   "metadata": {},
   "outputs": [
    {
     "data": {
      "text/plain": [
       "array([[1],\n",
       "       [0],\n",
       "       [0]], dtype=object)"
      ]
     },
     "execution_count": 82,
     "metadata": {},
     "output_type": "execute_result"
    }
   ],
   "source": [
    "np.asarray(dx1.coeff)"
   ]
  },
  {
   "cell_type": "code",
   "execution_count": 33,
   "metadata": {},
   "outputs": [],
   "source": []
  },
  {
   "cell_type": "code",
   "execution_count": 84,
   "metadata": {},
   "outputs": [
    {
     "data": {
      "text/plain": [
       "array([[0],\n",
       "       [-1],\n",
       "       [0]], dtype=object)"
      ]
     },
     "execution_count": 84,
     "metadata": {},
     "output_type": "execute_result"
    }
   ],
   "source": [
    "np.asarray(hs.coeff)"
   ]
  },
  {
   "cell_type": "code",
   "execution_count": 29,
   "metadata": {},
   "outputs": [
    {
     "data": {
      "text/latex": [
       "$\\displaystyle \\left[\\begin{matrix}0\\\\-1\\\\0\\end{matrix}\\right]$"
      ],
      "text/plain": [
       "Matrix([\n",
       "[ 0],\n",
       "[-1],\n",
       "[ 0]])"
      ]
     },
     "execution_count": 29,
     "metadata": {},
     "output_type": "execute_result"
    }
   ],
   "source": [
    "(dx2.hodge_star()).coeff"
   ]
  },
  {
   "cell_type": "code",
   "execution_count": 37,
   "metadata": {},
   "outputs": [
    {
     "data": {
      "text/latex": [
       "$\\displaystyle x_{1}$"
      ],
      "text/plain": [
       "x1"
      ]
     },
     "execution_count": 37,
     "metadata": {},
     "output_type": "execute_result"
    }
   ],
   "source": [
    "x1"
   ]
  },
  {
   "cell_type": "code",
   "execution_count": 42,
   "metadata": {},
   "outputs": [],
   "source": [
    "hs = dx2.hodge_star()"
   ]
  },
  {
   "cell_type": "code",
   "execution_count": 78,
   "metadata": {},
   "outputs": [
    {
     "data": {
      "text/plain": [
       "(1)dx2^dx3"
      ]
     },
     "execution_count": 78,
     "metadata": {},
     "output_type": "execute_result"
    }
   ],
   "source": [
    "hs.get_baseform_from_idcs(tuple([1,2]))"
   ]
  },
  {
   "cell_type": "code",
   "execution_count": 77,
   "metadata": {},
   "outputs": [
    {
     "data": {
      "text/latex": [
       "$\\displaystyle 0$"
      ],
      "text/plain": [
       "0"
      ]
     },
     "execution_count": 77,
     "metadata": {},
     "output_type": "execute_result"
    }
   ],
   "source": [
    "hs.get_coeff(hs.get_baseform_from_idcs(tuple([1,2])))"
   ]
  },
  {
   "cell_type": "code",
   "execution_count": 100,
   "metadata": {},
   "outputs": [
    {
     "ename": "SyntaxError",
     "evalue": "unexpected EOF while parsing (<ipython-input-100-181144691d3a>, line 1)",
     "output_type": "error",
     "traceback": [
      "\u001b[0;36m  File \u001b[0;32m\"<ipython-input-100-181144691d3a>\"\u001b[0;36m, line \u001b[0;32m1\u001b[0m\n\u001b[0;31m    def hodge_star():\u001b[0m\n\u001b[0m                     ^\u001b[0m\n\u001b[0;31mSyntaxError\u001b[0m\u001b[0;31m:\u001b[0m unexpected EOF while parsing\n"
     ]
    }
   ],
   "source": [
    "def hodge_star():\n",
    "    "
   ]
  },
  {
   "cell_type": "code",
   "execution_count": 101,
   "metadata": {
    "collapsed": true
   },
   "outputs": [],
   "source": [
    "space = np.asarray([np.sqrt(2)/2, np.sqrt(2)/2])\n"
   ]
  },
  {
   "cell_type": "code",
   "execution_count": 107,
   "metadata": {},
   "outputs": [
    {
     "data": {
      "text/plain": [
       "array([[0.5, 0.5],\n",
       "       [0.5, 0.5]])"
      ]
     },
     "execution_count": 107,
     "metadata": {},
     "output_type": "execute_result"
    }
   ],
   "source": []
  },
  {
   "cell_type": "code",
   "execution_count": 109,
   "metadata": {},
   "outputs": [
    {
     "data": {
      "text/plain": [
       "(array([[-0.70710678,  0.70710678],\n",
       "        [ 0.70710678,  0.70710678]]),\n",
       " array([1.00000000e+00, 3.14018492e-16]),\n",
       " array([[-0.70710678,  0.70710678],\n",
       "        [-0.70710678, -0.70710678]]))"
      ]
     },
     "execution_count": 109,
     "metadata": {},
     "output_type": "execute_result"
    }
   ],
   "source": [
    "np.linalg.svd(np.identity(2) - np.outer(space, space))"
   ]
  },
  {
   "cell_type": "code",
   "execution_count": null,
   "metadata": {
    "collapsed": true
   },
   "outputs": [],
   "source": []
  }
 ],
 "metadata": {
  "kernelspec": {
   "display_name": "manifold_env_april2",
   "language": "python",
   "name": "manifold_env_april2"
  },
  "language_info": {
   "codemirror_mode": {
    "name": "ipython",
    "version": 3
   },
   "file_extension": ".py",
   "mimetype": "text/x-python",
   "name": "python",
   "nbconvert_exporter": "python",
   "pygments_lexer": "ipython3",
   "version": "3.5.5"
  }
 },
 "nbformat": 4,
 "nbformat_minor": 2
}
