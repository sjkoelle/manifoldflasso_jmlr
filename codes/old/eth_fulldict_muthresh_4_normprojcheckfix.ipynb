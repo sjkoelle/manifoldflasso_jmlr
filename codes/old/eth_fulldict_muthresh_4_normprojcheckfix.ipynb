{
 "cells": [
  {
   "cell_type": "code",
   "execution_count": 1,
   "metadata": {},
   "outputs": [
    {
     "name": "stdout",
     "output_type": "stream",
     "text": [
      "/Users/samsonkoelle/manifoldflasso_jmlr\n",
      "pre-gradient acquisition\n",
      "2021-02-08 15:51:34.072446\n"
     ]
    }
   ],
   "source": [
    "#in this one we check the strange (but not result-effecting) normalization problem....\n",
    "#and downsample points\n",
    "import matplotlib\n",
    "matplotlib.use('Agg')\n",
    "import os\n",
    "import datetime\n",
    "import numpy as np\n",
    "import dill as pickle\n",
    "import random\n",
    "import sys\n",
    "import seaborn as sns\n",
    "import matplotlib\n",
    "matplotlib.use('Agg')\n",
    "import matplotlib.pyplot as plt\n",
    "from matplotlib import rcParams\n",
    "from collections import OrderedDict\n",
    "import math\n",
    "from matplotlib.lines import Line2D\n",
    "from pylab import rcParams\n",
    "from collections import Counter\n",
    "from itertools import combinations\n",
    "#from datetime import datetime\n",
    "\n",
    "from shutil import copyfile\n",
    "rcParams['figure.figsize'] = 25, 10\n",
    "\n",
    "np.random.seed(0)\n",
    "random.seed(0)\n",
    "now = datetime.datetime.now().strftime(\"%B_%d_%Y_%H_%M_%S\")\n",
    "workingdirectory = os.popen('git rev-parse --show-toplevel').read()[:-1]\n",
    "sys.path.append(workingdirectory)\n",
    "os.chdir(workingdirectory)\n",
    "from codes.geometer.RiemannianManifold import RiemannianManifold\n",
    "from codes.experimentclasses.EthanolAngles import EthanolAngles\n",
    "from codes.otherfunctions.get_dictionaries import get_all_atoms_4\n",
    "from codes.otherfunctions.get_grads import get_grads\n",
    "from codes.otherfunctions.multirun import get_support_recovery_lambda\n",
    "from codes.otherfunctions.multirun import get_lower_interesting_lambda\n",
    "from codes.otherfunctions.multirun import get_coeffs_and_lambdas\n",
    "from codes.otherfunctions.multirun import get_support\n",
    "from codes.otherfunctions.multiplot import plot_support_2d\n",
    "from codes.otherfunctions.multiplot import plot_reg_path_ax_lambdasearch\n",
    "from codes.otherfunctions.multiplot import plot_gs_v_dgnorm\n",
    "from codes.otherfunctions.multiplot import plot_dot_distributions\n",
    "from codes.otherfunctions.multirun import get_cosines\n",
    "from codes.flasso.Replicate import Replicate\n",
    "from codes.otherfunctions.multirun import get_olsnorm_and_supportsbrute\n",
    "from codes.otherfunctions.multiplot import highlight_cell\n",
    "\n",
    "\n",
    "\n",
    "from codes.geometer.RiemannianManifold import RiemannianManifold\n",
    "from codes.geometer.ShapeSpace import ShapeSpace\n",
    "from codes.geometer.TangentBundle import TangentBundle\n",
    "\n",
    "\n",
    "\n",
    "#set parameters\n",
    "\n",
    "#set parameters\n",
    "n = 50000 #number of data points to simulate\n",
    "nsel = 100 #number of points to analyze with lasso\n",
    "#lambdas = np.asarray([0,.01,.1,1,10,100], dtype = np.float16)#lambda values for lasso\n",
    "#lambdas = np.asarray(np.hstack([np.asarray([0]),np.logspace(-3,1,11)]), dtype = np.float16)\n",
    "n_neighbors = 1000 #number of neighbors in megaman\n",
    "m = 3 #number of embedding dimensions (diffusion maps)\n",
    "#diffusion_time = 1. #diffusion time controls gaussian kernel radius per gradients paper\n",
    "diffusion_time = 1. #(yuchia suggestion)\n",
    "dim = 2 #manifold dimension\n",
    "dimnoise = 2\n",
    "cores = 3 #number of cores for parallel processing\n",
    "ii = np.asarray([0,0,0,0,1,1,1,2]) # atom adjacencies for dihedral angle computation\n",
    "jj = np.asarray([1,2,3,4,5,6,7,8])\n",
    "atoms4 = np.asarray([[6,1,0,4],[4,0,2,8],[7,6,5,1],[3,0,2,4]],dtype = int)\n",
    "\n",
    "#these are just for loading... probably not necessary\n",
    "nreps = 5\n",
    "lambda_max = 1\n",
    "\n",
    "folder = workingdirectory + '/Figures/ethanol/' + now + 'n' + str(n) + 'nsel' + str(nsel) + 'nreps' + str(nreps)\n",
    "os.mkdir(folder)\n",
    "\n",
    "\n",
    "new_MN = True\n",
    "new_grad = True\n",
    "savename = 'ethanol_020521'\n",
    "savefolder = 'ethanol'\n",
    "loadfolder = 'ethanol'\n",
    "loadname = 'ethanol_020521'\n",
    "data_wd = '/Users/samsonkoelle/Downloads/manigrad-100818/mani-samk-gradients/'\n",
    "\n",
    "new_MN = True\n",
    "new_grad = True\n",
    "if new_MN == True:\n",
    "    experiment = EthanolAngles(dim,  ii, jj,cores,atoms4)\n",
    "    projector  = np.load(data_wd + '/untracked_data/chemistry_data/ethanolangles022119_pca50_components.npy')\n",
    "    experiment.M = experiment.load_data(workingdirectory = data_wd)  # if noise == False then noise parameters are overriden\n",
    "    experiment.Mpca = RiemannianManifold(np.load(data_wd + '/untracked_data/chemistry_data/ethanolangles022119_pca50.npy'), dim)\n",
    "    experiment.q = m\n",
    "    experiment.m = m\n",
    "    experiment.dimnoise = dimnoise\n",
    "    experiment.projector = projector\n",
    "natoms = 9\n",
    "tol = 1e-14\n",
    "\n",
    "atoms4,p = get_all_atoms_4(natoms)\n",
    "\n",
    "subset = np.asarray([74, 176, 746, 665])\n",
    "atoms4 = atoms4[subset]\n",
    "p = 4\n",
    "\n",
    "experiment.p = p\n",
    "experiment.atoms4 = atoms4\n",
    "#experiment.itermax = itermax\n",
    "experiment.tol = tol\n",
    "experiment.dnoise = dim\n",
    "experiment.nreps = nreps\n",
    "experiment.nsel = nsel\n",
    "experiment.folder = folder\n",
    "\n",
    "replicates = {}\n",
    "selected_points_save = np.zeros((nreps,nsel))\n",
    "\n",
    "print('pre-gradient acquisition')\n",
    "print(datetime.datetime.now())\n"
   ]
  },
  {
   "cell_type": "code",
   "execution_count": 7,
   "metadata": {
    "collapsed": true
   },
   "outputs": [],
   "source": [
    "def get_cos_full_ind(dg, ind):\n",
    "    n = dg.shape[0]\n",
    "    p = dg.shape[1]\n",
    "    d = dg.shape[2]\n",
    "    l = len(ind)\n",
    "    coses = np.zeros((n, l, p))\n",
    "    for i in range(n):\n",
    "        #print(i)\n",
    "        for j in range(l):\n",
    "            for k in range(p):\n",
    "                #if ind[j] != k:\n",
    "                coses[i, j, k] = cosine_similarity(dg[i, ind[j], :], dg[i, k,:])  # sklearn.metrics.pairwise.cosine_similarity(X = np.reshape(dg[:,i,:], (1,d*n)),Y = np.reshape(dg[:,j,:], (1,d*n)))[0][0]\n",
    "    # cos_summary = np.abs(coses).sum(axis = 0) / n\n",
    "    #cos_summary = np.sum(coses ** 2, axis=0) / n\n",
    "    \n",
    "    return (coses)\n",
    "\n",
    "\n",
    "def get_incoherent_dictionary_include(dg_M, thresh, include):\n",
    "    \n",
    "    incoherent_indices = include\n",
    "\n",
    "    #dg_M_down = \n",
    "    keepers = np.asarray(list(range(dg_M.shape[2])))\n",
    "    coses = get_cos_full_ind(np.swapaxes(dg_M[:,:,keepers],1,2)*n, include)#**2\n",
    "    print(coses.shape)\n",
    "    cos_mean = coses.mean(axis = 0)\n",
    "    keepers = np.where(np.abs(cos_mean).max(axis = 0) < thresh)[0]\n",
    "    \n",
    "    for i in range(dg_M.shape[2]):\n",
    "        #print(i)\n",
    "        id_add = np.linalg.norm(dg_M[:,:,keepers], axis = tuple([0,1])).argmax()\n",
    "        ind_add = keepers[id_add]\n",
    "        incoherent_indices = np.append(incoherent_indices, ind_add)\n",
    "        \n",
    "        #ic_ind= np.linalg.norm(dg_M[:,:,keepers], axis = tuple([0,1])).argmax()\n",
    "        #coses = get_cos_full_ind(np.swapaxes(dg_M[:,:,keepers],1,2)*n, [id_add])[:,0,:]\n",
    "        coses = get_cos_full_ind(np.swapaxes(dg_M[:,:,keepers],1,2)*n, [id_add])#**2\n",
    "        #keepers = keepers[np.where(np.mean(np.abs(coses), axis = 0) < thresh)[0]]\n",
    "        #keepers = keepers[np.where(np.mean(np.abs(coses), axis = 0) < thresh)[0]]\n",
    "        keepers = keepers[np.where(np.abs(np.mean(coses, axis = 0)) < thresh)[1]]\n",
    "        #print(keepers)\n",
    "        if len(keepers) == 0:\n",
    "            print(i)\n",
    "            break\n",
    "            \n",
    "    return(np.asarray(incoherent_indices, dtype = int))\n",
    "\n",
    "def get_incoherent_dictionary_include_median(dg_M, thresh, include):\n",
    "    \n",
    "    incoherent_indices = include\n",
    "\n",
    "    #dg_M_down = \n",
    "    keepers = np.asarray(list(range(dg_M.shape[2])))\n",
    "    coses = get_cos_full_ind(np.swapaxes(dg_M[:,:,keepers],1,2)*n, include)#**2\n",
    "    print(coses.shape)\n",
    "    cos_mean = coses.mean(axis = 0)\n",
    "    keepers = np.where(np.abs(cos_mean).max(axis = 0) < thresh)[0]\n",
    "    \n",
    "    for i in range(dg_M.shape[2]):\n",
    "        #print(i)\n",
    "        id_add = np.median(np.linalg.norm(dg_M[:,:,keepers], axis = tuple([1])), axis = 0).argmax()\n",
    "        ind_add = keepers[id_add]\n",
    "        incoherent_indices = np.append(incoherent_indices, ind_add)\n",
    "        \n",
    "        #ic_ind= np.linalg.norm(dg_M[:,:,keepers], axis = tuple([0,1])).argmax()\n",
    "        #coses = get_cos_full_ind(np.swapaxes(dg_M[:,:,keepers],1,2)*n, [id_add])[:,0,:]\n",
    "        coses = get_cos_full_ind(np.swapaxes(dg_M[:,:,keepers],1,2)*n, [id_add])#**2\n",
    "        #keepers = keepers[np.where(np.mean(np.abs(coses), axis = 0) < thresh)[0]]\n",
    "        #keepers = keepers[np.where(np.mean(np.abs(coses), axis = 0) < thresh)[0]]\n",
    "        keepers = keepers[np.where(np.abs(np.mean(coses, axis = 0)) < thresh)[1]]\n",
    "        #print(keepers)\n",
    "        if len(keepers) == 0:\n",
    "            print(i)\n",
    "            break\n",
    "            \n",
    "    return(np.asarray(incoherent_indices, dtype = int))\n",
    "\n",
    "def cosine_similarity(a, b):\n",
    "    output = np.dot(a, b) / (np.linalg.norm(a) * np.linalg.norm(b))\n",
    "    return (output)\n",
    "\n",
    "def get_kappa_s(dg_M):\n",
    "    n = dg_M.shape[0]\n",
    "    d= dg_M.shape[1]\n",
    "    p = dg_M.shape[2]\n",
    "    maxes = np.zeros(n)\n",
    "    #coses_zerodiag = coses.copy()\n",
    "    kappa_ij= np.zeros((n,p))\n",
    "    for i in range(n):\n",
    "        kappa_ij[i] = np.linalg.norm(dg_M[i], axis = 0)\n",
    "    kappa_i = np.max(kappa_ij, axis = 1) / np.min(kappa_ij, axis = 1)\n",
    "    kappa = np.max(kappa_i)    \n",
    "    return(kappa)\n",
    "\n",
    "def get_coses_full_ind(dg, ind):\n",
    "    n = dg.shape[0]\n",
    "    p = dg.shape[1]\n",
    "    d = dg.shape[2]\n",
    "    l = len(ind)\n",
    "    coses = np.zeros((n, l, p))\n",
    "    \n",
    "    for i in range(n):\n",
    "        #print(i)\n",
    "        for j in range(l):\n",
    "            for k in range(p):\n",
    "                if ind[j] != k:\n",
    "                    coses[i, j, k] = cosine_similarity(dg[i, ind[j], :], dg[i, k,:])  # sklearn.metrics.pairwise.cosine_similarity(X = np.reshape(dg[:,i,:], (1,d*n)),Y = np.reshape(dg[:,j,:], (1,d*n)))[0][0]\n",
    "    # cos_summary = np.abs(coses).sum(axis = 0) / n\n",
    "    #cos_summary = np.sum(coses ** 2, axis=0) / n\n",
    "    return (coses)\n",
    "\n",
    "def get_mu_full_ind(dg, ind):\n",
    "    n = dg.shape[0]\n",
    "    p = dg.shape[1]\n",
    "    d = dg.shape[2]\n",
    "    l = len(ind)\n",
    "    coses = np.zeros((n, l, p))\n",
    "    for i in range(n):\n",
    "        #print(i)\n",
    "        for j in range(l):\n",
    "            for k in range(p):\n",
    "                if ind[j] != k:\n",
    "                    coses[i, j, k] = cosine_similarity(dg[i, ind[j], :], dg[i, k,:])  # sklearn.metrics.pairwise.cosine_similarity(X = np.reshape(dg[:,i,:], (1,d*n)),Y = np.reshape(dg[:,j,:], (1,d*n)))[0][0]\n",
    "    # cos_summary = np.abs(coses).sum(axis = 0) / n\n",
    "    #cos_summary = np.sum(coses ** 2, axis=0) / n\n",
    "    return (coses.max())\n",
    "\n",
    "def get_min_min(dg_M):\n",
    "    n = dg_M.shape[0]\n",
    "    d= dg_M.shape[1]\n",
    "    p = dg_M.shape[2]\n",
    "    maxes = np.zeros(n)\n",
    "    #coses_zerodiag = coses.copy()\n",
    "    kappa_ij= np.zeros((n,p))\n",
    "    for i in range(n):\n",
    "        kappa_ij[i] = np.linalg.norm(dg_M[i], axis = 0)\n",
    "    min_min = np.min(kappa_ij)\n",
    "    return(min_min)\n",
    "\n",
    "def get_gamma_max(dg_M):\n",
    "    output = np.sum(np.sum(dg_M**2, axis = 1), axis = 0).max()\n",
    "    return(output)\n",
    "\n",
    "# def get_cosines(self, dg):\n",
    "def get_cosines_full(dg):\n",
    "    n = dg.shape[0]\n",
    "    p = dg.shape[1]\n",
    "    d = dg.shape[2]\n",
    "    coses = np.zeros((n, p, p))\n",
    "    for i in range(n):\n",
    "        #print(i)\n",
    "        for j in range(p):\n",
    "            for k in range(p):\n",
    "                coses[i, j, k] = cosine_similarity(dg[i, j, :], dg[i, k,:])  # sklearn.metrics.pairwise.cosine_similarity(X = np.reshape(dg[:,i,:], (1,d*n)),Y = np.reshape(dg[:,j,:], (1,d*n)))[0][0]\n",
    "    # cos_summary = np.abs(coses).sum(axis = 0) / n\n",
    "    #cos_summary = np.sum(coses ** 2, axis=0) / n\n",
    "    return (coses)\n",
    "\n",
    "def cosine_similarity(a, b):\n",
    "    output = np.dot(a, b) / (np.linalg.norm(a) * np.linalg.norm(b))\n",
    "    return (output)\n",
    "\n",
    "# def get_cosines(self, dg):\n",
    "def get_cosines2(dg):\n",
    "    n = dg.shape[0]\n",
    "    p = dg.shape[1]\n",
    "    d = dg.shape[2]\n",
    "\n",
    "    coses = np.zeros((n, p, p))\n",
    "    for i in range(n):\n",
    "        print(i)\n",
    "        for j in range(p):\n",
    "            for k in range(p):\n",
    "                coses[i, j, k] = cosine_similarity(dg[i, j, :], dg[i, k,:])  # sklearn.metrics.pairwise.cosine_similarity(X = np.reshape(dg[:,i,:], (1,d*n)),Y = np.reshape(dg[:,j,:], (1,d*n)))[0][0]\n",
    "    # cos_summary = np.abs(coses).sum(axis = 0) / n\n",
    "    #cos_summary = np.sum(coses ** 2, axis=0) / n\n",
    "    return (coses)\n",
    "\n",
    "\n",
    "def get_grads2(experiment, Mpca, Mangles, N, selected_points,svd):\n",
    "    dimnoise = experiment.dimnoise\n",
    "    dim = experiment.dim\n",
    "    cores = experiment.cores\n",
    "\n",
    "    tangent_bases = Mpca.get_wlpca_tangent_sel(Mpca, selected_points, dimnoise)\n",
    "    subM = RiemannianManifold(Mpca.data[selected_points], dim)\n",
    "    subM.tb = TangentBundle(subM, tangent_bases)\n",
    "    N.tangent_bundle = TangentBundle(N, np.swapaxes(N.geom.rmetric.Hvv[:,:dim,:],1,2))\n",
    "\n",
    "    df_M = experiment.get_dF_js_idM(Mpca, N, subM.tb, N.tangent_bundle, selected_points, dimnoise)\n",
    "    \n",
    "    n = len(selected_points)\n",
    "    df_M2 = df_M / ((1/n)*np.sum(np.linalg.norm(df_M, axis=1) ** 2, axis=0)**(0.5))\n",
    "    dg_x = experiment.get_dx_g_full(Mangles.data[selected_points])\n",
    "\n",
    "    W = ShapeSpace(experiment.positions, Mangles.data)\n",
    "    dw = W.get_dw(cores, experiment.atoms3, experiment.natoms, selected_points)\n",
    "    dg_w = experiment.project(np.swapaxes(dw, 1, 2),\n",
    "                              experiment.project(dw, dg_x))\n",
    "\n",
    "    dg_w_pca = np.asarray([svd.transform( dg_w[j]).transpose() for j in range(len(selected_points))])\n",
    "    #dg_w_pca = np.asarray([svd.transform( dg_w[j].transpose()).transpose() for j in range(len(selected_points))])\n",
    "    dgw_norm = experiment.normalize(dg_w_pca)\n",
    "    dg_M = np.einsum('n b d, n b p -> n d p', subM.tb.tangent_bases, dgw_norm) #experiment.project(subM.tb.tangent_bases, dgw_norm)\n",
    "    return (df_M2, dg_M, dg_w, dg_w_pca, dgw_norm,tangent_bases)"
   ]
  },
  {
   "cell_type": "code",
   "execution_count": 3,
   "metadata": {
    "collapsed": true
   },
   "outputs": [],
   "source": [
    "from sklearn.decomposition import TruncatedSVD"
   ]
  },
  {
   "cell_type": "code",
   "execution_count": 4,
   "metadata": {
    "collapsed": true
   },
   "outputs": [],
   "source": []
  },
  {
   "cell_type": "code",
   "execution_count": 5,
   "metadata": {
    "collapsed": true
   },
   "outputs": [],
   "source": []
  },
  {
   "cell_type": "code",
   "execution_count": 6,
   "metadata": {
    "collapsed": true
   },
   "outputs": [],
   "source": []
  },
  {
   "cell_type": "code",
   "execution_count": 60,
   "metadata": {
    "collapsed": true
   },
   "outputs": [],
   "source": [
    "svd = TruncatedSVD(n_components=50)\n",
    "svd.fit(experiment.M.data)\n",
    "data_pca = svd.transform(experiment.M.data)\n",
    "experiment.Mpca.data = data_pca\n",
    "experiment.Mpca.geom = experiment.Mpca.compute_geom(diffusion_time, n_neighbors)\n",
    "experiment.N = experiment.Mpca.get_embedding3(experiment.Mpca.geom, m, diffusion_time, dim)\n",
    "\n",
    "atoms4,p = get_all_atoms_4(natoms)\n",
    "#trueandsel = [74,176,746,665]\n",
    "experiment.atoms4 = atoms4#[trueandsel]\n",
    "experiment.p = experiment.atoms4.shape[0]#4"
   ]
  },
  {
   "cell_type": "code",
   "execution_count": null,
   "metadata": {
    "collapsed": true
   },
   "outputs": [],
   "source": [
    "\n",
    "#print(i)\n",
    "#selected_points = np.random.choice(list(range(n)),nsel,replace = False)\n",
    "#selected_points_save[i] = selected_points\n",
    "selected_points = sp\n",
    "i = 0\n",
    "#experiment.atoms4 = atoms4[]\n",
    "replicates[i] = Replicate()\n",
    "replicates[i].nsel = nsel\n",
    "replicates[i].selected_points = selected_points\n",
    "replicates[i].df_M,replicates[i].dg_M,replicates[i].dg_w ,replicates[i].dg_w_pca ,replicates[i].dgw_norm, replicates[i].tangent_bases  = get_grads2(experiment, experiment.Mpca, experiment.M, experiment.N, selected_points,svd)\n",
    "#replicates[i].dg_M = np.swapaxes(replicates[i].dg_M, 1,2)\n",
    "#replicates[i].df_M = replicates[i].tangent_bases\n",
    "#replicates[i].dg_M = np.swapaxes(replicates[i].dg_M,1,2)"
   ]
  },
  {
   "cell_type": "code",
   "execution_count": 61,
   "metadata": {},
   "outputs": [],
   "source": [
    "\n",
    "sp = np.asarray([16215, 49362, 19182, 18592, 49137, 22288, 33303, 24487,  9851,\n",
    "       18010, 14923,   473,  6696, 43574, 22256,  7345, 30498, 37444,\n",
    "       23306, 18568, 20719, 16613,  5449, 31904, 27301, 21321, 14799,\n",
    "       17370, 16440, 13743, 30374, 23904,  7957, 12666, 23161,  3581,\n",
    "       20040, 37326, 25515, 31674, 37251, 34756, 19735,  7506,  6464,\n",
    "        7428,  6885, 10172, 44424,  9368, 25457, 48791, 28860, 29399,\n",
    "        6052, 27010, 13498, 42576, 38368, 40955, 11658, 24212, 19112,\n",
    "        3600, 43800, 12911, 18539, 45952, 46354, 22614,  9057,  8499,\n",
    "       41901, 15552, 18995,  8862, 46522, 11032,  6227, 36776, 36392,\n",
    "       39113, 31308,  7973,  4861, 12368, 24716, 23979, 24628, 36028,\n",
    "       38922, 27212, 40210,  8180, 32033, 11462, 27260,  7752,  9394,\n",
    "       20369])\n",
    "selected_points = sp"
   ]
  },
  {
   "cell_type": "code",
   "execution_count": 62,
   "metadata": {
    "collapsed": true
   },
   "outputs": [],
   "source": [
    "#experiment\n",
    "Mpca = experiment.Mpca\n",
    "Mangles = experiment.M\n",
    "N = experiment.N\n",
    "#selected_points\n",
    "#svd"
   ]
  },
  {
   "cell_type": "code",
   "execution_count": 63,
   "metadata": {},
   "outputs": [
    {
     "ename": "ValueError",
     "evalue": "operands could not be broadcast together with remapped shapes [original->remapped]: (100,50,2)->(100,2,newaxis,50) (100,756,50)->(100,newaxis,50,756) ",
     "output_type": "error",
     "traceback": [
      "\u001b[0;31m---------------------------------------------------------------------------\u001b[0m",
      "\u001b[0;31mValueError\u001b[0m                                Traceback (most recent call last)",
      "\u001b[0;32m<ipython-input-63-b792602878a0>\u001b[0m in \u001b[0;36m<module>\u001b[0;34m()\u001b[0m\n\u001b[1;32m     22\u001b[0m \u001b[0;31m#dg_w_pca = np.asarray([svd.transform( dg_w[j].transpose()).transpose() for j in range(len(selected_points))])\u001b[0m\u001b[0;34m\u001b[0m\u001b[0;34m\u001b[0m\u001b[0m\n\u001b[1;32m     23\u001b[0m \u001b[0mdgw_norm\u001b[0m \u001b[0;34m=\u001b[0m \u001b[0mexperiment\u001b[0m\u001b[0;34m.\u001b[0m\u001b[0mnormalize\u001b[0m\u001b[0;34m(\u001b[0m\u001b[0mnp\u001b[0m\u001b[0;34m.\u001b[0m\u001b[0mswapaxes\u001b[0m\u001b[0;34m(\u001b[0m\u001b[0mdg_w_pca\u001b[0m\u001b[0;34m,\u001b[0m\u001b[0;36m1\u001b[0m\u001b[0;34m,\u001b[0m\u001b[0;36m2\u001b[0m\u001b[0;34m)\u001b[0m\u001b[0;34m)\u001b[0m\u001b[0;34m\u001b[0m\u001b[0m\n\u001b[0;32m---> 24\u001b[0;31m \u001b[0mdg_M\u001b[0m \u001b[0;34m=\u001b[0m \u001b[0mnp\u001b[0m\u001b[0;34m.\u001b[0m\u001b[0meinsum\u001b[0m\u001b[0;34m(\u001b[0m\u001b[0;34m'n b d, n b p -> n d p'\u001b[0m\u001b[0;34m,\u001b[0m \u001b[0msubM\u001b[0m\u001b[0;34m.\u001b[0m\u001b[0mtb\u001b[0m\u001b[0;34m.\u001b[0m\u001b[0mtangent_bases\u001b[0m\u001b[0;34m,\u001b[0m \u001b[0mdgw_norm\u001b[0m\u001b[0;34m)\u001b[0m \u001b[0;31m#experiment.project(subM.tb.tangent_bases, dgw_norm)\u001b[0m\u001b[0;34m\u001b[0m\u001b[0m\n\u001b[0m",
      "\u001b[0;32m~/anaconda3/envs/manifold_env_april/lib/python3.5/site-packages/numpy/core/einsumfunc.py\u001b[0m in \u001b[0;36meinsum\u001b[0;34m(*operands, **kwargs)\u001b[0m\n\u001b[1;32m   1226\u001b[0m     \u001b[0;31m# If no optimization, run pure einsum\u001b[0m\u001b[0;34m\u001b[0m\u001b[0;34m\u001b[0m\u001b[0m\n\u001b[1;32m   1227\u001b[0m     \u001b[0;32mif\u001b[0m \u001b[0moptimize_arg\u001b[0m \u001b[0;32mis\u001b[0m \u001b[0;32mFalse\u001b[0m\u001b[0;34m:\u001b[0m\u001b[0;34m\u001b[0m\u001b[0m\n\u001b[0;32m-> 1228\u001b[0;31m         \u001b[0;32mreturn\u001b[0m \u001b[0mc_einsum\u001b[0m\u001b[0;34m(\u001b[0m\u001b[0;34m*\u001b[0m\u001b[0moperands\u001b[0m\u001b[0;34m,\u001b[0m \u001b[0;34m**\u001b[0m\u001b[0mkwargs\u001b[0m\u001b[0;34m)\u001b[0m\u001b[0;34m\u001b[0m\u001b[0m\n\u001b[0m\u001b[1;32m   1229\u001b[0m \u001b[0;34m\u001b[0m\u001b[0m\n\u001b[1;32m   1230\u001b[0m     \u001b[0mvalid_einsum_kwargs\u001b[0m \u001b[0;34m=\u001b[0m \u001b[0;34m[\u001b[0m\u001b[0;34m'out'\u001b[0m\u001b[0;34m,\u001b[0m \u001b[0;34m'dtype'\u001b[0m\u001b[0;34m,\u001b[0m \u001b[0;34m'order'\u001b[0m\u001b[0;34m,\u001b[0m \u001b[0;34m'casting'\u001b[0m\u001b[0;34m]\u001b[0m\u001b[0;34m\u001b[0m\u001b[0m\n",
      "\u001b[0;31mValueError\u001b[0m: operands could not be broadcast together with remapped shapes [original->remapped]: (100,50,2)->(100,2,newaxis,50) (100,756,50)->(100,newaxis,50,756) "
     ]
    }
   ],
   "source": [
    "    dimnoise = experiment.dimnoise\n",
    "    dim = experiment.dim\n",
    "    cores = experiment.cores\n",
    "\n",
    "    tangent_bases = Mpca.get_wlpca_tangent_sel(Mpca, selected_points, dimnoise)\n",
    "    subM = RiemannianManifold(Mpca.data[selected_points], dim)\n",
    "    subM.tb = TangentBundle(subM, tangent_bases)\n",
    "    N.tangent_bundle = TangentBundle(N, np.swapaxes(N.geom.rmetric.Hvv[:,:dim,:],1,2))\n",
    "\n",
    "    df_M = experiment.get_dF_js_idM(Mpca, N, subM.tb, N.tangent_bundle, selected_points, dimnoise)\n",
    "    \n",
    "    n = len(selected_points)\n",
    "    df_M2 = df_M / ((1/n)*np.sum(np.linalg.norm(df_M, axis=1) ** 2, axis=0)**(0.5))\n",
    "    dg_x = experiment.get_dx_g_full(Mangles.data[selected_points])\n",
    "\n",
    "    W = ShapeSpace(experiment.positions, Mangles.data)\n",
    "    dw = W.get_dw(cores, experiment.atoms3, experiment.natoms, selected_points)\n",
    "    dg_w = experiment.project(np.swapaxes(dw, 1, 2),\n",
    "                              experiment.project(dw, dg_x))\n",
    "\n",
    "    dg_w_pca = np.asarray([svd.transform( dg_w[j]).transpose() for j in range(len(selected_points))])\n",
    "    #dg_w_pca = np.asarray([svd.transform( dg_w[j].transpose()).transpose() for j in range(len(selected_points))])\n",
    "    dgw_norm = experiment.normalize(np.swapaxes(dg_w_pca,1,2))\n"
   ]
  },
  {
   "cell_type": "code",
   "execution_count": 65,
   "metadata": {},
   "outputs": [],
   "source": [
    "    dg_M = np.einsum('n b d, n b p -> n d p', subM.tb.tangent_bases, np.swapaxes(dgw_norm,1,2)) #experiment.project(subM.tb.tangent_bases, dgw_norm)\n"
   ]
  },
  {
   "cell_type": "code",
   "execution_count": null,
   "metadata": {
    "collapsed": true
   },
   "outputs": [],
   "source": []
  },
  {
   "cell_type": "code",
   "execution_count": 17,
   "metadata": {},
   "outputs": [
    {
     "data": {
      "text/plain": [
       "(9.361662050585968, (100, 756))"
      ]
     },
     "execution_count": 17,
     "metadata": {},
     "output_type": "execute_result"
    }
   ],
   "source": [
    "norms = np.linalg.norm(dg_M, axis = 1)\n",
    "norms.max(),norms.shape"
   ]
  },
  {
   "cell_type": "code",
   "execution_count": 20,
   "metadata": {
    "collapsed": true
   },
   "outputs": [],
   "source": [
    "dg_M_full = dg_M.copy()\n",
    "dgw_norm_full = dgw_norm.copy()\n",
    "dg_w_pca_full = dg_w_pca.copy()\n",
    "dg_w_full = dg_w.copy()\n",
    "dg_x_full = dg_x.copy()"
   ]
  },
  {
   "cell_type": "code",
   "execution_count": 21,
   "metadata": {
    "collapsed": true
   },
   "outputs": [],
   "source": [
    "atoms4,p = get_all_atoms_4(natoms)\n",
    "trueandsel = [74,176,746,665]\n",
    "experiment.atoms4 = atoms4[trueandsel]\n",
    "experiment.p = 4#experiment.atoms4.shape[0]#4"
   ]
  },
  {
   "cell_type": "code",
   "execution_count": 22,
   "metadata": {
    "collapsed": true
   },
   "outputs": [],
   "source": [
    "#experiment\n",
    "Mpca = experiment.Mpca\n",
    "Mangles = experiment.M\n",
    "N = experiment.N\n",
    "#selected_points\n",
    "#svd"
   ]
  },
  {
   "cell_type": "code",
   "execution_count": 23,
   "metadata": {
    "collapsed": true
   },
   "outputs": [],
   "source": [
    "    dimnoise = experiment.dimnoise\n",
    "    dim = experiment.dim\n",
    "    cores = experiment.cores\n",
    "\n",
    "    tangent_bases = Mpca.get_wlpca_tangent_sel(Mpca, selected_points, dimnoise)\n",
    "    subM = RiemannianManifold(Mpca.data[selected_points], dim)\n",
    "    subM.tb = TangentBundle(subM, tangent_bases)\n",
    "    N.tangent_bundle = TangentBundle(N, np.swapaxes(N.geom.rmetric.Hvv[:,:dim,:],1,2))\n",
    "\n",
    "    df_M = experiment.get_dF_js_idM(Mpca, N, subM.tb, N.tangent_bundle, selected_points, dimnoise)\n",
    "    \n",
    "    n = len(selected_points)\n",
    "    df_M2 = df_M / ((1/n)*np.sum(np.linalg.norm(df_M, axis=1) ** 2, axis=0)**(0.5))\n",
    "    dg_x = experiment.get_dx_g_full(Mangles.data[selected_points])\n",
    "\n",
    "    W = ShapeSpace(experiment.positions, Mangles.data)\n",
    "    dw = W.get_dw(cores, experiment.atoms3, experiment.natoms, selected_points)\n",
    "    dg_w = experiment.project(np.swapaxes(dw, 1, 2),\n",
    "                              experiment.project(dw, dg_x))\n",
    "\n",
    "    dg_w_pca = np.asarray([svd.transform( dg_w[j]).transpose() for j in range(len(selected_points))])\n",
    "    #dg_w_pca = np.asarray([svd.transform( dg_w[j].transpose()).transpose() for j in range(len(selected_points))])\n",
    "    dgw_norm = experiment.normalize(dg_w_pca)\n",
    "    dg_M = np.einsum('n b d, n b p -> n d p', subM.tb.tangent_bases, dgw_norm) #experiment.project(subM.tb.tangent_bases, dgw_norm)\n"
   ]
  },
  {
   "cell_type": "code",
   "execution_count": 32,
   "metadata": {},
   "outputs": [
    {
     "data": {
      "text/plain": [
       "(64.19151971951399, (100, 4))"
      ]
     },
     "execution_count": 32,
     "metadata": {},
     "output_type": "execute_result"
    }
   ],
   "source": [
    "norms_ts = np.linalg.norm(dg_M, axis = 1)\n",
    "norms_ts.max(),norms_ts.shape"
   ]
  },
  {
   "cell_type": "code",
   "execution_count": 33,
   "metadata": {},
   "outputs": [
    {
     "data": {
      "text/plain": [
       "<matplotlib.axes._subplots.AxesSubplot at 0x134fa6c18>"
      ]
     },
     "execution_count": 33,
     "metadata": {},
     "output_type": "execute_result"
    },
    {
     "data": {
      "image/png": "[encoded data removed]",
      "text/plain": [
       "<Figure size 432x288 with 2 Axes>"
      ]
     },
     "metadata": {
      "needs_background": "light"
     },
     "output_type": "display_data"
    }
   ],
   "source": [
    "%matplotlib inline\n",
    "sns.heatmap(norms_ts)"
   ]
  },
  {
   "cell_type": "code",
   "execution_count": 31,
   "metadata": {},
   "outputs": [
    {
     "data": {
      "text/plain": [
       "<matplotlib.axes._subplots.AxesSubplot at 0x137a530f0>"
      ]
     },
     "execution_count": 31,
     "metadata": {},
     "output_type": "execute_result"
    },
    {
     "data": {
      "image/png": "[encoded data removed]",
      "text/plain": [
       "<Figure size 432x288 with 2 Axes>"
      ]
     },
     "metadata": {
      "needs_background": "light"
     },
     "output_type": "display_data"
    }
   ],
   "source": [
    "sns.heatmap(norms)"
   ]
  },
  {
   "cell_type": "code",
   "execution_count": 46,
   "metadata": {},
   "outputs": [
    {
     "data": {
      "text/plain": [
       "(100, 756, 252)"
      ]
     },
     "execution_count": 46,
     "metadata": {},
     "output_type": "execute_result"
    }
   ],
   "source": [
    "dg_w_full.shape"
   ]
  },
  {
   "cell_type": "code",
   "execution_count": 41,
   "metadata": {},
   "outputs": [
    {
     "data": {
      "text/plain": [
       "array([-0.51474453,  0.92673105])"
      ]
     },
     "execution_count": 41,
     "metadata": {},
     "output_type": "execute_result"
    }
   ],
   "source": [
    "dg_M_full[:,:,74][0], dg_M[:,:,0][0]"
   ]
  },
  {
   "cell_type": "code",
   "execution_count": 49,
   "metadata": {},
   "outputs": [
    {
     "data": {
      "text/plain": [
       "(0.6599917879644916, 0.6599917879644916)"
      ]
     },
     "execution_count": 49,
     "metadata": {},
     "output_type": "execute_result"
    }
   ],
   "source": [
    "np.linalg.norm(dg_w_full[0,74,:]), np.linalg.norm(dg_w[0,0,:])"
   ]
  },
  {
   "cell_type": "code",
   "execution_count": 51,
   "metadata": {},
   "outputs": [
    {
     "data": {
      "text/plain": [
       "(2.4527196244043257, 0.07820072961900014)"
      ]
     },
     "execution_count": 51,
     "metadata": {},
     "output_type": "execute_result"
    }
   ],
   "source": [
    "np.linalg.norm(dgw_norm_full[0,:,74]), np.linalg.norm(dg_w[0,:,0])"
   ]
  },
  {
   "cell_type": "code",
   "execution_count": 57,
   "metadata": {},
   "outputs": [
    {
     "data": {
      "text/plain": [
       "array([21.73322499, 30.1313761 , 32.80589519, 22.03666663, 19.07500456,\n",
       "       28.52284273, 21.34041075, 29.88237867, 33.0200887 , 22.39195424,\n",
       "       19.07812811, 28.80032532, 36.1459478 , 18.14502784, 30.31798396,\n",
       "       20.10434745, 39.67323738, 33.53143137, 34.68377057, 17.82491307,\n",
       "       30.5008842 , 18.8914464 , 35.96221428, 32.59565657, 35.12930843,\n",
       "       17.81028356, 30.39788545, 19.95713389, 34.91005249, 31.83711792,\n",
       "       36.55897951, 30.87752157, 26.19877151, 36.18346362, 19.28308001,\n",
       "       32.59487337, 19.98544145, 26.41822837, 28.58634552, 20.34962397,\n",
       "       18.0994445 , 26.54039672, 29.58452096, 16.36174689, 27.83507601,\n",
       "       15.94895276, 31.53843757, 30.71670762, 28.99598372, 16.55953806,\n",
       "       28.08378487, 15.55616407, 29.47239055, 30.49880221, 30.85913723,\n",
       "       16.44196274, 27.89802332, 16.10725137, 33.75662363, 30.98486209,\n",
       "       21.79815781, 27.91449436, 30.4626534 , 20.38356676, 19.95338721,\n",
       "       31.81459934, 30.2901669 , 16.17298432, 28.18943904, 15.98708202,\n",
       "       30.43884668, 30.19102452, 31.08265863, 16.40157132, 27.60964786,\n",
       "       16.43127574, 34.0057895 , 30.85447156, 30.29234051, 16.01651094,\n",
       "       28.01146935, 15.62135905, 31.49334526, 30.18207191, 22.12352638,\n",
       "       27.35826696, 30.09925623, 20.14454477, 19.59192681, 31.01668013,\n",
       "       29.72377048, 23.10303388, 32.39719739, 29.59342308, 19.88635922,\n",
       "       22.75702249, 29.56082326, 22.75251852, 32.76435438, 29.69731671,\n",
       "       19.6995095 , 23.38400975, 29.82584066, 34.10063455, 27.96513471,\n",
       "       40.73675049, 45.58368855, 21.62126528, 30.70676288, 22.96545014,\n",
       "       33.01764314, 30.51493657, 20.4875757 , 23.02547347, 27.1349701 ,\n",
       "       31.73120488, 28.61237321, 38.70009196, 40.7790707 , 19.96626892,\n",
       "       28.99529093, 29.72209311, 28.7881277 , 39.78512525, 39.57839508,\n",
       "       18.68416425, 19.5651449 , 24.97383917, 24.64119402, 19.61245725,\n",
       "       19.14964423, 24.65786927, 19.85109436, 28.73582109, 31.29790877,\n",
       "       22.87410089, 22.87853515, 36.28917533, 19.68921253, 27.77772045,\n",
       "       29.3776365 , 21.89786451, 22.40995883, 34.2077424 , 19.44719561,\n",
       "       28.97422523, 28.31865185, 20.75469796, 22.88130323, 34.30044425,\n",
       "       31.50482379, 21.69332083, 28.70330672, 17.55879755, 34.79334456,\n",
       "       31.65524607, 19.76851812, 27.66979696, 30.68232067, 22.93018685,\n",
       "       22.2174664 , 35.41601147, 19.66012395, 29.14219378, 29.52152629,\n",
       "       21.36149172, 23.44831185, 35.43628483, 19.6376868 , 27.94179885,\n",
       "       28.27491135, 20.6106262 , 22.46700298, 33.70566751, 31.65178961,\n",
       "       21.50038256, 28.62096844, 17.60184324, 34.45004274, 31.48882365,\n",
       "       30.31194469, 28.17543213, 23.9637159 , 28.44718947, 11.66488588,\n",
       "       26.8705003 , 30.30421965, 28.02731291, 23.37784151, 27.20998742,\n",
       "       11.92489218, 25.90769573, 41.4306522 , 32.74990026, 32.43261275,\n",
       "       27.34334897, 42.59320068, 36.29426481, 28.66828579, 26.76500555,\n",
       "       22.72151689, 27.12350446, 11.78340213, 25.8628428 , 40.2351273 ,\n",
       "       29.26506677, 31.19450894, 25.91412599, 40.91950399, 33.47019847,\n",
       "       38.64218986, 28.17478764, 29.86591635, 25.83077962, 37.25138335,\n",
       "       31.22927478, 18.60580821, 25.71638899, 26.22394538, 20.70299678,\n",
       "       19.98385009, 30.55767294, 18.49629358, 26.7505566 , 25.94011812,\n",
       "       20.04589596, 21.27772117, 31.16139854, 18.30001047, 25.84096883,\n",
       "       26.38657468, 21.00860644, 20.32113539, 30.79769423, 19.19746676,\n",
       "       24.59400718, 24.69792923, 19.89981918, 19.35700761, 27.9276211 ,\n",
       "       25.5811796 , 24.51557222, 20.90298226, 24.52776352, 10.1127684 ,\n",
       "       23.5845614 , 24.78856419, 24.09971688, 21.08849018, 25.76886002,\n",
       "        9.6579073 , 24.4509487 , 22.90927778, 36.85100109, 28.30898264,\n",
       "       20.67470146, 25.1750889 , 35.39061654, 23.83157713, 23.28809728,\n",
       "       21.06898121, 25.05114559,  9.49486753, 24.0414717 , 22.28115084,\n",
       "       33.01717017, 27.22246622, 20.51543207, 21.41697505, 31.81485517,\n",
       "       22.72848796, 31.5022606 , 28.28263084, 20.2100209 , 19.04479802,\n",
       "       29.4281838 , 24.02659057, 23.28068206, 20.89366226, 26.31709687,\n",
       "        9.87371435, 24.97740113, 24.044323  , 23.25230934, 19.93605783,\n",
       "       24.3190422 ,  9.7592796 , 23.18831015, 22.34252279, 35.51594978,\n",
       "       26.48049685, 20.22227571, 25.97285378, 34.51638282, 25.41956953,\n",
       "       24.16470183, 20.72710932, 24.07193607,  9.31420669, 23.05367128,\n",
       "       23.5507935 , 33.72525212, 28.22722279, 20.18590725, 21.66586325,\n",
       "       30.94991154, 22.11725272, 30.53561868, 26.44967398, 20.22364556,\n",
       "       18.51622161, 29.14418575, 12.33709082, 15.31164852, 15.35888439,\n",
       "       12.46398065, 12.75878415, 15.35625038, 13.74206246, 25.97656461,\n",
       "       29.46612723, 32.25540439, 28.72614199, 28.82019185, 13.20525586,\n",
       "       23.17492461, 29.25740551, 31.64890089, 25.1205899 , 26.38746073,\n",
       "       13.2760074 , 22.98431764, 25.6381906 , 27.73139247, 25.07022762,\n",
       "       24.40999715, 13.01946728, 14.84614263, 14.51878404, 12.98176978,\n",
       "       12.53322513, 14.79441122, 10.84872549, 25.19112059, 29.22584593,\n",
       "       30.75816352, 26.36909812, 24.56837026, 11.22693114, 23.63211603,\n",
       "       27.67941091, 28.6408604 , 24.76484522, 22.31540009, 10.84068409,\n",
       "       26.35447702, 28.3059103 , 28.74563879, 27.82109486, 24.81418958,\n",
       "       27.19558433, 17.8879556 , 30.09901879, 26.07364525, 29.32917594,\n",
       "       30.48657367, 10.94284559, 25.11842824, 29.23462799, 30.87767817,\n",
       "       26.11607553, 24.64491988, 10.86453023, 27.21097856, 27.62540626,\n",
       "       28.57857229, 28.71709659, 24.37660752, 11.13109611, 25.4711585 ,\n",
       "       28.24320516, 29.08808814, 26.87715445, 24.16113991, 27.49489784,\n",
       "       18.16702858, 30.04935146, 26.4537298 , 29.45151438, 30.72245236,\n",
       "       26.61972587, 32.6522983 , 38.72911723, 24.63445726, 20.60408045,\n",
       "       30.16495461, 26.24403088, 32.5592688 , 39.53174361, 25.3463001 ,\n",
       "       21.02150537, 31.35604272, 42.75634183, 28.30031775, 39.25832353,\n",
       "       21.43578254, 48.1386903 , 45.25702871, 24.27777687, 31.30414857,\n",
       "       37.76226974, 25.3435003 , 21.42344459, 31.4982352 , 41.67313118,\n",
       "       24.95721344, 37.73532771, 18.96410858, 47.0313956 , 43.50492081,\n",
       "       40.97742773, 28.28381638, 37.71902649, 20.20600023, 47.10705666,\n",
       "       44.20288891, 10.63530346, 24.15093912, 24.15510996, 25.35623122,\n",
       "       24.80915807, 20.76022812, 10.28217543, 26.07720318, 22.39917277,\n",
       "       23.02897874, 27.38233819, 21.29380561,  9.80579047, 24.38612721,\n",
       "       25.33709558, 26.79910064, 25.26481032, 21.80981657, 11.94796414,\n",
       "       14.46495878, 14.13674677, 13.90385651, 13.58565591, 15.07807053,\n",
       "       22.60950396, 28.64700592, 31.97771081, 21.53705174, 20.4253428 ,\n",
       "       26.96238147, 22.80524323, 28.91875008, 35.63770224, 24.32039941,\n",
       "       20.3116906 , 30.65453925, 25.9922483 , 33.42236065, 24.55671044,\n",
       "       11.11544742, 37.63720473, 36.22818129, 20.96395243, 28.29969756,\n",
       "       34.41446827, 24.63155624, 20.9054826 , 31.08466643, 24.37279709,\n",
       "       30.36918643, 23.2323951 , 11.49883501, 34.75787667, 34.05101604,\n",
       "       27.33629967, 33.13075701, 26.42877775, 11.08403187, 35.74173808,\n",
       "       35.22861849, 22.993288  , 28.28839861, 35.47920023, 24.24287744,\n",
       "       20.43832146, 31.27977559, 22.07565006, 28.60243193, 34.05687627,\n",
       "       24.10289174, 20.6338642 , 29.18774275, 25.8534875 , 33.20177017,\n",
       "       24.75297299, 11.30700042, 37.64592334, 36.29184611, 25.06691345,\n",
       "       31.3168427 , 36.49113153, 23.21468493, 20.84365519, 30.48008741,\n",
       "       28.67223083, 32.07941705, 27.1498711 , 11.20795355, 35.83006375,\n",
       "       34.25827284, 26.27790487, 32.41883573, 25.36033913, 11.34872265,\n",
       "       36.18971884, 35.45200228, 21.23027398, 27.15833217, 26.22364458,\n",
       "       21.52245367, 22.58262529, 27.04993616, 21.85790302, 35.75949198,\n",
       "       39.13096474, 34.40533489, 31.60053601, 48.58331322, 21.72572106,\n",
       "       37.85712319, 39.35993555, 33.7068552 , 32.82292925, 50.20468921,\n",
       "       22.54309458, 38.54217545, 38.16730683, 30.06950963, 32.68600571,\n",
       "       48.43185049, 13.33101184, 13.89533838, 13.50401562, 15.79510334,\n",
       "       15.57552129, 15.43615409, 13.31531603, 13.65508017, 13.77129039,\n",
       "       15.76752766, 15.80588762, 15.28938517, 13.12401464, 13.7889046 ,\n",
       "       13.43108775, 15.83620367, 15.74275326, 14.88187985, 13.26587296,\n",
       "       27.68231121, 27.48631546, 28.55779647, 28.52693141, 24.82386666,\n",
       "       18.11046643, 19.14345994, 12.91776566, 18.5270117 , 13.00383088,\n",
       "       18.79375179, 17.85664843, 19.05511902, 12.75170418, 18.02321218,\n",
       "       13.15842682, 18.49800439, 18.08652016, 34.61203926, 27.36132338,\n",
       "       29.40272017, 34.58982986, 33.05639726, 17.53659678, 19.07508641,\n",
       "       12.92765705, 18.02961435, 12.86652592, 18.20616942, 18.06922496,\n",
       "       34.69149558, 27.66918767, 29.25863634, 34.95480991, 31.64718445,\n",
       "       17.63849147, 33.61039273, 27.16635753, 28.88745624, 33.56721124,\n",
       "       31.43601376, 18.46070091, 19.47425703, 13.05713579, 18.61852814,\n",
       "       13.23108091, 19.02487355, 17.76021494, 19.10195606, 12.94330766,\n",
       "       18.32637081, 13.12958002, 18.35368858, 18.30091989, 34.81647854,\n",
       "       28.10420112, 29.69191726, 35.01599078, 32.48022532, 18.03215072,\n",
       "       18.49143457, 12.87606699, 17.82928295, 12.83331779, 18.57265742,\n",
       "       18.52629857, 34.44943876, 27.53027825, 29.28340215, 34.93280537,\n",
       "       32.47456982, 18.14498825, 33.62138477, 27.62055457, 29.17213159,\n",
       "       33.95329026, 31.94744715, 13.11725507, 16.61810118, 16.61042061,\n",
       "       13.30563867, 13.61005145, 16.47498971, 14.08201611, 35.71730788,\n",
       "       35.46185216, 36.76479716, 36.9957994 , 28.88563137, 14.14347424,\n",
       "       34.71125009, 35.6007058 , 36.07904427, 35.56405017, 29.91237094,\n",
       "       13.96851727, 34.65334825, 35.65945411, 36.23755808, 35.5822143 ,\n",
       "       28.16455107, 16.17083952, 16.75595254, 12.07052349, 16.74344808,\n",
       "       11.68927578, 16.26877723, 16.53338971, 16.10826311, 11.62786026,\n",
       "       16.3864371 , 11.43311728, 16.49957446, 15.5964023 , 15.47474262,\n",
       "       13.0072535 , 14.56285977, 15.99712216, 14.60305723, 16.06389999,\n",
       "       15.47177804, 11.7061232 , 15.71034302, 11.21796883, 15.9658758 ,\n",
       "       15.66504132, 15.20782246, 12.93267011, 14.28158041, 15.50866093,\n",
       "       14.5898196 , 15.36013223, 15.01983977, 12.77865394, 14.35678794,\n",
       "       14.87006932, 14.06876894, 13.11256398, 15.70083371, 15.95738817,\n",
       "       13.0285805 , 13.11311554, 15.93423123, 15.13543424, 18.13706297,\n",
       "       17.87552207, 20.30853447, 19.74672889, 13.3450311 , 14.28099371,\n",
       "       17.32732553, 17.77980826, 19.38856236, 18.62760423, 13.0781092 ,\n",
       "       14.22416756, 17.30456757, 17.09075112, 19.20036697, 18.42472645,\n",
       "       13.17332928, 13.14131609, 15.96752172, 15.90160858, 13.09340525,\n",
       "       13.27880769, 16.10101115, 15.12469157, 18.49708681, 18.56352342,\n",
       "       20.7332601 , 20.51429487, 13.52894552, 14.24733512, 17.87895324,\n",
       "       17.70141688, 19.47211917, 18.82124738, 13.40637023, 14.43381512,\n",
       "       17.41118896, 18.06305998, 19.17628988, 19.27923426, 13.20734734,\n",
       "       14.46417147, 14.18200967, 14.59596736, 18.08367551, 17.70070396,\n",
       "       18.2941672 ])"
      ]
     },
     "execution_count": 57,
     "metadata": {},
     "output_type": "execute_result"
    }
   ],
   "source": [
    "np.linalg.norm(dgw_norm_full, axis = tuple([0,1]))"
   ]
  },
  {
   "cell_type": "code",
   "execution_count": 69,
   "metadata": {},
   "outputs": [
    {
     "data": {
      "text/plain": [
       "array([100., 100., 100., 100., 100., 100., 100., 100., 100., 100., 100.,\n",
       "       100., 100., 100., 100., 100., 100., 100., 100., 100., 100., 100.,\n",
       "       100., 100., 100., 100., 100., 100., 100., 100., 100., 100., 100.,\n",
       "       100., 100., 100., 100., 100., 100., 100., 100., 100., 100., 100.,\n",
       "       100., 100., 100., 100., 100., 100., 100., 100., 100., 100., 100.,\n",
       "       100., 100., 100., 100., 100., 100., 100., 100., 100., 100., 100.,\n",
       "       100., 100., 100., 100., 100., 100., 100., 100., 100., 100., 100.,\n",
       "       100., 100., 100., 100., 100., 100., 100., 100., 100., 100., 100.,\n",
       "       100., 100., 100., 100., 100., 100., 100., 100., 100., 100., 100.,\n",
       "       100., 100., 100., 100., 100., 100., 100., 100., 100., 100., 100.,\n",
       "       100., 100., 100., 100., 100., 100., 100., 100., 100., 100., 100.,\n",
       "       100., 100., 100., 100., 100., 100., 100., 100., 100., 100., 100.,\n",
       "       100., 100., 100., 100., 100., 100., 100., 100., 100., 100., 100.,\n",
       "       100., 100., 100., 100., 100., 100., 100., 100., 100., 100., 100.,\n",
       "       100., 100., 100., 100., 100., 100., 100., 100., 100., 100., 100.,\n",
       "       100., 100., 100., 100., 100., 100., 100., 100., 100., 100., 100.,\n",
       "       100., 100., 100., 100., 100., 100., 100., 100., 100., 100., 100.,\n",
       "       100., 100., 100., 100., 100., 100., 100., 100., 100., 100., 100.,\n",
       "       100., 100., 100., 100., 100., 100., 100., 100., 100., 100., 100.,\n",
       "       100., 100., 100., 100., 100., 100., 100., 100., 100., 100., 100.,\n",
       "       100., 100., 100., 100., 100., 100., 100., 100., 100., 100., 100.,\n",
       "       100., 100., 100., 100., 100., 100., 100., 100., 100., 100., 100.,\n",
       "       100., 100., 100., 100., 100., 100., 100., 100., 100., 100., 100.,\n",
       "       100., 100., 100., 100., 100., 100., 100., 100., 100., 100., 100.,\n",
       "       100., 100., 100., 100., 100., 100., 100., 100., 100., 100., 100.,\n",
       "       100., 100., 100., 100., 100., 100., 100., 100., 100., 100., 100.,\n",
       "       100., 100., 100., 100., 100., 100., 100., 100., 100., 100., 100.,\n",
       "       100., 100., 100., 100., 100., 100., 100., 100., 100., 100., 100.,\n",
       "       100., 100., 100., 100., 100., 100., 100., 100., 100., 100., 100.,\n",
       "       100., 100., 100., 100., 100., 100., 100., 100., 100., 100., 100.,\n",
       "       100., 100., 100., 100., 100., 100., 100., 100., 100., 100., 100.,\n",
       "       100., 100., 100., 100., 100., 100., 100., 100., 100., 100., 100.,\n",
       "       100., 100., 100., 100., 100., 100., 100., 100., 100., 100., 100.,\n",
       "       100., 100., 100., 100., 100., 100., 100., 100., 100., 100., 100.,\n",
       "       100., 100., 100., 100., 100., 100., 100., 100., 100., 100., 100.,\n",
       "       100., 100., 100., 100., 100., 100., 100., 100., 100., 100., 100.,\n",
       "       100., 100., 100., 100., 100., 100., 100., 100., 100., 100., 100.,\n",
       "       100., 100., 100., 100., 100., 100., 100., 100., 100., 100., 100.,\n",
       "       100., 100., 100., 100., 100., 100., 100., 100., 100., 100., 100.,\n",
       "       100., 100., 100., 100., 100., 100., 100., 100., 100., 100., 100.,\n",
       "       100., 100., 100., 100., 100., 100., 100., 100., 100., 100., 100.,\n",
       "       100., 100., 100., 100., 100., 100., 100., 100., 100., 100., 100.,\n",
       "       100., 100., 100., 100., 100., 100., 100., 100., 100., 100., 100.,\n",
       "       100., 100., 100., 100., 100., 100., 100., 100., 100., 100., 100.,\n",
       "       100., 100., 100., 100., 100., 100., 100., 100., 100., 100., 100.,\n",
       "       100., 100., 100., 100., 100., 100., 100., 100., 100., 100., 100.,\n",
       "       100., 100., 100., 100., 100., 100., 100., 100., 100., 100., 100.,\n",
       "       100., 100., 100., 100., 100., 100., 100., 100., 100., 100., 100.,\n",
       "       100., 100., 100., 100., 100., 100., 100., 100., 100., 100., 100.,\n",
       "       100., 100., 100., 100., 100., 100., 100., 100., 100., 100., 100.,\n",
       "       100., 100., 100., 100., 100., 100., 100., 100., 100., 100., 100.,\n",
       "       100., 100., 100., 100., 100., 100., 100., 100., 100., 100., 100.,\n",
       "       100., 100., 100., 100., 100., 100., 100., 100., 100., 100., 100.,\n",
       "       100., 100., 100., 100., 100., 100., 100., 100., 100., 100., 100.,\n",
       "       100., 100., 100., 100., 100., 100., 100., 100., 100., 100., 100.,\n",
       "       100., 100., 100., 100., 100., 100., 100., 100., 100., 100., 100.,\n",
       "       100., 100., 100., 100., 100., 100., 100., 100., 100., 100., 100.,\n",
       "       100., 100., 100., 100., 100., 100., 100., 100., 100., 100., 100.,\n",
       "       100., 100., 100., 100., 100., 100., 100., 100., 100., 100., 100.,\n",
       "       100., 100., 100., 100., 100., 100., 100., 100., 100., 100., 100.,\n",
       "       100., 100., 100., 100., 100., 100., 100., 100., 100., 100., 100.,\n",
       "       100., 100., 100., 100., 100., 100., 100., 100., 100., 100., 100.,\n",
       "       100., 100., 100., 100., 100., 100., 100., 100., 100., 100., 100.,\n",
       "       100., 100., 100., 100., 100., 100., 100., 100., 100., 100., 100.,\n",
       "       100., 100., 100., 100., 100., 100., 100., 100., 100., 100., 100.,\n",
       "       100., 100., 100., 100., 100., 100., 100., 100., 100., 100., 100.,\n",
       "       100., 100., 100., 100., 100., 100., 100., 100., 100., 100., 100.,\n",
       "       100., 100., 100., 100., 100., 100., 100., 100., 100., 100., 100.,\n",
       "       100., 100., 100., 100., 100., 100., 100., 100.])"
      ]
     },
     "execution_count": 69,
     "metadata": {},
     "output_type": "execute_result"
    }
   ],
   "source": [
    "np.linalg.norm(dgw_norm, axis = tuple([0,2]))"
   ]
  },
  {
   "cell_type": "code",
   "execution_count": 80,
   "metadata": {},
   "outputs": [
    {
     "data": {
      "text/plain": [
       "(39.317904467500426, (100, 756))"
      ]
     },
     "execution_count": 80,
     "metadata": {},
     "output_type": "execute_result"
    }
   ],
   "source": [
    "norms_fix = np.linalg.norm(dg_M, axis = 1)\n",
    "norms_fix.max(),norms_fix.shape"
   ]
  },
  {
   "cell_type": "code",
   "execution_count": 81,
   "metadata": {},
   "outputs": [
    {
     "data": {
      "text/plain": [
       "<matplotlib.axes._subplots.AxesSubplot at 0x136587400>"
      ]
     },
     "execution_count": 81,
     "metadata": {},
     "output_type": "execute_result"
    },
    {
     "data": {
      "image/png": "[encoded data removed]",
      "text/plain": [
       "<Figure size 432x288 with 2 Axes>"
      ]
     },
     "metadata": {
      "needs_background": "light"
     },
     "output_type": "display_data"
    }
   ],
   "source": [
    "sns.heatmap(norms_fix[:,trueandsel])"
   ]
  },
  {
   "cell_type": "code",
   "execution_count": 74,
   "metadata": {},
   "outputs": [
    {
     "data": {
      "text/plain": [
       "[74, 176, 746, 665]"
      ]
     },
     "execution_count": 74,
     "metadata": {},
     "output_type": "execute_result"
    }
   ],
   "source": [
    "trueandsel"
   ]
  },
  {
   "cell_type": "code",
   "execution_count": 78,
   "metadata": {
    "collapsed": true
   },
   "outputs": [],
   "source": [
    "    dg_M = np.einsum('n b d, n b p -> n d p', subM.tb.tangent_bases, np.swapaxes(dgw_norm,1,2)) #experiment.project(subM.tb.tangent_bases, dgw_norm)\n"
   ]
  },
  {
   "cell_type": "code",
   "execution_count": 83,
   "metadata": {},
   "outputs": [],
   "source": [
    "replicates = {}\n",
    "replicates[0] = Replicate()"
   ]
  },
  {
   "cell_type": "code",
   "execution_count": 89,
   "metadata": {
    "collapsed": true
   },
   "outputs": [],
   "source": [
    "replicates[0].dg_M = dg_M\n",
    "replicates[0].df_M = df_M2"
   ]
  },
  {
   "cell_type": "code",
   "execution_count": 91,
   "metadata": {},
   "outputs": [
    {
     "name": "stdout",
     "output_type": "stream",
     "text": [
      "initializing lambda search\n",
      "converged 1087.6668967683386\n",
      "0 543.8334483841693 probe\n",
      "1 815.7501725762539 probe\n",
      "2 951.7085346722963 probe\n",
      "3 1019.6877157203174 probe\n",
      "converged 1019.6877157203174\n",
      "4 985.6981251963068 probe\n",
      "converged 985.6981251963068\n",
      "5 968.7033299343016 probe\n",
      "converged 968.7033299343016\n",
      "we did it [213 722]\n"
     ]
    }
   ],
   "source": [
    "#selected_points_save = np.asarray(selected_points_save, dtype = int)\n",
    "gl_itermax = 500\n",
    "r = 0 \n",
    "from codes.flasso.GradientGroupLasso import batch_stream, get_sr_lambda_sam_parallel\n",
    "\n",
    "p = replicates[0].dg_M.shape[2]\n",
    "lambdas_start = [0.,.0005 * np.sqrt(nsel * p)]\n",
    "max_search = 30\n",
    "reg_l2 = 0.\n",
    "card = dim\n",
    "tol = 1e-14\n",
    "learning_rate = 100\n",
    "\n",
    "#thresh = .8\n",
    "#incoherent_indices = {}\n",
    "#nreps = 5\n",
    "results= {}\n",
    "nreps = 1\n",
    "#for r in range(nreps):\n",
    "    #incoherent_indices[r] = get_incoherent_dictionary_include(replicates[r].dg_M, thresh, include)\n",
    "replicates[r].dg_M = replicates[r].dg_M[:,:,:]\n",
    "#p = np.asarray(incoherent_indices[r], dtype = int).shape[0]\n",
    "ul = np.linalg.norm(np.einsum('n d m, n d p -> n p m ' ,replicates[r].df_M , replicates[r].dg_M), axis = tuple([0,2])).max()\n",
    "lambdas_start = [0.,ul]\n",
    "results[r] = Replicate()\n",
    "results[r] = get_sr_lambda_sam_parallel(replicates[r], gl_itermax, lambdas_start,reg_l2, max_search, card, tol,learning_rate)\n"
   ]
  },
  {
   "cell_type": "code",
   "execution_count": 85,
   "metadata": {},
   "outputs": [
    {
     "ename": "AttributeError",
     "evalue": "'Replicate' object has no attribute 'dg_M'",
     "output_type": "error",
     "traceback": [
      "\u001b[0;31m---------------------------------------------------------------------------\u001b[0m",
      "\u001b[0;31mAttributeError\u001b[0m                            Traceback (most recent call last)",
      "\u001b[0;32m<ipython-input-85-cf3c5b8fb950>\u001b[0m in \u001b[0;36m<module>\u001b[0;34m()\u001b[0m\n\u001b[0;32m----> 1\u001b[0;31m \u001b[0mreplicates\u001b[0m\u001b[0;34m[\u001b[0m\u001b[0;36m0\u001b[0m\u001b[0;34m]\u001b[0m\u001b[0;34m.\u001b[0m\u001b[0mdg_M\u001b[0m\u001b[0;34m\u001b[0m\u001b[0m\n\u001b[0m",
      "\u001b[0;31mAttributeError\u001b[0m: 'Replicate' object has no attribute 'dg_M'"
     ]
    }
   ],
   "source": [
    "replicates[0].dg_M"
   ]
  },
  {
   "cell_type": "code",
   "execution_count": 88,
   "metadata": {},
   "outputs": [
    {
     "data": {
      "text/plain": [
       "array([100., 100., 100.])"
      ]
     },
     "execution_count": 88,
     "metadata": {},
     "output_type": "execute_result"
    }
   ],
   "source": [
    "np.linalg.norm(df_M2, axis = tuple([0,1]))"
   ]
  },
  {
   "cell_type": "code",
   "execution_count": 97,
   "metadata": {},
   "outputs": [
    {
     "data": {
      "text/plain": [
       "array([100., 100., 100., 100., 100., 100., 100., 100., 100., 100., 100.,\n",
       "       100., 100., 100., 100., 100., 100., 100., 100., 100., 100., 100.,\n",
       "       100., 100., 100., 100., 100., 100., 100., 100., 100., 100., 100.,\n",
       "       100., 100., 100., 100., 100., 100., 100., 100., 100., 100., 100.,\n",
       "       100., 100., 100., 100., 100., 100., 100., 100., 100., 100., 100.,\n",
       "       100., 100., 100., 100., 100., 100., 100., 100., 100., 100., 100.,\n",
       "       100., 100., 100., 100., 100., 100., 100., 100., 100., 100., 100.,\n",
       "       100., 100., 100., 100., 100., 100., 100., 100., 100., 100., 100.,\n",
       "       100., 100., 100., 100., 100., 100., 100., 100., 100., 100., 100.,\n",
       "       100., 100., 100., 100., 100., 100., 100., 100., 100., 100., 100.,\n",
       "       100., 100., 100., 100., 100., 100., 100., 100., 100., 100., 100.,\n",
       "       100., 100., 100., 100., 100., 100., 100., 100., 100., 100., 100.,\n",
       "       100., 100., 100., 100., 100., 100., 100., 100., 100., 100., 100.,\n",
       "       100., 100., 100., 100., 100., 100., 100., 100., 100., 100., 100.,\n",
       "       100., 100., 100., 100., 100., 100., 100., 100., 100., 100., 100.,\n",
       "       100., 100., 100., 100., 100., 100., 100., 100., 100., 100., 100.,\n",
       "       100., 100., 100., 100., 100., 100., 100., 100., 100., 100., 100.,\n",
       "       100., 100., 100., 100., 100., 100., 100., 100., 100., 100., 100.,\n",
       "       100., 100., 100., 100., 100., 100., 100., 100., 100., 100., 100.,\n",
       "       100., 100., 100., 100., 100., 100., 100., 100., 100., 100., 100.,\n",
       "       100., 100., 100., 100., 100., 100., 100., 100., 100., 100., 100.,\n",
       "       100., 100., 100., 100., 100., 100., 100., 100., 100., 100., 100.,\n",
       "       100., 100., 100., 100., 100., 100., 100., 100., 100., 100., 100.,\n",
       "       100., 100., 100., 100., 100., 100., 100., 100., 100., 100., 100.,\n",
       "       100., 100., 100., 100., 100., 100., 100., 100., 100., 100., 100.,\n",
       "       100., 100., 100., 100., 100., 100., 100., 100., 100., 100., 100.,\n",
       "       100., 100., 100., 100., 100., 100., 100., 100., 100., 100., 100.,\n",
       "       100., 100., 100., 100., 100., 100., 100., 100., 100., 100., 100.,\n",
       "       100., 100., 100., 100., 100., 100., 100., 100., 100., 100., 100.,\n",
       "       100., 100., 100., 100., 100., 100., 100., 100., 100., 100., 100.,\n",
       "       100., 100., 100., 100., 100., 100., 100., 100., 100., 100., 100.,\n",
       "       100., 100., 100., 100., 100., 100., 100., 100., 100., 100., 100.,\n",
       "       100., 100., 100., 100., 100., 100., 100., 100., 100., 100., 100.,\n",
       "       100., 100., 100., 100., 100., 100., 100., 100., 100., 100., 100.,\n",
       "       100., 100., 100., 100., 100., 100., 100., 100., 100., 100., 100.,\n",
       "       100., 100., 100., 100., 100., 100., 100., 100., 100., 100., 100.,\n",
       "       100., 100., 100., 100., 100., 100., 100., 100., 100., 100., 100.,\n",
       "       100., 100., 100., 100., 100., 100., 100., 100., 100., 100., 100.,\n",
       "       100., 100., 100., 100., 100., 100., 100., 100., 100., 100., 100.,\n",
       "       100., 100., 100., 100., 100., 100., 100., 100., 100., 100., 100.,\n",
       "       100., 100., 100., 100., 100., 100., 100., 100., 100., 100., 100.,\n",
       "       100., 100., 100., 100., 100., 100., 100., 100., 100., 100., 100.,\n",
       "       100., 100., 100., 100., 100., 100., 100., 100., 100., 100., 100.,\n",
       "       100., 100., 100., 100., 100., 100., 100., 100., 100., 100., 100.,\n",
       "       100., 100., 100., 100., 100., 100., 100., 100., 100., 100., 100.,\n",
       "       100., 100., 100., 100., 100., 100., 100., 100., 100., 100., 100.,\n",
       "       100., 100., 100., 100., 100., 100., 100., 100., 100., 100., 100.,\n",
       "       100., 100., 100., 100., 100., 100., 100., 100., 100., 100., 100.,\n",
       "       100., 100., 100., 100., 100., 100., 100., 100., 100., 100., 100.,\n",
       "       100., 100., 100., 100., 100., 100., 100., 100., 100., 100., 100.,\n",
       "       100., 100., 100., 100., 100., 100., 100., 100., 100., 100., 100.,\n",
       "       100., 100., 100., 100., 100., 100., 100., 100., 100., 100., 100.,\n",
       "       100., 100., 100., 100., 100., 100., 100., 100., 100., 100., 100.,\n",
       "       100., 100., 100., 100., 100., 100., 100., 100., 100., 100., 100.,\n",
       "       100., 100., 100., 100., 100., 100., 100., 100., 100., 100., 100.,\n",
       "       100., 100., 100., 100., 100., 100., 100., 100., 100., 100., 100.,\n",
       "       100., 100., 100., 100., 100., 100., 100., 100., 100., 100., 100.,\n",
       "       100., 100., 100., 100., 100., 100., 100., 100., 100., 100., 100.,\n",
       "       100., 100., 100., 100., 100., 100., 100., 100., 100., 100., 100.,\n",
       "       100., 100., 100., 100., 100., 100., 100., 100., 100., 100., 100.,\n",
       "       100., 100., 100., 100., 100., 100., 100., 100., 100., 100., 100.,\n",
       "       100., 100., 100., 100., 100., 100., 100., 100., 100., 100., 100.,\n",
       "       100., 100., 100., 100., 100., 100., 100., 100., 100., 100., 100.,\n",
       "       100., 100., 100., 100., 100., 100., 100., 100., 100., 100., 100.,\n",
       "       100., 100., 100., 100., 100., 100., 100., 100., 100., 100., 100.,\n",
       "       100., 100., 100., 100., 100., 100., 100., 100., 100., 100., 100.,\n",
       "       100., 100., 100., 100., 100., 100., 100., 100., 100., 100., 100.,\n",
       "       100., 100., 100., 100., 100., 100., 100., 100., 100., 100., 100.,\n",
       "       100., 100., 100., 100., 100., 100., 100., 100.])"
      ]
     },
     "execution_count": 97,
     "metadata": {},
     "output_type": "execute_result"
    }
   ],
   "source": [
    "np.linalg.norm(dgw_norm, axis = tuple([0,2]))"
   ]
  },
  {
   "cell_type": "code",
   "execution_count": 98,
   "metadata": {},
   "outputs": [
    {
     "data": {
      "text/plain": [
       "array([[[-1.97116208e-01,  1.75179921e-01, -1.09006591e-01, ...,\n",
       "         -6.48926822e-01, -9.31088144e-01,  1.55414689e+00],\n",
       "        [ 3.40398136e-01, -8.90210746e-02,  6.43472652e-02, ...,\n",
       "         -2.16779443e-01,  4.01299990e-01, -9.99673761e-02]],\n",
       "\n",
       "       [[ 6.40988251e-02, -5.18680668e-01, -2.04871354e-01, ...,\n",
       "          3.34660281e-01,  1.08969556e+00, -1.50623003e+00],\n",
       "        [-1.87119133e-02, -2.68583787e-01, -1.24252284e-02, ...,\n",
       "         -1.82492357e+00, -9.38503837e-01,  2.67883865e+00]],\n",
       "\n",
       "       [[-3.25760962e-01,  3.12452179e-01,  3.48610197e-01, ...,\n",
       "         -2.73243109e-02, -1.03407669e+00,  1.21207847e+00],\n",
       "        [ 3.12305678e-02,  1.81661460e-03, -9.11178180e-03, ...,\n",
       "         -2.03894276e+00, -1.55613503e+00,  3.51730326e+00]],\n",
       "\n",
       "       ...,\n",
       "\n",
       "       [[ 4.03573203e-01, -3.00268282e-01, -4.39057305e-01, ...,\n",
       "         -1.10540217e-01, -4.74920572e-01,  5.69284622e-01],\n",
       "        [-4.16267986e-03, -5.49679431e-02, -3.29416110e-01, ...,\n",
       "         -1.38742640e+00,  9.88684263e-01,  3.55819534e-01]],\n",
       "\n",
       "       [[-2.99190677e-01,  1.49657312e-02,  2.59004878e-01, ...,\n",
       "          8.17189551e-01,  1.13117201e-01, -1.02934115e+00],\n",
       "        [-8.32614194e-02, -1.68940993e-01,  5.28760326e-02, ...,\n",
       "         -1.04406043e+00, -6.09018507e-01,  1.60591399e+00]],\n",
       "\n",
       "       [[-1.15939914e-01,  2.51379335e-01,  3.51451111e-01, ...,\n",
       "         -3.94487540e-01,  1.62594845e+00, -1.02463539e+00],\n",
       "        [ 1.62211053e-01, -2.56411501e-01, -1.48405248e-01, ...,\n",
       "          1.02676589e+00, -1.27892100e+00,  1.53855008e-01]]])"
      ]
     },
     "execution_count": 98,
     "metadata": {},
     "output_type": "execute_result"
    }
   ],
   "source": [
    "replicates[0].dg_M"
   ]
  },
  {
   "cell_type": "code",
   "execution_count": 99,
   "metadata": {},
   "outputs": [
    {
     "data": {
      "text/plain": [
       "array([[[-1.97116208e-01,  1.75179921e-01, -1.09006591e-01, ...,\n",
       "         -6.48926822e-01, -9.31088144e-01,  1.55414689e+00],\n",
       "        [ 3.40398136e-01, -8.90210746e-02,  6.43472652e-02, ...,\n",
       "         -2.16779443e-01,  4.01299990e-01, -9.99673761e-02]],\n",
       "\n",
       "       [[ 6.40988251e-02, -5.18680668e-01, -2.04871354e-01, ...,\n",
       "          3.34660281e-01,  1.08969556e+00, -1.50623003e+00],\n",
       "        [-1.87119133e-02, -2.68583787e-01, -1.24252284e-02, ...,\n",
       "         -1.82492357e+00, -9.38503837e-01,  2.67883865e+00]],\n",
       "\n",
       "       [[-3.25760962e-01,  3.12452179e-01,  3.48610197e-01, ...,\n",
       "         -2.73243109e-02, -1.03407669e+00,  1.21207847e+00],\n",
       "        [ 3.12305678e-02,  1.81661460e-03, -9.11178180e-03, ...,\n",
       "         -2.03894276e+00, -1.55613503e+00,  3.51730326e+00]],\n",
       "\n",
       "       ...,\n",
       "\n",
       "       [[ 4.03573203e-01, -3.00268282e-01, -4.39057305e-01, ...,\n",
       "         -1.10540217e-01, -4.74920572e-01,  5.69284622e-01],\n",
       "        [-4.16267986e-03, -5.49679431e-02, -3.29416110e-01, ...,\n",
       "         -1.38742640e+00,  9.88684263e-01,  3.55819534e-01]],\n",
       "\n",
       "       [[-2.99190677e-01,  1.49657312e-02,  2.59004878e-01, ...,\n",
       "          8.17189551e-01,  1.13117201e-01, -1.02934115e+00],\n",
       "        [-8.32614194e-02, -1.68940993e-01,  5.28760326e-02, ...,\n",
       "         -1.04406043e+00, -6.09018507e-01,  1.60591399e+00]],\n",
       "\n",
       "       [[-1.15939914e-01,  2.51379335e-01,  3.51451111e-01, ...,\n",
       "         -3.94487540e-01,  1.62594845e+00, -1.02463539e+00],\n",
       "        [ 1.62211053e-01, -2.56411501e-01, -1.48405248e-01, ...,\n",
       "          1.02676589e+00, -1.27892100e+00,  1.53855008e-01]]])"
      ]
     },
     "execution_count": 99,
     "metadata": {},
     "output_type": "execute_result"
    }
   ],
   "source": [
    "dg_M"
   ]
  },
  {
   "cell_type": "code",
   "execution_count": 101,
   "metadata": {},
   "outputs": [],
   "source": [
    "    dg_M = np.einsum('n b d, n b p -> n d p', subM.tb.tangent_bases, np.swapaxes(dgw_norm,1,2)) #experiment.project(subM.tb.tangent_bases, dgw_norm)\n"
   ]
  },
  {
   "cell_type": "code",
   "execution_count": 102,
   "metadata": {},
   "outputs": [
    {
     "data": {
      "text/plain": [
       "array([[[-1.97116208e-01,  1.75179921e-01, -1.09006591e-01, ...,\n",
       "         -6.48926822e-01, -9.31088144e-01,  1.55414689e+00],\n",
       "        [ 3.40398136e-01, -8.90210746e-02,  6.43472652e-02, ...,\n",
       "         -2.16779443e-01,  4.01299990e-01, -9.99673761e-02]],\n",
       "\n",
       "       [[ 6.40988251e-02, -5.18680668e-01, -2.04871354e-01, ...,\n",
       "          3.34660281e-01,  1.08969556e+00, -1.50623003e+00],\n",
       "        [-1.87119133e-02, -2.68583787e-01, -1.24252284e-02, ...,\n",
       "         -1.82492357e+00, -9.38503837e-01,  2.67883865e+00]],\n",
       "\n",
       "       [[-3.25760962e-01,  3.12452179e-01,  3.48610197e-01, ...,\n",
       "         -2.73243109e-02, -1.03407669e+00,  1.21207847e+00],\n",
       "        [ 3.12305678e-02,  1.81661460e-03, -9.11178180e-03, ...,\n",
       "         -2.03894276e+00, -1.55613503e+00,  3.51730326e+00]],\n",
       "\n",
       "       ...,\n",
       "\n",
       "       [[ 4.03573203e-01, -3.00268282e-01, -4.39057305e-01, ...,\n",
       "         -1.10540217e-01, -4.74920572e-01,  5.69284622e-01],\n",
       "        [-4.16267986e-03, -5.49679431e-02, -3.29416110e-01, ...,\n",
       "         -1.38742640e+00,  9.88684263e-01,  3.55819534e-01]],\n",
       "\n",
       "       [[-2.99190677e-01,  1.49657312e-02,  2.59004878e-01, ...,\n",
       "          8.17189551e-01,  1.13117201e-01, -1.02934115e+00],\n",
       "        [-8.32614194e-02, -1.68940993e-01,  5.28760326e-02, ...,\n",
       "         -1.04406043e+00, -6.09018507e-01,  1.60591399e+00]],\n",
       "\n",
       "       [[-1.15939914e-01,  2.51379335e-01,  3.51451111e-01, ...,\n",
       "         -3.94487540e-01,  1.62594845e+00, -1.02463539e+00],\n",
       "        [ 1.62211053e-01, -2.56411501e-01, -1.48405248e-01, ...,\n",
       "          1.02676589e+00, -1.27892100e+00,  1.53855008e-01]]])"
      ]
     },
     "execution_count": 102,
     "metadata": {},
     "output_type": "execute_result"
    }
   ],
   "source": [
    "dg_M"
   ]
  },
  {
   "cell_type": "code",
   "execution_count": null,
   "metadata": {
    "collapsed": true
   },
   "outputs": [],
   "source": []
  }
 ],
 "metadata": {
  "kernelspec": {
   "display_name": "manifold_env_april2",
   "language": "python",
   "name": "manifold_env_april2"
  },
  "language_info": {
   "codemirror_mode": {
    "name": "ipython",
    "version": 3
   },
   "file_extension": ".py",
   "mimetype": "text/x-python",
   "name": "python",
   "nbconvert_exporter": "python",
   "pygments_lexer": "ipython3",
   "version": "3.5.5"
  }
 },
 "nbformat": 4,
 "nbformat_minor": 2
}
