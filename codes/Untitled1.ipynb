{
 "cells": [
  {
   "cell_type": "code",
   "execution_count": 1,
   "metadata": {},
   "outputs": [
    {
     "name": "stdout",
     "output_type": "stream",
     "text": [
      "/Users/samsonkoelle/manifoldflasso_jmlr\n"
     ]
    }
   ],
   "source": [
    "import pickle\n",
    "\n",
    "import matplotlib\n",
    "matplotlib.use('Agg')\n",
    "import os\n",
    "import datetime\n",
    "import numpy as np\n",
    "import dill as pickle\n",
    "import random\n",
    "import sys\n",
    "np.random.seed(0)\n",
    "random.seed(0)\n",
    "now = datetime.datetime.now().strftime(\"%B_%d_%Y_%H_%M_%S\")\n",
    "workingdirectory = os.popen('git rev-parse --show-toplevel').read()[:-1]\n",
    "sys.path.append(workingdirectory)\n",
    "os.chdir(workingdirectory)\n",
    "#print(os.getcwd())\n",
    "from codes.experimentclasses.RigidEthanolPCA import RigidEthanolPCA\n",
    "from codes.otherfunctions.multirun import get_coeffs_reps_tangent\n",
    "from codes.otherfunctions.multirun import get_grads_reps_pca2_tangent\n",
    "from codes.otherfunctions.multiplot import plot_reg_path_ax_lambdasearch_tangent\n",
    "from codes.otherfunctions.get_dictionaries import get_atoms_4\n",
    "from codes.flasso.Replicate import Replicate\n",
    "from codes.otherfunctions.get_grads_tangent import get_grads_tangent\n",
    "from codes.otherfunctions.multirun import get_support_recovery_lambda\n",
    "from codes.otherfunctions.multirun import get_lower_interesting_lambda\n",
    "import matplotlib.pyplot as plt\n",
    "from codes.otherfunctions.multirun import get_coeffs_and_lambdas\n",
    "from codes.geometer.RiemannianManifold import RiemannianManifold\n",
    "from collections import Counter"
   ]
  },
  {
   "cell_type": "code",
   "execution_count": 2,
   "metadata": {
    "collapsed": true
   },
   "outputs": [],
   "source": [
    "with open('/Users/samsonkoelle/manifoldflasso_jmlr/Figures/ethanol/May_29_2020_12_06_42/replicatesethanol_052820.pkl' ,\n",
    "         'rb') as loader:\n",
    "     replicates = pickle.load(loader)"
   ]
  },
  {
   "cell_type": "code",
   "execution_count": 3,
   "metadata": {},
   "outputs": [
    {
     "data": {
      "text/plain": [
       "array([[[[-1.25066316,  1.40601087,  1.0099082 , ...,  3.87981129,\n",
       "          -3.16007257, -3.93397665],\n",
       "         [ 0.77529615,  0.58374649, -0.98697579, ..., -1.38022888,\n",
       "           1.15038276, -1.46563399],\n",
       "         [ 1.7575413 ,  1.58030176, -1.40213406, ...,  1.38505042,\n",
       "          -1.39903653,  1.44461226],\n",
       "         ...,\n",
       "         [ 2.67711496,  2.79365897, -2.47819424, ...,  2.58591819,\n",
       "           2.91482401, -3.13637543],\n",
       "         [ 1.87872851,  0.14377905, -0.46166503, ...,  4.73174906,\n",
       "          -2.1392715 , -0.84031653],\n",
       "         [-1.48270941, -0.97952729,  1.18113375, ...,  2.68254495,\n",
       "          -2.27671409,  2.49997592]],\n",
       "\n",
       "        [[ 5.9795742 , -8.38810635, -8.18472195, ..., -1.71185529,\n",
       "          -0.7977376 , -0.19282776],\n",
       "         [ 2.80047154,  3.03648686, -1.59906614, ...,  3.39552331,\n",
       "          -3.11416793,  3.96408939],\n",
       "         [ 0.71659184,  0.32774386, -0.36702591, ..., -2.84001184,\n",
       "           2.53399444, -2.71554017],\n",
       "         ...,\n",
       "         [ 0.83828717,  1.28032494, -0.86689973, ..., -3.07775784,\n",
       "          -2.79390645,  2.40488482],\n",
       "         [-2.11113477,  0.83737367, -1.11138952, ..., -6.13346529,\n",
       "           4.5321188 ,  4.09394693],\n",
       "         [-1.96547186, -1.47162068,  1.7109195 , ..., -2.23173547,\n",
       "           2.81745768, -1.98257816]]],\n",
       "\n",
       "\n",
       "       [[[-1.28291667,  1.38454175,  0.99535143, ...,  3.92168546,\n",
       "          -3.17362356, -3.89914417],\n",
       "         [ 0.8608889 ,  0.63244116, -0.98015553, ..., -1.41913617,\n",
       "           1.1837585 , -1.48021698],\n",
       "         [ 1.86008465,  1.57530785, -1.36378169, ...,  1.3885057 ,\n",
       "          -1.42353559,  1.44206583],\n",
       "         ...,\n",
       "         [ 2.79066157,  2.7798152 , -2.39684272, ...,  2.57901287,\n",
       "           2.9243083 , -3.13443732],\n",
       "         [ 1.91577101,  0.19215022, -0.52265221, ...,  4.92039967,\n",
       "          -2.13542628, -0.7080881 ],\n",
       "         [-1.53429306, -0.96813709,  1.13463807, ...,  2.70814061,\n",
       "          -2.26092958,  2.49683166]],\n",
       "\n",
       "        [[ 6.26488495, -8.34796047, -7.94212866, ..., -1.80913019,\n",
       "          -0.88785511, -0.24034138],\n",
       "         [ 2.85262513,  2.89557457, -1.50994277, ...,  3.47206378,\n",
       "          -3.17386341,  4.00560141],\n",
       "         [ 0.73958242,  0.3365345 , -0.36141956, ..., -2.86805844,\n",
       "           2.55486822, -2.67972398],\n",
       "         ...,\n",
       "         [ 0.91257936,  1.29304552, -0.874219  , ..., -3.12855721,\n",
       "          -2.82571507,  2.35553765],\n",
       "         [-2.10914636,  0.75235969, -0.95959163, ..., -6.28945112,\n",
       "           4.58698082,  4.0530076 ],\n",
       "         [-2.08878803, -1.47686946,  1.67980063, ..., -2.24645805,\n",
       "           2.87888122, -1.94000983]]],\n",
       "\n",
       "\n",
       "       [[[-1.35267472,  1.34773767,  0.96149999, ...,  3.99382734,\n",
       "          -3.20583081, -3.827142  ],\n",
       "         [ 1.01758301,  0.71475101, -0.96756679, ..., -1.49009013,\n",
       "           1.24066198, -1.50184298],\n",
       "         [ 2.0570786 ,  1.57330954, -1.30210531, ...,  1.40654302,\n",
       "          -1.46355176,  1.42318857],\n",
       "         ...,\n",
       "         [ 3.01788259,  2.76266384, -2.25175047, ...,  2.53609538,\n",
       "           2.97714233, -3.11510444],\n",
       "         [ 1.99309921,  0.27169225, -0.61488897, ...,  5.24604082,\n",
       "          -2.12801361, -0.46232164],\n",
       "         [-1.65046072, -0.94694722,  1.05766034, ...,  2.74594522,\n",
       "          -2.26547575,  2.45753288]],\n",
       "\n",
       "        [[ 6.81353521, -8.25007629, -7.49220514, ..., -1.98575902,\n",
       "          -1.05568326, -0.32487914],\n",
       "         [ 2.94057012,  2.67748499, -1.36785519, ...,  3.58722353,\n",
       "          -3.31514335,  4.04051447],\n",
       "         [ 0.78944504,  0.3509489 , -0.34876773, ..., -2.89250064,\n",
       "           2.59611917, -2.63533401],\n",
       "         ...,\n",
       "         [ 1.05214357,  1.3077209 , -0.87056249, ..., -3.20333123,\n",
       "          -2.87514925,  2.28908253],\n",
       "         [-2.11927152,  0.61630893, -0.71789205, ..., -6.54279947,\n",
       "           4.71070862,  3.94224334],\n",
       "         [-2.32491064, -1.49099231,  1.61640918, ..., -2.24784231,\n",
       "           2.9990716 , -1.87813687]]],\n",
       "\n",
       "\n",
       "       ...,\n",
       "\n",
       "\n",
       "       [[[-0.82242286,  0.        ,  0.        , ...,  6.47583628,\n",
       "          -2.4303    ,  0.        ],\n",
       "         [ 2.83367658,  0.        ,  0.        , ..., -2.99130988,\n",
       "           1.01879251,  0.        ],\n",
       "         [ 4.48808289,  0.        ,  0.        , ...,  2.21668768,\n",
       "          -1.05199945,  0.        ],\n",
       "         ...,\n",
       "         [ 5.01597357,  0.        ,  0.        , ...,  3.37590551,\n",
       "           1.82989204,  0.        ],\n",
       "         [ 0.35858676,  0.        ,  0.        , ...,  0.21181841,\n",
       "           0.80409902,  0.        ],\n",
       "         [-2.98520494,  0.        ,  0.        , ...,  4.83711243,\n",
       "          -1.60909998,  0.        ]],\n",
       "\n",
       "        [[ 5.44034052,  0.        ,  0.        , ..., -0.0115193 ,\n",
       "          -1.18891299,  0.        ],\n",
       "         [ 4.74073887,  0.        ,  0.        , ...,  5.70103931,\n",
       "          -2.25635576,  0.        ],\n",
       "         [ 1.69156873,  0.        ,  0.        , ..., -5.13149595,\n",
       "           1.92159843,  0.        ],\n",
       "         ...,\n",
       "         [ 2.0708468 ,  0.        ,  0.        , ..., -5.22735548,\n",
       "          -1.93448901,  0.        ],\n",
       "         [-1.61368763,  0.        ,  0.        , ..., -6.39743185,\n",
       "           2.33788657,  0.        ],\n",
       "         [-4.07805872,  0.        ,  0.        , ..., -3.17446232,\n",
       "           2.00746822,  0.        ]]],\n",
       "\n",
       "\n",
       "       [[[-0.40134844,  0.        ,  0.        , ...,  5.61935425,\n",
       "          -0.73531282,  0.        ],\n",
       "         [ 2.78936505,  0.        ,  0.        , ..., -3.08676815,\n",
       "           0.35521647,  0.        ],\n",
       "         [ 3.83189344,  0.        ,  0.        , ...,  1.84936213,\n",
       "          -0.30381927,  0.        ],\n",
       "         ...,\n",
       "         [ 3.28510046,  0.        ,  0.        , ...,  2.47420788,\n",
       "           0.45174864,  0.        ],\n",
       "         [-0.06994884,  0.        ,  0.        , ..., -1.03926468,\n",
       "           0.31064865,  0.        ],\n",
       "         [-2.30232859,  0.        ,  0.        , ...,  4.64121389,\n",
       "          -0.54207885,  0.        ]],\n",
       "\n",
       "        [[ 2.38122535,  0.        ,  0.        , ...,  0.40739375,\n",
       "          -0.24886584,  0.        ],\n",
       "         [ 3.33530068,  0.        ,  0.        , ...,  4.19855738,\n",
       "          -0.56492543,  0.        ],\n",
       "         [ 1.58746064,  0.        ,  0.        , ..., -5.00206518,\n",
       "           0.63369781,  0.        ],\n",
       "         ...,\n",
       "         [ 1.63937426,  0.        ,  0.        , ..., -4.98813772,\n",
       "          -0.6314854 ,  0.        ],\n",
       "         [-1.13840616,  0.        ,  0.        , ..., -5.1220932 ,\n",
       "           0.68270314,  0.        ],\n",
       "         [-2.81159353,  0.        ,  0.        , ..., -2.79100108,\n",
       "           0.57066256,  0.        ]]],\n",
       "\n",
       "\n",
       "       [[[-0.14972872,  0.        ,  0.        , ...,  3.96949649,\n",
       "           0.        ,  0.        ],\n",
       "         [ 1.42394066,  0.        ,  0.        , ..., -2.34686995,\n",
       "           0.        ,  0.        ],\n",
       "         [ 1.8126663 ,  0.        ,  0.        , ...,  1.27188504,\n",
       "           0.        ,  0.        ],\n",
       "         ...,\n",
       "         [ 1.33488178,  0.        ,  0.        , ...,  1.54251802,\n",
       "           0.        ,  0.        ],\n",
       "         [-0.11293364,  0.        ,  0.        , ..., -1.1798681 ,\n",
       "           0.        ,  0.        ],\n",
       "         [-1.05712438,  0.        ,  0.        , ...,  3.57279968,\n",
       "           0.        ,  0.        ]],\n",
       "\n",
       "        [[ 0.78467804,  0.        ,  0.        , ...,  0.36178449,\n",
       "           0.        ,  0.        ],\n",
       "         [ 1.4378556 ,  0.        ,  0.        , ...,  2.65974879,\n",
       "           0.        ,  0.        ],\n",
       "         [ 0.82859641,  0.        ,  0.        , ..., -3.94256711,\n",
       "           0.        ,  0.        ],\n",
       "         ...,\n",
       "         [ 0.76873606,  0.        ,  0.        , ..., -3.7226429 ,\n",
       "           0.        ,  0.        ],\n",
       "         [-0.51354861,  0.        ,  0.        , ..., -3.53514671,\n",
       "           0.        ,  0.        ],\n",
       "         [-1.1311599 ,  0.        ,  0.        , ..., -1.96282053,\n",
       "           0.        ,  0.        ]]]])"
      ]
     },
     "execution_count": 3,
     "metadata": {},
     "output_type": "execute_result"
    }
   ],
   "source": [
    "replicates[0].coeffs"
   ]
  },
  {
   "cell_type": "code",
   "execution_count": 6,
   "metadata": {
    "collapsed": true
   },
   "outputs": [],
   "source": [
    "\n",
    "#set parameters\n",
    "n = 50000 #number of data points to simulate\n",
    "nsel = 50 #number of points to analyze with lasso\n",
    "itermax = 1000 #maximum iterations per lasso run\n",
    "tol = 1e-10 #convergence criteria for lasso\n",
    "#lambdas = np.asarray([5,10,15,20,25,50,75,100], dtype = np.float16)#lambda values for lasso\n",
    "#lambdas = np.asarray([0,2.95339658e-06, 5.90679317e-06, 8.86018975e-06, 1.18135863e-05,\n",
    "#       1.47669829e-05, 2.95339658e-05, 4.43009487e-05, 5.90679317e-05])\n",
    "#lambdas = np.asarray([0,.001,.01,.1,1,10], dtype = np.float16)\n",
    "lambdas = np.asarray(np.hstack([np.asarray([0]),np.logspace(-3,-1,11)]), dtype = np.float16)\n",
    "#lambdas = np.asarray([0,1,2,3,4,5,6,7,8,9,10], dtype = np.float16)\n",
    "n_neighbors = 100\n",
    "n_components = 3 #number of embedding dimensions (diffusion maps)\n",
    "diffusion_time = .50 #diffusion time controls gaussian kernel radius per gradients paper\n",
    "dim = 2 #manifold dimension\n",
    "dimnoise = 2 #noise dimension\n",
    "cores = 16 #number of cores for parallel processing\n",
    "ii = np.asarray([0,0,0,0,1,1,1,2]) # atom adjacencies for dihedral angle computation\n",
    "jj = np.asarray([1,2,3,4,5,6,7,8])\n",
    "#run experiment\n",
    "#atoms4 = np.asarray([[9,0,1,2],[0,1,2,3],[1,2,3,4],[2,3,4,5],[3,4,5,6],[4,5,6,1],[5,6,1,0]],dtype = int)\n",
    "atoms4 = np.asarray([[6,1,0,4],[4,0,2,8],[7,6,5,1],[3,0,2,4]],dtype = int)\n",
    "#folder = workingdirectory + '/Figures/ethanol/' + now\n",
    "#os.mkdir(folder)\n",
    "new_MN = False\n",
    "new_grad = True\n",
    "savename = 'ethanol_052820'\n",
    "savefolder = 'ethanol'\n",
    "loadfolder = 'ethanol'\n",
    "loadname = 'ethanol_052820'\n",
    "nreps = 25\n",
    "atoms4,p = get_atoms_4(9,ii,jj)"
   ]
  },
  {
   "cell_type": "code",
   "execution_count": 44,
   "metadata": {
    "collapsed": true
   },
   "outputs": [],
   "source": [
    "cor = 0.\n",
    "var = 0.\n",
    "experiment = RigidEthanolPCA(dim, cor,var,ii,jj, cores, False, atoms4)"
   ]
  },
  {
   "cell_type": "code",
   "execution_count": 7,
   "metadata": {
    "collapsed": true
   },
   "outputs": [],
   "source": []
  },
  {
   "cell_type": "code",
   "execution_count": 33,
   "metadata": {},
   "outputs": [
    {
     "name": "stdout",
     "output_type": "stream",
     "text": [
      "0\n",
      "1\n",
      "2\n",
      "3\n",
      "4\n",
      "5\n",
      "6\n",
      "7\n",
      "8\n",
      "9\n",
      "10\n",
      "11\n",
      "12\n",
      "13\n",
      "14\n",
      "15\n",
      "16\n",
      "17\n",
      "18\n",
      "19\n",
      "20\n",
      "21\n",
      "22\n",
      "23\n",
      "24\n"
     ]
    }
   ],
   "source": [
    "from codes.otherfunctions.multirun import get_support\n",
    "from codes.otherfunctions.multiplot import plot_support_2d\n",
    "supports = {}\n",
    "for i in range(nreps):\n",
    "    print(i)\n",
    "    supports[i] = get_support(replicates[i].coeffs, dim)\n",
    "#fig, ax = plt.figure(figsize=(15 , 15 ))\n",
    "#plot_support_2d(supports, experiment.p)\n",
    "#fig.savefig(folder + '/flasso_support')"
   ]
  },
  {
   "cell_type": "code",
   "execution_count": null,
   "metadata": {
    "collapsed": true
   },
   "outputs": [],
   "source": [
    "plot_support_2d"
   ]
  },
  {
   "cell_type": "code",
   "execution_count": 1,
   "metadata": {
    "collapsed": true
   },
   "outputs": [],
   "source": []
  },
  {
   "cell_type": "code",
   "execution_count": 2,
   "metadata": {},
   "outputs": [
    {
     "ename": "NameError",
     "evalue": "name 'supports' is not defined",
     "output_type": "error",
     "traceback": [
      "\u001b[0;31m---------------------------------------------------------------------------\u001b[0m",
      "\u001b[0;31mNameError\u001b[0m                                 Traceback (most recent call last)",
      "\u001b[0;32m<ipython-input-2-1da697d1f24e>\u001b[0m in \u001b[0;36m<module>\u001b[0;34m()\u001b[0m\n\u001b[0;32m----> 1\u001b[0;31m \u001b[0mplot_support_2d\u001b[0m\u001b[0;34m(\u001b[0m\u001b[0msupports\u001b[0m\u001b[0;34m,\u001b[0m \u001b[0;36m12\u001b[0m\u001b[0;34m)\u001b[0m\u001b[0;34m\u001b[0m\u001b[0m\n\u001b[0m",
      "\u001b[0;31mNameError\u001b[0m: name 'supports' is not defined"
     ]
    }
   ],
   "source": [
    "plot_support_2d(supports, 12)"
   ]
  },
  {
   "cell_type": "code",
   "execution_count": 34,
   "metadata": {},
   "outputs": [
    {
     "data": {
      "text/plain": [
       "{0: array([0, 9]),\n",
       " 1: array([ 9, 11]),\n",
       " 2: array([0, 9]),\n",
       " 3: array([ 9, 11]),\n",
       " 4: array([ 9, 10]),\n",
       " 5: nan,\n",
       " 6: nan,\n",
       " 7: array([6, 9]),\n",
       " 8: array([ 9, 10]),\n",
       " 9: array([ 9, 11]),\n",
       " 10: nan,\n",
       " 11: array([10, 11]),\n",
       " 12: array([8, 9]),\n",
       " 13: array([ 9, 11]),\n",
       " 14: array([ 9, 11]),\n",
       " 15: array([ 9, 11]),\n",
       " 16: array([0, 9]),\n",
       " 17: array([ 9, 10]),\n",
       " 18: array([6, 9]),\n",
       " 19: array([5, 9]),\n",
       " 20: array([ 9, 10]),\n",
       " 21: array([10, 11]),\n",
       " 22: array([7, 9]),\n",
       " 23: array([10, 11]),\n",
       " 24: array([ 9, 11])}"
      ]
     },
     "execution_count": 34,
     "metadata": {},
     "output_type": "execute_result"
    }
   ],
   "source": [
    "supports"
   ]
  },
  {
   "cell_type": "code",
   "execution_count": 36,
   "metadata": {},
   "outputs": [
    {
     "data": {
      "text/plain": [
       "array([[2, 0, 1, 5],\n",
       "       [3, 0, 1, 5],\n",
       "       [4, 0, 1, 5],\n",
       "       [2, 0, 1, 6],\n",
       "       [3, 0, 1, 6],\n",
       "       [4, 0, 1, 6],\n",
       "       [2, 0, 1, 7],\n",
       "       [3, 0, 1, 7],\n",
       "       [4, 0, 1, 7],\n",
       "       [1, 0, 2, 8],\n",
       "       [3, 0, 2, 8],\n",
       "       [4, 0, 2, 8]])"
      ]
     },
     "execution_count": 36,
     "metadata": {},
     "output_type": "execute_result"
    }
   ],
   "source": [
    "atoms4"
   ]
  },
  {
   "cell_type": "code",
   "execution_count": 20,
   "metadata": {
    "collapsed": true
   },
   "outputs": [],
   "source": [
    "coeffs = replicates[i].coeffs\n"
   ]
  },
  {
   "cell_type": "code",
   "execution_count": 21,
   "metadata": {
    "collapsed": true
   },
   "outputs": [],
   "source": [
    "selected_functions = np.asarray(np.where(np.sum(np.sum(coeffs ** 2, axis=1), axis=1) > 0))"
   ]
  },
  {
   "cell_type": "code",
   "execution_count": 22,
   "metadata": {},
   "outputs": [
    {
     "data": {
      "text/plain": [
       "array([[ 0,  0,  0,  0,  0,  0,  0,  0,  0,  0,  0,  0,  1,  1,  1,  1,\n",
       "         1,  1,  1,  1,  1,  1,  1,  1,  2,  2,  2,  2,  2,  2,  2,  2,\n",
       "         2,  2,  2,  2,  3,  3,  3,  3,  3,  3,  3,  3,  3,  3,  3,  3,\n",
       "         4,  4,  4,  4,  4,  4,  4,  4,  4,  4,  4,  4,  5,  5,  5,  5,\n",
       "         5,  5,  5,  5,  5,  5,  5,  5,  6,  6,  6,  6,  6,  6,  6,  6,\n",
       "         6,  7,  7,  7,  7,  7,  7,  7,  7,  7,  8,  8,  8,  8,  8,  8,\n",
       "         8,  8,  8,  9,  9,  9,  9,  9,  9,  9,  9,  9, 10, 10, 10, 10,\n",
       "        10, 10, 10, 10, 10, 11, 11, 11, 11, 11, 11, 11, 11, 11, 12, 12,\n",
       "        12, 12, 12, 12, 12, 12, 13, 13, 13, 13, 13, 13, 13, 14, 14, 14,\n",
       "        14, 14, 14, 14, 15, 15, 15, 15, 15, 15, 15, 16, 16, 16, 16, 16,\n",
       "        16, 16, 17, 17, 17, 17, 17, 17, 17, 18, 18, 18, 18, 18, 18, 18,\n",
       "        19, 19, 19, 19, 19, 19, 19, 20, 20, 20, 20, 20, 20, 21, 21, 21,\n",
       "        21, 21, 22, 22, 22, 22, 22, 23, 23, 23, 23, 23, 24, 24, 24, 24,\n",
       "        25, 25, 25, 25, 26, 26, 26, 26, 27, 27, 27, 27],\n",
       "       [ 0,  1,  2,  3,  4,  5,  6,  7,  8,  9, 10, 11,  0,  1,  2,  3,\n",
       "         4,  5,  6,  7,  8,  9, 10, 11,  0,  1,  2,  3,  4,  5,  6,  7,\n",
       "         8,  9, 10, 11,  0,  1,  2,  3,  4,  5,  6,  7,  8,  9, 10, 11,\n",
       "         0,  1,  2,  3,  4,  5,  6,  7,  8,  9, 10, 11,  0,  1,  2,  3,\n",
       "         4,  5,  6,  7,  8,  9, 10, 11,  0,  1,  3,  4,  6,  7,  9, 10,\n",
       "        11,  0,  1,  3,  4,  6,  7,  9, 10, 11,  0,  1,  3,  4,  6,  7,\n",
       "         9, 10, 11,  0,  1,  3,  4,  6,  7,  9, 10, 11,  0,  1,  3,  4,\n",
       "         6,  7,  9, 10, 11,  0,  1,  3,  4,  6,  7,  9, 10, 11,  0,  3,\n",
       "         4,  6,  7,  9, 10, 11,  0,  3,  5,  6,  7,  9, 11,  0,  3,  5,\n",
       "         6,  7,  9, 11,  0,  3,  5,  6,  7,  9, 11,  0,  3,  5,  6,  7,\n",
       "         9, 11,  0,  3,  5,  6,  7,  9, 11,  0,  3,  5,  6,  7,  9, 11,\n",
       "         0,  3,  5,  6,  7,  9, 11,  0,  3,  6,  7,  9, 11,  0,  3,  7,\n",
       "         9, 11,  0,  3,  7,  9, 11,  0,  3,  7,  9, 11,  0,  3,  7,  9,\n",
       "         0,  3,  7,  9,  0,  3,  7,  9,  0,  3,  7,  9]])"
      ]
     },
     "execution_count": 22,
     "metadata": {},
     "output_type": "execute_result"
    }
   ],
   "source": [
    "selected_functions"
   ]
  },
  {
   "cell_type": "code",
   "execution_count": 8,
   "metadata": {
    "collapsed": true
   },
   "outputs": [],
   "source": []
  },
  {
   "cell_type": "code",
   "execution_count": 30,
   "metadata": {},
   "outputs": [
    {
     "data": {
      "text/plain": [
       "array([], dtype=int64)"
      ]
     },
     "execution_count": 30,
     "metadata": {},
     "output_type": "execute_result"
    }
   ],
   "source": []
  },
  {
   "cell_type": "code",
   "execution_count": 24,
   "metadata": {},
   "outputs": [
    {
     "ename": "ValueError",
     "evalue": "zero-size array to reduction operation minimum which has no identity",
     "output_type": "error",
     "traceback": [
      "\u001b[0;31m---------------------------------------------------------------------------\u001b[0m",
      "\u001b[0;31mValueError\u001b[0m                                Traceback (most recent call last)",
      "\u001b[0;32m<ipython-input-24-bcccdc56f8ae>\u001b[0m in \u001b[0;36m<module>\u001b[0;34m()\u001b[0m\n\u001b[0;32m----> 1\u001b[0;31m \u001b[0mselection_lambda\u001b[0m \u001b[0;34m=\u001b[0m \u001b[0mnp\u001b[0m\u001b[0;34m.\u001b[0m\u001b[0mmin\u001b[0m\u001b[0;34m(\u001b[0m\u001b[0mnp\u001b[0m\u001b[0;34m.\u001b[0m\u001b[0mwhere\u001b[0m\u001b[0;34m(\u001b[0m\u001b[0mnp\u001b[0m\u001b[0;34m.\u001b[0m\u001b[0masarray\u001b[0m\u001b[0;34m(\u001b[0m\u001b[0mlist\u001b[0m\u001b[0;34m(\u001b[0m\u001b[0mCounter\u001b[0m\u001b[0;34m(\u001b[0m\u001b[0mselected_functions\u001b[0m\u001b[0;34m[\u001b[0m\u001b[0;36m0\u001b[0m\u001b[0;34m]\u001b[0m\u001b[0;34m)\u001b[0m\u001b[0;34m.\u001b[0m\u001b[0mvalues\u001b[0m\u001b[0;34m(\u001b[0m\u001b[0;34m)\u001b[0m\u001b[0;34m)\u001b[0m\u001b[0;34m)\u001b[0m \u001b[0;34m==\u001b[0m \u001b[0mdim\u001b[0m\u001b[0;34m)\u001b[0m\u001b[0;34m[\u001b[0m\u001b[0;36m0\u001b[0m\u001b[0;34m]\u001b[0m\u001b[0;34m)\u001b[0m\u001b[0;34m\u001b[0m\u001b[0m\n\u001b[0m",
      "\u001b[0;32m~/anaconda3/envs/manifold_env_april/lib/python3.5/site-packages/numpy/core/fromnumeric.py\u001b[0m in \u001b[0;36mamin\u001b[0;34m(a, axis, out, keepdims, initial)\u001b[0m\n\u001b[1;32m   2440\u001b[0m     \"\"\"\n\u001b[1;32m   2441\u001b[0m     return _wrapreduction(a, np.minimum, 'min', axis, None, out, keepdims=keepdims,\n\u001b[0;32m-> 2442\u001b[0;31m                           initial=initial)\n\u001b[0m\u001b[1;32m   2443\u001b[0m \u001b[0;34m\u001b[0m\u001b[0m\n\u001b[1;32m   2444\u001b[0m \u001b[0;34m\u001b[0m\u001b[0m\n",
      "\u001b[0;32m~/anaconda3/envs/manifold_env_april/lib/python3.5/site-packages/numpy/core/fromnumeric.py\u001b[0m in \u001b[0;36m_wrapreduction\u001b[0;34m(obj, ufunc, method, axis, dtype, out, **kwargs)\u001b[0m\n\u001b[1;32m     81\u001b[0m                 \u001b[0;32mreturn\u001b[0m \u001b[0mreduction\u001b[0m\u001b[0;34m(\u001b[0m\u001b[0maxis\u001b[0m\u001b[0;34m=\u001b[0m\u001b[0maxis\u001b[0m\u001b[0;34m,\u001b[0m \u001b[0mout\u001b[0m\u001b[0;34m=\u001b[0m\u001b[0mout\u001b[0m\u001b[0;34m,\u001b[0m \u001b[0;34m**\u001b[0m\u001b[0mpasskwargs\u001b[0m\u001b[0;34m)\u001b[0m\u001b[0;34m\u001b[0m\u001b[0m\n\u001b[1;32m     82\u001b[0m \u001b[0;34m\u001b[0m\u001b[0m\n\u001b[0;32m---> 83\u001b[0;31m     \u001b[0;32mreturn\u001b[0m \u001b[0mufunc\u001b[0m\u001b[0;34m.\u001b[0m\u001b[0mreduce\u001b[0m\u001b[0;34m(\u001b[0m\u001b[0mobj\u001b[0m\u001b[0;34m,\u001b[0m \u001b[0maxis\u001b[0m\u001b[0;34m,\u001b[0m \u001b[0mdtype\u001b[0m\u001b[0;34m,\u001b[0m \u001b[0mout\u001b[0m\u001b[0;34m,\u001b[0m \u001b[0;34m**\u001b[0m\u001b[0mpasskwargs\u001b[0m\u001b[0;34m)\u001b[0m\u001b[0;34m\u001b[0m\u001b[0m\n\u001b[0m\u001b[1;32m     84\u001b[0m \u001b[0;34m\u001b[0m\u001b[0m\n\u001b[1;32m     85\u001b[0m \u001b[0;34m\u001b[0m\u001b[0m\n",
      "\u001b[0;31mValueError\u001b[0m: zero-size array to reduction operation minimum which has no identity"
     ]
    }
   ],
   "source": [
    "sls = np.where(np.asarray(list(Counter(selected_functions[0]).values())) == dim)[0]\n",
    "if len(sls) > 0:\n",
    "    selection_lambda = np.min(sls)"
   ]
  },
  {
   "cell_type": "code",
   "execution_count": 16,
   "metadata": {},
   "outputs": [
    {
     "data": {
      "text/plain": [
       "14"
      ]
     },
     "execution_count": 16,
     "metadata": {},
     "output_type": "execute_result"
    }
   ],
   "source": [
    "selection_lambda"
   ]
  },
  {
   "cell_type": "code",
   "execution_count": 17,
   "metadata": {
    "collapsed": true
   },
   "outputs": [],
   "source": [
    "    selected_functions_at_selection_lambda = selected_functions[1][\n",
    "        np.where(selected_functions[0] == selection_lambda)[0]]"
   ]
  },
  {
   "cell_type": "code",
   "execution_count": 18,
   "metadata": {},
   "outputs": [
    {
     "data": {
      "text/plain": [
       "array([0, 9])"
      ]
     },
     "execution_count": 18,
     "metadata": {},
     "output_type": "execute_result"
    }
   ],
   "source": [
    "selected_functions_at_selection_lambda"
   ]
  },
  {
   "cell_type": "code",
   "execution_count": 2,
   "metadata": {
    "collapsed": true
   },
   "outputs": [],
   "source": [
    "\n",
    "def get_support(coeffs, dim):\n",
    "    selected_functions = np.asarray(np.where(np.sum(np.sum(coeffs ** 2, axis=1), axis=1) > 0))\n",
    "\n",
    "    sls = np.where(np.asarray(list(Counter(selected_functions[0]).values())) == dim)[0]\n",
    "    if len(sls) > 0:\n",
    "        selection_lambda = np.min(sls)\n",
    "        selected_functions_at_selection_lambda = selected_functions[1][\n",
    "            np.where(selected_functions[0] == selection_lambda)[0]]\n",
    "\n",
    "        return (selected_functions_at_selection_lambda)\n",
    "    else:\n",
    "        return(np.nan)\n"
   ]
  },
  {
   "cell_type": "code",
   "execution_count": 3,
   "metadata": {
    "collapsed": true
   },
   "outputs": [],
   "source": [
    "with open('/Users/samsonkoelle/manifoldflasso_jmlr/Figures/rigidethanol/May_29_2020_20_24_18n10000nsel50nreps25/replicatesrigidethanol_032520.pkl' ,\n",
    "         'rb') as loader:\n",
    "     replicates = pickle.load(loader)"
   ]
  },
  {
   "cell_type": "code",
   "execution_count": 9,
   "metadata": {},
   "outputs": [
    {
     "name": "stdout",
     "output_type": "stream",
     "text": [
      "0\n",
      "1\n",
      "2\n",
      "3\n",
      "4\n",
      "5\n",
      "6\n",
      "7\n",
      "8\n",
      "9\n",
      "10\n",
      "11\n",
      "12\n",
      "13\n",
      "14\n",
      "15\n",
      "16\n",
      "17\n",
      "18\n",
      "19\n",
      "20\n",
      "21\n",
      "22\n",
      "23\n",
      "24\n"
     ]
    }
   ],
   "source": [
    "nreps = 25\n",
    "supports = {}\n",
    "for i in range(nreps):\n",
    "    print(i)\n",
    "    supports[i] = get_support(replicates[i].coeffs, dim)\n",
    "#fig, ax = plt.figure(figsize=(15 , 15 ))\n",
    "#plot_support_2d(supports, experiment.p)\n",
    "#fig.savefig(folder + '/flasso_support')"
   ]
  },
  {
   "cell_type": "code",
   "execution_count": 42,
   "metadata": {},
   "outputs": [
    {
     "data": {
      "text/plain": [
       "(18, 2, 50, 12)"
      ]
     },
     "execution_count": 42,
     "metadata": {},
     "output_type": "execute_result"
    }
   ],
   "source": [
    "replicates[0].coeffs.shape"
   ]
  },
  {
   "cell_type": "code",
   "execution_count": 13,
   "metadata": {},
   "outputs": [
    {
     "data": {
      "image/png": "[encoded data removed]",
      "text/plain": [
       "<Figure size 3240x1080 with 3 Axes>"
      ]
     },
     "metadata": {
      "needs_background": "light"
     },
     "output_type": "display_data"
    }
   ],
   "source": [
    "%matplotlib inline\n",
    "m = 3\n",
    "fig, axes_all = plt.subplots(2, 1,figsize=(15 * m, 15))\n",
    "for i in range(1):\n",
    "    plot_reg_path_ax_lambdasearch_tangent(axes_all[i], replicates[i].coeffs, replicates[i].lambdas_plot * np.sqrt(m * nsel), fig)\n",
    "#fig.savefig(folder + '/beta_paths')for i in range(nreps):\n",
    "#    replicates[i].coeffs, replicates[i].lambdas_plot = get_coeffs_and_lambdas(replicates[i].coeff_dict, replicates[i].lower_lambda, replicates[i].higher_lambda)\n",
    "#    plot_reg_path_ax_lambdasearch_tangent(axes_all[i], replicates[i].coeffs, replicates[i].lambdas_plot * np.sqrt(m * nsel), fig)\n",
    "#fig.savefig(folder + '/beta_paths')"
   ]
  },
  {
   "cell_type": "code",
   "execution_count": 17,
   "metadata": {},
   "outputs": [
    {
     "data": {
      "text/plain": [
       "0.7268347040413705"
      ]
     },
     "execution_count": 17,
     "metadata": {},
     "output_type": "execute_result"
    }
   ],
   "source": [
    "np.linalg.norm(replicates[0].dg_M[:,6,:])"
   ]
  },
  {
   "cell_type": "code",
   "execution_count": 18,
   "metadata": {},
   "outputs": [
    {
     "data": {
      "text/plain": [
       "0.559756469966718"
      ]
     },
     "execution_count": 18,
     "metadata": {},
     "output_type": "execute_result"
    }
   ],
   "source": [
    "np.linalg.norm(replicates[0].dg_M[:,9,:])"
   ]
  },
  {
   "cell_type": "code",
   "execution_count": 19,
   "metadata": {},
   "outputs": [
    {
     "data": {
      "text/plain": [
       "0.7302463203516844"
      ]
     },
     "execution_count": 19,
     "metadata": {},
     "output_type": "execute_result"
    }
   ],
   "source": [
    "np.linalg.norm(replicates[0].dg_M[:,0,:])"
   ]
  },
  {
   "cell_type": "code",
   "execution_count": 20,
   "metadata": {},
   "outputs": [
    {
     "ename": "NameError",
     "evalue": "name 'get_olsnorm_and_supportsbrute' is not defined",
     "output_type": "error",
     "traceback": [
      "\u001b[0;31m---------------------------------------------------------------------------\u001b[0m",
      "\u001b[0;31mNameError\u001b[0m                                 Traceback (most recent call last)",
      "\u001b[0;32m<ipython-input-20-27cb70e8dfef>\u001b[0m in \u001b[0;36m<module>\u001b[0;34m()\u001b[0m\n\u001b[0;32m----> 1\u001b[0;31m \u001b[0mols_norm\u001b[0m\u001b[0;34m,\u001b[0m \u001b[0msupports_brute\u001b[0m \u001b[0;34m=\u001b[0m \u001b[0mget_olsnorm_and_supportsbrute\u001b[0m\u001b[0;34m(\u001b[0m\u001b[0mexperiment\u001b[0m\u001b[0;34m,\u001b[0m\u001b[0mreplicates\u001b[0m\u001b[0;34m)\u001b[0m\u001b[0;34m\u001b[0m\u001b[0m\n\u001b[0m",
      "\u001b[0;31mNameError\u001b[0m: name 'get_olsnorm_and_supportsbrute' is not defined"
     ]
    }
   ],
   "source": [
    "ols_norm, supports_brute = get_olsnorm_and_supportsbrute(experiment,replicates)"
   ]
  },
  {
   "cell_type": "code",
   "execution_count": null,
   "metadata": {
    "collapsed": true
   },
   "outputs": [],
   "source": []
  },
  {
   "cell_type": "code",
   "execution_count": 22,
   "metadata": {
    "collapsed": true
   },
   "outputs": [],
   "source": []
  },
  {
   "cell_type": "code",
   "execution_count": 25,
   "metadata": {},
   "outputs": [
    {
     "data": {
      "image/png": "[encoded data removed]",
      "text/plain": [
       "<Figure size 1080x1080 with 2 Axes>"
      ]
     },
     "metadata": {
      "needs_background": "light"
     },
     "output_type": "display_data"
    }
   ],
   "source": [
    "from codes.otherfunctions.multirun import get_cosines\n",
    "fig, axes_all = plt.subplots(2,figsize=(15,15))\n",
    "fig.suptitle('Cosines for each replicate')\n",
    "for i in range(1):\n",
    "    #full = np.concatenate([replicates[i].dg_M, np.swapaxes(replicates[i].df_M,1,2)],1)\n",
    "    asdf = get_cosines(replicates[i].dg_M)\n",
    "    axes_all[i].imshow(asdf)\n",
    "#fig.savefig(folder + '/cosines')"
   ]
  },
  {
   "cell_type": "code",
   "execution_count": 26,
   "metadata": {
    "collapsed": true
   },
   "outputs": [],
   "source": []
  },
  {
   "cell_type": "code",
   "execution_count": 27,
   "metadata": {
    "collapsed": true
   },
   "outputs": [],
   "source": [
    "    coeffs = replicates[0].coeffs\n",
    "    selected_functions = np.asarray(np.where(np.sum(np.sum(coeffs ** 2, axis=1), axis=1) > 0))\n",
    "\n",
    "    sls = np.where(np.asarray(list(Counter(selected_functions[0]).values())) == dim)[0]\n",
    "    if len(sls) > 0:\n",
    "        selection_lambda = np.min(sls)\n",
    "        selected_functions_at_selection_lambda = selected_functions[1][\n",
    "            np.where(selected_functions[0] == selection_lambda)[0]]\n"
   ]
  },
  {
   "cell_type": "code",
   "execution_count": 28,
   "metadata": {},
   "outputs": [
    {
     "data": {
      "text/plain": [
       "17"
      ]
     },
     "execution_count": 28,
     "metadata": {},
     "output_type": "execute_result"
    }
   ],
   "source": [
    "selection_lambda"
   ]
  },
  {
   "cell_type": "code",
   "execution_count": 32,
   "metadata": {
    "collapsed": true
   },
   "outputs": [],
   "source": []
  },
  {
   "cell_type": "code",
   "execution_count": 36,
   "metadata": {},
   "outputs": [
    {
     "data": {
      "text/plain": [
       "0.5625"
      ]
     },
     "execution_count": 36,
     "metadata": {},
     "output_type": "execute_result"
    }
   ],
   "source": [
    "r.lambdas_plot[17]"
   ]
  },
  {
   "cell_type": "code",
   "execution_count": 39,
   "metadata": {},
   "outputs": [
    {
     "data": {
      "text/plain": [
       "0.11633912170063156"
      ]
     },
     "execution_count": 39,
     "metadata": {},
     "output_type": "execute_result"
    }
   ],
   "source": [
    "np.linalg.norm(r.dg_M[:,6,:], axis = 1).max()"
   ]
  },
  {
   "cell_type": "code",
   "execution_count": 40,
   "metadata": {},
   "outputs": [
    {
     "data": {
      "text/plain": [
       "0.12867839374289203"
      ]
     },
     "execution_count": 40,
     "metadata": {},
     "output_type": "execute_result"
    }
   ],
   "source": [
    "np.linalg.norm(r.dg_M[:,9,:], axis = 1).max()"
   ]
  },
  {
   "cell_type": "code",
   "execution_count": 55,
   "metadata": {
    "collapsed": true
   },
   "outputs": [],
   "source": [
    "r = replicates[0]\n",
    "cs = experiment.get_betas_spam2(r.xtrain, r.ytrain, r.groups, np.asarray([r.lambdas_plot[17]]), 50, 2, itermax, tol)\n"
   ]
  },
  {
   "cell_type": "code",
   "execution_count": 61,
   "metadata": {},
   "outputs": [
    {
     "data": {
      "text/plain": [
       "array([1.68059217e+04, 0.00000000e+00, 0.00000000e+00, 0.00000000e+00,\n",
       "       0.00000000e+00, 0.00000000e+00, 9.12965240e+00, 0.00000000e+00,\n",
       "       0.00000000e+00, 0.00000000e+00, 0.00000000e+00, 0.00000000e+00])"
      ]
     },
     "execution_count": 61,
     "metadata": {},
     "output_type": "execute_result"
    }
   ],
   "source": [
    "np.linalg.norm(np.linalg.norm(cs[0], axis = 1)**2, axis = 0)**2"
   ]
  },
  {
   "cell_type": "code",
   "execution_count": 62,
   "metadata": {},
   "outputs": [
    {
     "data": {
      "text/plain": [
       "array([[-0.10665332, -0.01180447],\n",
       "       [-0.08228655,  0.00085667],\n",
       "       [ 0.00313987, -0.11257552],\n",
       "       [-0.09909808,  0.02560357],\n",
       "       [-0.08935135, -0.01136361],\n",
       "       [ 0.01668049,  0.10776254],\n",
       "       [-0.10421755,  0.00858113],\n",
       "       [ 0.01724142,  0.0726326 ],\n",
       "       [-0.10028624,  0.0197924 ],\n",
       "       [-0.0103932 , -0.11030472],\n",
       "       [-0.02477746, -0.10096071],\n",
       "       [-0.06941629, -0.07882469],\n",
       "       [-0.10546886,  0.00752466],\n",
       "       [ 0.10599768, -0.01306598],\n",
       "       [-0.02150603,  0.10254712],\n",
       "       [-0.00407269, -0.10314099],\n",
       "       [ 0.00018937,  0.10486732],\n",
       "       [ 0.10257452, -0.00849867],\n",
       "       [ 0.00067932,  0.10752242],\n",
       "       [ 0.01094446,  0.09229876],\n",
       "       [-0.10645279,  0.01290423],\n",
       "       [-0.10250349, -0.00975837],\n",
       "       [ 0.10651914,  0.00813855],\n",
       "       [-0.10910769, -0.01979531],\n",
       "       [-0.01255141,  0.09688344],\n",
       "       [ 0.04435332,  0.09540666],\n",
       "       [ 0.10486064, -0.01370722],\n",
       "       [-0.11203825,  0.01307321],\n",
       "       [ 0.00106189,  0.10242929],\n",
       "       [-0.00814541, -0.10385147],\n",
       "       [ 0.10413928,  0.01898054],\n",
       "       [ 0.00299417, -0.10157963],\n",
       "       [ 0.10538906, -0.00142842],\n",
       "       [-0.10180535, -0.00695029],\n",
       "       [-0.0052723 ,  0.100448  ],\n",
       "       [-0.10269583, -0.01885648],\n",
       "       [ 0.01104971,  0.11335752],\n",
       "       [ 0.04383064,  0.09588531],\n",
       "       [-0.1000955 ,  0.00915483],\n",
       "       [ 0.10113722,  0.00190608],\n",
       "       [ 0.00814731,  0.07629987],\n",
       "       [-0.05671091,  0.0838152 ],\n",
       "       [-0.10148679, -0.00884113],\n",
       "       [ 0.00899259,  0.11714121],\n",
       "       [-0.10737827, -0.01492649],\n",
       "       [-0.10308683,  0.01364269],\n",
       "       [ 0.10186025, -0.01652187],\n",
       "       [-0.10173995, -0.00611042],\n",
       "       [-0.10365746, -0.00628634],\n",
       "       [ 0.00760526,  0.09901043]])"
      ]
     },
     "execution_count": 62,
     "metadata": {},
     "output_type": "execute_result"
    }
   ],
   "source": [
    "r.dg_M[:,0]"
   ]
  },
  {
   "cell_type": "code",
   "execution_count": 64,
   "metadata": {},
   "outputs": [
    {
     "data": {
      "text/plain": [
       "array([[-3.78439486e-04,  8.43151657e-02],\n",
       "       [-5.80346570e-03,  8.05949209e-02],\n",
       "       [-5.08227781e-02, -1.65166190e-03],\n",
       "       [ 1.10342375e-02,  5.04195559e-02],\n",
       "       [-4.71975888e-03,  9.33758115e-02],\n",
       "       [-5.15556119e-02,  7.51593770e-03],\n",
       "       [-1.46251199e-03,  1.17653970e-01],\n",
       "       [-5.03379819e-02,  1.26762751e-02],\n",
       "       [ 4.88124045e-03,  1.14172451e-01],\n",
       "       [-5.04996573e-02,  4.50148649e-03],\n",
       "       [-5.18146424e-02,  1.39741764e-02],\n",
       "       [-5.23051806e-02,  4.12826386e-02],\n",
       "       [-1.15436468e-02,  1.11333641e-01],\n",
       "       [-1.94660670e-03,  1.20739374e-01],\n",
       "       [-5.13430181e-02, -1.20934392e-02],\n",
       "       [-5.41698856e-02,  4.19553437e-03],\n",
       "       [-6.28962994e-02,  2.99067756e-03],\n",
       "       [-1.48767988e-03,  8.42971218e-02],\n",
       "       [-5.68519471e-02,  2.31983407e-03],\n",
       "       [-6.10797971e-02,  1.75555938e-03],\n",
       "       [-3.78715524e-04,  1.28677836e-01],\n",
       "       [ 1.61261804e-03,  8.83930927e-02],\n",
       "       [ 3.53967734e-03,  1.21316581e-01],\n",
       "       [-7.14530993e-03,  8.93989361e-02],\n",
       "       [-5.04715408e-02, -5.95511790e-03],\n",
       "       [-5.21913618e-02,  2.24006979e-02],\n",
       "       [ 1.43432535e-03,  1.24906050e-01],\n",
       "       [-4.93360058e-03, -7.94410784e-02],\n",
       "       [-5.13891501e-02, -9.19642591e-04],\n",
       "       [-5.43445737e-02,  6.12211482e-03],\n",
       "       [-7.28084131e-03,  1.21594474e-01],\n",
       "       [-5.33510129e-02,  1.77665759e-04],\n",
       "       [-7.48056766e-04,  8.80137026e-03],\n",
       "       [ 1.64491038e-03,  7.72611400e-02],\n",
       "       [-5.84337666e-02, -6.18914573e-03],\n",
       "       [-8.47586123e-03,  6.60611736e-02],\n",
       "       [-5.04096292e-02,  5.72259622e-03],\n",
       "       [-5.42396293e-02,  2.22817144e-02],\n",
       "       [-2.07501740e-05,  7.77812807e-02],\n",
       "       [-6.35241308e-03,  6.41449513e-02],\n",
       "       [-5.85537032e-02,  3.59117136e-03],\n",
       "       [-4.20351846e-02, -2.93886317e-02],\n",
       "       [ 8.23770677e-03,  1.18700177e-01],\n",
       "       [-6.05459905e-02,  2.70787963e-03],\n",
       "       [-2.65518811e-03,  7.04796631e-02],\n",
       "       [-2.43507904e-03,  1.21802852e-01],\n",
       "       [-6.87121852e-03, -5.04873103e-02],\n",
       "       [ 1.91916943e-03,  7.76242483e-02],\n",
       "       [ 1.66557827e-03,  9.45576332e-02],\n",
       "       [-5.42427945e-02,  2.63623881e-03]])"
      ]
     },
     "execution_count": 64,
     "metadata": {},
     "output_type": "execute_result"
    }
   ],
   "source": [
    "r.dg_M[:,9]"
   ]
  },
  {
   "cell_type": "code",
   "execution_count": 66,
   "metadata": {},
   "outputs": [
    {
     "data": {
      "text/plain": [
       "array([0.52782913, 0.53210821, 0.5414781 , 0.50926446, 0.55135858,\n",
       "       0.52972255, 0.51408722, 0.52701173, 0.50954368, 0.50929584,\n",
       "       0.51482889, 0.5754407 , 0.5213671 , 0.51873982, 0.60789509,\n",
       "       0.59733319, 0.50894721, 0.60334436, 0.51058274, 0.52095814,\n",
       "       0.61552618, 0.60944343, 0.61392074, 0.52559068, 0.52168234,\n",
       "       0.60274979, 0.57765803, 0.54300325, 0.51181382, 0.51364222,\n",
       "       0.51332384, 0.55577696, 0.52579979, 0.50041897, 0.51158086,\n",
       "       0.51542775, 0.51845424, 0.5972814 , 0.50384413, 0.51750678,\n",
       "       0.54187192, 0.52005157, 0.51204143, 0.52965949, 0.52243245,\n",
       "       0.52608163, 0.51068261, 0.50297622, 0.56657853, 0.50698003])"
      ]
     },
     "execution_count": 66,
     "metadata": {},
     "output_type": "execute_result"
    }
   ],
   "source": [
    "np.linalg.norm(r.dg_w_pca[:,6,:], axis = 1)"
   ]
  },
  {
   "cell_type": "code",
   "execution_count": 67,
   "metadata": {},
   "outputs": [
    {
     "data": {
      "text/plain": [
       "array([2.54415722, 2.53539198, 0.47940482, 0.48997332, 0.95873234,\n",
       "       0.49094169, 1.30978965, 0.49089529, 2.01826821, 0.47786481,\n",
       "       0.50658879, 0.63420858, 2.11772702, 2.13820229, 0.49741347,\n",
       "       0.51436694, 0.59822648, 0.82204827, 0.53788229, 0.58538064,\n",
       "       1.67684186, 2.57745695, 1.3507313 , 0.92438106, 0.47920728,\n",
       "       0.53885908, 2.06286072, 0.77044597, 0.48572377, 0.51606961,\n",
       "       1.61462004, 0.50448761, 2.86438997, 0.75790408, 0.55853108,\n",
       "       0.63285334, 0.4777907 , 0.55506813, 0.76054617, 2.63192732,\n",
       "       0.55473322, 0.48294856, 1.64309131, 0.57397297, 2.63757865,\n",
       "       2.06189867, 0.48198988, 0.75990862, 0.95851848, 0.51589457])"
      ]
     },
     "execution_count": 67,
     "metadata": {},
     "output_type": "execute_result"
    }
   ],
   "source": [
    "np.linalg.norm(r.dg_w_pca[:,9,:], axis = 1)"
   ]
  },
  {
   "cell_type": "code",
   "execution_count": 70,
   "metadata": {},
   "outputs": [
    {
     "data": {
      "text/plain": [
       "array([0.27143051, 0.27049537, 0.05114664, 0.05227417, 0.10228503,\n",
       "       0.05237748, 0.13973856, 0.05237253, 0.21532458, 0.05098234,\n",
       "       0.05404684, 0.06766231, 0.22593562, 0.22812008, 0.05306794,\n",
       "       0.05487667, 0.06382346, 0.08770251, 0.05738547, 0.06245297,\n",
       "       0.17889855, 0.27498319, 0.14410654, 0.09862017, 0.05112557,\n",
       "       0.05748968, 0.22008205, 0.08219718, 0.0518208 , 0.05505833,\n",
       "       0.17226024, 0.05382267, 0.30559544, 0.08085911, 0.05958845,\n",
       "       0.06751772, 0.05097443, 0.05921899, 0.08114099, 0.28079451,\n",
       "       0.05918326, 0.05152471, 0.17529778, 0.06123591, 0.28139744,\n",
       "       0.21997941, 0.05142244, 0.08107297, 0.10226222, 0.05503965])"
      ]
     },
     "execution_count": 70,
     "metadata": {},
     "output_type": "execute_result"
    }
   ],
   "source": [
    "np.linalg.norm(r.dgw_norm[:,9,:], axis = 1)"
   ]
  },
  {
   "cell_type": "code",
   "execution_count": 71,
   "metadata": {},
   "outputs": [
    {
     "data": {
      "text/plain": [
       "array([0.13864373, 0.13976771, 0.14222888, 0.13376739, 0.14482416,\n",
       "       0.13914107, 0.13503418, 0.13842903, 0.13384073, 0.13377564,\n",
       "       0.13522899, 0.15114976, 0.13694637, 0.13625626, 0.15967449,\n",
       "       0.15690021, 0.13368406, 0.15847916, 0.13411366, 0.13683895,\n",
       "       0.16167893, 0.16008119, 0.16125723, 0.13805577, 0.13702917,\n",
       "       0.15832298, 0.15173218, 0.14262949, 0.13443703, 0.13491729,\n",
       "       0.13483366, 0.14598473, 0.13811069, 0.13144397, 0.13437584,\n",
       "       0.13538629, 0.13618125, 0.15688661, 0.13234365, 0.13593238,\n",
       "       0.14233232, 0.13660082, 0.13449681, 0.13912451, 0.1372262 ,\n",
       "       0.13818472, 0.1341399 , 0.13211567, 0.14882196, 0.13316735])"
      ]
     },
     "execution_count": 71,
     "metadata": {},
     "output_type": "execute_result"
    }
   ],
   "source": [
    "np.linalg.norm(r.dgw_norm[:,6,:], axis = 1)"
   ]
  },
  {
   "cell_type": "code",
   "execution_count": null,
   "metadata": {
    "collapsed": true
   },
   "outputs": [],
   "source": [
    "r.ta"
   ]
  }
 ],
 "metadata": {
  "kernelspec": {
   "display_name": "manifold_env_april2",
   "language": "python",
   "name": "manifold_env_april2"
  },
  "language_info": {
   "codemirror_mode": {
    "name": "ipython",
    "version": 3
   },
   "file_extension": ".py",
   "mimetype": "text/x-python",
   "name": "python",
   "nbconvert_exporter": "python",
   "pygments_lexer": "ipython3",
   "version": "3.5.5"
  }
 },
 "nbformat": 4,
 "nbformat_minor": 2
}
