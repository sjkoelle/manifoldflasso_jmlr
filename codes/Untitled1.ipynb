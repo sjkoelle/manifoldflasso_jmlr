{
 "cells": [
  {
   "cell_type": "code",
   "execution_count": 1,
   "metadata": {},
   "outputs": [
    {
     "name": "stdout",
     "output_type": "stream",
     "text": [
      "/Users/samsonkoelle/manifoldflasso_jmlr\n"
     ]
    }
   ],
   "source": [
    "import os\n",
    "import datetime\n",
    "import numpy as np\n",
    "import dill as pickle\n",
    "import random\n",
    "import sys\n",
    "from sklearn.decomposition import TruncatedSVD\n",
    "\n",
    "np.random.seed(0)\n",
    "random.seed(0)\n",
    "now = datetime.datetime.now().strftime(\"%B_%d_%Y_%H_%M_%S\")\n",
    "workingdirectory = os.popen('git rev-parse --show-toplevel').read()[:-1]\n",
    "sys.path.append(workingdirectory)\n",
    "os.chdir(workingdirectory)\n",
    "\n",
    "from codes.experimentclasses.AtomicRegression2 import AtomicRegression\n",
    "from codes.otherfunctions.get_dictionaries import get_atoms_4\n",
    "from codes.flasso.Replicate import Replicate\n",
    "from codes.geometer.RiemannianManifold import RiemannianManifold\n",
    "from codes.flasso.GradientGroupLasso import batch_stream, get_sr_lambda_sam_parallel\n",
    "from codes.otherfunctions.get_grads import get_grads3\n",
    "from codes.experimentclasses.RigidEthanolPCA3 import get_rigid_ethanol_data\n",
    "from codes.otherfunctions.get_cosines import get_cosines\n",
    "\n",
    "n = 10000  # number of data points to simulate\n",
    "nsel = 100  # number of points to analyze with lasso\n",
    "n_neighbors = 1000  # number of neighbors in megaman\n",
    "m = 3  # number of embedding dimensions (diffusion maps)\n",
    "diffusion_time = 0.05  # embedding radius\n",
    "dim = 2  # manifold dimension\n",
    "dimnoise = 2  # manifold dimension (not in mflasso paper)\n",
    "cores = 3\n",
    "nreps = 1\n",
    "natoms = 9\n",
    "ii = np.asarray([0, 0, 0, 0, 1, 1, 1, 2])  # atom adjacencies for dihedral angle computation\n",
    "jj = np.asarray([1, 2, 3, 4, 5, 6, 7, 8])\n",
    "\n",
    "savename = 'rigidethanol_021521'\n",
    "savefolder = 'rigidethanol'\n",
    "# loadfolder = 'rigidethanol'\n",
    "# loadname = 'ethanol_021521'\n",
    "data_wd = '/Users/samsonkoelle/Downloads/manigrad-100818/mani-samk-gradients/'\n",
    "\n",
    "folder = workingdirectory + '/Figures/rigidethanol/' + now + 'n' + str(n) + 'nsel' + str(nsel) + 'nreps' + str(nreps)\n",
    "os.mkdir(folder)\n",
    "experiment = AtomicRegression(natoms)\n",
    "experiment.m = m\n",
    "experiment.dim = dim\n",
    "experiment.dnoise = dim\n",
    "experiment.nreps = nreps\n",
    "experiment.nsel = nsel\n",
    "experiment.atoms3, experiment.da = experiment.get_atoms_3()\n",
    "experiment.atoms4, experiment.p = get_atoms_4(natoms, ii, jj)\n",
    "\n",
    "data, experiment.positions = get_rigid_ethanol_data(cor=0., xvar=0., cores=3, atoms3=experiment.atoms3, noise=False)\n",
    "\n",
    "experiment.M = RiemannianManifold(data, dim)  # experiment.load_data(workingdirectory = data_wd)\n",
    "experiment.svd = TruncatedSVD(n_components=50)\n",
    "experiment.Mpca = RiemannianManifold(experiment.svd.fit_transform(experiment.M.data), dim)\n",
    "experiment.Mpca.geom = experiment.Mpca.compute_geom(diffusion_time, n_neighbors)\n"
   ]
  },
  {
   "cell_type": "code",
   "execution_count": 2,
   "metadata": {
    "collapsed": true
   },
   "outputs": [],
   "source": [
    "experiment.N = experiment.Mpca.get_embedding3(experiment.Mpca.geom, m, diffusion_time, dim)\n"
   ]
  },
  {
   "cell_type": "code",
   "execution_count": 3,
   "metadata": {
    "collapsed": true
   },
   "outputs": [],
   "source": [
    "from codes.otherfunctions.get_dictionaries import get_all_atoms_4"
   ]
  },
  {
   "cell_type": "code",
   "execution_count": 4,
   "metadata": {},
   "outputs": [],
   "source": [
    "experiment.atoms4,experiment.p = get_all_atoms_4(natoms)\n"
   ]
  },
  {
   "cell_type": "code",
   "execution_count": 14,
   "metadata": {
    "collapsed": true
   },
   "outputs": [],
   "source": [
    "def torchComputeAngle(poses):\n",
    "    combos = torch.tensor([[0, 1], [1, 2], [2, 0]])\n",
    "    ab = torch.norm(poses[combos[0, 0], :] - poses[combos[0, 1], :])\n",
    "    bc = torch.norm(poses[combos[1, 0], :] - poses[combos[1, 1], :])\n",
    "    ca = torch.norm(poses[combos[2, 0], :] - poses[combos[2, 1], :])\n",
    "    output = torch.acos((ab ** 2 - bc ** 2 + ca ** 2) / (2 * ab * ca))\n",
    "    return (output)\n",
    "\n",
    "def torchCompute3angles(position):\n",
    "    angles = np.ones(3)\n",
    "    gradients = np.zeros((3, position.shape[0], 3))\n",
    "    for i in range(3):\n",
    "        #print(i)\n",
    "        poses = torch.tensor(position[[i, (i + 1) % 3, (i + 2) % 3], :], requires_grad=True)\n",
    "        tempang = torchComputeAngle(poses)\n",
    "        tempang.backward()\n",
    "        angles[i] = tempang.detach().numpy()\n",
    "        gradients[i] = poses.grad[[(2 * i) % 3, (2 * i + 1) % 3, (2 * i + 2) % 3], :]\n",
    "        # del(poses)\n",
    "    return(angles, gradients)\n",
    "\n",
    "def reshapepointdata( pointdata, atoms3):\n",
    "    natoms = len(np.unique(atoms3))\n",
    "    output = np.zeros((pointdata.shape[0] * pointdata.shape[1], natoms * 3))\n",
    "    for i in range(pointdata.shape[0]):\n",
    "        for j in range(pointdata.shape[1]):\n",
    "            for k in range(pointdata.shape[2]):\n",
    "                for l in range(pointdata.shape[3]):\n",
    "                    # print(atoms3[k]*3 + l)\n",
    "                    output[i * 3 + j, atoms3[i][k] * 3 + l] = pointdata[i, j, k, l]\n",
    "    return(output)\n",
    "\n",
    "def get_wilson( selind, atoms3, tdata):\n",
    "    natoms = len(np.unique(atoms3))\n",
    "    jacobien = np.zeros((len(selind), len(atoms3) * 3, natoms * 3))\n",
    "    for i in range(len(selind)):\n",
    "        pointdata = tdata[i * len(atoms3): (i + 1) * len(atoms3)]\n",
    "        jacobien[i] = reshapepointdata(pointdata, atoms3)\n",
    "    return(jacobien)\n",
    "\n",
    "def get_deformation_projector( natoms, jacobien, selind):\n",
    "    nnonzerosvd = 3 * natoms - 7\n",
    "    deformation = np.zeros((len(selind),  nnonzerosvd))\n",
    "    for i in range(len(selind)):\n",
    "        asdf = np.linalg.svd(jacobien[i])\n",
    "        deformation[i] = (asdf[1][:nnonzerosvd] )\n",
    "    return (deformation)\n",
    "\n",
    "def get_dw(cores,atoms3,natoms, selected_points,positions):\n",
    "    positions = positions\n",
    "    selected_points = selected_points\n",
    "    p = Pool(cores)\n",
    "    n = len(selected_points)\n",
    "    results = p.map(lambda i: torchCompute3angles(position=positions[i[0], atoms3[i[1]], :]),\n",
    "                    data_stream_custom_range(selected_points, len(atoms3)))\n",
    "    tdata = np.asarray([results[i][1] for i in range(n * len(atoms3))])\n",
    "    # for i in range(len(selected_points)):\n",
    "    #     pointdata = tdata[i * len(atoms3): (i + 1) * len(atoms3)]\n",
    "    jacobien = get_wilson(selected_points, atoms3, tdata)\n",
    "    deformation = get_deformation_projector(natoms, jacobien, selected_points)\n",
    "    return(deformation)"
   ]
  },
  {
   "cell_type": "code",
   "execution_count": 6,
   "metadata": {
    "collapsed": true
   },
   "outputs": [],
   "source": [
    "import torch\n",
    "from pathos.multiprocessing import ProcessingPool as Pool\n",
    "from codes.otherfunctions.data_stream_custom_range import data_stream_custom_range\n"
   ]
  },
  {
   "cell_type": "code",
   "execution_count": 7,
   "metadata": {},
   "outputs": [
    {
     "ename": "NameError",
     "evalue": "name 'replicates' is not defined",
     "output_type": "error",
     "traceback": [
      "\u001b[0;31m---------------------------------------------------------------------------\u001b[0m",
      "\u001b[0;31mNameError\u001b[0m                                 Traceback (most recent call last)",
      "\u001b[0;32m<ipython-input-7-f591247330b6>\u001b[0m in \u001b[0;36m<module>\u001b[0;34m\u001b[0m\n\u001b[0;32m----> 1\u001b[0;31m \u001b[0mget_dw\u001b[0m\u001b[0;34m(\u001b[0m\u001b[0mcores\u001b[0m\u001b[0;34m,\u001b[0m\u001b[0mexperiment\u001b[0m\u001b[0;34m.\u001b[0m\u001b[0matoms3\u001b[0m\u001b[0;34m,\u001b[0m\u001b[0;36m9\u001b[0m\u001b[0;34m,\u001b[0m \u001b[0mreplicates\u001b[0m\u001b[0;34m[\u001b[0m\u001b[0mi\u001b[0m\u001b[0;34m]\u001b[0m\u001b[0;34m.\u001b[0m\u001b[0mselected_points\u001b[0m\u001b[0;34m,\u001b[0m \u001b[0mexperiment\u001b[0m\u001b[0;34m.\u001b[0m\u001b[0mpositions\u001b[0m\u001b[0;34m)\u001b[0m\u001b[0;34m\u001b[0m\u001b[0m\n\u001b[0m",
      "\u001b[0;31mNameError\u001b[0m: name 'replicates' is not defined"
     ]
    }
   ],
   "source": []
  },
  {
   "cell_type": "code",
   "execution_count": null,
   "metadata": {
    "collapsed": true
   },
   "outputs": [],
   "source": []
  },
  {
   "cell_type": "code",
   "execution_count": 8,
   "metadata": {},
   "outputs": [
    {
     "name": "stdout",
     "output_type": "stream",
     "text": [
      "pre-gradient acquisition 2021-06-06 21:36:13.115975\n"
     ]
    }
   ],
   "source": [
    "print('pre-gradient acquisition', datetime.datetime.now())\n",
    "replicates = {}\n",
    "nsel = 5\n",
    "for i in range(1):\n",
    "    replicates[i] = Replicate(nsel=nsel, n=experiment.M.data.shape[0])\n",
    "    replicates[i].df_M, replicates[i].dg_M, replicates[i].dg_w, replicates[i].dg_w_pca, replicates[i].dgw_norm, \\\n",
    "    replicates[i].tangent_bases = get_grads3(experiment, experiment.Mpca, experiment.M, experiment.N,\n",
    "                                             replicates[i].selected_points, experiment.svd)\n"
   ]
  },
  {
   "cell_type": "code",
   "execution_count": 15,
   "metadata": {},
   "outputs": [
    {
     "data": {
      "text/plain": [
       "array([33.22629828,  6.40009585])"
      ]
     },
     "execution_count": 15,
     "metadata": {},
     "output_type": "execute_result"
    }
   ],
   "source": [
    "np.linalg.svd(replicates[i].dg_M[0])[1]"
   ]
  },
  {
   "cell_type": "code",
   "execution_count": 17,
   "metadata": {},
   "outputs": [
    {
     "data": {
      "text/plain": [
       "array([[5.27854331, 4.9247771 , 4.16511026, 3.97049902, 3.66468324,\n",
       "        3.55561383, 3.49431613, 2.84144791, 2.81846368, 2.78780446,\n",
       "        2.18668256, 2.11318989, 1.51637788, 1.13604895, 0.70501972,\n",
       "        0.57262143, 0.54408576, 0.52809424, 0.46189059, 0.41427587],\n",
       "       [4.90231903, 4.86602524, 4.18540651, 3.96386979, 3.66141746,\n",
       "        3.54642701, 3.47210433, 2.86919967, 2.82416297, 2.77857064,\n",
       "        2.20419652, 2.13633994, 2.11956078, 1.52213902, 1.16593001,\n",
       "        0.68339254, 0.55823769, 0.47615326, 0.46502962, 0.42583582],\n",
       "       [4.90094284, 4.88124494, 4.18612794, 3.90656639, 3.66486785,\n",
       "        3.61785448, 3.57567041, 2.91633296, 2.81978859, 2.65891734,\n",
       "        2.17728618, 2.09922203, 1.99323743, 1.52262663, 1.26393362,\n",
       "        0.68017521, 0.55946399, 0.47888959, 0.46799907, 0.42978635],\n",
       "       [4.90597469, 4.88435496, 4.18211518, 3.95030695, 3.66017765,\n",
       "        3.56237636, 3.4735966 , 2.8617476 , 2.82528904, 2.78534794,\n",
       "        2.21914611, 2.10136664, 2.08904978, 1.52150591, 1.17176204,\n",
       "        0.6852194 , 0.55826719, 0.47852439, 0.46428953, 0.42090922],\n",
       "       [5.22550376, 4.92398695, 4.16561744, 3.9454855 , 3.66431151,\n",
       "        3.58338344, 3.47829848, 2.84412792, 2.81853284, 2.78938091,\n",
       "        2.23440983, 2.0583956 , 1.51695789, 1.18330039, 0.95338072,\n",
       "        0.68577064, 0.54780313, 0.52529981, 0.46162361, 0.41140926]])"
      ]
     },
     "execution_count": 17,
     "metadata": {},
     "output_type": "execute_result"
    }
   ],
   "source": [
    "get_dw(cores,experiment.atoms3,9, replicates[i].selected_points, experiment.positions)"
   ]
  },
  {
   "cell_type": "code",
   "execution_count": 18,
   "metadata": {
    "collapsed": true
   },
   "outputs": [],
   "source": [
    "import numpy as np"
   ]
  },
  {
   "cell_type": "code",
   "execution_count": 19,
   "metadata": {
    "collapsed": true
   },
   "outputs": [],
   "source": [
    "asdf = np.array([[5.27854331, 4.9247771 , 4.16511026, 3.97049902, 3.66468324,\n",
    "        3.55561383, 3.49431613, 2.84144791, 2.81846368, 2.78780446,\n",
    "        2.18668256, 2.11318989, 1.51637788, 1.13604895, 0.70501972,\n",
    "        0.57262143, 0.54408576, 0.52809424, 0.46189059, 0.41427587],\n",
    "       [4.90231903, 4.86602524, 4.18540651, 3.96386979, 3.66141746,\n",
    "        3.54642701, 3.47210433, 2.86919967, 2.82416297, 2.77857064,\n",
    "        2.20419652, 2.13633994, 2.11956078, 1.52213902, 1.16593001,\n",
    "        0.68339254, 0.55823769, 0.47615326, 0.46502962, 0.42583582],\n",
    "       [4.90094284, 4.88124494, 4.18612794, 3.90656639, 3.66486785,\n",
    "        3.61785448, 3.57567041, 2.91633296, 2.81978859, 2.65891734,\n",
    "        2.17728618, 2.09922203, 1.99323743, 1.52262663, 1.26393362,\n",
    "        0.68017521, 0.55946399, 0.47888959, 0.46799907, 0.42978635],\n",
    "       [4.90597469, 4.88435496, 4.18211518, 3.95030695, 3.66017765,\n",
    "        3.56237636, 3.4735966 , 2.8617476 , 2.82528904, 2.78534794,\n",
    "        2.21914611, 2.10136664, 2.08904978, 1.52150591, 1.17176204,\n",
    "        0.6852194 , 0.55826719, 0.47852439, 0.46428953, 0.42090922],\n",
    "       [5.22550376, 4.92398695, 4.16561744, 3.9454855 , 3.66431151,\n",
    "        3.58338344, 3.47829848, 2.84412792, 2.81853284, 2.78938091,\n",
    "        2.23440983, 2.0583956 , 1.51695789, 1.18330039, 0.95338072,\n",
    "        0.68577064, 0.54780313, 0.52529981, 0.46162361, 0.41140926]])"
   ]
  },
  {
   "cell_type": "code",
   "execution_count": 24,
   "metadata": {},
   "outputs": [
    {
     "data": {
      "text/plain": [
       "Text(0.5, 0, 'Singular values of Angular Metric versus Euclidean')"
      ]
     },
     "execution_count": 24,
     "metadata": {},
     "output_type": "execute_result"
    },
    {
     "data": {
      "image/png": "[encoded data removed]",
      "text/plain": [
       "<Figure size 432x288 with 1 Axes>"
      ]
     },
     "metadata": {
      "needs_background": "light"
     },
     "output_type": "display_data"
    }
   ],
   "source": [
    "plt.hist(asdf[0])\n",
    "plt.xlabel('Singular values of Angular Metric versus Euclidean')"
   ]
  },
  {
   "cell_type": "code",
   "execution_count": 21,
   "metadata": {
    "collapsed": true
   },
   "outputs": [],
   "source": [
    "import matplotlib.pyplot as plt"
   ]
  },
  {
   "cell_type": "code",
   "execution_count": null,
   "metadata": {
    "collapsed": true
   },
   "outputs": [],
   "source": []
  }
 ],
 "metadata": {
  "kernelspec": {
   "display_name": "manifold_env_april2",
   "language": "python",
   "name": "manifold_env_april2"
  },
  "language_info": {
   "codemirror_mode": {
    "name": "ipython",
    "version": 3
   },
   "file_extension": ".py",
   "mimetype": "text/x-python",
   "name": "python",
   "nbconvert_exporter": "python",
   "pygments_lexer": "ipython3",
   "version": "3.5.5"
  }
 },
 "nbformat": 4,
 "nbformat_minor": 2
}
