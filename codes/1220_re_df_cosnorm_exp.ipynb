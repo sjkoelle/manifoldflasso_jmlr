{
 "cells": [
  {
   "cell_type": "code",
   "execution_count": 1,
   "metadata": {},
   "outputs": [
    {
     "name": "stdout",
     "output_type": "stream",
     "text": [
      "/Users/samsonkoelle/manifoldflasso_jmlr\n"
     ]
    }
   ],
   "source": [
    "\n",
    "import matplotlib\n",
    "matplotlib.use('Agg')\n",
    "import os\n",
    "import datetime\n",
    "import numpy as np\n",
    "import dill as pickle\n",
    "import random\n",
    "import sys\n",
    "import seaborn as sns\n",
    "import matplotlib\n",
    "matplotlib.use('Agg')\n",
    "import matplotlib.pyplot as plt\n",
    "from matplotlib import rcParams\n",
    "from collections import OrderedDict\n",
    "import math\n",
    "from matplotlib.lines import Line2D\n",
    "from pylab import rcParams\n",
    "from collections import Counter\n",
    "from itertools import combinations\n",
    "#from datetime import datetime\n",
    "\n",
    "from shutil import copyfile\n",
    "rcParams['figure.figsize'] = 25, 10\n",
    "\n",
    "np.random.seed(0)\n",
    "random.seed(0)\n",
    "now = datetime.datetime.now().strftime(\"%B_%d_%Y_%H_%M_%S\")\n",
    "workingdirectory = os.popen('git rev-parse --show-toplevel').read()[:-1]\n",
    "sys.path.append(workingdirectory)\n",
    "os.chdir(workingdirectory)\n",
    "from codes.experimentclasses.RigidEthanolPCA2 import RigidEthanolPCA2\n",
    "from codes.otherfunctions.get_dictionaries import get_all_atoms_4\n",
    "from codes.otherfunctions.get_grads import get_grads\n",
    "from codes.otherfunctions.multirun import get_support_recovery_lambda\n",
    "from codes.otherfunctions.multirun import get_lower_interesting_lambda\n",
    "from codes.otherfunctions.multirun import get_coeffs_and_lambdas\n",
    "from codes.otherfunctions.multirun import get_support\n",
    "from codes.otherfunctions.multiplot import plot_support_2d\n",
    "from codes.otherfunctions.multiplot import plot_reg_path_ax_lambdasearch\n",
    "from codes.otherfunctions.multiplot import plot_gs_v_dgnorm\n",
    "from codes.otherfunctions.multiplot import plot_dot_distributions\n",
    "from codes.otherfunctions.multirun import get_cosines\n",
    "from codes.flasso.Replicate import Replicate\n",
    "from codes.otherfunctions.multirun import get_olsnorm_and_supportsbrute\n",
    "from codes.otherfunctions.multiplot import highlight_cell\n",
    "\n",
    "from codes.geometer.RiemannianManifold import RiemannianManifold\n",
    "from codes.geometer.ShapeSpace import ShapeSpace\n",
    "from codes.geometer.TangentBundle import TangentBundle\n",
    "\n",
    "\n",
    "def get_grads(experiment, Mpca, Mangles, N, selected_points):\n",
    "    dimnoise = experiment.dimnoise\n",
    "    dim = experiment.dim\n",
    "    cores = experiment.cores\n",
    "\n",
    "    tangent_bases = Mpca.get_wlpca_tangent_sel(Mpca, selected_points, dimnoise)\n",
    "    subM = RiemannianManifold(Mpca.data[selected_points], dim)\n",
    "    subM.tb = TangentBundle(subM, tangent_bases)\n",
    "    N.tangent_bundle = TangentBundle(N, np.swapaxes(N.geom.rmetric.Hvv[:,:dim,:],1,2))\n",
    "\n",
    "    df_M = experiment.get_dF_js_idM(Mpca, N, subM.tb, N.tangent_bundle, selected_points, dimnoise)\n",
    "    df_M2 = df_M / np.sum(np.linalg.norm(df_M, axis=1) ** 2, axis=0)**(0.5)\n",
    "    dg_x = experiment.get_dx_g_full(Mangles.data[selected_points])\n",
    "\n",
    "    W = ShapeSpace(experiment.positions, Mangles.data)\n",
    "    dw = W.get_dw(cores, experiment.atoms3, experiment.natoms, selected_points)\n",
    "    dg_w = experiment.project(np.swapaxes(dw, 1, 2),\n",
    "                              experiment.project(dw, dg_x))\n",
    "\n",
    "    dg_w_pca = np.asarray([np.matmul(experiment.projector, dg_w[j].transpose()).transpose() for j in range(len(selected_points))])\n",
    "    dgw_norm = experiment.normalize(dg_w_pca)\n",
    "    dg_M = experiment.project(subM.tb.tangent_bases, dgw_norm)\n",
    "    return (df_M2, dg_M, dg_w, dg_w_pca, dgw_norm)\n",
    "\n",
    "#set parameters\n",
    "n = 10000 #number of data points to simulate\n",
    "nsel = 10 #number of points to analyze with lasso\n",
    "#itermax = 1000 #maximum iterations per lasso run\n",
    "tol = 1e-14 #convergence criteria for lasso\n",
    "#lambdas = np.asarray([0,.01,.1,1,10,100], dtype = np.float16)#lambda values for lasso\n",
    "#lambdas = np.asarray(np.hstack([np.asarray([0]),np.logspace(-3,1,11)]), dtype = np.float16)\n",
    "n_neighbors = 1000 #number of neighbors in megaman\n",
    "m = 3 #number of embedding dimensions (diffusion maps)\n",
    "#diffusion_time = 1. #diffusion time controls gaussian kernel radius per gradients paper\n",
    "diffusion_time = 0.05 #(yuchia suggestion)\n",
    "dim = 2 #manifold dimension\n",
    "dimnoise = 2\n",
    "natoms = 9\n",
    "cores = 3 #number of cores for parallel processing\n",
    "cor = 0.0 #correlation for noise\n",
    "var = 0.00001 #variance scaler for noise\n",
    "cor = 0.0 #correlation for noise\n",
    "var = 0.00001 #variance scaler for noise\n",
    "ii = np.asarray([0,0,0,0,1,1,1,2]) # atom adjacencies for dihedral angle computation\n",
    "jj = np.asarray([1,2,3,4,5,6,7,8])\n",
    "\n",
    "#run experiment\n",
    "atoms4 = np.asarray([[6,1,0,4],[4,0,2,8],[7,6,5,1],[3,0,2,4]],dtype = int)\n",
    "nreps = 1\n",
    "lambda_max = 1\n",
    "max_search = 30\n",
    "\n",
    "folder = workingdirectory + '/Figures/rigidethanol/' + now + 'n' + str(n) + 'nsel' + str(nsel) + 'nreps' + str(nreps)\n",
    "os.mkdir(folder)\n",
    "\n",
    "#src = workingdirectory + '/codes/experiments/rigidethanol_110120_nsel100_nreps25_var0.py'\n",
    "#filenamescript = folder + '/script.py'\n",
    "#copyfile(src, filenamescript)\n"
   ]
  },
  {
   "cell_type": "code",
   "execution_count": 2,
   "metadata": {},
   "outputs": [
    {
     "name": "stderr",
     "output_type": "stream",
     "text": [
      "Process ForkPoolWorker-2:\n",
      "Process ForkPoolWorker-1:\n",
      "Process ForkPoolWorker-3:\n",
      "Traceback (most recent call last):\n",
      "  File \"/Users/samsonkoelle/anaconda3/envs/manifold_env_april/lib/python3.5/site-packages/multiprocess/process.py\", line 249, in _bootstrap\n",
      "    self.run()\n",
      "Traceback (most recent call last):\n",
      "Traceback (most recent call last):\n",
      "  File \"/Users/samsonkoelle/anaconda3/envs/manifold_env_april/lib/python3.5/site-packages/multiprocess/process.py\", line 93, in run\n",
      "    self._target(*self._args, **self._kwargs)\n",
      "  File \"/Users/samsonkoelle/anaconda3/envs/manifold_env_april/lib/python3.5/site-packages/multiprocess/process.py\", line 249, in _bootstrap\n",
      "    self.run()\n",
      "  File \"/Users/samsonkoelle/anaconda3/envs/manifold_env_april/lib/python3.5/site-packages/multiprocess/process.py\", line 249, in _bootstrap\n",
      "    self.run()\n",
      "  File \"/Users/samsonkoelle/anaconda3/envs/manifold_env_april/lib/python3.5/site-packages/multiprocess/pool.py\", line 119, in worker\n",
      "    result = (True, func(*args, **kwds))\n",
      "  File \"/Users/samsonkoelle/anaconda3/envs/manifold_env_april/lib/python3.5/site-packages/multiprocess/process.py\", line 93, in run\n",
      "    self._target(*self._args, **self._kwargs)\n",
      "  File \"/Users/samsonkoelle/anaconda3/envs/manifold_env_april/lib/python3.5/site-packages/multiprocess/process.py\", line 93, in run\n",
      "    self._target(*self._args, **self._kwargs)\n",
      "  File \"/Users/samsonkoelle/anaconda3/envs/manifold_env_april/lib/python3.5/site-packages/multiprocess/pool.py\", line 119, in worker\n",
      "    result = (True, func(*args, **kwds))\n",
      "  File \"/Users/samsonkoelle/anaconda3/envs/manifold_env_april/lib/python3.5/site-packages/multiprocess/pool.py\", line 44, in mapstar\n",
      "    return list(map(*args))\n",
      "  File \"/Users/samsonkoelle/anaconda3/envs/manifold_env_april/lib/python3.5/site-packages/multiprocess/pool.py\", line 119, in worker\n",
      "    result = (True, func(*args, **kwds))\n",
      "  File \"/Users/samsonkoelle/anaconda3/envs/manifold_env_april/lib/python3.5/site-packages/multiprocess/pool.py\", line 44, in mapstar\n",
      "    return list(map(*args))\n",
      "  File \"/Users/samsonkoelle/anaconda3/envs/manifold_env_april/lib/python3.5/site-packages/pathos/helpers/mp_helper.py\", line 15, in <lambda>\n",
      "    func = lambda args: f(*args)\n",
      "  File \"/Users/samsonkoelle/anaconda3/envs/manifold_env_april/lib/python3.5/site-packages/multiprocess/pool.py\", line 44, in mapstar\n",
      "    return list(map(*args))\n",
      "  File \"/Users/samsonkoelle/anaconda3/envs/manifold_env_april/lib/python3.5/site-packages/pathos/helpers/mp_helper.py\", line 15, in <lambda>\n",
      "    func = lambda args: f(*args)\n",
      "  File \"/Users/samsonkoelle/manifoldflasso_jmlr/codes/geometer/ShapeSpace.py\", line 77, in <lambda>\n",
      "    results = p.map(lambda i: self.torchCompute3angles(position=positions[i[0], atoms3[i[1]], :]),\n",
      "  File \"/Users/samsonkoelle/anaconda3/envs/manifold_env_april/lib/python3.5/site-packages/pathos/helpers/mp_helper.py\", line 15, in <lambda>\n",
      "    func = lambda args: f(*args)\n",
      "  File \"/Users/samsonkoelle/manifoldflasso_jmlr/codes/geometer/ShapeSpace.py\", line 77, in <lambda>\n",
      "    results = p.map(lambda i: self.torchCompute3angles(position=positions[i[0], atoms3[i[1]], :]),\n",
      "  File \"/Users/samsonkoelle/manifoldflasso_jmlr/codes/geometer/ShapeSpace.py\", line 39, in torchCompute3angles\n",
      "    gradients[i] = poses.grad[[(2 * i) % 3, (2 * i + 1) % 3, (2 * i + 2) % 3], :]\n",
      "  File \"/Users/samsonkoelle/manifoldflasso_jmlr/codes/geometer/ShapeSpace.py\", line 37, in torchCompute3angles\n",
      "    tempang.backward()\n",
      "  File \"/Users/samsonkoelle/manifoldflasso_jmlr/codes/geometer/ShapeSpace.py\", line 77, in <lambda>\n",
      "    results = p.map(lambda i: self.torchCompute3angles(position=positions[i[0], atoms3[i[1]], :]),\n",
      "  File \"/Users/samsonkoelle/anaconda3/envs/manifold_env_april/lib/python3.5/site-packages/torch/tensor.py\", line 195, in backward\n",
      "    torch.autograd.backward(self, gradient, retain_graph, create_graph)\n",
      "KeyboardInterrupt\n",
      "  File \"/Users/samsonkoelle/manifoldflasso_jmlr/codes/geometer/ShapeSpace.py\", line 37, in torchCompute3angles\n",
      "    tempang.backward()\n",
      "  File \"/Users/samsonkoelle/anaconda3/envs/manifold_env_april/lib/python3.5/site-packages/torch/tensor.py\", line 195, in backward\n",
      "    torch.autograd.backward(self, gradient, retain_graph, create_graph)\n",
      "  File \"/Users/samsonkoelle/anaconda3/envs/manifold_env_april/lib/python3.5/site-packages/torch/autograd/__init__.py\", line 99, in backward\n",
      "    allow_unreachable=True)  # allow_unreachable flag\n",
      "KeyboardInterrupt\n",
      "  File \"/Users/samsonkoelle/anaconda3/envs/manifold_env_april/lib/python3.5/site-packages/torch/autograd/__init__.py\", line 99, in backward\n",
      "    allow_unreachable=True)  # allow_unreachable flag\n",
      "KeyboardInterrupt\n"
     ]
    }
   ],
   "source": [
    "\n",
    "new_MN = True\n",
    "new_grad = True\n",
    "savename = 'rigidethanol_120620_samgl_n100pallnrep1norm'\n",
    "savefolder = 'rigidethanol'\n",
    "loadfolder = 'rigidethanol'\n",
    "loadname = 'rigidethanol_120620_samgl_n100pallnrep1norm'\n",
    "if new_MN == True:\n",
    "    experiment = RigidEthanolPCA2(dim, cor, var, ii, jj, cores, False, atoms4)\n",
    "    experiment.M, experiment.Mpca, projector = experiment.generate_data(noise=False)\n",
    "    experiment.q = m\n",
    "    experiment.m = m\n",
    "    experiment.dimnoise = dimnoise\n",
    "    experiment.projector = projector\n",
    "    experiment.Mpca.geom = experiment.Mpca.compute_geom(diffusion_time, n_neighbors)\n",
    "    experiment.N = experiment.Mpca.get_embedding3(experiment.Mpca.geom, m, diffusion_time, dim)\n",
    "\n"
   ]
  },
  {
   "cell_type": "code",
   "execution_count": 7,
   "metadata": {},
   "outputs": [
    {
     "name": "stdout",
     "output_type": "stream",
     "text": [
      "pre-gradient acquisition\n",
      "2020-12-20 14:28:52.371407\n"
     ]
    }
   ],
   "source": [
    "nsel = 10 \n",
    "atoms4,p = get_all_atoms_4(natoms)\n",
    "experiment.p = p\n",
    "experiment.atoms4 = atoms4\n",
    "#experiment.itermax = itermax\n",
    "experiment.tol = tol\n",
    "experiment.dnoise = dim\n",
    "experiment.nreps = nreps\n",
    "experiment.nsel = nsel\n",
    "experiment.folder = folder\n",
    "\n",
    "replicates = {}\n",
    "selected_points_save = np.zeros((nreps,nsel))\n",
    "\n",
    "print('pre-gradient acquisition')\n",
    "print(datetime.datetime.now())"
   ]
  },
  {
   "cell_type": "code",
   "execution_count": 10,
   "metadata": {},
   "outputs": [],
   "source": [
    "\n",
    "from codes.geometer.RiemannianManifold import RiemannianManifold\n",
    "from codes.geometer.ShapeSpace import ShapeSpace\n",
    "from codes.geometer.TangentBundle import TangentBundle\n",
    "\n",
    "\n",
    "def get_grads(experiment, Mpca, Mangles, N, selected_points):\n",
    "    dimnoise = experiment.dimnoise\n",
    "    dim = experiment.dim\n",
    "    cores = experiment.cores\n",
    "\n",
    "    tangent_bases = Mpca.get_wlpca_tangent_sel(Mpca, selected_points, dimnoise)\n",
    "    subM = RiemannianManifold(Mpca.data[selected_points], dim)\n",
    "    subM.tb = TangentBundle(subM, tangent_bases)\n",
    "    N.tangent_bundle = TangentBundle(N, np.swapaxes(N.geom.rmetric.Hvv[:,:dim,:],1,2))\n",
    "\n",
    "    df_M = experiment.get_dF_js_idM(Mpca, N, subM.tb, N.tangent_bundle, selected_points, dimnoise)\n",
    "    df_M2 = df_M / np.sum(np.linalg.norm(df_M, axis=1) ** 2, axis=0)**(0.5)\n",
    "    dg_x = experiment.get_dx_g_full(Mangles.data[selected_points])\n",
    "\n",
    "    W = ShapeSpace(experiment.positions, Mangles.data)\n",
    "    dw = W.get_dw(cores, experiment.atoms3, experiment.natoms, selected_points)\n",
    "    dg_w = experiment.project(np.swapaxes(dw, 1, 2),\n",
    "                              experiment.project(dw, dg_x))\n",
    "\n",
    "    dg_w_pca = np.asarray([np.matmul(experiment.projector, dg_w[j].transpose()).transpose() for j in range(len(selected_points))])\n",
    "    dgw_norm = experiment.normalize(dg_w_pca)\n",
    "    dg_M = experiment.project(subM.tb.tangent_bases, dgw_norm)\n",
    "    return (df_M2, dg_M, dg_w, dg_w_pca, dgw_norm,tangent_bases)\n",
    "\n"
   ]
  },
  {
   "cell_type": "code",
   "execution_count": 11,
   "metadata": {},
   "outputs": [],
   "source": [
    "i = 0 \n",
    "selected_points = np.random.choice(list(range(n)),nsel,replace = False)\n",
    "selected_points_save[i] = selected_points\n",
    "replicates[i] = Replicate()\n",
    "replicates[i].nsel = nsel\n",
    "replicates[i].selected_points = selected_points\n",
    "replicates[i].df_M,replicates[i].dg_M,replicates[i].dg_w ,replicates[i].dg_w_pca ,replicates[i].dgw_norm ,replicates[i].tangent_bases = get_grads(experiment, experiment.Mpca, experiment.M, experiment.N, selected_points)\n",
    "replicates[i].dg_M = np.swapaxes(replicates[i].dg_M, 1,2)\n"
   ]
  },
  {
   "cell_type": "code",
   "execution_count": 12,
   "metadata": {
    "collapsed": true
   },
   "outputs": [],
   "source": [
    "dg = np.swapaxes(replicates[i].dgw_norm,1,2)\n",
    "df_M_full = np.einsum('n d m, n b d -> n b m', replicates[i].df_M,replicates[i].tangent_bases)"
   ]
  },
  {
   "cell_type": "code",
   "execution_count": 14,
   "metadata": {},
   "outputs": [
    {
     "data": {
      "text/plain": [
       "(10, 50, 3)"
      ]
     },
     "execution_count": 14,
     "metadata": {},
     "output_type": "execute_result"
    }
   ],
   "source": [
    "df_M_full.shape"
   ]
  },
  {
   "cell_type": "code",
   "execution_count": 97,
   "metadata": {},
   "outputs": [
    {
     "data": {
      "text/plain": [
       "<matplotlib.axes._subplots.AxesSubplot at 0x12f12b400>"
      ]
     },
     "execution_count": 97,
     "metadata": {},
     "output_type": "execute_result"
    },
    {
     "data": {
      "image/png": "[encoded data removed]",
      "text/plain": [
       "<Figure size 432x288 with 2 Axes>"
      ]
     },
     "metadata": {
      "needs_background": "light"
     },
     "output_type": "display_data"
    }
   ],
   "source": [
    "from codes.otherfunctions.multirun import get_cosines\n",
    "cuz = get_cosines(np.swapaxes(df_M_full, 1,2))\n",
    "import seaborn as sns\n",
    "%matplotlib inline\n",
    "sns.heatmap(cuz)"
   ]
  },
  {
   "cell_type": "code",
   "execution_count": 98,
   "metadata": {},
   "outputs": [],
   "source": [
    "df_M_full_norm = df_M_full * np.sum(cuz, axis = 1)**2\n"
   ]
  },
  {
   "cell_type": "code",
   "execution_count": 78,
   "metadata": {},
   "outputs": [],
   "source": [
    "#df_M_full_norm / df_M_full"
   ]
  },
  {
   "cell_type": "code",
   "execution_count": 58,
   "metadata": {},
   "outputs": [
    {
     "data": {
      "text/plain": [
       "array([1.92638359, 1.91600106, 1.38824769])"
      ]
     },
     "execution_count": 58,
     "metadata": {},
     "output_type": "execute_result"
    }
   ],
   "source": [
    "np.sum(cuz, axis = 1)\n"
   ]
  },
  {
   "cell_type": "markdown",
   "metadata": {},
   "source": [
    "How should we normalize vectors in order to prioritize manifold support recovery?\n",
    "\n",
    "Cosine - two in the same direction, so 1/2 the length makes for 1/2 the penalty\n",
    "\n",
    "Group that maximizes subgradient of loss at that beta\n",
    "\\begin{align*}\n",
    "(\\sum_i -x^t (y - x \\beta) + \\|\\beta\\|_{1,2}) | \\beta = \\beta_1\n",
    "\\end{align*}\n",
    "\n",
    "\n",
    "Cosines"
   ]
  },
  {
   "cell_type": "code",
   "execution_count": 106,
   "metadata": {},
   "outputs": [
    {
     "data": {
      "text/plain": [
       "((50, 3), (50, 2))"
      ]
     },
     "execution_count": 106,
     "metadata": {},
     "output_type": "execute_result"
    }
   ],
   "source": [
    "df_M_full_norm[0].shape,replicates[0].tangent_bases[0].shape"
   ]
  },
  {
   "cell_type": "code",
   "execution_count": 122,
   "metadata": {},
   "outputs": [],
   "source": [
    "df_M_full_norm2 = np.swapaxes(experiment.normalize(np.swapaxes(df_M_full[:1],1,2)),1,2)"
   ]
  },
  {
   "cell_type": "code",
   "execution_count": 123,
   "metadata": {},
   "outputs": [
    {
     "data": {
      "text/plain": [
       "array([[1., 1., 1.]])"
      ]
     },
     "execution_count": 123,
     "metadata": {},
     "output_type": "execute_result"
    }
   ],
   "source": [
    "np.linalg.norm(df_M_full_norm2, axis = 1)"
   ]
  },
  {
   "cell_type": "code",
   "execution_count": 125,
   "metadata": {},
   "outputs": [
    {
     "data": {
      "text/plain": [
       "<matplotlib.axes._subplots.AxesSubplot at 0x12b7a1f60>"
      ]
     },
     "execution_count": 125,
     "metadata": {},
     "output_type": "execute_result"
    },
    {
     "data": {
      "image/png": "[encoded data removed]",
      "text/plain": [
       "<Figure size 432x288 with 2 Axes>"
      ]
     },
     "metadata": {
      "needs_background": "light"
     },
     "output_type": "display_data"
    }
   ],
   "source": [
    "from codes.otherfunctions.multirun import get_cosines\n",
    "cuz = get_cosines(np.swapaxes(df_M_full_norm2[:1], 1,2))\n",
    "import seaborn as sns\n",
    "%matplotlib inline\n",
    "sns.heatmap(cuz)"
   ]
  },
  {
   "cell_type": "code",
   "execution_count": 132,
   "metadata": {
    "collapsed": true
   },
   "outputs": [],
   "source": [
    "df_M_full_norm3 = df_M_full_norm2 / np.sum(cuz, axis = 1)"
   ]
  },
  {
   "cell_type": "code",
   "execution_count": 133,
   "metadata": {},
   "outputs": [
    {
     "data": {
      "text/plain": [
       "array([[-0.38946807, -0.40721184, -0.38251747],\n",
       "       [ 0.00659918,  0.06598446, -0.30948829]])"
      ]
     },
     "execution_count": 133,
     "metadata": {},
     "output_type": "execute_result"
    }
   ],
   "source": [
    "np.einsum('b m, b d -> m d', replicates[0].tangent_bases[0], df_M_full_norm3[0])"
   ]
  },
  {
   "cell_type": "code",
   "execution_count": 135,
   "metadata": {},
   "outputs": [
    {
     "data": {
      "text/plain": [
       "array([[-0.99985648, -0.98712458, -0.77741252],\n",
       "       [ 0.01694165,  0.15995331, -0.62899108]])"
      ]
     },
     "execution_count": 135,
     "metadata": {},
     "output_type": "execute_result"
    }
   ],
   "source": [
    "np.einsum('b m, b d -> m d', replicates[0].tangent_bases[0], df_M_full_norm2[0])"
   ]
  },
  {
   "cell_type": "code",
   "execution_count": 45,
   "metadata": {},
   "outputs": [
    {
     "data": {
      "text/plain": [
       "array([703.76504715, 666.74144845,  26.58701576])"
      ]
     },
     "execution_count": 45,
     "metadata": {},
     "output_type": "execute_result"
    }
   ],
   "source": [
    "np.sum(cuz, axis = 1)**10\n"
   ]
  },
  {
   "cell_type": "code",
   "execution_count": 31,
   "metadata": {},
   "outputs": [
    {
     "data": {
      "text/plain": [
       "array([1.25233984, 1.25072943, 1.03702557])"
      ]
     },
     "execution_count": 31,
     "metadata": {},
     "output_type": "execute_result"
    }
   ],
   "source": [
    "np.linalg.norm(cuz, axis = 1)"
   ]
  },
  {
   "cell_type": "code",
   "execution_count": 19,
   "metadata": {},
   "outputs": [
    {
     "data": {
      "text/plain": [
       "(10, 50, 3)"
      ]
     },
     "execution_count": 19,
     "metadata": {},
     "output_type": "execute_result"
    }
   ],
   "source": [
    "df_M_full_norm.shape"
   ]
  },
  {
   "cell_type": "code",
   "execution_count": 86,
   "metadata": {
    "collapsed": true
   },
   "outputs": [],
   "source": [
    "from codes.flasso.GradientGroupLasso import GradientGroupLasso"
   ]
  },
  {
   "cell_type": "code",
   "execution_count": 102,
   "metadata": {},
   "outputs": [
    {
     "name": "stdout",
     "output_type": "stream",
     "text": [
      "0\n",
      "lr 1000.0\n",
      "lr 500.0\n",
      "lr 250.0\n",
      "lr 125.0\n",
      "lr 62.5\n",
      "lr 31.25\n",
      "lr 15.625\n",
      "lr 7.8125\n",
      "lr 3.90625\n",
      "lr 1.953125\n",
      "lr 0.9765625\n",
      "lr 0.48828125\n",
      "lr 0.244140625\n",
      "lr 0.1220703125\n",
      "lr 0.06103515625\n",
      "1\n",
      "lr 0.06103515625\n",
      "2\n",
      "lr 0.06103515625\n",
      "3\n",
      "lr 0.06103515625\n",
      "4\n",
      "lr 0.06103515625\n",
      "5\n",
      "lr 0.06103515625\n",
      "6\n",
      "lr 0.06103515625\n",
      "7\n",
      "lr 0.06103515625\n",
      "8\n",
      "lr 0.06103515625\n",
      "9\n",
      "lr 0.06103515625\n",
      "10\n",
      "lr 0.06103515625\n",
      "11\n",
      "lr 0.06103515625\n",
      "12\n",
      "lr 0.06103515625\n",
      "13\n",
      "lr 0.06103515625\n",
      "14\n",
      "lr 0.06103515625\n",
      "15\n",
      "lr 0.06103515625\n",
      "16\n",
      "lr 0.06103515625\n",
      "17\n",
      "lr 0.06103515625\n",
      "18\n",
      "lr 0.06103515625\n",
      "19\n",
      "lr 0.06103515625\n",
      "20\n",
      "lr 0.06103515625\n",
      "21\n",
      "lr 0.06103515625\n",
      "22\n",
      "lr 0.06103515625\n",
      "23\n",
      "lr 0.06103515625\n",
      "24\n",
      "lr 0.06103515625\n",
      "25\n",
      "lr 0.06103515625\n",
      "26\n",
      "lr 0.06103515625\n",
      "27\n",
      "lr 0.06103515625\n",
      "28\n",
      "lr 0.06103515625\n",
      "29\n",
      "lr 0.06103515625\n",
      "30\n",
      "lr 0.06103515625\n",
      "31\n",
      "lr 0.06103515625\n",
      "32\n",
      "lr 0.06103515625\n",
      "33\n",
      "lr 0.06103515625\n",
      "34\n",
      "lr 0.06103515625\n",
      "35\n",
      "lr 0.06103515625\n",
      "36\n",
      "lr 0.06103515625\n",
      "37\n",
      "lr 0.06103515625\n",
      "38\n",
      "lr 0.06103515625\n",
      "39\n",
      "lr 0.06103515625\n",
      "40\n",
      "lr 0.06103515625\n",
      "41\n",
      "lr 0.06103515625\n",
      "42\n",
      "lr 0.06103515625\n",
      "43\n",
      "lr 0.06103515625\n",
      "44\n",
      "lr 0.06103515625\n",
      "45\n",
      "lr 0.06103515625\n",
      "46\n",
      "lr 0.06103515625\n",
      "47\n",
      "lr 0.06103515625\n",
      "48\n",
      "lr 0.06103515625\n",
      "49\n",
      "lr 0.06103515625\n",
      "50\n",
      "lr 0.06103515625\n",
      "51\n",
      "lr 0.06103515625\n",
      "52\n",
      "lr 0.06103515625\n",
      "53\n",
      "lr 0.06103515625\n",
      "54\n",
      "lr 0.06103515625\n",
      "55\n",
      "lr 0.06103515625\n",
      "56\n",
      "lr 0.06103515625\n",
      "57\n",
      "lr 0.06103515625\n",
      "58\n",
      "lr 0.06103515625\n",
      "59\n",
      "lr 0.06103515625\n",
      "60\n",
      "lr 0.06103515625\n",
      "61\n",
      "lr 0.06103515625\n",
      "62\n",
      "lr 0.06103515625\n",
      "63\n",
      "lr 0.06103515625\n",
      "64\n",
      "lr 0.06103515625\n",
      "65\n",
      "lr 0.06103515625\n",
      "66\n",
      "lr 0.06103515625\n",
      "67\n",
      "lr 0.06103515625\n",
      "68\n",
      "lr 0.06103515625\n",
      "69\n",
      "lr 0.06103515625\n",
      "70\n",
      "lr 0.06103515625\n",
      "71\n",
      "lr 0.06103515625\n",
      "72\n",
      "lr 0.06103515625\n",
      "73\n",
      "lr 0.06103515625\n",
      "74\n",
      "lr 0.06103515625\n",
      "75\n",
      "lr 0.06103515625\n",
      "76\n",
      "lr 0.06103515625\n",
      "77\n",
      "lr 0.06103515625\n",
      "78\n",
      "lr 0.06103515625\n",
      "79\n",
      "lr 0.06103515625\n",
      "80\n",
      "lr 0.06103515625\n",
      "81\n",
      "lr 0.06103515625\n",
      "82\n",
      "lr 0.06103515625\n",
      "83\n",
      "lr 0.06103515625\n",
      "84\n",
      "lr 0.06103515625\n",
      "85\n",
      "lr 0.06103515625\n",
      "86\n",
      "lr 0.06103515625\n",
      "87\n",
      "lr 0.06103515625\n",
      "88\n",
      "lr 0.06103515625\n",
      "89\n",
      "lr 0.06103515625\n",
      "90\n",
      "lr 0.06103515625\n",
      "91\n",
      "lr 0.06103515625\n",
      "92\n",
      "lr 0.06103515625\n",
      "93\n",
      "lr 0.06103515625\n",
      "94\n",
      "lr 0.06103515625\n",
      "95\n",
      "lr 0.06103515625\n",
      "96\n",
      "lr 0.06103515625\n",
      "97\n",
      "lr 0.06103515625\n",
      "98\n",
      "lr 0.06103515625\n",
      "99\n",
      "lr 0.06103515625\n",
      "100\n",
      "lr 0.06103515625\n",
      "101\n",
      "lr 0.06103515625\n",
      "102\n",
      "lr 0.06103515625\n",
      "103\n",
      "lr 0.06103515625\n",
      "104\n",
      "lr 0.06103515625\n",
      "105\n",
      "lr 0.06103515625\n",
      "106\n",
      "lr 0.06103515625\n",
      "107\n",
      "lr 0.06103515625\n",
      "108\n",
      "lr 0.06103515625\n",
      "109\n",
      "lr 0.06103515625\n",
      "110\n",
      "lr 0.06103515625\n",
      "111\n",
      "lr 0.06103515625\n",
      "112\n",
      "lr 0.06103515625\n",
      "113\n",
      "lr 0.06103515625\n",
      "114\n",
      "lr 0.06103515625\n",
      "115\n",
      "lr 0.06103515625\n",
      "116\n",
      "lr 0.06103515625\n",
      "117\n",
      "lr 0.06103515625\n",
      "118\n",
      "lr 0.06103515625\n",
      "119\n",
      "lr 0.06103515625\n",
      "120\n",
      "lr 0.06103515625\n",
      "121\n",
      "lr 0.06103515625\n",
      "122\n",
      "lr 0.06103515625\n",
      "123\n",
      "lr 0.06103515625\n",
      "124\n",
      "lr 0.06103515625\n",
      "125\n",
      "lr 0.06103515625\n",
      "126\n",
      "lr 0.06103515625\n",
      "127\n",
      "lr 0.06103515625\n",
      "128\n",
      "lr 0.06103515625\n",
      "129\n",
      "lr 0.06103515625\n",
      "130\n",
      "lr 0.06103515625\n",
      "131\n",
      "lr 0.06103515625\n",
      "132\n",
      "lr 0.06103515625\n",
      "133\n",
      "lr 0.06103515625\n",
      "134\n",
      "lr 0.06103515625\n",
      "135\n",
      "lr 0.06103515625\n",
      "136\n",
      "lr 0.06103515625\n",
      "137\n",
      "lr 0.06103515625\n",
      "138\n",
      "lr 0.06103515625\n",
      "139\n",
      "lr 0.06103515625\n",
      "140\n",
      "lr 0.06103515625\n",
      "141\n",
      "lr 0.06103515625\n",
      "142\n",
      "lr 0.06103515625\n",
      "143\n",
      "lr 0.06103515625\n",
      "144\n",
      "lr 0.06103515625\n",
      "145\n",
      "lr 0.06103515625\n",
      "146\n",
      "lr 0.06103515625\n",
      "147\n",
      "lr 0.06103515625\n",
      "148\n",
      "lr 0.06103515625\n",
      "149\n",
      "lr 0.06103515625\n",
      "150\n",
      "lr 0.06103515625\n",
      "151\n",
      "lr 0.06103515625\n",
      "152\n",
      "lr 0.06103515625\n",
      "153\n",
      "lr 0.06103515625\n",
      "154\n",
      "lr 0.06103515625\n",
      "155\n",
      "lr 0.06103515625\n",
      "156\n",
      "lr 0.06103515625\n",
      "157\n",
      "lr 0.06103515625\n",
      "158\n",
      "lr 0.06103515625\n",
      "159\n",
      "lr 0.06103515625\n",
      "160\n",
      "lr 0.06103515625\n",
      "161\n",
      "lr 0.06103515625\n",
      "162\n",
      "lr 0.06103515625\n",
      "163\n",
      "lr 0.06103515625\n",
      "164\n",
      "lr 0.06103515625\n",
      "165\n",
      "lr 0.06103515625\n",
      "166\n",
      "lr 0.06103515625\n",
      "167\n",
      "lr 0.06103515625\n",
      "168\n",
      "lr 0.06103515625\n",
      "169\n",
      "lr 0.06103515625\n",
      "170\n",
      "lr 0.06103515625\n",
      "171\n",
      "lr 0.06103515625\n",
      "172\n",
      "lr 0.06103515625\n",
      "173\n",
      "lr 0.06103515625\n",
      "174\n",
      "lr 0.06103515625\n",
      "175\n",
      "lr 0.06103515625\n",
      "176\n",
      "lr 0.06103515625\n",
      "177\n",
      "lr 0.06103515625\n",
      "178\n",
      "lr 0.06103515625\n",
      "179\n",
      "lr 0.06103515625\n",
      "180\n",
      "lr 0.06103515625\n",
      "181\n",
      "lr 0.06103515625\n",
      "182\n",
      "lr 0.06103515625\n",
      "183\n",
      "lr 0.06103515625\n",
      "184\n",
      "lr 0.06103515625\n",
      "185\n",
      "lr 0.06103515625\n",
      "186\n",
      "lr 0.06103515625\n",
      "187\n",
      "lr 0.06103515625\n",
      "188\n",
      "lr 0.06103515625\n",
      "189\n",
      "lr 0.06103515625\n",
      "190\n",
      "lr 0.06103515625\n",
      "191\n",
      "lr 0.06103515625\n",
      "192\n",
      "lr 0.06103515625\n",
      "193\n",
      "lr 0.06103515625\n",
      "194\n",
      "lr 0.06103515625\n",
      "195\n",
      "lr 0.06103515625\n",
      "196\n",
      "lr 0.06103515625\n",
      "197\n",
      "lr 0.06103515625\n",
      "198\n",
      "lr 0.06103515625\n",
      "199\n",
      "lr 0.06103515625\n",
      "200\n",
      "lr 0.06103515625\n",
      "201\n",
      "lr 0.06103515625\n",
      "202\n",
      "lr 0.06103515625\n",
      "203\n",
      "lr 0.06103515625\n",
      "204\n",
      "lr 0.06103515625\n",
      "205\n",
      "lr 0.06103515625\n",
      "206\n",
      "lr 0.06103515625\n",
      "207\n",
      "lr 0.06103515625\n",
      "208\n",
      "lr 0.06103515625\n",
      "209\n",
      "lr 0.06103515625\n",
      "210\n",
      "lr 0.06103515625\n",
      "211\n",
      "lr 0.06103515625\n",
      "212\n",
      "lr 0.06103515625\n",
      "213\n",
      "lr 0.06103515625\n",
      "214\n",
      "lr 0.06103515625\n",
      "215\n",
      "lr 0.06103515625\n",
      "216\n",
      "lr 0.06103515625\n",
      "217\n",
      "lr 0.06103515625\n",
      "218\n",
      "lr 0.06103515625\n",
      "219\n",
      "lr 0.06103515625\n",
      "220\n",
      "lr 0.06103515625\n",
      "221\n",
      "lr 0.06103515625\n",
      "222\n",
      "lr 0.06103515625\n",
      "223\n",
      "lr 0.06103515625\n",
      "224\n",
      "lr 0.06103515625\n",
      "225\n",
      "lr 0.06103515625\n",
      "226\n",
      "lr 0.06103515625\n",
      "227\n",
      "lr 0.06103515625\n",
      "228\n",
      "lr 0.06103515625\n",
      "229\n",
      "lr 0.06103515625\n",
      "230\n",
      "lr 0.06103515625\n",
      "231\n",
      "lr 0.06103515625\n",
      "232\n",
      "lr 0.06103515625\n",
      "233\n",
      "lr 0.06103515625\n",
      "234\n",
      "lr 0.06103515625\n",
      "235\n",
      "lr 0.06103515625\n",
      "236\n",
      "lr 0.06103515625\n",
      "237\n",
      "lr 0.06103515625\n",
      "238\n",
      "lr 0.06103515625\n",
      "239\n",
      "lr 0.06103515625\n",
      "240\n",
      "lr 0.06103515625\n",
      "241\n",
      "lr 0.06103515625\n",
      "242\n",
      "lr 0.06103515625\n",
      "243\n",
      "lr 0.06103515625\n",
      "244\n",
      "lr 0.06103515625\n",
      "245\n",
      "lr 0.06103515625\n",
      "246\n",
      "lr 0.06103515625\n",
      "247\n",
      "lr 0.06103515625\n",
      "248\n",
      "lr 0.06103515625\n",
      "249\n",
      "lr 0.06103515625\n",
      "250\n",
      "lr 0.06103515625\n",
      "251\n",
      "lr 0.06103515625\n",
      "252\n",
      "lr 0.06103515625\n",
      "253\n",
      "lr 0.06103515625\n",
      "254\n",
      "lr 0.06103515625\n",
      "255\n",
      "lr 0.06103515625\n",
      "256\n",
      "lr 0.06103515625\n",
      "257\n",
      "lr 0.06103515625\n",
      "258\n",
      "lr 0.06103515625\n",
      "259\n",
      "lr 0.06103515625\n",
      "260\n",
      "lr 0.06103515625\n",
      "261\n",
      "lr 0.06103515625\n",
      "262\n",
      "lr 0.06103515625\n",
      "263\n",
      "lr 0.06103515625\n",
      "264\n",
      "lr 0.06103515625\n",
      "265\n",
      "lr 0.06103515625\n",
      "266\n",
      "lr 0.06103515625\n",
      "267\n",
      "lr 0.06103515625\n",
      "268\n",
      "lr 0.06103515625\n",
      "269\n",
      "lr 0.06103515625\n",
      "270\n",
      "lr 0.06103515625\n",
      "271\n",
      "lr 0.06103515625\n",
      "272\n",
      "lr 0.06103515625\n",
      "273\n",
      "lr 0.06103515625\n",
      "274\n",
      "lr 0.06103515625\n",
      "275\n",
      "lr 0.06103515625\n",
      "276\n",
      "lr 0.06103515625\n",
      "277\n",
      "lr 0.06103515625\n",
      "278\n",
      "lr 0.06103515625\n",
      "279\n",
      "lr 0.06103515625\n",
      "280\n",
      "lr 0.06103515625\n",
      "281\n",
      "lr 0.06103515625\n",
      "282\n",
      "lr 0.06103515625\n",
      "283\n",
      "lr 0.06103515625\n",
      "284\n",
      "lr 0.06103515625\n",
      "285\n",
      "lr 0.06103515625\n",
      "286\n",
      "lr 0.06103515625\n",
      "287\n",
      "lr 0.06103515625\n",
      "288\n",
      "lr 0.06103515625\n",
      "289\n",
      "lr 0.06103515625\n",
      "290\n",
      "lr 0.06103515625\n",
      "291\n",
      "lr 0.06103515625\n",
      "292\n",
      "lr 0.06103515625\n",
      "293\n",
      "lr 0.06103515625\n",
      "294\n",
      "lr 0.06103515625\n",
      "295\n",
      "lr 0.06103515625\n",
      "296\n",
      "lr 0.06103515625\n",
      "297\n",
      "lr 0.06103515625\n",
      "298\n",
      "lr 0.06103515625\n",
      "299\n",
      "lr 0.06103515625\n",
      "300\n",
      "lr 0.06103515625\n",
      "301\n",
      "lr 0.06103515625\n",
      "302\n",
      "lr 0.06103515625\n",
      "303\n",
      "lr 0.06103515625\n",
      "304\n",
      "lr 0.06103515625\n",
      "305\n",
      "lr 0.06103515625\n",
      "306\n",
      "lr 0.06103515625\n",
      "307\n",
      "lr 0.06103515625\n",
      "308\n",
      "lr 0.06103515625\n",
      "309\n",
      "lr 0.06103515625\n",
      "310\n",
      "lr 0.06103515625\n",
      "311\n",
      "lr 0.06103515625\n",
      "312\n",
      "lr 0.06103515625\n",
      "313\n",
      "lr 0.06103515625\n",
      "314\n",
      "lr 0.06103515625\n",
      "315\n",
      "lr 0.06103515625\n",
      "316\n",
      "lr 0.06103515625\n",
      "317\n",
      "lr 0.06103515625\n",
      "318\n",
      "lr 0.06103515625\n",
      "319\n",
      "lr 0.06103515625\n",
      "320\n",
      "lr 0.06103515625\n",
      "321\n",
      "lr 0.06103515625\n",
      "322\n",
      "lr 0.06103515625\n",
      "323\n",
      "lr 0.06103515625\n",
      "324\n",
      "lr 0.06103515625\n",
      "325\n",
      "lr 0.06103515625\n",
      "326\n",
      "lr 0.06103515625\n",
      "327\n",
      "lr 0.06103515625\n",
      "328\n",
      "lr 0.06103515625\n",
      "329\n",
      "lr 0.06103515625\n",
      "330\n",
      "lr 0.06103515625\n",
      "331\n",
      "lr 0.06103515625\n",
      "332\n",
      "lr 0.06103515625\n",
      "333\n",
      "lr 0.06103515625\n",
      "334\n",
      "lr 0.06103515625\n",
      "335\n",
      "lr 0.06103515625\n",
      "336\n",
      "lr 0.06103515625\n",
      "337\n",
      "lr 0.06103515625\n",
      "338\n",
      "lr 0.06103515625\n",
      "339\n",
      "lr 0.06103515625\n",
      "340\n",
      "lr 0.06103515625\n",
      "341\n",
      "lr 0.06103515625\n",
      "342\n",
      "lr 0.06103515625\n",
      "343\n",
      "lr 0.06103515625\n",
      "344\n",
      "lr 0.06103515625\n",
      "345\n",
      "lr 0.06103515625\n",
      "346\n",
      "lr 0.06103515625\n",
      "347\n",
      "lr 0.06103515625\n",
      "348\n",
      "lr 0.06103515625\n",
      "349\n",
      "lr 0.06103515625\n",
      "350\n",
      "lr 0.06103515625\n",
      "351\n",
      "lr 0.06103515625\n",
      "352\n",
      "lr 0.06103515625\n",
      "353\n",
      "lr 0.06103515625\n",
      "354\n",
      "lr 0.06103515625\n",
      "355\n",
      "lr 0.06103515625\n",
      "356\n",
      "lr 0.06103515625\n",
      "357\n",
      "lr 0.06103515625\n",
      "358\n",
      "lr 0.06103515625\n",
      "359\n",
      "lr 0.06103515625\n",
      "360\n",
      "lr 0.06103515625\n",
      "361\n",
      "lr 0.06103515625\n",
      "362\n",
      "lr 0.06103515625\n",
      "363\n",
      "lr 0.06103515625\n",
      "364\n",
      "lr 0.06103515625\n",
      "365\n",
      "lr 0.06103515625\n",
      "366\n",
      "lr 0.06103515625\n",
      "367\n",
      "lr 0.06103515625\n",
      "368\n",
      "lr 0.06103515625\n",
      "369\n",
      "lr 0.06103515625\n",
      "370\n",
      "lr 0.06103515625\n",
      "371\n",
      "lr 0.06103515625\n",
      "372\n",
      "lr 0.06103515625\n",
      "373\n",
      "lr 0.06103515625\n",
      "374\n",
      "lr 0.06103515625\n",
      "375\n",
      "lr 0.06103515625\n",
      "376\n",
      "lr 0.06103515625\n",
      "377\n",
      "lr 0.06103515625\n",
      "378\n",
      "lr 0.06103515625\n",
      "379\n",
      "lr 0.06103515625\n",
      "380\n",
      "lr 0.06103515625\n",
      "381\n",
      "lr 0.06103515625\n",
      "382\n",
      "lr 0.06103515625\n",
      "383\n",
      "lr 0.06103515625\n",
      "384\n",
      "lr 0.06103515625\n",
      "385\n",
      "lr 0.06103515625\n",
      "386\n",
      "lr 0.06103515625\n",
      "387\n",
      "lr 0.06103515625\n",
      "388\n"
     ]
    },
    {
     "name": "stdout",
     "output_type": "stream",
     "text": [
      "lr 0.06103515625\n",
      "389\n",
      "lr 0.06103515625\n",
      "390\n",
      "lr 0.06103515625\n",
      "391\n",
      "lr 0.06103515625\n",
      "392\n",
      "lr 0.06103515625\n",
      "393\n",
      "lr 0.06103515625\n",
      "394\n",
      "lr 0.06103515625\n",
      "395\n",
      "lr 0.06103515625\n",
      "396\n",
      "lr 0.06103515625\n",
      "397\n",
      "lr 0.06103515625\n",
      "398\n",
      "lr 0.06103515625\n",
      "399\n",
      "lr 0.06103515625\n",
      "400\n",
      "lr 0.06103515625\n",
      "401\n",
      "lr 0.06103515625\n",
      "402\n",
      "lr 0.06103515625\n",
      "403\n",
      "lr 0.06103515625\n",
      "404\n",
      "lr 0.06103515625\n",
      "405\n",
      "lr 0.06103515625\n",
      "406\n",
      "lr 0.06103515625\n",
      "407\n",
      "lr 0.06103515625\n",
      "408\n",
      "lr 0.06103515625\n",
      "409\n",
      "lr 0.06103515625\n",
      "410\n",
      "lr 0.06103515625\n",
      "411\n",
      "lr 0.06103515625\n",
      "412\n",
      "lr 0.06103515625\n",
      "413\n",
      "lr 0.06103515625\n",
      "414\n",
      "lr 0.06103515625\n",
      "415\n",
      "lr 0.06103515625\n",
      "416\n",
      "lr 0.06103515625\n",
      "417\n",
      "lr 0.06103515625\n",
      "418\n",
      "lr 0.06103515625\n",
      "419\n",
      "lr 0.06103515625\n",
      "420\n",
      "lr 0.06103515625\n",
      "421\n",
      "lr 0.06103515625\n",
      "422\n",
      "lr 0.06103515625\n",
      "423\n",
      "lr 0.06103515625\n",
      "424\n",
      "lr 0.06103515625\n",
      "425\n",
      "lr 0.06103515625\n",
      "426\n",
      "lr 0.06103515625\n",
      "427\n",
      "lr 0.06103515625\n",
      "428\n",
      "lr 0.06103515625\n",
      "429\n",
      "lr 0.06103515625\n",
      "430\n",
      "lr 0.06103515625\n",
      "431\n",
      "lr 0.06103515625\n",
      "432\n",
      "lr 0.06103515625\n",
      "433\n",
      "lr 0.06103515625\n",
      "434\n",
      "lr 0.06103515625\n",
      "435\n",
      "lr 0.06103515625\n",
      "436\n",
      "lr 0.06103515625\n",
      "437\n",
      "lr 0.06103515625\n",
      "438\n",
      "lr 0.06103515625\n",
      "439\n",
      "lr 0.06103515625\n",
      "440\n",
      "lr 0.06103515625\n",
      "441\n",
      "lr 0.06103515625\n",
      "442\n",
      "lr 0.06103515625\n",
      "443\n",
      "lr 0.06103515625\n",
      "444\n",
      "lr 0.06103515625\n",
      "445\n",
      "lr 0.06103515625\n",
      "446\n",
      "lr 0.06103515625\n",
      "447\n",
      "lr 0.06103515625\n",
      "448\n",
      "lr 0.06103515625\n",
      "449\n",
      "lr 0.06103515625\n",
      "450\n",
      "lr 0.06103515625\n",
      "451\n",
      "lr 0.06103515625\n",
      "452\n",
      "lr 0.06103515625\n",
      "453\n",
      "lr 0.06103515625\n",
      "454\n",
      "lr 0.06103515625\n",
      "455\n",
      "lr 0.06103515625\n",
      "456\n",
      "lr 0.06103515625\n",
      "457\n",
      "lr 0.06103515625\n",
      "458\n",
      "lr 0.06103515625\n",
      "459\n",
      "lr 0.06103515625\n",
      "460\n",
      "lr 0.06103515625\n",
      "461\n",
      "lr 0.06103515625\n",
      "462\n",
      "lr 0.06103515625\n",
      "463\n",
      "lr 0.06103515625\n",
      "464\n",
      "lr 0.06103515625\n",
      "465\n",
      "lr 0.06103515625\n",
      "466\n",
      "lr 0.06103515625\n",
      "467\n",
      "lr 0.06103515625\n",
      "468\n",
      "lr 0.06103515625\n",
      "469\n",
      "lr 0.06103515625\n",
      "470\n",
      "lr 0.06103515625\n",
      "471\n",
      "lr 0.06103515625\n",
      "472\n",
      "lr 0.06103515625\n",
      "473\n",
      "lr 0.06103515625\n",
      "474\n",
      "lr 0.06103515625\n",
      "475\n",
      "lr 0.06103515625\n",
      "476\n",
      "lr 0.06103515625\n",
      "477\n",
      "lr 0.06103515625\n",
      "478\n",
      "lr 0.06103515625\n",
      "479\n",
      "lr 0.06103515625\n",
      "480\n",
      "lr 0.06103515625\n",
      "481\n",
      "lr 0.06103515625\n",
      "482\n",
      "lr 0.06103515625\n",
      "483\n",
      "lr 0.06103515625\n",
      "484\n",
      "lr 0.06103515625\n",
      "485\n",
      "lr 0.06103515625\n",
      "486\n",
      "lr 0.06103515625\n",
      "487\n",
      "lr 0.06103515625\n",
      "488\n",
      "lr 0.06103515625\n",
      "489\n",
      "lr 0.06103515625\n",
      "490\n",
      "lr 0.06103515625\n",
      "491\n",
      "lr 0.06103515625\n",
      "492\n",
      "lr 0.06103515625\n",
      "493\n",
      "lr 0.06103515625\n",
      "494\n",
      "lr 0.06103515625\n",
      "495\n",
      "lr 0.06103515625\n",
      "496\n",
      "lr 0.06103515625\n",
      "497\n",
      "lr 0.06103515625\n",
      "498\n",
      "lr 0.06103515625\n",
      "499\n",
      "lr 0.06103515625\n"
     ]
    },
    {
     "data": {
      "text/plain": [
       "<codes.flasso.GradientGroupLasso.GradientGroupLasso at 0x129a49e80>"
      ]
     },
     "execution_count": 102,
     "metadata": {},
     "output_type": "execute_result"
    }
   ],
   "source": [
    "#replicate = replicates_small[0]\n",
    "reg_l1s = [0.40565] #.20 has many\n",
    "reg_l2 = [0.]\n",
    "max_iter = 500\n",
    "learning_rate = 1000.\n",
    "tol = 1e-16\n",
    "#replicate = replicates_small[0]\n",
    "GGL = GradientGroupLasso(dg, df_M_full_norm, reg_l1s, reg_l2, max_iter,learning_rate, tol, beta0_npm= None)\n",
    "GGL.fit()"
   ]
  },
  {
   "cell_type": "code",
   "execution_count": 103,
   "metadata": {},
   "outputs": [
    {
     "data": {
      "text/plain": [
       "array([187, 565, 606, 612, 620, 624, 632, 709, 715, 716, 722, 733, 746])"
      ]
     },
     "execution_count": 103,
     "metadata": {},
     "output_type": "execute_result"
    }
   ],
   "source": [
    "np.where(np.linalg.norm(np.linalg.norm(GGL.fit_[-1]['beta'], axis=2), axis=0) !=0.)[0] #squared"
   ]
  },
  {
   "cell_type": "code",
   "execution_count": null,
   "metadata": {
    "collapsed": true
   },
   "outputs": [],
   "source": []
  },
  {
   "cell_type": "code",
   "execution_count": 100,
   "metadata": {},
   "outputs": [
    {
     "data": {
      "text/plain": [
       "array([187, 606, 612, 624, 709, 715, 716, 722, 733, 746])"
      ]
     },
     "execution_count": 100,
     "metadata": {},
     "output_type": "execute_result"
    }
   ],
   "source": [
    "np.where(np.linalg.norm(np.linalg.norm(GGL.fit_[-1]['beta'], axis=2), axis=0) !=0.)[0] #squared"
   ]
  },
  {
   "cell_type": "code",
   "execution_count": 101,
   "metadata": {},
   "outputs": [
    {
     "data": {
      "text/plain": [
       "<matplotlib.axes._subplots.AxesSubplot at 0x129a31240>"
      ]
     },
     "execution_count": 101,
     "metadata": {},
     "output_type": "execute_result"
    },
    {
     "data": {
      "image/png": "[encoded data removed]",
      "text/plain": [
       "<Figure size 432x288 with 2 Axes>"
      ]
     },
     "metadata": {
      "needs_background": "light"
     },
     "output_type": "display_data"
    }
   ],
   "source": [
    "from codes.otherfunctions.multirun import get_cosines #2065, not squared\n",
    "cuz = get_cosines(np.swapaxes(dg[:,:,[187, 606, 612, 624, 709, 715, 716, 722, 733, 746]], 1,2))\n",
    "import seaborn as sns\n",
    "%matplotlib inline\n",
    "sns.heatmap(cuz)"
   ]
  },
  {
   "cell_type": "code",
   "execution_count": null,
   "metadata": {
    "collapsed": true
   },
   "outputs": [],
   "source": []
  },
  {
   "cell_type": "code",
   "execution_count": 94,
   "metadata": {},
   "outputs": [
    {
     "data": {
      "text/plain": [
       "array([187, 606, 612, 624, 709, 715, 716, 722, 733])"
      ]
     },
     "execution_count": 94,
     "metadata": {},
     "output_type": "execute_result"
    }
   ],
   "source": [
    "np.where(np.linalg.norm(np.linalg.norm(GGL.fit_[-1]['beta'], axis=2), axis=0) !=0.)[0]"
   ]
  },
  {
   "cell_type": "code",
   "execution_count": 95,
   "metadata": {},
   "outputs": [
    {
     "data": {
      "text/plain": [
       "<matplotlib.axes._subplots.AxesSubplot at 0x12b40b898>"
      ]
     },
     "execution_count": 95,
     "metadata": {},
     "output_type": "execute_result"
    },
    {
     "data": {
      "image/png": "[encoded data removed]",
      "text/plain": [
       "<Figure size 432x288 with 2 Axes>"
      ]
     },
     "metadata": {
      "needs_background": "light"
     },
     "output_type": "display_data"
    }
   ],
   "source": [
    "from codes.otherfunctions.multirun import get_cosines #2065, not squared\n",
    "cuz = get_cosines(np.swapaxes(dg[:,:,[187, 606, 612, 624, 709, 715, 716, 722, 733]], 1,2))\n",
    "import seaborn as sns\n",
    "%matplotlib inline\n",
    "sns.heatmap(cuz)"
   ]
  },
  {
   "cell_type": "code",
   "execution_count": 88,
   "metadata": {},
   "outputs": [
    {
     "data": {
      "text/plain": [
       "array([187, 565, 606, 612, 620, 624, 632, 709, 715, 716, 722, 733, 746])"
      ]
     },
     "execution_count": 88,
     "metadata": {},
     "output_type": "execute_result"
    }
   ],
   "source": [
    "np.where(np.linalg.norm(np.linalg.norm(GGL.fit_[-1]['beta'], axis=2), axis=0) !=0.)[0]"
   ]
  },
  {
   "cell_type": "code",
   "execution_count": 89,
   "metadata": {},
   "outputs": [
    {
     "data": {
      "text/plain": [
       "<matplotlib.axes._subplots.AxesSubplot at 0x1330d9c88>"
      ]
     },
     "execution_count": 89,
     "metadata": {},
     "output_type": "execute_result"
    },
    {
     "data": {
      "image/png": "[encoded data removed]",
      "text/plain": [
       "<Figure size 432x288 with 2 Axes>"
      ]
     },
     "metadata": {
      "needs_background": "light"
     },
     "output_type": "display_data"
    }
   ],
   "source": [
    "from codes.otherfunctions.multirun import get_cosines #2065, not squared\n",
    "cuz = get_cosines(np.swapaxes(dg[:,:,[187, 565, 606, 612, 620, 624, 632, 709, 715, 716, 722, 733, 746]], 1,2))\n",
    "import seaborn as sns\n",
    "%matplotlib inline\n",
    "sns.heatmap(cuz)"
   ]
  },
  {
   "cell_type": "code",
   "execution_count": 27,
   "metadata": {},
   "outputs": [
    {
     "data": {
      "text/plain": [
       "<matplotlib.axes._subplots.AxesSubplot at 0x12f979c18>"
      ]
     },
     "execution_count": 27,
     "metadata": {},
     "output_type": "execute_result"
    },
    {
     "data": {
      "image/png": "[encoded data removed]",
      "text/plain": [
       "<Figure size 432x288 with 2 Axes>"
      ]
     },
     "metadata": {
      "needs_background": "light"
     },
     "output_type": "display_data"
    }
   ],
   "source": [
    "from codes.otherfunctions.multirun import get_cosines #2065, not squared\n",
    "cuz = get_cosines(np.swapaxes(dg[:,:,[187, 612, 709, 716, 722, 733]], 1,2))\n",
    "import seaborn as sns\n",
    "%matplotlib inline\n",
    "sns.heatmap(cuz)"
   ]
  },
  {
   "cell_type": "code",
   "execution_count": null,
   "metadata": {
    "collapsed": true
   },
   "outputs": [],
   "source": [
    "#squared didnt work"
   ]
  }
 ],
 "metadata": {
  "kernelspec": {
   "display_name": "manifold_env_april2",
   "language": "python",
   "name": "manifold_env_april2"
  },
  "language_info": {
   "codemirror_mode": {
    "name": "ipython",
    "version": 3
   },
   "file_extension": ".py",
   "mimetype": "text/x-python",
   "name": "python",
   "nbconvert_exporter": "python",
   "pygments_lexer": "ipython3",
   "version": "3.5.5"
  }
 },
 "nbformat": 4,
 "nbformat_minor": 2
}
