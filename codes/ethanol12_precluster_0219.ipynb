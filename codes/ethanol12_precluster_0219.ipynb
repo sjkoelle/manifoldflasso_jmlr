{
 "cells": [
  {
   "cell_type": "code",
   "execution_count": 1,
   "metadata": {},
   "outputs": [
    {
     "name": "stdout",
     "output_type": "stream",
     "text": [
      "/Users/samsonkoelle/manifoldflasso_jmlr\n",
      "pre-gradient acquisition 2021-02-20 10:28:46.815038\n",
      "initializing lambda search\n",
      "converged 764.4901091285969\n",
      "0 382.24505456429847 probe\n",
      "converged 382.24505456429847\n",
      "we did it [0 9]\n"
     ]
    }
   ],
   "source": [
    "%load_ext autoreload\n",
    "%autoreload 2\n",
    "import matplotlib\n",
    "import matplotlib.pyplot as plt\n",
    "matplotlib.use('Agg')\n",
    "import os\n",
    "import datetime\n",
    "import numpy as np\n",
    "import dill as pickle\n",
    "import random\n",
    "import sys\n",
    "import seaborn as sns\n",
    "import math\n",
    "from matplotlib import rcParams\n",
    "rcParams['figure.figsize'] = 25, 10\n",
    "from collections import OrderedDict\n",
    "from matplotlib.lines import Line2D\n",
    "from pylab import rcParams\n",
    "from collections import Counter\n",
    "from itertools import combinations\n",
    "from sklearn.decomposition import TruncatedSVD\n",
    "from shutil import copyfile\n",
    "import scipy\n",
    "\n",
    "np.random.seed(0)\n",
    "random.seed(0)\n",
    "now = datetime.datetime.now().strftime(\"%B_%d_%Y_%H_%M_%S\")\n",
    "workingdirectory = os.popen('git rev-parse --show-toplevel').read()[:-1]\n",
    "sys.path.append(workingdirectory)\n",
    "os.chdir(workingdirectory)\n",
    "\n",
    "from codes.experimentclasses.AtomicRegression2 import AtomicRegression\n",
    "from codes.otherfunctions.get_dictionaries import get_atoms_4\n",
    "from codes.flasso.Replicate import Replicate\n",
    "from codes.geometer.RiemannianManifold import RiemannianManifold\n",
    "from codes.geometer.TangentBundle import TangentBundle\n",
    "from codes.geometer.ShapeSpace import ShapeSpace\n",
    "from codes.flasso.GradientGroupLasso import batch_stream, get_sr_lambda_sam_parallel\n",
    "from codes.otherfunctions.get_grads import get_grads3\n",
    "\n",
    "n = 50000 #number of data points to simulate\n",
    "nsel = 100 #number of points to analyze with lasso\n",
    "n_neighbors = 1000 #number of neighbors in megaman\n",
    "m = 3 #number of embedding dimensions (diffusion maps)\n",
    "diffusion_time = 1. #embedding radius\n",
    "dim = 2 #manifold dimension\n",
    "dimnoise = 2 #manifold dimension (not in mflasso paper)\n",
    "cores = 3 \n",
    "nreps = 1\n",
    "natoms = 9\n",
    "ii = np.asarray([0,0,0,0,1,1,1,2]) # atom adjacencies for dihedral angle computation\n",
    "jj = np.asarray([1,2,3,4,5,6,7,8])\n",
    "\n",
    "\n",
    "savename = 'ethanol_diagram_021521'\n",
    "savefolder = 'ethanol'\n",
    "loadfolder = 'ethanol'\n",
    "loadname = 'ethanol_diagram_021521'\n",
    "data_wd = '/Users/samsonkoelle/Downloads/manigrad-100818/mani-samk-gradients/'\n",
    "\n",
    "folder = workingdirectory + '/Figures/ethanol/' + now + 'n' + str(n) + 'nsel' + str(nsel) + 'nreps' + str(nreps)\n",
    "os.mkdir(folder)\n",
    "experiment = AtomicRegression(natoms)\n",
    "experiment.m = m\n",
    "experiment.dim = dim\n",
    "experiment.dnoise = dim\n",
    "experiment.nreps = nreps\n",
    "experiment.nsel = nsel\n",
    "experiment.atoms3, experiment.da = experiment.get_atoms_3()\n",
    "experiment.atoms4,experiment.p = get_atoms_4(natoms,ii,jj)\n",
    "\n",
    "data_wd = '/Users/samsonkoelle/Downloads/manigrad-100818/mani-samk-gradients/'\n",
    "data_xyz_loaded = scipy.io.loadmat(data_wd + '/untracked_data/chemistry_data/ethanol.mat')\n",
    "angle_indices = np.load(data_wd + '/untracked_data/chemistry_data/ethanolindices022119.npy')\n",
    "experiment.positions =  data_xyz_loaded['R'][angle_indices]\n",
    "filename_angles = data_wd + '/untracked_data/chemistry_data/ethanolangles022119.npy'\n",
    "data = np.arccos(np.reshape(np.load(filename_angles), (50000, experiment.da)))\n",
    "\n",
    "experiment.M = RiemannianManifold(data, dim)#experiment.load_data(workingdirectory = data_wd)\n",
    "experiment.svd = TruncatedSVD(n_components=50)\n",
    "experiment.Mpca = RiemannianManifold(experiment.svd.fit_transform(experiment.M.data), dim)\n",
    "experiment.Mpca.geom = experiment.Mpca.compute_geom(diffusion_time, n_neighbors)\n",
    "experiment.N = experiment.Mpca.get_embedding3(experiment.Mpca.geom, m, diffusion_time, dim)\n",
    "\n",
    "print('pre-gradient acquisition',datetime.datetime.now())\n",
    "replicates = {}\n",
    "for i in range(nreps):\n",
    "    replicates[i] = Replicate(nsel = nsel, n = experiment.M.data.shape[0])\n",
    "    replicates[i].df_M,replicates[i].dg_M,replicates[i].dg_w ,replicates[i].dg_w_pca ,replicates[i].dgw_norm, replicates[i].tangent_bases  = get_grads3(experiment, experiment.Mpca, experiment.M, experiment.N, replicates[i].selected_points,experiment.svd)\n",
    "\n",
    "gl_itermax = 500\n",
    "r = 0 \n",
    "max_search = 30\n",
    "reg_l2 = 0.\n",
    "tol = 1e-14\n",
    "learning_rate = 100\n",
    "results= {}\n",
    "for r in range(nreps):\n",
    "    ul = np.linalg.norm(np.einsum('n m d, n p d -> n p m ' ,replicates[r].df_M , replicates[r].dg_M), axis = tuple([0,2])).max()\n",
    "    lambdas_start = [0.,ul]\n",
    "    #to fix...\n",
    "    replicates[r].dg_M = np.swapaxes(replicates[r].dg_M,1,2)\n",
    "    replicates[r].df_M = np.swapaxes(replicates[r].df_M,1,2)\n",
    "    replicates[r].results = get_sr_lambda_sam_parallel(replicates[r], gl_itermax, lambdas_start,reg_l2, max_search, dim, tol,learning_rate)\n",
    "    "
   ]
  },
  {
   "cell_type": "code",
   "execution_count": 7,
   "metadata": {
    "collapsed": true
   },
   "outputs": [],
   "source": [
    "def get_cosines(dg):\n",
    "    n = dg.shape[0]\n",
    "    p = dg.shape[1]\n",
    "    d = dg.shape[2]\n",
    "    coses = np.zeros((n, p, p))\n",
    "    for i in range(n):\n",
    "        #print(i)\n",
    "        for j in range(p):\n",
    "            for k in range(p):\n",
    "                #if ind[j] != k:\n",
    "                coses[i, j, k] = cosine_similarity(dg[i, j, :], dg[i, k,:])  # sklearn.metrics.pairwise.cosine_similarity(X = np.reshape(dg[:,i,:], (1,d*n)),Y = np.reshape(dg[:,j,:], (1,d*n)))[0][0]\n",
    "    # cos_summary = np.abs(coses).sum(axis = 0) / n\n",
    "    # cos_summary = np.sum(coses ** 2, axis=0) / n\n",
    "    \n",
    "    return (coses)\n",
    "\n",
    "def cosine_similarity(a, b):\n",
    "    output = np.dot(a, b) / (np.linalg.norm(a) * np.linalg.norm(b))\n",
    "    return (output)"
   ]
  },
  {
   "cell_type": "code",
   "execution_count": 11,
   "metadata": {},
   "outputs": [],
   "source": [
    "replicates_small = {}\n",
    "for r in range(nreps):\n",
    "    replicates_small[r] = Replicate(nsel = nsel, n = experiment.M.data.shape[0], selected_points=replicates[r].selected_points)\n",
    "    replicates_small[r].dg_M = replicates[r].dg_M\n",
    "    replicates_small[r].df_M = replicates[r].df_M\n",
    "    replicates_small[r].cos = get_cosines(np.swapaxes(replicates_small[r].dg_M,1,2))\n",
    "    replicates_small[r].results = replicates[r].results"
   ]
  },
  {
   "cell_type": "code",
   "execution_count": 12,
   "metadata": {},
   "outputs": [
    {
     "data": {
      "text/plain": [
       "{0: <codes.flasso.Replicate.Replicate at 0x13fe83198>}"
      ]
     },
     "execution_count": 12,
     "metadata": {},
     "output_type": "execute_result"
    }
   ],
   "source": [
    "replicates_small"
   ]
  },
  {
   "cell_type": "code",
   "execution_count": null,
   "metadata": {
    "collapsed": true
   },
   "outputs": [],
   "source": []
  }
 ],
 "metadata": {
  "kernelspec": {
   "display_name": "manifold_env_april2",
   "language": "python",
   "name": "manifold_env_april2"
  },
  "language_info": {
   "codemirror_mode": {
    "name": "ipython",
    "version": 3
   },
   "file_extension": ".py",
   "mimetype": "text/x-python",
   "name": "python",
   "nbconvert_exporter": "python",
   "pygments_lexer": "ipython3",
   "version": "3.5.5"
  }
 },
 "nbformat": 4,
 "nbformat_minor": 2
}
